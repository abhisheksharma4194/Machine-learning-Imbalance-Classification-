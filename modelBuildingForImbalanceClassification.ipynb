{
 "cells": [
  {
   "cell_type": "code",
   "execution_count": 86,
   "metadata": {},
   "outputs": [],
   "source": [
    "import matplotlib.pyplot as plt\n",
    "import pandas as pd\n",
    "import numpy as np\n",
    "import seaborn as sns\n",
    "from sklearn import datasets, linear_model, svm\n",
    "from sklearn.model_selection import train_test_split\n",
    "from sklearn.metrics import accuracy_score\n",
    "from sklearn import preprocessing\n",
    "from sklearn.preprocessing import StandardScaler\n",
    "from sklearn.metrics import mean_squared_error\n",
    "import math\n",
    "from xgboost import XGBRegressor\n",
    "from xgboost import plot_importance\n",
    "from sklearn.feature_selection import SelectFromModel\n",
    "from sklearn.utils import shuffle\n",
    "from sklearn.model_selection import GridSearchCV\n",
    "from sklearn.preprocessing import LabelEncoder\n",
    "from sklearn.ensemble import RandomForestClassifier\n",
    "from sklearn.model_selection import cross_val_score\n",
    "from imblearn.over_sampling import SMOTE\n",
    "from sklearn.metrics import confusion_matrix\n",
    "from sklearn.metrics import f1_score"
   ]
  },
  {
   "cell_type": "code",
   "execution_count": 87,
   "metadata": {},
   "outputs": [],
   "source": [
    "train=pd.read_csv(\"train.csv\")\n",
    "test=pd.read_csv(\"test.csv\")\n",
    "trainCopy=train.copy()\n",
    "testCopy=test.copy()\n",
    "train=shuffle(train)"
   ]
  },
  {
   "cell_type": "code",
   "execution_count": 88,
   "metadata": {},
   "outputs": [
    {
     "data": {
      "text/plain": [
       "employee_id             54808\n",
       "department                  9\n",
       "region                     34\n",
       "education                   3\n",
       "gender                      2\n",
       "recruitment_channel         3\n",
       "no_of_trainings            10\n",
       "age                        41\n",
       "previous_year_rating        5\n",
       "length_of_service          35\n",
       "KPIs_met >80%               2\n",
       "awards_won?                 2\n",
       "avg_training_score         61\n",
       "is_promoted                 2\n",
       "dtype: int64"
      ]
     },
     "execution_count": 88,
     "metadata": {},
     "output_type": "execute_result"
    }
   ],
   "source": [
    "train.nunique()"
   ]
  },
  {
   "cell_type": "code",
   "execution_count": 89,
   "metadata": {},
   "outputs": [
    {
     "data": {
      "text/plain": [
       "((54808, 13), (23490, 12))"
      ]
     },
     "execution_count": 89,
     "metadata": {},
     "output_type": "execute_result"
    }
   ],
   "source": [
    "train.drop(['employee_id'],axis=1,inplace=True)\n",
    "test.drop(['employee_id'],axis=1,inplace=True)\n",
    "train.shape,test.shape"
   ]
  },
  {
   "cell_type": "code",
   "execution_count": 90,
   "metadata": {},
   "outputs": [
    {
     "data": {
      "text/plain": [
       "0    50140\n",
       "1     4668\n",
       "Name: is_promoted, dtype: int64"
      ]
     },
     "execution_count": 90,
     "metadata": {},
     "output_type": "execute_result"
    }
   ],
   "source": [
    "train.is_promoted.value_counts()"
   ]
  },
  {
   "cell_type": "code",
   "execution_count": 91,
   "metadata": {},
   "outputs": [],
   "source": [
    "\n",
    "labels = train['recruitment_channel'].astype('category').cat.categories.tolist()\n",
    "recChannelMap = {'recruitment_channel' : {k: v for k,v in zip(labels,list(range(1,len(labels)+1)))}}\n",
    "\n",
    "labels = train['department'].astype('category').cat.categories.tolist()\n",
    "departmentMap = {'department' : {k: v for k,v in zip(labels,list(range(1,len(labels)+1)))}}\n",
    "\n",
    "labels = train['region'].astype('category').cat.categories.tolist()\n",
    "regionMap = {'region' : {k: v for k,v in zip(labels,list(range(1,len(labels)+1)))}}"
   ]
  },
  {
   "cell_type": "code",
   "execution_count": 92,
   "metadata": {},
   "outputs": [],
   "source": [
    "train.replace(departmentMap, inplace=True)\n",
    "train.replace(regionMap, inplace=True)\n",
    "train.replace(recChannelMap, inplace=True)\n",
    "\n",
    "\n",
    "test.replace(departmentMap, inplace=True)\n",
    "test.replace(regionMap, inplace=True)\n",
    "test.replace(recChannelMap, inplace=True)"
   ]
  },
  {
   "cell_type": "code",
   "execution_count": 93,
   "metadata": {},
   "outputs": [],
   "source": [
    "train['previous_year_rating']=train['previous_year_rating'].fillna(train.previous_year_rating.mode()[0])\n",
    "train['education'] = train['education'].fillna(train['education'].mode()[0])\n",
    "\n",
    "test['previous_year_rating']=test['previous_year_rating'].fillna(test.previous_year_rating.mode()[0])\n",
    "test['education'] = test['education'].fillna(test['education'].mode()[0])"
   ]
  },
  {
   "cell_type": "code",
   "execution_count": 94,
   "metadata": {},
   "outputs": [],
   "source": [
    "# encoding education based on data visualisation and hypothesis\n",
    "\n",
    "education_mapper = {\"Master's & above\":3, \"Bachelor's\":2,\"Below Secondary\":1}\n",
    "gender_mapper = {\"m\":1, \"f\":2}"
   ]
  },
  {
   "cell_type": "code",
   "execution_count": 95,
   "metadata": {},
   "outputs": [],
   "source": [
    "train['education_scaled'] = train['education'].replace(education_mapper)\n",
    "test['education_scaled'] = test['education'].replace(education_mapper)\n",
    "train['education']=train['education_scaled']\n",
    "train.drop(['education_scaled'],axis=1,inplace=True)\n",
    "train['gender'] = train['gender'].replace(gender_mapper)\n",
    "test['gender'] = test['gender'].replace(gender_mapper)\n",
    "test['education']=test['education_scaled']\n",
    "test.drop(['education_scaled'],axis=1,inplace=True)"
   ]
  },
  {
   "cell_type": "code",
   "execution_count": 96,
   "metadata": {},
   "outputs": [
    {
     "data": {
      "text/html": [
       "<div>\n",
       "<style scoped>\n",
       "    .dataframe tbody tr th:only-of-type {\n",
       "        vertical-align: middle;\n",
       "    }\n",
       "\n",
       "    .dataframe tbody tr th {\n",
       "        vertical-align: top;\n",
       "    }\n",
       "\n",
       "    .dataframe thead th {\n",
       "        text-align: right;\n",
       "    }\n",
       "</style>\n",
       "<table border=\"1\" class=\"dataframe\">\n",
       "  <thead>\n",
       "    <tr style=\"text-align: right;\">\n",
       "      <th></th>\n",
       "      <th>department</th>\n",
       "      <th>region</th>\n",
       "      <th>education</th>\n",
       "      <th>gender</th>\n",
       "      <th>recruitment_channel</th>\n",
       "      <th>no_of_trainings</th>\n",
       "      <th>age</th>\n",
       "      <th>previous_year_rating</th>\n",
       "      <th>length_of_service</th>\n",
       "      <th>KPIs_met &gt;80%</th>\n",
       "      <th>awards_won?</th>\n",
       "      <th>avg_training_score</th>\n",
       "      <th>is_promoted</th>\n",
       "    </tr>\n",
       "  </thead>\n",
       "  <tbody>\n",
       "    <tr>\n",
       "      <th>396</th>\n",
       "      <td>6</td>\n",
       "      <td>16</td>\n",
       "      <td>2</td>\n",
       "      <td>2</td>\n",
       "      <td>1</td>\n",
       "      <td>1</td>\n",
       "      <td>35</td>\n",
       "      <td>3.0</td>\n",
       "      <td>6</td>\n",
       "      <td>0</td>\n",
       "      <td>0</td>\n",
       "      <td>66</td>\n",
       "      <td>0</td>\n",
       "    </tr>\n",
       "    <tr>\n",
       "      <th>15655</th>\n",
       "      <td>8</td>\n",
       "      <td>14</td>\n",
       "      <td>3</td>\n",
       "      <td>1</td>\n",
       "      <td>1</td>\n",
       "      <td>1</td>\n",
       "      <td>37</td>\n",
       "      <td>1.0</td>\n",
       "      <td>10</td>\n",
       "      <td>0</td>\n",
       "      <td>0</td>\n",
       "      <td>49</td>\n",
       "      <td>0</td>\n",
       "    </tr>\n",
       "    <tr>\n",
       "      <th>54639</th>\n",
       "      <td>9</td>\n",
       "      <td>32</td>\n",
       "      <td>3</td>\n",
       "      <td>1</td>\n",
       "      <td>1</td>\n",
       "      <td>1</td>\n",
       "      <td>39</td>\n",
       "      <td>5.0</td>\n",
       "      <td>5</td>\n",
       "      <td>1</td>\n",
       "      <td>0</td>\n",
       "      <td>78</td>\n",
       "      <td>0</td>\n",
       "    </tr>\n",
       "    <tr>\n",
       "      <th>30971</th>\n",
       "      <td>8</td>\n",
       "      <td>11</td>\n",
       "      <td>2</td>\n",
       "      <td>1</td>\n",
       "      <td>3</td>\n",
       "      <td>1</td>\n",
       "      <td>36</td>\n",
       "      <td>3.0</td>\n",
       "      <td>4</td>\n",
       "      <td>0</td>\n",
       "      <td>0</td>\n",
       "      <td>48</td>\n",
       "      <td>0</td>\n",
       "    </tr>\n",
       "    <tr>\n",
       "      <th>51934</th>\n",
       "      <td>1</td>\n",
       "      <td>20</td>\n",
       "      <td>2</td>\n",
       "      <td>1</td>\n",
       "      <td>3</td>\n",
       "      <td>1</td>\n",
       "      <td>28</td>\n",
       "      <td>3.0</td>\n",
       "      <td>5</td>\n",
       "      <td>1</td>\n",
       "      <td>0</td>\n",
       "      <td>84</td>\n",
       "      <td>0</td>\n",
       "    </tr>\n",
       "  </tbody>\n",
       "</table>\n",
       "</div>"
      ],
      "text/plain": [
       "       department  region  education  gender  recruitment_channel  \\\n",
       "396             6      16          2       2                    1   \n",
       "15655           8      14          3       1                    1   \n",
       "54639           9      32          3       1                    1   \n",
       "30971           8      11          2       1                    3   \n",
       "51934           1      20          2       1                    3   \n",
       "\n",
       "       no_of_trainings  age  previous_year_rating  length_of_service  \\\n",
       "396                  1   35                   3.0                  6   \n",
       "15655                1   37                   1.0                 10   \n",
       "54639                1   39                   5.0                  5   \n",
       "30971                1   36                   3.0                  4   \n",
       "51934                1   28                   3.0                  5   \n",
       "\n",
       "       KPIs_met >80%  awards_won?  avg_training_score  is_promoted  \n",
       "396                0            0                  66            0  \n",
       "15655              0            0                  49            0  \n",
       "54639              1            0                  78            0  \n",
       "30971              0            0                  48            0  \n",
       "51934              1            0                  84            0  "
      ]
     },
     "execution_count": 96,
     "metadata": {},
     "output_type": "execute_result"
    }
   ],
   "source": [
    "train.head()"
   ]
  },
  {
   "cell_type": "code",
   "execution_count": 97,
   "metadata": {},
   "outputs": [],
   "source": [
    "train['joining_age']=train['age']-train['length_of_service']\n",
    "test['joining_age']=test['age']-test['length_of_service']\n",
    "\n",
    "train['training_hours']=train['no_of_trainings']*train['avg_training_score']\n",
    "test['training_hours']=test['no_of_trainings']*test['avg_training_score']"
   ]
  },
  {
   "cell_type": "code",
   "execution_count": 98,
   "metadata": {},
   "outputs": [
    {
     "data": {
      "text/html": [
       "<div>\n",
       "<style scoped>\n",
       "    .dataframe tbody tr th:only-of-type {\n",
       "        vertical-align: middle;\n",
       "    }\n",
       "\n",
       "    .dataframe tbody tr th {\n",
       "        vertical-align: top;\n",
       "    }\n",
       "\n",
       "    .dataframe thead th {\n",
       "        text-align: right;\n",
       "    }\n",
       "</style>\n",
       "<table border=\"1\" class=\"dataframe\">\n",
       "  <thead>\n",
       "    <tr style=\"text-align: right;\">\n",
       "      <th></th>\n",
       "      <th>department</th>\n",
       "      <th>region</th>\n",
       "      <th>education</th>\n",
       "      <th>gender</th>\n",
       "      <th>recruitment_channel</th>\n",
       "      <th>no_of_trainings</th>\n",
       "      <th>age</th>\n",
       "      <th>previous_year_rating</th>\n",
       "      <th>length_of_service</th>\n",
       "      <th>KPIs_met &gt;80%</th>\n",
       "      <th>awards_won?</th>\n",
       "      <th>avg_training_score</th>\n",
       "      <th>is_promoted</th>\n",
       "      <th>joining_age</th>\n",
       "      <th>training_hours</th>\n",
       "    </tr>\n",
       "  </thead>\n",
       "  <tbody>\n",
       "    <tr>\n",
       "      <th>count</th>\n",
       "      <td>54808.000000</td>\n",
       "      <td>54808.000000</td>\n",
       "      <td>54808.000000</td>\n",
       "      <td>54808.000000</td>\n",
       "      <td>54808.000000</td>\n",
       "      <td>54808.000000</td>\n",
       "      <td>54808.000000</td>\n",
       "      <td>54808.000000</td>\n",
       "      <td>54808.000000</td>\n",
       "      <td>54808.000000</td>\n",
       "      <td>54808.000000</td>\n",
       "      <td>54808.000000</td>\n",
       "      <td>54808.000000</td>\n",
       "      <td>54808.000000</td>\n",
       "      <td>54808.000000</td>\n",
       "    </tr>\n",
       "    <tr>\n",
       "      <th>mean</th>\n",
       "      <td>5.972796</td>\n",
       "      <td>16.428970</td>\n",
       "      <td>2.257627</td>\n",
       "      <td>1.297621</td>\n",
       "      <td>1.868158</td>\n",
       "      <td>1.253011</td>\n",
       "      <td>34.803915</td>\n",
       "      <td>3.304481</td>\n",
       "      <td>5.865512</td>\n",
       "      <td>0.351974</td>\n",
       "      <td>0.023172</td>\n",
       "      <td>63.386750</td>\n",
       "      <td>0.085170</td>\n",
       "      <td>28.938403</td>\n",
       "      <td>79.770636</td>\n",
       "    </tr>\n",
       "    <tr>\n",
       "      <th>std</th>\n",
       "      <td>2.506046</td>\n",
       "      <td>8.764954</td>\n",
       "      <td>0.469717</td>\n",
       "      <td>0.457216</td>\n",
       "      <td>0.980713</td>\n",
       "      <td>0.609264</td>\n",
       "      <td>7.660169</td>\n",
       "      <td>1.214770</td>\n",
       "      <td>4.265094</td>\n",
       "      <td>0.477590</td>\n",
       "      <td>0.150450</td>\n",
       "      <td>13.371559</td>\n",
       "      <td>0.279137</td>\n",
       "      <td>5.825101</td>\n",
       "      <td>43.879135</td>\n",
       "    </tr>\n",
       "    <tr>\n",
       "      <th>min</th>\n",
       "      <td>1.000000</td>\n",
       "      <td>1.000000</td>\n",
       "      <td>1.000000</td>\n",
       "      <td>1.000000</td>\n",
       "      <td>1.000000</td>\n",
       "      <td>1.000000</td>\n",
       "      <td>20.000000</td>\n",
       "      <td>1.000000</td>\n",
       "      <td>1.000000</td>\n",
       "      <td>0.000000</td>\n",
       "      <td>0.000000</td>\n",
       "      <td>39.000000</td>\n",
       "      <td>0.000000</td>\n",
       "      <td>17.000000</td>\n",
       "      <td>39.000000</td>\n",
       "    </tr>\n",
       "    <tr>\n",
       "      <th>25%</th>\n",
       "      <td>5.000000</td>\n",
       "      <td>12.000000</td>\n",
       "      <td>2.000000</td>\n",
       "      <td>1.000000</td>\n",
       "      <td>1.000000</td>\n",
       "      <td>1.000000</td>\n",
       "      <td>29.000000</td>\n",
       "      <td>3.000000</td>\n",
       "      <td>3.000000</td>\n",
       "      <td>0.000000</td>\n",
       "      <td>0.000000</td>\n",
       "      <td>51.000000</td>\n",
       "      <td>0.000000</td>\n",
       "      <td>25.000000</td>\n",
       "      <td>53.000000</td>\n",
       "    </tr>\n",
       "    <tr>\n",
       "      <th>50%</th>\n",
       "      <td>6.000000</td>\n",
       "      <td>15.000000</td>\n",
       "      <td>2.000000</td>\n",
       "      <td>1.000000</td>\n",
       "      <td>1.000000</td>\n",
       "      <td>1.000000</td>\n",
       "      <td>33.000000</td>\n",
       "      <td>3.000000</td>\n",
       "      <td>5.000000</td>\n",
       "      <td>0.000000</td>\n",
       "      <td>0.000000</td>\n",
       "      <td>60.000000</td>\n",
       "      <td>0.000000</td>\n",
       "      <td>27.000000</td>\n",
       "      <td>64.000000</td>\n",
       "    </tr>\n",
       "    <tr>\n",
       "      <th>75%</th>\n",
       "      <td>8.000000</td>\n",
       "      <td>22.000000</td>\n",
       "      <td>3.000000</td>\n",
       "      <td>2.000000</td>\n",
       "      <td>3.000000</td>\n",
       "      <td>1.000000</td>\n",
       "      <td>39.000000</td>\n",
       "      <td>4.000000</td>\n",
       "      <td>7.000000</td>\n",
       "      <td>1.000000</td>\n",
       "      <td>0.000000</td>\n",
       "      <td>76.000000</td>\n",
       "      <td>0.000000</td>\n",
       "      <td>31.000000</td>\n",
       "      <td>84.000000</td>\n",
       "    </tr>\n",
       "    <tr>\n",
       "      <th>max</th>\n",
       "      <td>9.000000</td>\n",
       "      <td>34.000000</td>\n",
       "      <td>3.000000</td>\n",
       "      <td>2.000000</td>\n",
       "      <td>3.000000</td>\n",
       "      <td>10.000000</td>\n",
       "      <td>60.000000</td>\n",
       "      <td>5.000000</td>\n",
       "      <td>37.000000</td>\n",
       "      <td>1.000000</td>\n",
       "      <td>1.000000</td>\n",
       "      <td>99.000000</td>\n",
       "      <td>1.000000</td>\n",
       "      <td>58.000000</td>\n",
       "      <td>710.000000</td>\n",
       "    </tr>\n",
       "  </tbody>\n",
       "</table>\n",
       "</div>"
      ],
      "text/plain": [
       "         department        region     education        gender  \\\n",
       "count  54808.000000  54808.000000  54808.000000  54808.000000   \n",
       "mean       5.972796     16.428970      2.257627      1.297621   \n",
       "std        2.506046      8.764954      0.469717      0.457216   \n",
       "min        1.000000      1.000000      1.000000      1.000000   \n",
       "25%        5.000000     12.000000      2.000000      1.000000   \n",
       "50%        6.000000     15.000000      2.000000      1.000000   \n",
       "75%        8.000000     22.000000      3.000000      2.000000   \n",
       "max        9.000000     34.000000      3.000000      2.000000   \n",
       "\n",
       "       recruitment_channel  no_of_trainings           age  \\\n",
       "count         54808.000000     54808.000000  54808.000000   \n",
       "mean              1.868158         1.253011     34.803915   \n",
       "std               0.980713         0.609264      7.660169   \n",
       "min               1.000000         1.000000     20.000000   \n",
       "25%               1.000000         1.000000     29.000000   \n",
       "50%               1.000000         1.000000     33.000000   \n",
       "75%               3.000000         1.000000     39.000000   \n",
       "max               3.000000        10.000000     60.000000   \n",
       "\n",
       "       previous_year_rating  length_of_service  KPIs_met >80%   awards_won?  \\\n",
       "count          54808.000000       54808.000000   54808.000000  54808.000000   \n",
       "mean               3.304481           5.865512       0.351974      0.023172   \n",
       "std                1.214770           4.265094       0.477590      0.150450   \n",
       "min                1.000000           1.000000       0.000000      0.000000   \n",
       "25%                3.000000           3.000000       0.000000      0.000000   \n",
       "50%                3.000000           5.000000       0.000000      0.000000   \n",
       "75%                4.000000           7.000000       1.000000      0.000000   \n",
       "max                5.000000          37.000000       1.000000      1.000000   \n",
       "\n",
       "       avg_training_score   is_promoted   joining_age  training_hours  \n",
       "count        54808.000000  54808.000000  54808.000000    54808.000000  \n",
       "mean            63.386750      0.085170     28.938403       79.770636  \n",
       "std             13.371559      0.279137      5.825101       43.879135  \n",
       "min             39.000000      0.000000     17.000000       39.000000  \n",
       "25%             51.000000      0.000000     25.000000       53.000000  \n",
       "50%             60.000000      0.000000     27.000000       64.000000  \n",
       "75%             76.000000      0.000000     31.000000       84.000000  \n",
       "max             99.000000      1.000000     58.000000      710.000000  "
      ]
     },
     "execution_count": 98,
     "metadata": {},
     "output_type": "execute_result"
    }
   ],
   "source": [
    "train.describe()"
   ]
  },
  {
   "cell_type": "code",
   "execution_count": 99,
   "metadata": {},
   "outputs": [
    {
     "data": {
      "text/html": [
       "<style  type=\"text/css\" >\n",
       "    #T_b118b66c_432f_11e9_aeb4_98e7f4854936row0_col0 {\n",
       "            background-color:  #023858;\n",
       "            color:  #f1f1f1;\n",
       "        }    #T_b118b66c_432f_11e9_aeb4_98e7f4854936row0_col1 {\n",
       "            background-color:  #f5eff6;\n",
       "            color:  #000000;\n",
       "        }    #T_b118b66c_432f_11e9_aeb4_98e7f4854936row0_col2 {\n",
       "            background-color:  #f2ecf5;\n",
       "            color:  #000000;\n",
       "        }    #T_b118b66c_432f_11e9_aeb4_98e7f4854936row0_col3 {\n",
       "            background-color:  #efe9f3;\n",
       "            color:  #000000;\n",
       "        }    #T_b118b66c_432f_11e9_aeb4_98e7f4854936row0_col4 {\n",
       "            background-color:  #fdf5fa;\n",
       "            color:  #000000;\n",
       "        }    #T_b118b66c_432f_11e9_aeb4_98e7f4854936row0_col5 {\n",
       "            background-color:  #f1ebf5;\n",
       "            color:  #000000;\n",
       "        }    #T_b118b66c_432f_11e9_aeb4_98e7f4854936row0_col6 {\n",
       "            background-color:  #e6e2ef;\n",
       "            color:  #000000;\n",
       "        }    #T_b118b66c_432f_11e9_aeb4_98e7f4854936row0_col7 {\n",
       "            background-color:  #fff7fb;\n",
       "            color:  #000000;\n",
       "        }    #T_b118b66c_432f_11e9_aeb4_98e7f4854936row0_col8 {\n",
       "            background-color:  #ece7f2;\n",
       "            color:  #000000;\n",
       "        }    #T_b118b66c_432f_11e9_aeb4_98e7f4854936row0_col9 {\n",
       "            background-color:  #fff7fb;\n",
       "            color:  #000000;\n",
       "        }    #T_b118b66c_432f_11e9_aeb4_98e7f4854936row0_col10 {\n",
       "            background-color:  #faf2f8;\n",
       "            color:  #000000;\n",
       "        }    #T_b118b66c_432f_11e9_aeb4_98e7f4854936row0_col11 {\n",
       "            background-color:  #fff7fb;\n",
       "            color:  #000000;\n",
       "        }    #T_b118b66c_432f_11e9_aeb4_98e7f4854936row0_col12 {\n",
       "            background-color:  #fbf4f9;\n",
       "            color:  #000000;\n",
       "        }    #T_b118b66c_432f_11e9_aeb4_98e7f4854936row0_col13 {\n",
       "            background-color:  #ece7f2;\n",
       "            color:  #000000;\n",
       "        }    #T_b118b66c_432f_11e9_aeb4_98e7f4854936row0_col14 {\n",
       "            background-color:  #fff7fb;\n",
       "            color:  #000000;\n",
       "        }    #T_b118b66c_432f_11e9_aeb4_98e7f4854936row1_col0 {\n",
       "            background-color:  #dfddec;\n",
       "            color:  #000000;\n",
       "        }    #T_b118b66c_432f_11e9_aeb4_98e7f4854936row1_col1 {\n",
       "            background-color:  #023858;\n",
       "            color:  #f1f1f1;\n",
       "        }    #T_b118b66c_432f_11e9_aeb4_98e7f4854936row1_col2 {\n",
       "            background-color:  #faf3f9;\n",
       "            color:  #000000;\n",
       "        }    #T_b118b66c_432f_11e9_aeb4_98e7f4854936row1_col3 {\n",
       "            background-color:  #f6eff7;\n",
       "            color:  #000000;\n",
       "        }    #T_b118b66c_432f_11e9_aeb4_98e7f4854936row1_col4 {\n",
       "            background-color:  #fdf5fa;\n",
       "            color:  #000000;\n",
       "        }    #T_b118b66c_432f_11e9_aeb4_98e7f4854936row1_col5 {\n",
       "            background-color:  #f4eef6;\n",
       "            color:  #000000;\n",
       "        }    #T_b118b66c_432f_11e9_aeb4_98e7f4854936row1_col6 {\n",
       "            background-color:  #fff7fb;\n",
       "            color:  #000000;\n",
       "        }    #T_b118b66c_432f_11e9_aeb4_98e7f4854936row1_col7 {\n",
       "            background-color:  #eee8f3;\n",
       "            color:  #000000;\n",
       "        }    #T_b118b66c_432f_11e9_aeb4_98e7f4854936row1_col8 {\n",
       "            background-color:  #fdf5fa;\n",
       "            color:  #000000;\n",
       "        }    #T_b118b66c_432f_11e9_aeb4_98e7f4854936row1_col9 {\n",
       "            background-color:  #f4eef6;\n",
       "            color:  #000000;\n",
       "        }    #T_b118b66c_432f_11e9_aeb4_98e7f4854936row1_col10 {\n",
       "            background-color:  #faf2f8;\n",
       "            color:  #000000;\n",
       "        }    #T_b118b66c_432f_11e9_aeb4_98e7f4854936row1_col11 {\n",
       "            background-color:  #d7d6e9;\n",
       "            color:  #000000;\n",
       "        }    #T_b118b66c_432f_11e9_aeb4_98e7f4854936row1_col12 {\n",
       "            background-color:  #faf3f9;\n",
       "            color:  #000000;\n",
       "        }    #T_b118b66c_432f_11e9_aeb4_98e7f4854936row1_col13 {\n",
       "            background-color:  #fff7fb;\n",
       "            color:  #000000;\n",
       "        }    #T_b118b66c_432f_11e9_aeb4_98e7f4854936row1_col14 {\n",
       "            background-color:  #f1ebf5;\n",
       "            color:  #000000;\n",
       "        }    #T_b118b66c_432f_11e9_aeb4_98e7f4854936row2_col0 {\n",
       "            background-color:  #d2d2e7;\n",
       "            color:  #000000;\n",
       "        }    #T_b118b66c_432f_11e9_aeb4_98e7f4854936row2_col1 {\n",
       "            background-color:  #f2ecf5;\n",
       "            color:  #000000;\n",
       "        }    #T_b118b66c_432f_11e9_aeb4_98e7f4854936row2_col2 {\n",
       "            background-color:  #023858;\n",
       "            color:  #f1f1f1;\n",
       "        }    #T_b118b66c_432f_11e9_aeb4_98e7f4854936row2_col3 {\n",
       "            background-color:  #f0eaf4;\n",
       "            color:  #000000;\n",
       "        }    #T_b118b66c_432f_11e9_aeb4_98e7f4854936row2_col4 {\n",
       "            background-color:  #fef6fb;\n",
       "            color:  #000000;\n",
       "        }    #T_b118b66c_432f_11e9_aeb4_98e7f4854936row2_col5 {\n",
       "            background-color:  #f8f1f8;\n",
       "            color:  #000000;\n",
       "        }    #T_b118b66c_432f_11e9_aeb4_98e7f4854936row2_col6 {\n",
       "            background-color:  #8cb3d5;\n",
       "            color:  #000000;\n",
       "        }    #T_b118b66c_432f_11e9_aeb4_98e7f4854936row2_col7 {\n",
       "            background-color:  #e8e4f0;\n",
       "            color:  #000000;\n",
       "        }    #T_b118b66c_432f_11e9_aeb4_98e7f4854936row2_col8 {\n",
       "            background-color:  #b9c6e0;\n",
       "            color:  #000000;\n",
       "        }    #T_b118b66c_432f_11e9_aeb4_98e7f4854936row2_col9 {\n",
       "            background-color:  #f2ecf5;\n",
       "            color:  #000000;\n",
       "        }    #T_b118b66c_432f_11e9_aeb4_98e7f4854936row2_col10 {\n",
       "            background-color:  #faf2f8;\n",
       "            color:  #000000;\n",
       "        }    #T_b118b66c_432f_11e9_aeb4_98e7f4854936row2_col11 {\n",
       "            background-color:  #d7d6e9;\n",
       "            color:  #000000;\n",
       "        }    #T_b118b66c_432f_11e9_aeb4_98e7f4854936row2_col12 {\n",
       "            background-color:  #f7f0f7;\n",
       "            color:  #000000;\n",
       "        }    #T_b118b66c_432f_11e9_aeb4_98e7f4854936row2_col13 {\n",
       "            background-color:  #abbfdc;\n",
       "            color:  #000000;\n",
       "        }    #T_b118b66c_432f_11e9_aeb4_98e7f4854936row2_col14 {\n",
       "            background-color:  #f5eef6;\n",
       "            color:  #000000;\n",
       "        }    #T_b118b66c_432f_11e9_aeb4_98e7f4854936row3_col0 {\n",
       "            background-color:  #d6d6e9;\n",
       "            color:  #000000;\n",
       "        }    #T_b118b66c_432f_11e9_aeb4_98e7f4854936row3_col1 {\n",
       "            background-color:  #f5eff6;\n",
       "            color:  #000000;\n",
       "        }    #T_b118b66c_432f_11e9_aeb4_98e7f4854936row3_col2 {\n",
       "            background-color:  #f7f0f7;\n",
       "            color:  #000000;\n",
       "        }    #T_b118b66c_432f_11e9_aeb4_98e7f4854936row3_col3 {\n",
       "            background-color:  #023858;\n",
       "            color:  #f1f1f1;\n",
       "        }    #T_b118b66c_432f_11e9_aeb4_98e7f4854936row3_col4 {\n",
       "            background-color:  #fef6fb;\n",
       "            color:  #000000;\n",
       "        }    #T_b118b66c_432f_11e9_aeb4_98e7f4854936row3_col5 {\n",
       "            background-color:  #fff7fb;\n",
       "            color:  #000000;\n",
       "        }    #T_b118b66c_432f_11e9_aeb4_98e7f4854936row3_col6 {\n",
       "            background-color:  #f0eaf4;\n",
       "            color:  #000000;\n",
       "        }    #T_b118b66c_432f_11e9_aeb4_98e7f4854936row3_col7 {\n",
       "            background-color:  #e9e5f1;\n",
       "            color:  #000000;\n",
       "        }    #T_b118b66c_432f_11e9_aeb4_98e7f4854936row3_col8 {\n",
       "            background-color:  #f1ebf5;\n",
       "            color:  #000000;\n",
       "        }    #T_b118b66c_432f_11e9_aeb4_98e7f4854936row3_col9 {\n",
       "            background-color:  #eee8f3;\n",
       "            color:  #000000;\n",
       "        }    #T_b118b66c_432f_11e9_aeb4_98e7f4854936row3_col10 {\n",
       "            background-color:  #faf2f8;\n",
       "            color:  #000000;\n",
       "        }    #T_b118b66c_432f_11e9_aeb4_98e7f4854936row3_col11 {\n",
       "            background-color:  #d7d6e9;\n",
       "            color:  #000000;\n",
       "        }    #T_b118b66c_432f_11e9_aeb4_98e7f4854936row3_col12 {\n",
       "            background-color:  #faf3f9;\n",
       "            color:  #000000;\n",
       "        }    #T_b118b66c_432f_11e9_aeb4_98e7f4854936row3_col13 {\n",
       "            background-color:  #f4edf6;\n",
       "            color:  #000000;\n",
       "        }    #T_b118b66c_432f_11e9_aeb4_98e7f4854936row3_col14 {\n",
       "            background-color:  #fbf3f9;\n",
       "            color:  #000000;\n",
       "        }    #T_b118b66c_432f_11e9_aeb4_98e7f4854936row4_col0 {\n",
       "            background-color:  #dad9ea;\n",
       "            color:  #000000;\n",
       "        }    #T_b118b66c_432f_11e9_aeb4_98e7f4854936row4_col1 {\n",
       "            background-color:  #f3edf5;\n",
       "            color:  #000000;\n",
       "        }    #T_b118b66c_432f_11e9_aeb4_98e7f4854936row4_col2 {\n",
       "            background-color:  #fbf4f9;\n",
       "            color:  #000000;\n",
       "        }    #T_b118b66c_432f_11e9_aeb4_98e7f4854936row4_col3 {\n",
       "            background-color:  #f4eef6;\n",
       "            color:  #000000;\n",
       "        }    #T_b118b66c_432f_11e9_aeb4_98e7f4854936row4_col4 {\n",
       "            background-color:  #023858;\n",
       "            color:  #f1f1f1;\n",
       "        }    #T_b118b66c_432f_11e9_aeb4_98e7f4854936row4_col5 {\n",
       "            background-color:  #f5eef6;\n",
       "            color:  #000000;\n",
       "        }    #T_b118b66c_432f_11e9_aeb4_98e7f4854936row4_col6 {\n",
       "            background-color:  #f4eef6;\n",
       "            color:  #000000;\n",
       "        }    #T_b118b66c_432f_11e9_aeb4_98e7f4854936row4_col7 {\n",
       "            background-color:  #ede7f2;\n",
       "            color:  #000000;\n",
       "        }    #T_b118b66c_432f_11e9_aeb4_98e7f4854936row4_col8 {\n",
       "            background-color:  #f5eef6;\n",
       "            color:  #000000;\n",
       "        }    #T_b118b66c_432f_11e9_aeb4_98e7f4854936row4_col9 {\n",
       "            background-color:  #f3edf5;\n",
       "            color:  #000000;\n",
       "        }    #T_b118b66c_432f_11e9_aeb4_98e7f4854936row4_col10 {\n",
       "            background-color:  #faf3f9;\n",
       "            color:  #000000;\n",
       "        }    #T_b118b66c_432f_11e9_aeb4_98e7f4854936row4_col11 {\n",
       "            background-color:  #dcdaeb;\n",
       "            color:  #000000;\n",
       "        }    #T_b118b66c_432f_11e9_aeb4_98e7f4854936row4_col12 {\n",
       "            background-color:  #fbf4f9;\n",
       "            color:  #000000;\n",
       "        }    #T_b118b66c_432f_11e9_aeb4_98e7f4854936row4_col13 {\n",
       "            background-color:  #f7f0f7;\n",
       "            color:  #000000;\n",
       "        }    #T_b118b66c_432f_11e9_aeb4_98e7f4854936row4_col14 {\n",
       "            background-color:  #f3edf5;\n",
       "            color:  #000000;\n",
       "        }    #T_b118b66c_432f_11e9_aeb4_98e7f4854936row5_col0 {\n",
       "            background-color:  #d9d8ea;\n",
       "            color:  #000000;\n",
       "        }    #T_b118b66c_432f_11e9_aeb4_98e7f4854936row5_col1 {\n",
       "            background-color:  #f4edf6;\n",
       "            color:  #000000;\n",
       "        }    #T_b118b66c_432f_11e9_aeb4_98e7f4854936row5_col2 {\n",
       "            background-color:  #fff7fb;\n",
       "            color:  #000000;\n",
       "        }    #T_b118b66c_432f_11e9_aeb4_98e7f4854936row5_col3 {\n",
       "            background-color:  #fff7fb;\n",
       "            color:  #000000;\n",
       "        }    #T_b118b66c_432f_11e9_aeb4_98e7f4854936row5_col4 {\n",
       "            background-color:  #fff7fb;\n",
       "            color:  #000000;\n",
       "        }    #T_b118b66c_432f_11e9_aeb4_98e7f4854936row5_col5 {\n",
       "            background-color:  #023858;\n",
       "            color:  #f1f1f1;\n",
       "        }    #T_b118b66c_432f_11e9_aeb4_98e7f4854936row5_col6 {\n",
       "            background-color:  #fef6fa;\n",
       "            color:  #000000;\n",
       "        }    #T_b118b66c_432f_11e9_aeb4_98e7f4854936row5_col7 {\n",
       "            background-color:  #f5eff6;\n",
       "            color:  #000000;\n",
       "        }    #T_b118b66c_432f_11e9_aeb4_98e7f4854936row5_col8 {\n",
       "            background-color:  #fdf5fa;\n",
       "            color:  #000000;\n",
       "        }    #T_b118b66c_432f_11e9_aeb4_98e7f4854936row5_col9 {\n",
       "            background-color:  #f9f2f8;\n",
       "            color:  #000000;\n",
       "        }    #T_b118b66c_432f_11e9_aeb4_98e7f4854936row5_col10 {\n",
       "            background-color:  #fbf3f9;\n",
       "            color:  #000000;\n",
       "        }    #T_b118b66c_432f_11e9_aeb4_98e7f4854936row5_col11 {\n",
       "            background-color:  #d3d4e7;\n",
       "            color:  #000000;\n",
       "        }    #T_b118b66c_432f_11e9_aeb4_98e7f4854936row5_col12 {\n",
       "            background-color:  #fff7fb;\n",
       "            color:  #000000;\n",
       "        }    #T_b118b66c_432f_11e9_aeb4_98e7f4854936row5_col13 {\n",
       "            background-color:  #fef6fa;\n",
       "            color:  #000000;\n",
       "        }    #T_b118b66c_432f_11e9_aeb4_98e7f4854936row5_col14 {\n",
       "            background-color:  #034f7d;\n",
       "            color:  #f1f1f1;\n",
       "        }    #T_b118b66c_432f_11e9_aeb4_98e7f4854936row6_col0 {\n",
       "            background-color:  #cccfe5;\n",
       "            color:  #000000;\n",
       "        }    #T_b118b66c_432f_11e9_aeb4_98e7f4854936row6_col1 {\n",
       "            background-color:  #fff7fb;\n",
       "            color:  #000000;\n",
       "        }    #T_b118b66c_432f_11e9_aeb4_98e7f4854936row6_col2 {\n",
       "            background-color:  #99b8d8;\n",
       "            color:  #000000;\n",
       "        }    #T_b118b66c_432f_11e9_aeb4_98e7f4854936row6_col3 {\n",
       "            background-color:  #f1ebf5;\n",
       "            color:  #000000;\n",
       "        }    #T_b118b66c_432f_11e9_aeb4_98e7f4854936row6_col4 {\n",
       "            background-color:  #fff7fb;\n",
       "            color:  #000000;\n",
       "        }    #T_b118b66c_432f_11e9_aeb4_98e7f4854936row6_col5 {\n",
       "            background-color:  #fff7fb;\n",
       "            color:  #000000;\n",
       "        }    #T_b118b66c_432f_11e9_aeb4_98e7f4854936row6_col6 {\n",
       "            background-color:  #023858;\n",
       "            color:  #f1f1f1;\n",
       "        }    #T_b118b66c_432f_11e9_aeb4_98e7f4854936row6_col7 {\n",
       "            background-color:  #e8e4f0;\n",
       "            color:  #000000;\n",
       "        }    #T_b118b66c_432f_11e9_aeb4_98e7f4854936row6_col8 {\n",
       "            background-color:  #2081b9;\n",
       "            color:  #000000;\n",
       "        }    #T_b118b66c_432f_11e9_aeb4_98e7f4854936row6_col9 {\n",
       "            background-color:  #f7f0f7;\n",
       "            color:  #000000;\n",
       "        }    #T_b118b66c_432f_11e9_aeb4_98e7f4854936row6_col10 {\n",
       "            background-color:  #fbf3f9;\n",
       "            color:  #000000;\n",
       "        }    #T_b118b66c_432f_11e9_aeb4_98e7f4854936row6_col11 {\n",
       "            background-color:  #e4e1ef;\n",
       "            color:  #000000;\n",
       "        }    #T_b118b66c_432f_11e9_aeb4_98e7f4854936row6_col12 {\n",
       "            background-color:  #fef6fb;\n",
       "            color:  #000000;\n",
       "        }    #T_b118b66c_432f_11e9_aeb4_98e7f4854936row6_col13 {\n",
       "            background-color:  #045f95;\n",
       "            color:  #f1f1f1;\n",
       "        }    #T_b118b66c_432f_11e9_aeb4_98e7f4854936row6_col14 {\n",
       "            background-color:  #fef6fb;\n",
       "            color:  #000000;\n",
       "        }    #T_b118b66c_432f_11e9_aeb4_98e7f4854936row7_col0 {\n",
       "            background-color:  #f1ebf5;\n",
       "            color:  #000000;\n",
       "        }    #T_b118b66c_432f_11e9_aeb4_98e7f4854936row7_col1 {\n",
       "            background-color:  #f4edf6;\n",
       "            color:  #000000;\n",
       "        }    #T_b118b66c_432f_11e9_aeb4_98e7f4854936row7_col2 {\n",
       "            background-color:  #f7f0f7;\n",
       "            color:  #000000;\n",
       "        }    #T_b118b66c_432f_11e9_aeb4_98e7f4854936row7_col3 {\n",
       "            background-color:  #f0eaf4;\n",
       "            color:  #000000;\n",
       "        }    #T_b118b66c_432f_11e9_aeb4_98e7f4854936row7_col4 {\n",
       "            background-color:  #fdf5fa;\n",
       "            color:  #000000;\n",
       "        }    #T_b118b66c_432f_11e9_aeb4_98e7f4854936row7_col5 {\n",
       "            background-color:  #fcf4fa;\n",
       "            color:  #000000;\n",
       "        }    #T_b118b66c_432f_11e9_aeb4_98e7f4854936row7_col6 {\n",
       "            background-color:  #efe9f3;\n",
       "            color:  #000000;\n",
       "        }    #T_b118b66c_432f_11e9_aeb4_98e7f4854936row7_col7 {\n",
       "            background-color:  #023858;\n",
       "            color:  #f1f1f1;\n",
       "        }    #T_b118b66c_432f_11e9_aeb4_98e7f4854936row7_col8 {\n",
       "            background-color:  #f1ebf4;\n",
       "            color:  #000000;\n",
       "        }    #T_b118b66c_432f_11e9_aeb4_98e7f4854936row7_col9 {\n",
       "            background-color:  #9fbad9;\n",
       "            color:  #000000;\n",
       "        }    #T_b118b66c_432f_11e9_aeb4_98e7f4854936row7_col10 {\n",
       "            background-color:  #f5eff6;\n",
       "            color:  #000000;\n",
       "        }    #T_b118b66c_432f_11e9_aeb4_98e7f4854936row7_col11 {\n",
       "            background-color:  #cdd0e5;\n",
       "            color:  #000000;\n",
       "        }    #T_b118b66c_432f_11e9_aeb4_98e7f4854936row7_col12 {\n",
       "            background-color:  #e1dfed;\n",
       "            color:  #000000;\n",
       "        }    #T_b118b66c_432f_11e9_aeb4_98e7f4854936row7_col13 {\n",
       "            background-color:  #f2ecf5;\n",
       "            color:  #000000;\n",
       "        }    #T_b118b66c_432f_11e9_aeb4_98e7f4854936row7_col14 {\n",
       "            background-color:  #f4edf6;\n",
       "            color:  #000000;\n",
       "        }    #T_b118b66c_432f_11e9_aeb4_98e7f4854936row8_col0 {\n",
       "            background-color:  #d1d2e6;\n",
       "            color:  #000000;\n",
       "        }    #T_b118b66c_432f_11e9_aeb4_98e7f4854936row8_col1 {\n",
       "            background-color:  #fbf3f9;\n",
       "            color:  #000000;\n",
       "        }    #T_b118b66c_432f_11e9_aeb4_98e7f4854936row8_col2 {\n",
       "            background-color:  #c2cbe2;\n",
       "            color:  #000000;\n",
       "        }    #T_b118b66c_432f_11e9_aeb4_98e7f4854936row8_col3 {\n",
       "            background-color:  #f1ebf4;\n",
       "            color:  #000000;\n",
       "        }    #T_b118b66c_432f_11e9_aeb4_98e7f4854936row8_col4 {\n",
       "            background-color:  #fef6fa;\n",
       "            color:  #000000;\n",
       "        }    #T_b118b66c_432f_11e9_aeb4_98e7f4854936row8_col5 {\n",
       "            background-color:  #fbf4f9;\n",
       "            color:  #000000;\n",
       "        }    #T_b118b66c_432f_11e9_aeb4_98e7f4854936row8_col6 {\n",
       "            background-color:  #1e80b8;\n",
       "            color:  #000000;\n",
       "        }    #T_b118b66c_432f_11e9_aeb4_98e7f4854936row8_col7 {\n",
       "            background-color:  #e9e5f1;\n",
       "            color:  #000000;\n",
       "        }    #T_b118b66c_432f_11e9_aeb4_98e7f4854936row8_col8 {\n",
       "            background-color:  #023858;\n",
       "            color:  #f1f1f1;\n",
       "        }    #T_b118b66c_432f_11e9_aeb4_98e7f4854936row8_col9 {\n",
       "            background-color:  #fef6fa;\n",
       "            color:  #000000;\n",
       "        }    #T_b118b66c_432f_11e9_aeb4_98e7f4854936row8_col10 {\n",
       "            background-color:  #fff7fb;\n",
       "            color:  #000000;\n",
       "        }    #T_b118b66c_432f_11e9_aeb4_98e7f4854936row8_col11 {\n",
       "            background-color:  #e2dfee;\n",
       "            color:  #000000;\n",
       "        }    #T_b118b66c_432f_11e9_aeb4_98e7f4854936row8_col12 {\n",
       "            background-color:  #fdf5fa;\n",
       "            color:  #000000;\n",
       "        }    #T_b118b66c_432f_11e9_aeb4_98e7f4854936row8_col13 {\n",
       "            background-color:  #dddbec;\n",
       "            color:  #000000;\n",
       "        }    #T_b118b66c_432f_11e9_aeb4_98e7f4854936row8_col14 {\n",
       "            background-color:  #fbf3f9;\n",
       "            color:  #000000;\n",
       "        }    #T_b118b66c_432f_11e9_aeb4_98e7f4854936row9_col0 {\n",
       "            background-color:  #ebe6f2;\n",
       "            color:  #000000;\n",
       "        }    #T_b118b66c_432f_11e9_aeb4_98e7f4854936row9_col1 {\n",
       "            background-color:  #f4edf6;\n",
       "            color:  #000000;\n",
       "        }    #T_b118b66c_432f_11e9_aeb4_98e7f4854936row9_col2 {\n",
       "            background-color:  #faf2f8;\n",
       "            color:  #000000;\n",
       "        }    #T_b118b66c_432f_11e9_aeb4_98e7f4854936row9_col3 {\n",
       "            background-color:  #eee9f3;\n",
       "            color:  #000000;\n",
       "        }    #T_b118b66c_432f_11e9_aeb4_98e7f4854936row9_col4 {\n",
       "            background-color:  #fdf5fa;\n",
       "            color:  #000000;\n",
       "        }    #T_b118b66c_432f_11e9_aeb4_98e7f4854936row9_col5 {\n",
       "            background-color:  #faf2f8;\n",
       "            color:  #000000;\n",
       "        }    #T_b118b66c_432f_11e9_aeb4_98e7f4854936row9_col6 {\n",
       "            background-color:  #f6eff7;\n",
       "            color:  #000000;\n",
       "        }    #T_b118b66c_432f_11e9_aeb4_98e7f4854936row9_col7 {\n",
       "            background-color:  #96b6d7;\n",
       "            color:  #000000;\n",
       "        }    #T_b118b66c_432f_11e9_aeb4_98e7f4854936row9_col8 {\n",
       "            background-color:  #fff7fb;\n",
       "            color:  #000000;\n",
       "        }    #T_b118b66c_432f_11e9_aeb4_98e7f4854936row9_col9 {\n",
       "            background-color:  #023858;\n",
       "            color:  #f1f1f1;\n",
       "        }    #T_b118b66c_432f_11e9_aeb4_98e7f4854936row9_col10 {\n",
       "            background-color:  #ebe6f2;\n",
       "            color:  #000000;\n",
       "        }    #T_b118b66c_432f_11e9_aeb4_98e7f4854936row9_col11 {\n",
       "            background-color:  #cccfe5;\n",
       "            color:  #000000;\n",
       "        }    #T_b118b66c_432f_11e9_aeb4_98e7f4854936row9_col12 {\n",
       "            background-color:  #d2d3e7;\n",
       "            color:  #000000;\n",
       "        }    #T_b118b66c_432f_11e9_aeb4_98e7f4854936row9_col13 {\n",
       "            background-color:  #f1ebf5;\n",
       "            color:  #000000;\n",
       "        }    #T_b118b66c_432f_11e9_aeb4_98e7f4854936row9_col14 {\n",
       "            background-color:  #f2ecf5;\n",
       "            color:  #000000;\n",
       "        }    #T_b118b66c_432f_11e9_aeb4_98e7f4854936row10_col0 {\n",
       "            background-color:  #dbdaeb;\n",
       "            color:  #000000;\n",
       "        }    #T_b118b66c_432f_11e9_aeb4_98e7f4854936row10_col1 {\n",
       "            background-color:  #f3edf5;\n",
       "            color:  #000000;\n",
       "        }    #T_b118b66c_432f_11e9_aeb4_98e7f4854936row10_col2 {\n",
       "            background-color:  #faf3f9;\n",
       "            color:  #000000;\n",
       "        }    #T_b118b66c_432f_11e9_aeb4_98e7f4854936row10_col3 {\n",
       "            background-color:  #f4edf6;\n",
       "            color:  #000000;\n",
       "        }    #T_b118b66c_432f_11e9_aeb4_98e7f4854936row10_col4 {\n",
       "            background-color:  #fef6fb;\n",
       "            color:  #000000;\n",
       "        }    #T_b118b66c_432f_11e9_aeb4_98e7f4854936row10_col5 {\n",
       "            background-color:  #f4eef6;\n",
       "            color:  #000000;\n",
       "        }    #T_b118b66c_432f_11e9_aeb4_98e7f4854936row10_col6 {\n",
       "            background-color:  #f4edf6;\n",
       "            color:  #000000;\n",
       "        }    #T_b118b66c_432f_11e9_aeb4_98e7f4854936row10_col7 {\n",
       "            background-color:  #e8e4f0;\n",
       "            color:  #000000;\n",
       "        }    #T_b118b66c_432f_11e9_aeb4_98e7f4854936row10_col8 {\n",
       "            background-color:  #faf3f9;\n",
       "            color:  #000000;\n",
       "        }    #T_b118b66c_432f_11e9_aeb4_98e7f4854936row10_col9 {\n",
       "            background-color:  #e2dfee;\n",
       "            color:  #000000;\n",
       "        }    #T_b118b66c_432f_11e9_aeb4_98e7f4854936row10_col10 {\n",
       "            background-color:  #023858;\n",
       "            color:  #f1f1f1;\n",
       "        }    #T_b118b66c_432f_11e9_aeb4_98e7f4854936row10_col11 {\n",
       "            background-color:  #cdd0e5;\n",
       "            color:  #000000;\n",
       "        }    #T_b118b66c_432f_11e9_aeb4_98e7f4854936row10_col12 {\n",
       "            background-color:  #d8d7e9;\n",
       "            color:  #000000;\n",
       "        }    #T_b118b66c_432f_11e9_aeb4_98e7f4854936row10_col13 {\n",
       "            background-color:  #f2ecf5;\n",
       "            color:  #000000;\n",
       "        }    #T_b118b66c_432f_11e9_aeb4_98e7f4854936row10_col14 {\n",
       "            background-color:  #f0eaf4;\n",
       "            color:  #000000;\n",
       "        }    #T_b118b66c_432f_11e9_aeb4_98e7f4854936row11_col0 {\n",
       "            background-color:  #fff7fb;\n",
       "            color:  #000000;\n",
       "        }    #T_b118b66c_432f_11e9_aeb4_98e7f4854936row11_col1 {\n",
       "            background-color:  #f0eaf4;\n",
       "            color:  #000000;\n",
       "        }    #T_b118b66c_432f_11e9_aeb4_98e7f4854936row11_col2 {\n",
       "            background-color:  #f7f0f7;\n",
       "            color:  #000000;\n",
       "        }    #T_b118b66c_432f_11e9_aeb4_98e7f4854936row11_col3 {\n",
       "            background-color:  #f0eaf4;\n",
       "            color:  #000000;\n",
       "        }    #T_b118b66c_432f_11e9_aeb4_98e7f4854936row11_col4 {\n",
       "            background-color:  #fef6fa;\n",
       "            color:  #000000;\n",
       "        }    #T_b118b66c_432f_11e9_aeb4_98e7f4854936row11_col5 {\n",
       "            background-color:  #eee8f3;\n",
       "            color:  #000000;\n",
       "        }    #T_b118b66c_432f_11e9_aeb4_98e7f4854936row11_col6 {\n",
       "            background-color:  #faf2f8;\n",
       "            color:  #000000;\n",
       "        }    #T_b118b66c_432f_11e9_aeb4_98e7f4854936row11_col7 {\n",
       "            background-color:  #e0dded;\n",
       "            color:  #000000;\n",
       "        }    #T_b118b66c_432f_11e9_aeb4_98e7f4854936row11_col8 {\n",
       "            background-color:  #faf2f8;\n",
       "            color:  #000000;\n",
       "        }    #T_b118b66c_432f_11e9_aeb4_98e7f4854936row11_col9 {\n",
       "            background-color:  #e6e2ef;\n",
       "            color:  #000000;\n",
       "        }    #T_b118b66c_432f_11e9_aeb4_98e7f4854936row11_col10 {\n",
       "            background-color:  #efe9f3;\n",
       "            color:  #000000;\n",
       "        }    #T_b118b66c_432f_11e9_aeb4_98e7f4854936row11_col11 {\n",
       "            background-color:  #023858;\n",
       "            color:  #f1f1f1;\n",
       "        }    #T_b118b66c_432f_11e9_aeb4_98e7f4854936row11_col12 {\n",
       "            background-color:  #dbdaeb;\n",
       "            color:  #000000;\n",
       "        }    #T_b118b66c_432f_11e9_aeb4_98e7f4854936row11_col13 {\n",
       "            background-color:  #faf2f8;\n",
       "            color:  #000000;\n",
       "        }    #T_b118b66c_432f_11e9_aeb4_98e7f4854936row11_col14 {\n",
       "            background-color:  #7dacd1;\n",
       "            color:  #000000;\n",
       "        }    #T_b118b66c_432f_11e9_aeb4_98e7f4854936row12_col0 {\n",
       "            background-color:  #dbdaeb;\n",
       "            color:  #000000;\n",
       "        }    #T_b118b66c_432f_11e9_aeb4_98e7f4854936row12_col1 {\n",
       "            background-color:  #f2ecf5;\n",
       "            color:  #000000;\n",
       "        }    #T_b118b66c_432f_11e9_aeb4_98e7f4854936row12_col2 {\n",
       "            background-color:  #f6eff7;\n",
       "            color:  #000000;\n",
       "        }    #T_b118b66c_432f_11e9_aeb4_98e7f4854936row12_col3 {\n",
       "            background-color:  #f2ecf5;\n",
       "            color:  #000000;\n",
       "        }    #T_b118b66c_432f_11e9_aeb4_98e7f4854936row12_col4 {\n",
       "            background-color:  #fdf5fa;\n",
       "            color:  #000000;\n",
       "        }    #T_b118b66c_432f_11e9_aeb4_98e7f4854936row12_col5 {\n",
       "            background-color:  #f7f0f7;\n",
       "            color:  #000000;\n",
       "        }    #T_b118b66c_432f_11e9_aeb4_98e7f4854936row12_col6 {\n",
       "            background-color:  #f5eef6;\n",
       "            color:  #000000;\n",
       "        }    #T_b118b66c_432f_11e9_aeb4_98e7f4854936row12_col7 {\n",
       "            background-color:  #ced0e6;\n",
       "            color:  #000000;\n",
       "        }    #T_b118b66c_432f_11e9_aeb4_98e7f4854936row12_col8 {\n",
       "            background-color:  #f6eff7;\n",
       "            color:  #000000;\n",
       "        }    #T_b118b66c_432f_11e9_aeb4_98e7f4854936row12_col9 {\n",
       "            background-color:  #c5cce3;\n",
       "            color:  #000000;\n",
       "        }    #T_b118b66c_432f_11e9_aeb4_98e7f4854936row12_col10 {\n",
       "            background-color:  #d5d5e8;\n",
       "            color:  #000000;\n",
       "        }    #T_b118b66c_432f_11e9_aeb4_98e7f4854936row12_col11 {\n",
       "            background-color:  #b0c2de;\n",
       "            color:  #000000;\n",
       "        }    #T_b118b66c_432f_11e9_aeb4_98e7f4854936row12_col12 {\n",
       "            background-color:  #023858;\n",
       "            color:  #f1f1f1;\n",
       "        }    #T_b118b66c_432f_11e9_aeb4_98e7f4854936row12_col13 {\n",
       "            background-color:  #f7f0f7;\n",
       "            color:  #000000;\n",
       "        }    #T_b118b66c_432f_11e9_aeb4_98e7f4854936row12_col14 {\n",
       "            background-color:  #ebe6f2;\n",
       "            color:  #000000;\n",
       "        }    #T_b118b66c_432f_11e9_aeb4_98e7f4854936row13_col0 {\n",
       "            background-color:  #d1d2e6;\n",
       "            color:  #000000;\n",
       "        }    #T_b118b66c_432f_11e9_aeb4_98e7f4854936row13_col1 {\n",
       "            background-color:  #fdf5fa;\n",
       "            color:  #000000;\n",
       "        }    #T_b118b66c_432f_11e9_aeb4_98e7f4854936row13_col2 {\n",
       "            background-color:  #b3c3de;\n",
       "            color:  #000000;\n",
       "        }    #T_b118b66c_432f_11e9_aeb4_98e7f4854936row13_col3 {\n",
       "            background-color:  #f2ecf5;\n",
       "            color:  #000000;\n",
       "        }    #T_b118b66c_432f_11e9_aeb4_98e7f4854936row13_col4 {\n",
       "            background-color:  #fff7fb;\n",
       "            color:  #000000;\n",
       "        }    #T_b118b66c_432f_11e9_aeb4_98e7f4854936row13_col5 {\n",
       "            background-color:  #fdf5fa;\n",
       "            color:  #000000;\n",
       "        }    #T_b118b66c_432f_11e9_aeb4_98e7f4854936row13_col6 {\n",
       "            background-color:  #045e94;\n",
       "            color:  #f1f1f1;\n",
       "        }    #T_b118b66c_432f_11e9_aeb4_98e7f4854936row13_col7 {\n",
       "            background-color:  #eae6f1;\n",
       "            color:  #000000;\n",
       "        }    #T_b118b66c_432f_11e9_aeb4_98e7f4854936row13_col8 {\n",
       "            background-color:  #dddbec;\n",
       "            color:  #000000;\n",
       "        }    #T_b118b66c_432f_11e9_aeb4_98e7f4854936row13_col9 {\n",
       "            background-color:  #f0eaf4;\n",
       "            color:  #000000;\n",
       "        }    #T_b118b66c_432f_11e9_aeb4_98e7f4854936row13_col10 {\n",
       "            background-color:  #f7f0f7;\n",
       "            color:  #000000;\n",
       "        }    #T_b118b66c_432f_11e9_aeb4_98e7f4854936row13_col11 {\n",
       "            background-color:  #e1dfed;\n",
       "            color:  #000000;\n",
       "        }    #T_b118b66c_432f_11e9_aeb4_98e7f4854936row13_col12 {\n",
       "            background-color:  #fef6fa;\n",
       "            color:  #000000;\n",
       "        }    #T_b118b66c_432f_11e9_aeb4_98e7f4854936row13_col13 {\n",
       "            background-color:  #023858;\n",
       "            color:  #f1f1f1;\n",
       "        }    #T_b118b66c_432f_11e9_aeb4_98e7f4854936row13_col14 {\n",
       "            background-color:  #fbf4f9;\n",
       "            color:  #000000;\n",
       "        }    #T_b118b66c_432f_11e9_aeb4_98e7f4854936row14_col0 {\n",
       "            background-color:  #ede7f2;\n",
       "            color:  #000000;\n",
       "        }    #T_b118b66c_432f_11e9_aeb4_98e7f4854936row14_col1 {\n",
       "            background-color:  #f2ecf5;\n",
       "            color:  #000000;\n",
       "        }    #T_b118b66c_432f_11e9_aeb4_98e7f4854936row14_col2 {\n",
       "            background-color:  #fef6fa;\n",
       "            color:  #000000;\n",
       "        }    #T_b118b66c_432f_11e9_aeb4_98e7f4854936row14_col3 {\n",
       "            background-color:  #fdf5fa;\n",
       "            color:  #000000;\n",
       "        }    #T_b118b66c_432f_11e9_aeb4_98e7f4854936row14_col4 {\n",
       "            background-color:  #fff7fb;\n",
       "            color:  #000000;\n",
       "        }    #T_b118b66c_432f_11e9_aeb4_98e7f4854936row14_col5 {\n",
       "            background-color:  #03517e;\n",
       "            color:  #f1f1f1;\n",
       "        }    #T_b118b66c_432f_11e9_aeb4_98e7f4854936row14_col6 {\n",
       "            background-color:  #fff7fb;\n",
       "            color:  #000000;\n",
       "        }    #T_b118b66c_432f_11e9_aeb4_98e7f4854936row14_col7 {\n",
       "            background-color:  #efe9f3;\n",
       "            color:  #000000;\n",
       "        }    #T_b118b66c_432f_11e9_aeb4_98e7f4854936row14_col8 {\n",
       "            background-color:  #fef6fa;\n",
       "            color:  #000000;\n",
       "        }    #T_b118b66c_432f_11e9_aeb4_98e7f4854936row14_col9 {\n",
       "            background-color:  #f4edf6;\n",
       "            color:  #000000;\n",
       "        }    #T_b118b66c_432f_11e9_aeb4_98e7f4854936row14_col10 {\n",
       "            background-color:  #f7f0f7;\n",
       "            color:  #000000;\n",
       "        }    #T_b118b66c_432f_11e9_aeb4_98e7f4854936row14_col11 {\n",
       "            background-color:  #60a1ca;\n",
       "            color:  #000000;\n",
       "        }    #T_b118b66c_432f_11e9_aeb4_98e7f4854936row14_col12 {\n",
       "            background-color:  #f5eef6;\n",
       "            color:  #000000;\n",
       "        }    #T_b118b66c_432f_11e9_aeb4_98e7f4854936row14_col13 {\n",
       "            background-color:  #fff7fb;\n",
       "            color:  #000000;\n",
       "        }    #T_b118b66c_432f_11e9_aeb4_98e7f4854936row14_col14 {\n",
       "            background-color:  #023858;\n",
       "            color:  #f1f1f1;\n",
       "        }</style><table id=\"T_b118b66c_432f_11e9_aeb4_98e7f4854936\" ><thead>    <tr>        <th class=\"blank level0\" ></th>        <th class=\"col_heading level0 col0\" >department</th>        <th class=\"col_heading level0 col1\" >region</th>        <th class=\"col_heading level0 col2\" >education</th>        <th class=\"col_heading level0 col3\" >gender</th>        <th class=\"col_heading level0 col4\" >recruitment_channel</th>        <th class=\"col_heading level0 col5\" >no_of_trainings</th>        <th class=\"col_heading level0 col6\" >age</th>        <th class=\"col_heading level0 col7\" >previous_year_rating</th>        <th class=\"col_heading level0 col8\" >length_of_service</th>        <th class=\"col_heading level0 col9\" >KPIs_met >80%</th>        <th class=\"col_heading level0 col10\" >awards_won?</th>        <th class=\"col_heading level0 col11\" >avg_training_score</th>        <th class=\"col_heading level0 col12\" >is_promoted</th>        <th class=\"col_heading level0 col13\" >joining_age</th>        <th class=\"col_heading level0 col14\" >training_hours</th>    </tr></thead><tbody>\n",
       "                <tr>\n",
       "                        <th id=\"T_b118b66c_432f_11e9_aeb4_98e7f4854936level0_row0\" class=\"row_heading level0 row0\" >department</th>\n",
       "                        <td id=\"T_b118b66c_432f_11e9_aeb4_98e7f4854936row0_col0\" class=\"data row0 col0\" >1</td>\n",
       "                        <td id=\"T_b118b66c_432f_11e9_aeb4_98e7f4854936row0_col1\" class=\"data row0 col1\" >-0.0205925</td>\n",
       "                        <td id=\"T_b118b66c_432f_11e9_aeb4_98e7f4854936row0_col2\" class=\"data row0 col2\" >0.0525012</td>\n",
       "                        <td id=\"T_b118b66c_432f_11e9_aeb4_98e7f4854936row0_col3\" class=\"data row0 col3\" >0.0301084</td>\n",
       "                        <td id=\"T_b118b66c_432f_11e9_aeb4_98e7f4854936row0_col4\" class=\"data row0 col4\" >0.00473218</td>\n",
       "                        <td id=\"T_b118b66c_432f_11e9_aeb4_98e7f4854936row0_col5\" class=\"data row0 col5\" >0.0141517</td>\n",
       "                        <td id=\"T_b118b66c_432f_11e9_aeb4_98e7f4854936row0_col6\" class=\"data row0 col6\" >0.0791621</td>\n",
       "                        <td id=\"T_b118b66c_432f_11e9_aeb4_98e7f4854936row0_col7\" class=\"data row0 col7\" >-0.135561</td>\n",
       "                        <td id=\"T_b118b66c_432f_11e9_aeb4_98e7f4854936row0_col8\" class=\"data row0 col8\" >0.0590596</td>\n",
       "                        <td id=\"T_b118b66c_432f_11e9_aeb4_98e7f4854936row0_col9\" class=\"data row0 col9\" >-0.0882091</td>\n",
       "                        <td id=\"T_b118b66c_432f_11e9_aeb4_98e7f4854936row0_col10\" class=\"data row0 col10\" >-0.00215111</td>\n",
       "                        <td id=\"T_b118b66c_432f_11e9_aeb4_98e7f4854936row0_col11\" class=\"data row0 col11\" >-0.251626</td>\n",
       "                        <td id=\"T_b118b66c_432f_11e9_aeb4_98e7f4854936row0_col12\" class=\"data row0 col12\" >0.000130116</td>\n",
       "                        <td id=\"T_b118b66c_432f_11e9_aeb4_98e7f4854936row0_col13\" class=\"data row0 col13\" >0.0608573</td>\n",
       "                        <td id=\"T_b118b66c_432f_11e9_aeb4_98e7f4854936row0_col14\" class=\"data row0 col14\" >-0.0968076</td>\n",
       "            </tr>\n",
       "            <tr>\n",
       "                        <th id=\"T_b118b66c_432f_11e9_aeb4_98e7f4854936level0_row1\" class=\"row_heading level0 row1\" >region</th>\n",
       "                        <td id=\"T_b118b66c_432f_11e9_aeb4_98e7f4854936row1_col0\" class=\"data row1 col0\" >-0.0205925</td>\n",
       "                        <td id=\"T_b118b66c_432f_11e9_aeb4_98e7f4854936row1_col1\" class=\"data row1 col1\" >1</td>\n",
       "                        <td id=\"T_b118b66c_432f_11e9_aeb4_98e7f4854936row1_col2\" class=\"data row1 col2\" >0.00106336</td>\n",
       "                        <td id=\"T_b118b66c_432f_11e9_aeb4_98e7f4854936row1_col3\" class=\"data row1 col3\" >-0.0197296</td>\n",
       "                        <td id=\"T_b118b66c_432f_11e9_aeb4_98e7f4854936row1_col4\" class=\"data row1 col4\" >-0.000919649</td>\n",
       "                        <td id=\"T_b118b66c_432f_11e9_aeb4_98e7f4854936row1_col5\" class=\"data row1 col5\" >-0.00459046</td>\n",
       "                        <td id=\"T_b118b66c_432f_11e9_aeb4_98e7f4854936row1_col6\" class=\"data row1 col6\" >-0.0889184</td>\n",
       "                        <td id=\"T_b118b66c_432f_11e9_aeb4_98e7f4854936row1_col7\" class=\"data row1 col7\" >-0.0059766</td>\n",
       "                        <td id=\"T_b118b66c_432f_11e9_aeb4_98e7f4854936row1_col8\" class=\"data row1 col8\" >-0.0589394</td>\n",
       "                        <td id=\"T_b118b66c_432f_11e9_aeb4_98e7f4854936row1_col9\" class=\"data row1 col9\" >-0.00766378</td>\n",
       "                        <td id=\"T_b118b66c_432f_11e9_aeb4_98e7f4854936row1_col10\" class=\"data row1 col10\" >0.000307275</td>\n",
       "                        <td id=\"T_b118b66c_432f_11e9_aeb4_98e7f4854936row1_col11\" class=\"data row1 col11\" >0.0235718</td>\n",
       "                        <td id=\"T_b118b66c_432f_11e9_aeb4_98e7f4854936row1_col12\" class=\"data row1 col12\" >0.00884144</td>\n",
       "                        <td id=\"T_b118b66c_432f_11e9_aeb4_98e7f4854936row1_col13\" class=\"data row1 col13\" >-0.0737752</td>\n",
       "                        <td id=\"T_b118b66c_432f_11e9_aeb4_98e7f4854936row1_col14\" class=\"data row1 col14\" >0.00467944</td>\n",
       "            </tr>\n",
       "            <tr>\n",
       "                        <th id=\"T_b118b66c_432f_11e9_aeb4_98e7f4854936level0_row2\" class=\"row_heading level0 row2\" >education</th>\n",
       "                        <td id=\"T_b118b66c_432f_11e9_aeb4_98e7f4854936row2_col0\" class=\"data row2 col0\" >0.0525012</td>\n",
       "                        <td id=\"T_b118b66c_432f_11e9_aeb4_98e7f4854936row2_col1\" class=\"data row2 col1\" >0.00106336</td>\n",
       "                        <td id=\"T_b118b66c_432f_11e9_aeb4_98e7f4854936row2_col2\" class=\"data row2 col2\" >1</td>\n",
       "                        <td id=\"T_b118b66c_432f_11e9_aeb4_98e7f4854936row2_col3\" class=\"data row2 col3\" >0.0243486</td>\n",
       "                        <td id=\"T_b118b66c_432f_11e9_aeb4_98e7f4854936row2_col4\" class=\"data row2 col4\" >-0.00552099</td>\n",
       "                        <td id=\"T_b118b66c_432f_11e9_aeb4_98e7f4854936row2_col5\" class=\"data row2 col5\" >-0.0334406</td>\n",
       "                        <td id=\"T_b118b66c_432f_11e9_aeb4_98e7f4854936row2_col6\" class=\"data row2 col6\" >0.389036</td>\n",
       "                        <td id=\"T_b118b66c_432f_11e9_aeb4_98e7f4854936row2_col7\" class=\"data row2 col7\" >0.0268517</td>\n",
       "                        <td id=\"T_b118b66c_432f_11e9_aeb4_98e7f4854936row2_col8\" class=\"data row2 col8\" >0.266995</td>\n",
       "                        <td id=\"T_b118b66c_432f_11e9_aeb4_98e7f4854936row2_col9\" class=\"data row2 col9\" >0.00676087</td>\n",
       "                        <td id=\"T_b118b66c_432f_11e9_aeb4_98e7f4854936row2_col10\" class=\"data row2 col10\" >0.0004684</td>\n",
       "                        <td id=\"T_b118b66c_432f_11e9_aeb4_98e7f4854936row2_col11\" class=\"data row2 col11\" >0.0256455</td>\n",
       "                        <td id=\"T_b118b66c_432f_11e9_aeb4_98e7f4854936row2_col12\" class=\"data row2 col12\" >0.0280264</td>\n",
       "                        <td id=\"T_b118b66c_432f_11e9_aeb4_98e7f4854936row2_col13\" class=\"data row2 col13\" >0.316102</td>\n",
       "                        <td id=\"T_b118b66c_432f_11e9_aeb4_98e7f4854936row2_col14\" class=\"data row2 col14\" >-0.0218387</td>\n",
       "            </tr>\n",
       "            <tr>\n",
       "                        <th id=\"T_b118b66c_432f_11e9_aeb4_98e7f4854936level0_row3\" class=\"row_heading level0 row3\" >gender</th>\n",
       "                        <td id=\"T_b118b66c_432f_11e9_aeb4_98e7f4854936row3_col0\" class=\"data row3 col0\" >0.0301084</td>\n",
       "                        <td id=\"T_b118b66c_432f_11e9_aeb4_98e7f4854936row3_col1\" class=\"data row3 col1\" >-0.0197296</td>\n",
       "                        <td id=\"T_b118b66c_432f_11e9_aeb4_98e7f4854936row3_col2\" class=\"data row3 col2\" >0.0243486</td>\n",
       "                        <td id=\"T_b118b66c_432f_11e9_aeb4_98e7f4854936row3_col3\" class=\"data row3 col3\" >1</td>\n",
       "                        <td id=\"T_b118b66c_432f_11e9_aeb4_98e7f4854936row3_col4\" class=\"data row3 col4\" >-0.00656724</td>\n",
       "                        <td id=\"T_b118b66c_432f_11e9_aeb4_98e7f4854936row3_col5\" class=\"data row3 col5\" >-0.0845012</td>\n",
       "                        <td id=\"T_b118b66c_432f_11e9_aeb4_98e7f4854936row3_col6\" class=\"data row3 col6\" >0.0162932</td>\n",
       "                        <td id=\"T_b118b66c_432f_11e9_aeb4_98e7f4854936row3_col7\" class=\"data row3 col7\" >0.0240241</td>\n",
       "                        <td id=\"T_b118b66c_432f_11e9_aeb4_98e7f4854936row3_col8\" class=\"data row3 col8\" >0.0196745</td>\n",
       "                        <td id=\"T_b118b66c_432f_11e9_aeb4_98e7f4854936row3_col9\" class=\"data row3 col9\" >0.0374003</td>\n",
       "                        <td id=\"T_b118b66c_432f_11e9_aeb4_98e7f4854936row3_col10\" class=\"data row3 col10\" >-0.00238149</td>\n",
       "                        <td id=\"T_b118b66c_432f_11e9_aeb4_98e7f4854936row3_col11\" class=\"data row3 col11\" >0.0244942</td>\n",
       "                        <td id=\"T_b118b66c_432f_11e9_aeb4_98e7f4854936row3_col12\" class=\"data row3 col12\" >0.0111091</td>\n",
       "                        <td id=\"T_b118b66c_432f_11e9_aeb4_98e7f4854936row3_col13\" class=\"data row3 col13\" >0.00702044</td>\n",
       "                        <td id=\"T_b118b66c_432f_11e9_aeb4_98e7f4854936row3_col14\" class=\"data row3 col14\" >-0.0664722</td>\n",
       "            </tr>\n",
       "            <tr>\n",
       "                        <th id=\"T_b118b66c_432f_11e9_aeb4_98e7f4854936level0_row4\" class=\"row_heading level0 row4\" >recruitment_channel</th>\n",
       "                        <td id=\"T_b118b66c_432f_11e9_aeb4_98e7f4854936row4_col0\" class=\"data row4 col0\" >0.00473218</td>\n",
       "                        <td id=\"T_b118b66c_432f_11e9_aeb4_98e7f4854936row4_col1\" class=\"data row4 col1\" >-0.000919649</td>\n",
       "                        <td id=\"T_b118b66c_432f_11e9_aeb4_98e7f4854936row4_col2\" class=\"data row4 col2\" >-0.00552099</td>\n",
       "                        <td id=\"T_b118b66c_432f_11e9_aeb4_98e7f4854936row4_col3\" class=\"data row4 col3\" >-0.00656724</td>\n",
       "                        <td id=\"T_b118b66c_432f_11e9_aeb4_98e7f4854936row4_col4\" class=\"data row4 col4\" >1</td>\n",
       "                        <td id=\"T_b118b66c_432f_11e9_aeb4_98e7f4854936row4_col5\" class=\"data row4 col5\" >-0.0104051</td>\n",
       "                        <td id=\"T_b118b66c_432f_11e9_aeb4_98e7f4854936row4_col6\" class=\"data row4 col6\" >-0.0114003</td>\n",
       "                        <td id=\"T_b118b66c_432f_11e9_aeb4_98e7f4854936row4_col7\" class=\"data row4 col7\" >0.00573072</td>\n",
       "                        <td id=\"T_b118b66c_432f_11e9_aeb4_98e7f4854936row4_col8\" class=\"data row4 col8\" >-0.00288686</td>\n",
       "                        <td id=\"T_b118b66c_432f_11e9_aeb4_98e7f4854936row4_col9\" class=\"data row4 col9\" >-0.000297411</td>\n",
       "                        <td id=\"T_b118b66c_432f_11e9_aeb4_98e7f4854936row4_col10\" class=\"data row4 col10\" >-0.00551036</td>\n",
       "                        <td id=\"T_b118b66c_432f_11e9_aeb4_98e7f4854936row4_col11\" class=\"data row4 col11\" >-0.00241588</td>\n",
       "                        <td id=\"T_b118b66c_432f_11e9_aeb4_98e7f4854936row4_col12\" class=\"data row4 col12\" >0.00222871</td>\n",
       "                        <td id=\"T_b118b66c_432f_11e9_aeb4_98e7f4854936row4_col13\" class=\"data row4 col13\" >-0.012878</td>\n",
       "                        <td id=\"T_b118b66c_432f_11e9_aeb4_98e7f4854936row4_col14\" class=\"data row4 col14\" >-0.0096758</td>\n",
       "            </tr>\n",
       "            <tr>\n",
       "                        <th id=\"T_b118b66c_432f_11e9_aeb4_98e7f4854936level0_row5\" class=\"row_heading level0 row5\" >no_of_trainings</th>\n",
       "                        <td id=\"T_b118b66c_432f_11e9_aeb4_98e7f4854936row5_col0\" class=\"data row5 col0\" >0.0141517</td>\n",
       "                        <td id=\"T_b118b66c_432f_11e9_aeb4_98e7f4854936row5_col1\" class=\"data row5 col1\" >-0.00459046</td>\n",
       "                        <td id=\"T_b118b66c_432f_11e9_aeb4_98e7f4854936row5_col2\" class=\"data row5 col2\" >-0.0334406</td>\n",
       "                        <td id=\"T_b118b66c_432f_11e9_aeb4_98e7f4854936row5_col3\" class=\"data row5 col3\" >-0.0845012</td>\n",
       "                        <td id=\"T_b118b66c_432f_11e9_aeb4_98e7f4854936row5_col4\" class=\"data row5 col4\" >-0.0104051</td>\n",
       "                        <td id=\"T_b118b66c_432f_11e9_aeb4_98e7f4854936row5_col5\" class=\"data row5 col5\" >1</td>\n",
       "                        <td id=\"T_b118b66c_432f_11e9_aeb4_98e7f4854936row5_col6\" class=\"data row5 col6\" >-0.0812779</td>\n",
       "                        <td id=\"T_b118b66c_432f_11e9_aeb4_98e7f4854936row5_col7\" class=\"data row5 col7\" >-0.0615637</td>\n",
       "                        <td id=\"T_b118b66c_432f_11e9_aeb4_98e7f4854936row5_col8\" class=\"data row5 col8\" >-0.0572748</td>\n",
       "                        <td id=\"T_b118b66c_432f_11e9_aeb4_98e7f4854936row5_col9\" class=\"data row5 col9\" >-0.0455757</td>\n",
       "                        <td id=\"T_b118b66c_432f_11e9_aeb4_98e7f4854936row5_col10\" class=\"data row5 col10\" >-0.00762832</td>\n",
       "                        <td id=\"T_b118b66c_432f_11e9_aeb4_98e7f4854936row5_col11\" class=\"data row5 col11\" >0.042517</td>\n",
       "                        <td id=\"T_b118b66c_432f_11e9_aeb4_98e7f4854936row5_col12\" class=\"data row5 col12\" >-0.0248959</td>\n",
       "                        <td id=\"T_b118b66c_432f_11e9_aeb4_98e7f4854936row5_col13\" class=\"data row5 col13\" >-0.0649465</td>\n",
       "                        <td id=\"T_b118b66c_432f_11e9_aeb4_98e7f4854936row5_col14\" class=\"data row5 col14\" >0.901878</td>\n",
       "            </tr>\n",
       "            <tr>\n",
       "                        <th id=\"T_b118b66c_432f_11e9_aeb4_98e7f4854936level0_row6\" class=\"row_heading level0 row6\" >age</th>\n",
       "                        <td id=\"T_b118b66c_432f_11e9_aeb4_98e7f4854936row6_col0\" class=\"data row6 col0\" >0.0791621</td>\n",
       "                        <td id=\"T_b118b66c_432f_11e9_aeb4_98e7f4854936row6_col1\" class=\"data row6 col1\" >-0.0889184</td>\n",
       "                        <td id=\"T_b118b66c_432f_11e9_aeb4_98e7f4854936row6_col2\" class=\"data row6 col2\" >0.389036</td>\n",
       "                        <td id=\"T_b118b66c_432f_11e9_aeb4_98e7f4854936row6_col3\" class=\"data row6 col3\" >0.0162932</td>\n",
       "                        <td id=\"T_b118b66c_432f_11e9_aeb4_98e7f4854936row6_col4\" class=\"data row6 col4\" >-0.0114003</td>\n",
       "                        <td id=\"T_b118b66c_432f_11e9_aeb4_98e7f4854936row6_col5\" class=\"data row6 col5\" >-0.0812779</td>\n",
       "                        <td id=\"T_b118b66c_432f_11e9_aeb4_98e7f4854936row6_col6\" class=\"data row6 col6\" >1</td>\n",
       "                        <td id=\"T_b118b66c_432f_11e9_aeb4_98e7f4854936row6_col7\" class=\"data row6 col7\" >0.0268104</td>\n",
       "                        <td id=\"T_b118b66c_432f_11e9_aeb4_98e7f4854936row6_col8\" class=\"data row6 col8\" >0.657111</td>\n",
       "                        <td id=\"T_b118b66c_432f_11e9_aeb4_98e7f4854936row6_col9\" class=\"data row6 col9\" >-0.0255918</td>\n",
       "                        <td id=\"T_b118b66c_432f_11e9_aeb4_98e7f4854936row6_col10\" class=\"data row6 col10\" >-0.00816882</td>\n",
       "                        <td id=\"T_b118b66c_432f_11e9_aeb4_98e7f4854936row6_col11\" class=\"data row6 col11\" >-0.0483797</td>\n",
       "                        <td id=\"T_b118b66c_432f_11e9_aeb4_98e7f4854936row6_col12\" class=\"data row6 col12\" >-0.0171659</td>\n",
       "                        <td id=\"T_b118b66c_432f_11e9_aeb4_98e7f4854936row6_col13\" class=\"data row6 col13\" >0.833896</td>\n",
       "                        <td id=\"T_b118b66c_432f_11e9_aeb4_98e7f4854936row6_col14\" class=\"data row6 col14\" >-0.0907978</td>\n",
       "            </tr>\n",
       "            <tr>\n",
       "                        <th id=\"T_b118b66c_432f_11e9_aeb4_98e7f4854936level0_row7\" class=\"row_heading level0 row7\" >previous_year_rating</th>\n",
       "                        <td id=\"T_b118b66c_432f_11e9_aeb4_98e7f4854936row7_col0\" class=\"data row7 col0\" >-0.135561</td>\n",
       "                        <td id=\"T_b118b66c_432f_11e9_aeb4_98e7f4854936row7_col1\" class=\"data row7 col1\" >-0.0059766</td>\n",
       "                        <td id=\"T_b118b66c_432f_11e9_aeb4_98e7f4854936row7_col2\" class=\"data row7 col2\" >0.0268517</td>\n",
       "                        <td id=\"T_b118b66c_432f_11e9_aeb4_98e7f4854936row7_col3\" class=\"data row7 col3\" >0.0240241</td>\n",
       "                        <td id=\"T_b118b66c_432f_11e9_aeb4_98e7f4854936row7_col4\" class=\"data row7 col4\" >0.00573072</td>\n",
       "                        <td id=\"T_b118b66c_432f_11e9_aeb4_98e7f4854936row7_col5\" class=\"data row7 col5\" >-0.0615637</td>\n",
       "                        <td id=\"T_b118b66c_432f_11e9_aeb4_98e7f4854936row7_col6\" class=\"data row7 col6\" >0.0268104</td>\n",
       "                        <td id=\"T_b118b66c_432f_11e9_aeb4_98e7f4854936row7_col7\" class=\"data row7 col7\" >1</td>\n",
       "                        <td id=\"T_b118b66c_432f_11e9_aeb4_98e7f4854936row7_col8\" class=\"data row7 col8\" >0.0235044</td>\n",
       "                        <td id=\"T_b118b66c_432f_11e9_aeb4_98e7f4854936row7_col9\" class=\"data row7 col9\" >0.337367</td>\n",
       "                        <td id=\"T_b118b66c_432f_11e9_aeb4_98e7f4854936row7_col10\" class=\"data row7 col10\" >0.0265866</td>\n",
       "                        <td id=\"T_b118b66c_432f_11e9_aeb4_98e7f4854936row7_col11\" class=\"data row7 col11\" >0.0719257</td>\n",
       "                        <td id=\"T_b118b66c_432f_11e9_aeb4_98e7f4854936row7_col12\" class=\"data row7 col12\" >0.15323</td>\n",
       "                        <td id=\"T_b118b66c_432f_11e9_aeb4_98e7f4854936row7_col13\" class=\"data row7 col13\" >0.0180467</td>\n",
       "                        <td id=\"T_b118b66c_432f_11e9_aeb4_98e7f4854936row7_col14\" class=\"data row7 col14\" >-0.012217</td>\n",
       "            </tr>\n",
       "            <tr>\n",
       "                        <th id=\"T_b118b66c_432f_11e9_aeb4_98e7f4854936level0_row8\" class=\"row_heading level0 row8\" >length_of_service</th>\n",
       "                        <td id=\"T_b118b66c_432f_11e9_aeb4_98e7f4854936row8_col0\" class=\"data row8 col0\" >0.0590596</td>\n",
       "                        <td id=\"T_b118b66c_432f_11e9_aeb4_98e7f4854936row8_col1\" class=\"data row8 col1\" >-0.0589394</td>\n",
       "                        <td id=\"T_b118b66c_432f_11e9_aeb4_98e7f4854936row8_col2\" class=\"data row8 col2\" >0.266995</td>\n",
       "                        <td id=\"T_b118b66c_432f_11e9_aeb4_98e7f4854936row8_col3\" class=\"data row8 col3\" >0.0196745</td>\n",
       "                        <td id=\"T_b118b66c_432f_11e9_aeb4_98e7f4854936row8_col4\" class=\"data row8 col4\" >-0.00288686</td>\n",
       "                        <td id=\"T_b118b66c_432f_11e9_aeb4_98e7f4854936row8_col5\" class=\"data row8 col5\" >-0.0572748</td>\n",
       "                        <td id=\"T_b118b66c_432f_11e9_aeb4_98e7f4854936row8_col6\" class=\"data row8 col6\" >0.657111</td>\n",
       "                        <td id=\"T_b118b66c_432f_11e9_aeb4_98e7f4854936row8_col7\" class=\"data row8 col7\" >0.0235044</td>\n",
       "                        <td id=\"T_b118b66c_432f_11e9_aeb4_98e7f4854936row8_col8\" class=\"data row8 col8\" >1</td>\n",
       "                        <td id=\"T_b118b66c_432f_11e9_aeb4_98e7f4854936row8_col9\" class=\"data row8 col9\" >-0.0776925</td>\n",
       "                        <td id=\"T_b118b66c_432f_11e9_aeb4_98e7f4854936row8_col10\" class=\"data row8 col10\" >-0.0399275</td>\n",
       "                        <td id=\"T_b118b66c_432f_11e9_aeb4_98e7f4854936row8_col11\" class=\"data row8 col11\" >-0.0381222</td>\n",
       "                        <td id=\"T_b118b66c_432f_11e9_aeb4_98e7f4854936row8_col12\" class=\"data row8 col12\" >-0.0106699</td>\n",
       "                        <td id=\"T_b118b66c_432f_11e9_aeb4_98e7f4854936row8_col13\" class=\"data row8 col13\" >0.131927</td>\n",
       "                        <td id=\"T_b118b66c_432f_11e9_aeb4_98e7f4854936row8_col14\" class=\"data row8 col14\" >-0.0664172</td>\n",
       "            </tr>\n",
       "            <tr>\n",
       "                        <th id=\"T_b118b66c_432f_11e9_aeb4_98e7f4854936level0_row9\" class=\"row_heading level0 row9\" >KPIs_met >80%</th>\n",
       "                        <td id=\"T_b118b66c_432f_11e9_aeb4_98e7f4854936row9_col0\" class=\"data row9 col0\" >-0.0882091</td>\n",
       "                        <td id=\"T_b118b66c_432f_11e9_aeb4_98e7f4854936row9_col1\" class=\"data row9 col1\" >-0.00766378</td>\n",
       "                        <td id=\"T_b118b66c_432f_11e9_aeb4_98e7f4854936row9_col2\" class=\"data row9 col2\" >0.00676087</td>\n",
       "                        <td id=\"T_b118b66c_432f_11e9_aeb4_98e7f4854936row9_col3\" class=\"data row9 col3\" >0.0374003</td>\n",
       "                        <td id=\"T_b118b66c_432f_11e9_aeb4_98e7f4854936row9_col4\" class=\"data row9 col4\" >-0.000297411</td>\n",
       "                        <td id=\"T_b118b66c_432f_11e9_aeb4_98e7f4854936row9_col5\" class=\"data row9 col5\" >-0.0455757</td>\n",
       "                        <td id=\"T_b118b66c_432f_11e9_aeb4_98e7f4854936row9_col6\" class=\"data row9 col6\" >-0.0255918</td>\n",
       "                        <td id=\"T_b118b66c_432f_11e9_aeb4_98e7f4854936row9_col7\" class=\"data row9 col7\" >0.337367</td>\n",
       "                        <td id=\"T_b118b66c_432f_11e9_aeb4_98e7f4854936row9_col8\" class=\"data row9 col8\" >-0.0776925</td>\n",
       "                        <td id=\"T_b118b66c_432f_11e9_aeb4_98e7f4854936row9_col9\" class=\"data row9 col9\" >1</td>\n",
       "                        <td id=\"T_b118b66c_432f_11e9_aeb4_98e7f4854936row9_col10\" class=\"data row9 col10\" >0.0969998</td>\n",
       "                        <td id=\"T_b118b66c_432f_11e9_aeb4_98e7f4854936row9_col11\" class=\"data row9 col11\" >0.078391</td>\n",
       "                        <td id=\"T_b118b66c_432f_11e9_aeb4_98e7f4854936row9_col12\" class=\"data row9 col12\" >0.221582</td>\n",
       "                        <td id=\"T_b118b66c_432f_11e9_aeb4_98e7f4854936row9_col13\" class=\"data row9 col13\" >0.023232</td>\n",
       "                        <td id=\"T_b118b66c_432f_11e9_aeb4_98e7f4854936row9_col14\" class=\"data row9 col14\" >-0.00367623</td>\n",
       "            </tr>\n",
       "            <tr>\n",
       "                        <th id=\"T_b118b66c_432f_11e9_aeb4_98e7f4854936level0_row10\" class=\"row_heading level0 row10\" >awards_won?</th>\n",
       "                        <td id=\"T_b118b66c_432f_11e9_aeb4_98e7f4854936row10_col0\" class=\"data row10 col0\" >-0.00215111</td>\n",
       "                        <td id=\"T_b118b66c_432f_11e9_aeb4_98e7f4854936row10_col1\" class=\"data row10 col1\" >0.000307275</td>\n",
       "                        <td id=\"T_b118b66c_432f_11e9_aeb4_98e7f4854936row10_col2\" class=\"data row10 col2\" >0.0004684</td>\n",
       "                        <td id=\"T_b118b66c_432f_11e9_aeb4_98e7f4854936row10_col3\" class=\"data row10 col3\" >-0.00238149</td>\n",
       "                        <td id=\"T_b118b66c_432f_11e9_aeb4_98e7f4854936row10_col4\" class=\"data row10 col4\" >-0.00551036</td>\n",
       "                        <td id=\"T_b118b66c_432f_11e9_aeb4_98e7f4854936row10_col5\" class=\"data row10 col5\" >-0.00762832</td>\n",
       "                        <td id=\"T_b118b66c_432f_11e9_aeb4_98e7f4854936row10_col6\" class=\"data row10 col6\" >-0.00816882</td>\n",
       "                        <td id=\"T_b118b66c_432f_11e9_aeb4_98e7f4854936row10_col7\" class=\"data row10 col7\" >0.0265866</td>\n",
       "                        <td id=\"T_b118b66c_432f_11e9_aeb4_98e7f4854936row10_col8\" class=\"data row10 col8\" >-0.0399275</td>\n",
       "                        <td id=\"T_b118b66c_432f_11e9_aeb4_98e7f4854936row10_col9\" class=\"data row10 col9\" >0.0969998</td>\n",
       "                        <td id=\"T_b118b66c_432f_11e9_aeb4_98e7f4854936row10_col10\" class=\"data row10 col10\" >1</td>\n",
       "                        <td id=\"T_b118b66c_432f_11e9_aeb4_98e7f4854936row10_col11\" class=\"data row10 col11\" >0.0721382</td>\n",
       "                        <td id=\"T_b118b66c_432f_11e9_aeb4_98e7f4854936row10_col12\" class=\"data row10 col12\" >0.195871</td>\n",
       "                        <td id=\"T_b118b66c_432f_11e9_aeb4_98e7f4854936row10_col13\" class=\"data row10 col13\" >0.0184923</td>\n",
       "                        <td id=\"T_b118b66c_432f_11e9_aeb4_98e7f4854936row10_col14\" class=\"data row10 col14\" >0.0187065</td>\n",
       "            </tr>\n",
       "            <tr>\n",
       "                        <th id=\"T_b118b66c_432f_11e9_aeb4_98e7f4854936level0_row11\" class=\"row_heading level0 row11\" >avg_training_score</th>\n",
       "                        <td id=\"T_b118b66c_432f_11e9_aeb4_98e7f4854936row11_col0\" class=\"data row11 col0\" >-0.251626</td>\n",
       "                        <td id=\"T_b118b66c_432f_11e9_aeb4_98e7f4854936row11_col1\" class=\"data row11 col1\" >0.0235718</td>\n",
       "                        <td id=\"T_b118b66c_432f_11e9_aeb4_98e7f4854936row11_col2\" class=\"data row11 col2\" >0.0256455</td>\n",
       "                        <td id=\"T_b118b66c_432f_11e9_aeb4_98e7f4854936row11_col3\" class=\"data row11 col3\" >0.0244942</td>\n",
       "                        <td id=\"T_b118b66c_432f_11e9_aeb4_98e7f4854936row11_col4\" class=\"data row11 col4\" >-0.00241588</td>\n",
       "                        <td id=\"T_b118b66c_432f_11e9_aeb4_98e7f4854936row11_col5\" class=\"data row11 col5\" >0.042517</td>\n",
       "                        <td id=\"T_b118b66c_432f_11e9_aeb4_98e7f4854936row11_col6\" class=\"data row11 col6\" >-0.0483797</td>\n",
       "                        <td id=\"T_b118b66c_432f_11e9_aeb4_98e7f4854936row11_col7\" class=\"data row11 col7\" >0.0719257</td>\n",
       "                        <td id=\"T_b118b66c_432f_11e9_aeb4_98e7f4854936row11_col8\" class=\"data row11 col8\" >-0.0381222</td>\n",
       "                        <td id=\"T_b118b66c_432f_11e9_aeb4_98e7f4854936row11_col9\" class=\"data row11 col9\" >0.078391</td>\n",
       "                        <td id=\"T_b118b66c_432f_11e9_aeb4_98e7f4854936row11_col10\" class=\"data row11 col10\" >0.0721382</td>\n",
       "                        <td id=\"T_b118b66c_432f_11e9_aeb4_98e7f4854936row11_col11\" class=\"data row11 col11\" >1</td>\n",
       "                        <td id=\"T_b118b66c_432f_11e9_aeb4_98e7f4854936row11_col12\" class=\"data row11 col12\" >0.181147</td>\n",
       "                        <td id=\"T_b118b66c_432f_11e9_aeb4_98e7f4854936row11_col13\" class=\"data row11 col13\" >-0.0357079</td>\n",
       "                        <td id=\"T_b118b66c_432f_11e9_aeb4_98e7f4854936row11_col14\" class=\"data row11 col14\" >0.427185</td>\n",
       "            </tr>\n",
       "            <tr>\n",
       "                        <th id=\"T_b118b66c_432f_11e9_aeb4_98e7f4854936level0_row12\" class=\"row_heading level0 row12\" >is_promoted</th>\n",
       "                        <td id=\"T_b118b66c_432f_11e9_aeb4_98e7f4854936row12_col0\" class=\"data row12 col0\" >0.000130116</td>\n",
       "                        <td id=\"T_b118b66c_432f_11e9_aeb4_98e7f4854936row12_col1\" class=\"data row12 col1\" >0.00884144</td>\n",
       "                        <td id=\"T_b118b66c_432f_11e9_aeb4_98e7f4854936row12_col2\" class=\"data row12 col2\" >0.0280264</td>\n",
       "                        <td id=\"T_b118b66c_432f_11e9_aeb4_98e7f4854936row12_col3\" class=\"data row12 col3\" >0.0111091</td>\n",
       "                        <td id=\"T_b118b66c_432f_11e9_aeb4_98e7f4854936row12_col4\" class=\"data row12 col4\" >0.00222871</td>\n",
       "                        <td id=\"T_b118b66c_432f_11e9_aeb4_98e7f4854936row12_col5\" class=\"data row12 col5\" >-0.0248959</td>\n",
       "                        <td id=\"T_b118b66c_432f_11e9_aeb4_98e7f4854936row12_col6\" class=\"data row12 col6\" >-0.0171659</td>\n",
       "                        <td id=\"T_b118b66c_432f_11e9_aeb4_98e7f4854936row12_col7\" class=\"data row12 col7\" >0.15323</td>\n",
       "                        <td id=\"T_b118b66c_432f_11e9_aeb4_98e7f4854936row12_col8\" class=\"data row12 col8\" >-0.0106699</td>\n",
       "                        <td id=\"T_b118b66c_432f_11e9_aeb4_98e7f4854936row12_col9\" class=\"data row12 col9\" >0.221582</td>\n",
       "                        <td id=\"T_b118b66c_432f_11e9_aeb4_98e7f4854936row12_col10\" class=\"data row12 col10\" >0.195871</td>\n",
       "                        <td id=\"T_b118b66c_432f_11e9_aeb4_98e7f4854936row12_col11\" class=\"data row12 col11\" >0.181147</td>\n",
       "                        <td id=\"T_b118b66c_432f_11e9_aeb4_98e7f4854936row12_col12\" class=\"data row12 col12\" >1</td>\n",
       "                        <td id=\"T_b118b66c_432f_11e9_aeb4_98e7f4854936row12_col13\" class=\"data row12 col13\" >-0.0147612</td>\n",
       "                        <td id=\"T_b118b66c_432f_11e9_aeb4_98e7f4854936row12_col14\" class=\"data row12 col14\" >0.0464279</td>\n",
       "            </tr>\n",
       "            <tr>\n",
       "                        <th id=\"T_b118b66c_432f_11e9_aeb4_98e7f4854936level0_row13\" class=\"row_heading level0 row13\" >joining_age</th>\n",
       "                        <td id=\"T_b118b66c_432f_11e9_aeb4_98e7f4854936row13_col0\" class=\"data row13 col0\" >0.0608573</td>\n",
       "                        <td id=\"T_b118b66c_432f_11e9_aeb4_98e7f4854936row13_col1\" class=\"data row13 col1\" >-0.0737752</td>\n",
       "                        <td id=\"T_b118b66c_432f_11e9_aeb4_98e7f4854936row13_col2\" class=\"data row13 col2\" >0.316102</td>\n",
       "                        <td id=\"T_b118b66c_432f_11e9_aeb4_98e7f4854936row13_col3\" class=\"data row13 col3\" >0.00702044</td>\n",
       "                        <td id=\"T_b118b66c_432f_11e9_aeb4_98e7f4854936row13_col4\" class=\"data row13 col4\" >-0.012878</td>\n",
       "                        <td id=\"T_b118b66c_432f_11e9_aeb4_98e7f4854936row13_col5\" class=\"data row13 col5\" >-0.0649465</td>\n",
       "                        <td id=\"T_b118b66c_432f_11e9_aeb4_98e7f4854936row13_col6\" class=\"data row13 col6\" >0.833896</td>\n",
       "                        <td id=\"T_b118b66c_432f_11e9_aeb4_98e7f4854936row13_col7\" class=\"data row13 col7\" >0.0180467</td>\n",
       "                        <td id=\"T_b118b66c_432f_11e9_aeb4_98e7f4854936row13_col8\" class=\"data row13 col8\" >0.131927</td>\n",
       "                        <td id=\"T_b118b66c_432f_11e9_aeb4_98e7f4854936row13_col9\" class=\"data row13 col9\" >0.023232</td>\n",
       "                        <td id=\"T_b118b66c_432f_11e9_aeb4_98e7f4854936row13_col10\" class=\"data row13 col10\" >0.0184923</td>\n",
       "                        <td id=\"T_b118b66c_432f_11e9_aeb4_98e7f4854936row13_col11\" class=\"data row13 col11\" >-0.0357079</td>\n",
       "                        <td id=\"T_b118b66c_432f_11e9_aeb4_98e7f4854936row13_col12\" class=\"data row13 col12\" >-0.0147612</td>\n",
       "                        <td id=\"T_b118b66c_432f_11e9_aeb4_98e7f4854936row13_col13\" class=\"data row13 col13\" >1</td>\n",
       "                        <td id=\"T_b118b66c_432f_11e9_aeb4_98e7f4854936row13_col14\" class=\"data row13 col14\" >-0.0707715</td>\n",
       "            </tr>\n",
       "            <tr>\n",
       "                        <th id=\"T_b118b66c_432f_11e9_aeb4_98e7f4854936level0_row14\" class=\"row_heading level0 row14\" >training_hours</th>\n",
       "                        <td id=\"T_b118b66c_432f_11e9_aeb4_98e7f4854936row14_col0\" class=\"data row14 col0\" >-0.0968076</td>\n",
       "                        <td id=\"T_b118b66c_432f_11e9_aeb4_98e7f4854936row14_col1\" class=\"data row14 col1\" >0.00467944</td>\n",
       "                        <td id=\"T_b118b66c_432f_11e9_aeb4_98e7f4854936row14_col2\" class=\"data row14 col2\" >-0.0218387</td>\n",
       "                        <td id=\"T_b118b66c_432f_11e9_aeb4_98e7f4854936row14_col3\" class=\"data row14 col3\" >-0.0664722</td>\n",
       "                        <td id=\"T_b118b66c_432f_11e9_aeb4_98e7f4854936row14_col4\" class=\"data row14 col4\" >-0.0096758</td>\n",
       "                        <td id=\"T_b118b66c_432f_11e9_aeb4_98e7f4854936row14_col5\" class=\"data row14 col5\" >0.901878</td>\n",
       "                        <td id=\"T_b118b66c_432f_11e9_aeb4_98e7f4854936row14_col6\" class=\"data row14 col6\" >-0.0907978</td>\n",
       "                        <td id=\"T_b118b66c_432f_11e9_aeb4_98e7f4854936row14_col7\" class=\"data row14 col7\" >-0.012217</td>\n",
       "                        <td id=\"T_b118b66c_432f_11e9_aeb4_98e7f4854936row14_col8\" class=\"data row14 col8\" >-0.0664172</td>\n",
       "                        <td id=\"T_b118b66c_432f_11e9_aeb4_98e7f4854936row14_col9\" class=\"data row14 col9\" >-0.00367623</td>\n",
       "                        <td id=\"T_b118b66c_432f_11e9_aeb4_98e7f4854936row14_col10\" class=\"data row14 col10\" >0.0187065</td>\n",
       "                        <td id=\"T_b118b66c_432f_11e9_aeb4_98e7f4854936row14_col11\" class=\"data row14 col11\" >0.427185</td>\n",
       "                        <td id=\"T_b118b66c_432f_11e9_aeb4_98e7f4854936row14_col12\" class=\"data row14 col12\" >0.0464279</td>\n",
       "                        <td id=\"T_b118b66c_432f_11e9_aeb4_98e7f4854936row14_col13\" class=\"data row14 col13\" >-0.0707715</td>\n",
       "                        <td id=\"T_b118b66c_432f_11e9_aeb4_98e7f4854936row14_col14\" class=\"data row14 col14\" >1</td>\n",
       "            </tr>\n",
       "    </tbody></table>"
      ],
      "text/plain": [
       "<pandas.io.formats.style.Styler at 0x1e98197a860>"
      ]
     },
     "execution_count": 99,
     "metadata": {},
     "output_type": "execute_result"
    }
   ],
   "source": [
    "corr = train.corr()\n",
    "corr.style.background_gradient()"
   ]
  },
  {
   "cell_type": "markdown",
   "metadata": {},
   "source": [
    "The features are selected based on the data visualisation done in the other notebook named as - Datavisualisation\n",
    "\n",
    "from there i have come to an conclusion on the number of features to be selected based on the dependency and relation observed \n",
    "in between the target variable [is_prmoted] and all the features examined\n",
    "\n",
    "The final selected features for model training and evaluation are \n",
    "\n",
    "'education','department','gender','no_of_trainings','age','previous_year_rating','KPIs_met >80%','awards_won?','avg_training_score'"
   ]
  },
  {
   "cell_type": "code",
   "execution_count": 101,
   "metadata": {},
   "outputs": [],
   "source": [
    "X_selected=train[['education',\n",
    "  'department','gender',\n",
    "  'no_of_trainings',\n",
    "  'age',\n",
    "  'previous_year_rating',\n",
    "  'KPIs_met >80%',\n",
    "  'awards_won?',\n",
    "  'avg_training_score']]"
   ]
  },
  {
   "cell_type": "code",
   "execution_count": 102,
   "metadata": {},
   "outputs": [],
   "source": [
    "y=train[['is_promoted']]"
   ]
  },
  {
   "cell_type": "code",
   "execution_count": 103,
   "metadata": {},
   "outputs": [],
   "source": [
    "import warnings\n",
    "warnings.filterwarnings(\"ignore\")"
   ]
  },
  {
   "cell_type": "code",
   "execution_count": 104,
   "metadata": {},
   "outputs": [],
   "source": [
    "scaler = StandardScaler()\n",
    "scaled_data = scaler.fit_transform(X_selected)"
   ]
  },
  {
   "cell_type": "code",
   "execution_count": 105,
   "metadata": {},
   "outputs": [],
   "source": [
    "scaled_data_frame=pd.DataFrame(scaled_data)"
   ]
  },
  {
   "cell_type": "code",
   "execution_count": 106,
   "metadata": {},
   "outputs": [
    {
     "data": {
      "text/html": [
       "<div>\n",
       "<style scoped>\n",
       "    .dataframe tbody tr th:only-of-type {\n",
       "        vertical-align: middle;\n",
       "    }\n",
       "\n",
       "    .dataframe tbody tr th {\n",
       "        vertical-align: top;\n",
       "    }\n",
       "\n",
       "    .dataframe thead th {\n",
       "        text-align: right;\n",
       "    }\n",
       "</style>\n",
       "<table border=\"1\" class=\"dataframe\">\n",
       "  <thead>\n",
       "    <tr style=\"text-align: right;\">\n",
       "      <th></th>\n",
       "      <th>education</th>\n",
       "      <th>department</th>\n",
       "      <th>gender</th>\n",
       "      <th>no_of_trainings</th>\n",
       "      <th>age</th>\n",
       "      <th>previous_year_rating</th>\n",
       "      <th>KPIs_met &gt;80%</th>\n",
       "      <th>awards_won?</th>\n",
       "      <th>avg_training_score</th>\n",
       "    </tr>\n",
       "  </thead>\n",
       "  <tbody>\n",
       "    <tr>\n",
       "      <th>0</th>\n",
       "      <td>-0.548477</td>\n",
       "      <td>0.010855</td>\n",
       "      <td>1.536223</td>\n",
       "      <td>-0.415276</td>\n",
       "      <td>0.025598</td>\n",
       "      <td>-0.250651</td>\n",
       "      <td>-0.736986</td>\n",
       "      <td>-0.154018</td>\n",
       "      <td>0.195435</td>\n",
       "    </tr>\n",
       "    <tr>\n",
       "      <th>1</th>\n",
       "      <td>1.580483</td>\n",
       "      <td>0.808933</td>\n",
       "      <td>-0.650947</td>\n",
       "      <td>-0.415276</td>\n",
       "      <td>0.286691</td>\n",
       "      <td>-1.897069</td>\n",
       "      <td>-0.736986</td>\n",
       "      <td>-0.154018</td>\n",
       "      <td>-1.075931</td>\n",
       "    </tr>\n",
       "    <tr>\n",
       "      <th>2</th>\n",
       "      <td>1.580483</td>\n",
       "      <td>1.207972</td>\n",
       "      <td>-0.650947</td>\n",
       "      <td>-0.415276</td>\n",
       "      <td>0.547785</td>\n",
       "      <td>1.395766</td>\n",
       "      <td>1.356878</td>\n",
       "      <td>-0.154018</td>\n",
       "      <td>1.092871</td>\n",
       "    </tr>\n",
       "    <tr>\n",
       "      <th>3</th>\n",
       "      <td>-0.548477</td>\n",
       "      <td>0.808933</td>\n",
       "      <td>-0.650947</td>\n",
       "      <td>-0.415276</td>\n",
       "      <td>0.156145</td>\n",
       "      <td>-0.250651</td>\n",
       "      <td>-0.736986</td>\n",
       "      <td>-0.154018</td>\n",
       "      <td>-1.150718</td>\n",
       "    </tr>\n",
       "    <tr>\n",
       "      <th>4</th>\n",
       "      <td>-0.548477</td>\n",
       "      <td>-1.984338</td>\n",
       "      <td>-0.650947</td>\n",
       "      <td>-0.415276</td>\n",
       "      <td>-0.888228</td>\n",
       "      <td>-0.250651</td>\n",
       "      <td>1.356878</td>\n",
       "      <td>-0.154018</td>\n",
       "      <td>1.541588</td>\n",
       "    </tr>\n",
       "  </tbody>\n",
       "</table>\n",
       "</div>"
      ],
      "text/plain": [
       "   education  department    gender  no_of_trainings       age  \\\n",
       "0  -0.548477    0.010855  1.536223        -0.415276  0.025598   \n",
       "1   1.580483    0.808933 -0.650947        -0.415276  0.286691   \n",
       "2   1.580483    1.207972 -0.650947        -0.415276  0.547785   \n",
       "3  -0.548477    0.808933 -0.650947        -0.415276  0.156145   \n",
       "4  -0.548477   -1.984338 -0.650947        -0.415276 -0.888228   \n",
       "\n",
       "   previous_year_rating  KPIs_met >80%  awards_won?  avg_training_score  \n",
       "0             -0.250651      -0.736986    -0.154018            0.195435  \n",
       "1             -1.897069      -0.736986    -0.154018           -1.075931  \n",
       "2              1.395766       1.356878    -0.154018            1.092871  \n",
       "3             -0.250651      -0.736986    -0.154018           -1.150718  \n",
       "4             -0.250651       1.356878    -0.154018            1.541588  "
      ]
     },
     "execution_count": 106,
     "metadata": {},
     "output_type": "execute_result"
    }
   ],
   "source": [
    "scaled_data_frame.columns=X_selected.columns\n",
    "X_selected_scaled=scaled_data_frame\n",
    "X_selected_scaled.head()"
   ]
  },
  {
   "cell_type": "code",
   "execution_count": 107,
   "metadata": {},
   "outputs": [],
   "source": [
    "class_weights_1={1:10.75,0:0.093}"
   ]
  },
  {
   "cell_type": "code",
   "execution_count": 108,
   "metadata": {},
   "outputs": [],
   "source": [
    "X_train_1, X_test_1, y_train_1, y_test_1 = train_test_split(X_selected_scaled,y, test_size=0.33, random_state=42)\n",
    "\n",
    "clf_1 = RandomForestClassifier(class_weight=class_weights_1)\n",
    "clf_1.fit(X_train_1,y_train_1) \n",
    "# Predict on training set\n",
    "pred_y_1 = clf_1.predict(X_test_1)"
   ]
  },
  {
   "cell_type": "code",
   "execution_count": 109,
   "metadata": {},
   "outputs": [
    {
     "data": {
      "text/plain": [
       "(<Figure size 432x288 with 1 Axes>,\n",
       " <matplotlib.axes._subplots.AxesSubplot at 0x1e981973c50>)"
      ]
     },
     "execution_count": 109,
     "metadata": {},
     "output_type": "execute_result"
    },
    {
     "data": {
      "image/png": "[encoded data removed]",
      "text/plain": [
       "<Figure size 432x288 with 1 Axes>"
      ]
     },
     "metadata": {
      "needs_background": "light"
     },
     "output_type": "display_data"
    }
   ],
   "source": [
    "from mlxtend.plotting import plot_decision_regions, plot_confusion_matrix\n",
    "plot_confusion_matrix(confusion_matrix(y_test_1,pred_y_1))"
   ]
  },
  {
   "cell_type": "code",
   "execution_count": 110,
   "metadata": {},
   "outputs": [
    {
     "name": "stdout",
     "output_type": "stream",
     "text": [
      "True positive =  15856\n",
      "False positive =  685\n",
      "False negative =  952\n",
      "True negative =  594\n"
     ]
    }
   ],
   "source": [
    "cm1 = confusion_matrix(y_test_1,pred_y_1)\n",
    "print('True positive = ', cm1[0][0])\n",
    "print('False positive = ', cm1[0][1])\n",
    "print('False negative = ', cm1[1][0])\n",
    "print('True negative = ', cm1[1][1])"
   ]
  },
  {
   "cell_type": "code",
   "execution_count": 111,
   "metadata": {},
   "outputs": [
    {
     "name": "stdout",
     "output_type": "stream",
     "text": [
      "0.42053097345132745\n"
     ]
    }
   ],
   "source": [
    "from sklearn import metrics\n",
    "print(metrics.f1_score(y_test_1, pred_y_1))\n"
   ]
  },
  {
   "cell_type": "code",
   "execution_count": 112,
   "metadata": {},
   "outputs": [
    {
     "name": "stdout",
     "output_type": "stream",
     "text": [
      "0.6714025433528182\n"
     ]
    }
   ],
   "source": [
    "print(metrics.roc_auc_score(y_test_1, pred_y_1))"
   ]
  },
  {
   "cell_type": "markdown",
   "metadata": {},
   "source": [
    "The above model have low f score and auc we will try to check for paremeters "
   ]
  },
  {
   "cell_type": "markdown",
   "metadata": {},
   "source": [
    "parameter tuning "
   ]
  },
  {
   "cell_type": "code",
   "execution_count": 113,
   "metadata": {},
   "outputs": [],
   "source": [
    "X_train, X_test, y_train, y_test = train_test_split(X_selected_scaled,y, test_size=0.33, random_state=42)\n"
   ]
  },
  {
   "cell_type": "code",
   "execution_count": 114,
   "metadata": {},
   "outputs": [],
   "source": [
    "import warnings\n",
    "warnings.filterwarnings(\"ignore\")"
   ]
  },
  {
   "cell_type": "code",
   "execution_count": 115,
   "metadata": {},
   "outputs": [
    {
     "data": {
      "image/png": "[encoded data removed]",
      "text/plain": [
       "<Figure size 432x288 with 1 Axes>"
      ]
     },
     "metadata": {
      "needs_background": "light"
     },
     "output_type": "display_data"
    }
   ],
   "source": [
    "n_estimators = [1, 2, 4, 8, 16, 32, 64, 100, 200,300,400]\n",
    "train_results = []\n",
    "test_results = []\n",
    "for estimator in n_estimators:\n",
    "   rf = RandomForestClassifier(n_estimators=estimator, n_jobs=-1)\n",
    "   rf.fit(X_train, y_train)\n",
    "   train_pred = rf.predict(X_train)\n",
    "   false_positive_rate, true_positive_rate, thresholds = metrics.roc_curve(y_train, train_pred)\n",
    "   roc_auc = metrics.auc(false_positive_rate, true_positive_rate)\n",
    "   train_results.append(roc_auc)\n",
    "   y_pred = rf.predict(X_test)\n",
    "   false_positive_rate, true_positive_rate, thresholds = metrics.roc_curve(y_test, y_pred)\n",
    "   roc_auc = metrics.auc(false_positive_rate, true_positive_rate)\n",
    "   test_results.append(roc_auc)\n",
    "from matplotlib.legend_handler import HandlerLine2D\n",
    "line1 = plt.plot(n_estimators, train_results, color=\"blue\", label='Train AUC')\n",
    "line2 = plt.plot(n_estimators, test_results, color=\"red\", label='Test AUC')\n",
    "#plt.legend(handler_map={line1: HandlerLine2D(numpoints=2)})\n",
    "plt.ylabel('AUC score')\n",
    "plt.xlabel('n_estimators')\n",
    "plt.show()"
   ]
  },
  {
   "cell_type": "markdown",
   "metadata": {},
   "source": [
    "we can observe that after 70 trees the test performance is remaining constant thus we can choose the number of trees as 70"
   ]
  },
  {
   "cell_type": "code",
   "execution_count": 116,
   "metadata": {},
   "outputs": [
    {
     "data": {
      "image/png": "[encoded data removed]",
      "text/plain": [
       "<Figure size 432x288 with 1 Axes>"
      ]
     },
     "metadata": {
      "needs_background": "light"
     },
     "output_type": "display_data"
    }
   ],
   "source": [
    "max_depths = np.linspace(1, 45, 45, endpoint=True)\n",
    "train_results = []\n",
    "test_results = []\n",
    "for max_depth in max_depths:\n",
    "   rf = RandomForestClassifier(max_depth=max_depth, n_jobs=-1)\n",
    "   rf.fit(X_train, y_train)\n",
    "   train_pred = rf.predict(X_train)\n",
    "   false_positive_rate, true_positive_rate, thresholds = metrics.roc_curve(y_train, train_pred)\n",
    "   roc_auc = metrics.auc(false_positive_rate, true_positive_rate)\n",
    "   train_results.append(roc_auc)\n",
    "   y_pred = rf.predict(X_test)\n",
    "   false_positive_rate, true_positive_rate, thresholds = metrics.roc_curve(y_test, y_pred)\n",
    "   roc_auc = metrics.auc(false_positive_rate, true_positive_rate)\n",
    "   test_results.append(roc_auc)\n",
    "from matplotlib.legend_handler import HandlerLine2D\n",
    "line1 = plt.plot(max_depths, train_results, color=\"blue\", label=\"Train AUC\")\n",
    "line2 = plt.plot(max_depths, test_results, color=\"red\", label=\"Test AUC\")\n",
    "#plt.legend(handler_map={line1: HandlerLine2D(numpoints=2)})\n",
    "plt.ylabel(\"AUC score\")\n",
    "plt.xlabel(\"Tree depth\")\n",
    "plt.show()"
   ]
  },
  {
   "cell_type": "markdown",
   "metadata": {},
   "source": [
    "we can see that the effect of tree depth is saturated after 20 trees "
   ]
  },
  {
   "cell_type": "code",
   "execution_count": null,
   "metadata": {},
   "outputs": [],
   "source": [
    "\n"
   ]
  },
  {
   "cell_type": "code",
   "execution_count": 117,
   "metadata": {},
   "outputs": [
    {
     "data": {
      "image/png": "[encoded data removed]",
      "text/plain": [
       "<Figure size 432x288 with 1 Axes>"
      ]
     },
     "metadata": {
      "needs_background": "light"
     },
     "output_type": "display_data"
    }
   ],
   "source": [
    "min_samples_splits = np.linspace(0.1, 1.0, 10, endpoint=True)\n",
    "train_results = []\n",
    "test_results = []\n",
    "for min_samples_split in min_samples_splits:\n",
    "   rf = RandomForestClassifier(min_samples_split=min_samples_split)\n",
    "   rf.fit(X_train, y_train)\n",
    "   train_pred = rf.predict(X_train)\n",
    "   false_positive_rate, true_positive_rate, thresholds = metrics.roc_curve(y_train, train_pred)\n",
    "   roc_auc = metrics.auc(false_positive_rate, true_positive_rate)\n",
    "   train_results.append(roc_auc)\n",
    "   y_pred = rf.predict(X_test)\n",
    "   false_positive_rate, true_positive_rate, thresholds = metrics.roc_curve(y_test, y_pred)\n",
    "   roc_auc = metrics.auc(false_positive_rate, true_positive_rate)\n",
    "   test_results.append(roc_auc)\n",
    "from matplotlib.legend_handler import HandlerLine2D\n",
    "line1 = plt.plot(min_samples_splits, train_results, color=\"blue\", label=\"Train AUC\")\n",
    "line2 = plt.plot(min_samples_splits, test_results,color=\"red\", label=\"Test AUC\")\n",
    "#plt.legend(handler_map={line1: HandlerLine2D(numpoints=2)})\n",
    "plt.ylabel(\"AUC score\")\n",
    "plt.xlabel(\"min samples split\")\n",
    "plt.show()\n"
   ]
  },
  {
   "cell_type": "markdown",
   "metadata": {},
   "source": [
    "we can see that the performace is degrading "
   ]
  },
  {
   "cell_type": "markdown",
   "metadata": {},
   "source": [
    "checking the number of features "
   ]
  },
  {
   "cell_type": "code",
   "execution_count": 118,
   "metadata": {},
   "outputs": [
    {
     "data": {
      "image/png": "[encoded data removed]",
      "text/plain": [
       "<Figure size 432x288 with 1 Axes>"
      ]
     },
     "metadata": {
      "needs_background": "light"
     },
     "output_type": "display_data"
    }
   ],
   "source": [
    "max_features = list(range(1,X_train.shape[1]))\n",
    "train_results = []\n",
    "test_results = []\n",
    "for max_feature in max_features:\n",
    "   rf = RandomForestClassifier(max_features=max_feature)\n",
    "   rf.fit(X_train, y_train)\n",
    "   train_pred = rf.predict(X_train)\n",
    "   false_positive_rate, true_positive_rate, thresholds = metrics.roc_curve(y_train, train_pred)\n",
    "   roc_auc = metrics.auc(false_positive_rate, true_positive_rate)\n",
    "   train_results.append(roc_auc)\n",
    "   y_pred = rf.predict(X_test)\n",
    "   false_positive_rate, true_positive_rate, thresholds = metrics.roc_curve(y_test, y_pred)\n",
    "   roc_auc = metrics.auc(false_positive_rate, true_positive_rate)\n",
    "   test_results.append(roc_auc)\n",
    "from matplotlib.legend_handler import HandlerLine2D\n",
    "line1 = plt.plot(max_features, train_results, color=\"blue\", label=\"Train AUC\")\n",
    "line2 = plt.plot(max_features, test_results,color=\"red\", label=\"Test AUC\")\n",
    "\n",
    "plt.ylabel(\"AUC score\")\n",
    "plt.xlabel(\"max features\")\n",
    "plt.show()\n"
   ]
  },
  {
   "cell_type": "code",
   "execution_count": 43,
   "metadata": {},
   "outputs": [],
   "source": [
    "n_estimators=55 \n",
    "min_samples_split=0.3\n",
    "max_depth=20"
   ]
  },
  {
   "cell_type": "code",
   "execution_count": 119,
   "metadata": {},
   "outputs": [],
   "source": [
    "X_train2, X_test2, y_train2, y_test2 = train_test_split(X_selected_scaled,y, test_size=0.33, random_state=100)\n"
   ]
  },
  {
   "cell_type": "code",
   "execution_count": 120,
   "metadata": {},
   "outputs": [],
   "source": [
    "clf2=RandomForestClassifier(n_estimators=55 ,min_samples_split=0.3,max_depth=20)"
   ]
  },
  {
   "cell_type": "code",
   "execution_count": 121,
   "metadata": {},
   "outputs": [
    {
     "data": {
      "text/plain": [
       "RandomForestClassifier(bootstrap=True, class_weight=None, criterion='gini',\n",
       "            max_depth=20, max_features='auto', max_leaf_nodes=None,\n",
       "            min_impurity_decrease=0.0, min_impurity_split=None,\n",
       "            min_samples_leaf=1, min_samples_split=0.3,\n",
       "            min_weight_fraction_leaf=0.0, n_estimators=55, n_jobs=None,\n",
       "            oob_score=False, random_state=None, verbose=0,\n",
       "            warm_start=False)"
      ]
     },
     "execution_count": 121,
     "metadata": {},
     "output_type": "execute_result"
    }
   ],
   "source": [
    "clf2.fit(X_train2, y_train2)"
   ]
  },
  {
   "cell_type": "code",
   "execution_count": 122,
   "metadata": {},
   "outputs": [],
   "source": [
    "pred_2=clf2.predict(X_test2)"
   ]
  },
  {
   "cell_type": "code",
   "execution_count": 123,
   "metadata": {},
   "outputs": [
    {
     "name": "stdout",
     "output_type": "stream",
     "text": [
      "True positive =  16548\n",
      "False positive =  13\n",
      "False negative =  1439\n",
      "True negative =  87\n"
     ]
    }
   ],
   "source": [
    "cm2 = confusion_matrix(y_test2,pred_2)\n",
    "print('True positive = ', cm2[0][0])\n",
    "print('False positive = ', cm2[0][1])\n",
    "print('False negative = ', cm2[1][0])\n",
    "print('True negative = ', cm2[1][1])"
   ]
  },
  {
   "cell_type": "code",
   "execution_count": 126,
   "metadata": {},
   "outputs": [
    {
     "data": {
      "text/plain": [
       "(<Figure size 432x288 with 1 Axes>,\n",
       " <matplotlib.axes._subplots.AxesSubplot at 0x1e9818fbbe0>)"
      ]
     },
     "execution_count": 126,
     "metadata": {},
     "output_type": "execute_result"
    },
    {
     "data": {
      "image/png": "[encoded data removed]",
      "text/plain": [
       "<Figure size 432x288 with 1 Axes>"
      ]
     },
     "metadata": {
      "needs_background": "light"
     },
     "output_type": "display_data"
    }
   ],
   "source": [
    "plot_confusion_matrix(confusion_matrix(y_test2,pred_2))"
   ]
  },
  {
   "cell_type": "code",
   "execution_count": 124,
   "metadata": {},
   "outputs": [
    {
     "name": "stdout",
     "output_type": "stream",
     "text": [
      "0.528113409395647\n"
     ]
    }
   ],
   "source": [
    "print(metrics.roc_auc_score(y_test2, pred_2))"
   ]
  },
  {
   "cell_type": "code",
   "execution_count": 125,
   "metadata": {},
   "outputs": [
    {
     "name": "stdout",
     "output_type": "stream",
     "text": [
      "0.1070110701107011\n"
     ]
    }
   ],
   "source": [
    "print(metrics.f1_score(y_test2, pred_2))\n"
   ]
  },
  {
   "cell_type": "markdown",
   "metadata": {},
   "source": [
    "we can observe as during parameter tuning we are not mentioning the class weight the classifier is over fitting and predicting all as 0 thus f score is very less it is predicting all the '1' as '0' in most of the cases , only 87 '1' are correctly predicted"
   ]
  },
  {
   "cell_type": "markdown",
   "metadata": {},
   "source": [
    "Trying with class weight "
   ]
  },
  {
   "cell_type": "code",
   "execution_count": 127,
   "metadata": {},
   "outputs": [],
   "source": [
    "clf3=RandomForestClassifier(n_estimators=55 ,min_samples_split=0.3,max_depth=20,class_weight=class_weights_1)"
   ]
  },
  {
   "cell_type": "code",
   "execution_count": 128,
   "metadata": {},
   "outputs": [
    {
     "data": {
      "text/plain": [
       "RandomForestClassifier(bootstrap=True, class_weight={1: 10.75, 0: 0.093},\n",
       "            criterion='gini', max_depth=20, max_features='auto',\n",
       "            max_leaf_nodes=None, min_impurity_decrease=0.0,\n",
       "            min_impurity_split=None, min_samples_leaf=1,\n",
       "            min_samples_split=0.3, min_weight_fraction_leaf=0.0,\n",
       "            n_estimators=55, n_jobs=None, oob_score=False,\n",
       "            random_state=None, verbose=0, warm_start=False)"
      ]
     },
     "execution_count": 128,
     "metadata": {},
     "output_type": "execute_result"
    }
   ],
   "source": [
    "clf3.fit(X_train2, y_train2)"
   ]
  },
  {
   "cell_type": "code",
   "execution_count": 129,
   "metadata": {},
   "outputs": [],
   "source": [
    "pred_3=clf3.predict(X_test2)"
   ]
  },
  {
   "cell_type": "code",
   "execution_count": 130,
   "metadata": {},
   "outputs": [
    {
     "name": "stdout",
     "output_type": "stream",
     "text": [
      "True positive =  9\n",
      "False positive =  16552\n",
      "False negative =  0\n",
      "True negative =  1526\n"
     ]
    }
   ],
   "source": [
    "cm3 = confusion_matrix(y_test2,pred_3)\n",
    "print('True positive = ', cm3[0][0])\n",
    "print('False positive = ', cm3[0][1])\n",
    "print('False negative = ', cm3[1][0])\n",
    "print('True negative = ', cm3[1][1])"
   ]
  },
  {
   "cell_type": "code",
   "execution_count": 131,
   "metadata": {},
   "outputs": [
    {
     "data": {
      "text/plain": [
       "(<Figure size 432x288 with 1 Axes>,\n",
       " <matplotlib.axes._subplots.AxesSubplot at 0x1e98064b3c8>)"
      ]
     },
     "execution_count": 131,
     "metadata": {},
     "output_type": "execute_result"
    },
    {
     "data": {
      "image/png": "[encoded data removed]",
      "text/plain": [
       "<Figure size 432x288 with 1 Axes>"
      ]
     },
     "metadata": {
      "needs_background": "light"
     },
     "output_type": "display_data"
    }
   ],
   "source": [
    "plot_confusion_matrix(confusion_matrix(y_test2,pred_3))"
   ]
  },
  {
   "cell_type": "markdown",
   "metadata": {},
   "source": [
    "this time the classifier is over fittin gon the class '1' thus all are predicted as '1' even if thet are '0'\n",
    "which is not good for our scenario as we want people who actuallly deserve to be promoted"
   ]
  },
  {
   "cell_type": "markdown",
   "metadata": {},
   "source": [
    "# XGBOOST with scale parameter"
   ]
  },
  {
   "cell_type": "code",
   "execution_count": 132,
   "metadata": {},
   "outputs": [],
   "source": [
    "X_train, X_test, y_train, y_test = train_test_split(X_selected_scaled,y, test_size=0.33, random_state=1000)\n"
   ]
  },
  {
   "cell_type": "code",
   "execution_count": 133,
   "metadata": {},
   "outputs": [
    {
     "name": "stdout",
     "output_type": "stream",
     "text": [
      "scale_pos_weight = 1: \n",
      " the auc value is  0.6357892057666946\n",
      " the f1 score is  0.42352941176470593\n",
      "scale_pos_weight = 2: \n",
      " the auc value is  0.6473805487827304\n",
      " the f1 score is  0.441747572815534\n",
      "scale_pos_weight = 3: \n",
      " the auc value is  0.6618090875928623\n",
      " the f1 score is  0.45576407506702415\n",
      "scale_pos_weight = 4: \n",
      " the auc value is  0.6801661523954889\n",
      " the f1 score is  0.4553158705701078\n",
      "scale_pos_weight = 5: \n",
      " the auc value is  0.7185727275086702\n",
      " the f1 score is  0.42321000798509445\n",
      "scale_pos_weight = 6: \n",
      " the auc value is  0.7571768017019275\n",
      " the f1 score is  0.39519566059666794\n",
      "scale_pos_weight = 7: \n",
      " the auc value is  0.7753110306987968\n",
      " the f1 score is  0.3888310787374263\n",
      "scale_pos_weight = 8: \n",
      " the auc value is  0.8054334319627909\n",
      " the f1 score is  0.3653556255995615\n",
      "scale_pos_weight = 9: \n",
      " the auc value is  0.8087104279355055\n",
      " the f1 score is  0.35558986234401135\n",
      "scale_pos_weight = 10: \n",
      " the auc value is  0.8069383100686595\n",
      " the f1 score is  0.3461254612546126\n",
      "scale_pos_weight = 11: \n",
      " the auc value is  0.8086892708739192\n",
      " the f1 score is  0.34494477485131686\n",
      "scale_pos_weight = 12: \n",
      " the auc value is  0.8062972292091168\n",
      " the f1 score is  0.34066459478842936\n",
      "scale_pos_weight = 13: \n",
      " the auc value is  0.8105265715974868\n",
      " the f1 score is  0.34341020432548697\n",
      "scale_pos_weight = 14: \n",
      " the auc value is  0.8101603136037796\n",
      " the f1 score is  0.34241522903033905\n",
      "scale_pos_weight = 15: \n",
      " the auc value is  0.805164102369766\n",
      " the f1 score is  0.3372161430756559\n",
      "scale_pos_weight = 16: \n",
      " the auc value is  0.8068651659469949\n",
      " the f1 score is  0.33730994152046784\n",
      "scale_pos_weight = 17: \n",
      " the auc value is  0.8071262755339661\n",
      " the f1 score is  0.33647250319730265\n",
      "scale_pos_weight = 18: \n",
      " the auc value is  0.8066694979578559\n",
      " the f1 score is  0.3354166666666667\n",
      "scale_pos_weight = 19: \n",
      " the auc value is  0.8060015080228056\n",
      " the f1 score is  0.33410085194565975\n",
      "scale_pos_weight = 20: \n",
      " the auc value is  0.8059453412986319\n",
      " the f1 score is  0.33448753462603875\n"
     ]
    }
   ],
   "source": [
    "from xgboost import XGBClassifier\n",
    "auc=[]\n",
    "f1=[]\n",
    "scale_pos_weight = [1,2,3,4,5,6,7,8,9,10,11,12,13,14,15,16,17,18,19,20]\n",
    "for i in scale_pos_weight:\n",
    "    print('scale_pos_weight = {}: '.format(i))\n",
    "    clf_xgb = XGBClassifier(scale_pos_weight=i)\n",
    "    clf_xgb.fit(X_train, y_train)\n",
    "    predict = clf_xgb.predict(X_test)\n",
    "    auc.append(metrics.roc_auc_score(y_test, predict))\n",
    "    f1.append(metrics.f1_score(y_test, predict))\n",
    "    print(\" the auc value is \",metrics.roc_auc_score(y_test, predict))\n",
    "    print(\" the f1 score is \",metrics.f1_score(y_test, predict))"
   ]
  },
  {
   "cell_type": "code",
   "execution_count": 134,
   "metadata": {},
   "outputs": [
    {
     "data": {
      "text/plain": [
       "<matplotlib.legend.Legend at 0x1e9806aa048>"
      ]
     },
     "execution_count": 134,
     "metadata": {},
     "output_type": "execute_result"
    },
    {
     "data": {
      "image/png": "[encoded data removed]",
      "text/plain": [
       "<Figure size 432x288 with 1 Axes>"
      ]
     },
     "metadata": {
      "needs_background": "light"
     },
     "output_type": "display_data"
    }
   ],
   "source": [
    "from matplotlib.legend_handler import HandlerLine2D\n",
    "line1 = plt.plot(scale_pos_weight, auc, color=\"blue\", label=\"Train AUC\")\n",
    "line2 = plt.plot(scale_pos_weight, f1,color=\"red\", label=\"f1 score\")\n",
    "plt.legend(loc='upper left')"
   ]
  },
  {
   "cell_type": "markdown",
   "metadata": {},
   "source": [
    "choosing scale_pos_weight = 4  as the metric for our evaluation is f1 score  "
   ]
  },
  {
   "cell_type": "code",
   "execution_count": null,
   "metadata": {},
   "outputs": [],
   "source": []
  },
  {
   "cell_type": "code",
   "execution_count": 135,
   "metadata": {},
   "outputs": [
    {
     "data": {
      "text/plain": [
       "XGBClassifier(base_score=0.5, booster='gbtree', colsample_bylevel=1,\n",
       "       colsample_bytree=1, gamma=0, learning_rate=0.1, max_delta_step=0,\n",
       "       max_depth=3, min_child_weight=1, missing=None, n_estimators=100,\n",
       "       n_jobs=1, nthread=None, objective='binary:logistic', random_state=0,\n",
       "       reg_alpha=0, reg_lambda=1, scale_pos_weight=4, seed=None,\n",
       "       silent=True, subsample=1)"
      ]
     },
     "execution_count": 135,
     "metadata": {},
     "output_type": "execute_result"
    }
   ],
   "source": [
    "clf_xgb_1 = XGBClassifier(scale_pos_weight=4)\n",
    "clf_xgb_1.fit(X_train, y_train)"
   ]
  },
  {
   "cell_type": "code",
   "execution_count": 136,
   "metadata": {},
   "outputs": [
    {
     "data": {
      "text/plain": [
       "(<Figure size 432x288 with 1 Axes>,\n",
       " <matplotlib.axes._subplots.AxesSubplot at 0x1e980df3390>)"
      ]
     },
     "execution_count": 136,
     "metadata": {},
     "output_type": "execute_result"
    },
    {
     "data": {
      "image/png": "[encoded data removed]",
      "text/plain": [
       "<Figure size 432x288 with 1 Axes>"
      ]
     },
     "metadata": {
      "needs_background": "light"
     },
     "output_type": "display_data"
    }
   ],
   "source": [
    "pred_4=clf_xgb_1.predict(X_test)\n",
    "plot_confusion_matrix(confusion_matrix(y_test,pred_4))"
   ]
  },
  {
   "cell_type": "code",
   "execution_count": 77,
   "metadata": {},
   "outputs": [],
   "source": [
    "scaler = StandardScaler()\n",
    "cols=list(X_train.columns)\n",
    "test_selected=test[cols]\n",
    "scaled_test = scaler.fit_transform(test_selected)\n",
    "test_scaled=pd.DataFrame(scaled_test)\n",
    "test_scaled.columns=cols \n",
    "pred_test_1=clf_xgb_1.predict(test_scaled)\n",
    "# for submissions                          \n",
    "ids=testCopy['employee_id']\n",
    "submission = pd.DataFrame({'employee_id': ids,\n",
    "                           'is_promoted':pred_test_1\n",
    "                           })\n",
    "\n",
    "submission.to_csv(\"xgb_with_scale_pos_weight_4.csv\")"
   ]
  },
  {
   "cell_type": "markdown",
   "metadata": {},
   "source": [
    "we need to make the model more generic thus trying lightGBM with scale_pos_weight "
   ]
  },
  {
   "cell_type": "code",
   "execution_count": 137,
   "metadata": {},
   "outputs": [],
   "source": [
    "import lightgbm as lgb "
   ]
  },
  {
   "cell_type": "code",
   "execution_count": 138,
   "metadata": {},
   "outputs": [],
   "source": [
    "X_train_lgbm, X_test_lgbm, y_train_lgbm, y_test_lgbm = train_test_split(X_selected_scaled,y, test_size=0.33, random_state=333)\n"
   ]
  },
  {
   "cell_type": "code",
   "execution_count": 139,
   "metadata": {},
   "outputs": [
    {
     "name": "stdout",
     "output_type": "stream",
     "text": [
      "scale_pos_weight = 1: \n",
      " the auc value is  0.6653002841662924\n",
      " the f1 score is  0.49029126213592233\n",
      "scale_pos_weight = 2: \n",
      " the auc value is  0.6698751705176775\n",
      " the f1 score is  0.4926990108337258\n",
      "scale_pos_weight = 3: \n",
      " the auc value is  0.6845793141419972\n",
      " the f1 score is  0.49428692340245456\n",
      "scale_pos_weight = 4: \n",
      " the auc value is  0.7124231551568643\n",
      " the f1 score is  0.4904214559386973\n",
      "scale_pos_weight = 5: \n",
      " the auc value is  0.7431588248094718\n",
      " the f1 score is  0.4471606824548001\n",
      "scale_pos_weight = 6: \n",
      " the auc value is  0.7769351891597501\n",
      " the f1 score is  0.4290361935746238\n",
      "scale_pos_weight = 7: \n",
      " the auc value is  0.7935980632294866\n",
      " the f1 score is  0.4083842794759825\n",
      "scale_pos_weight = 8: \n",
      " the auc value is  0.7968821670633642\n",
      " the f1 score is  0.39073482428115014\n",
      "scale_pos_weight = 9: \n",
      " the auc value is  0.8056976077598124\n",
      " the f1 score is  0.3878732480195003\n",
      "scale_pos_weight = 10: \n",
      " the auc value is  0.8096596051429206\n",
      " the f1 score is  0.3818978102189781\n",
      "scale_pos_weight = 11: \n",
      " the auc value is  0.8108850648195924\n",
      " the f1 score is  0.37756264236902054\n",
      "scale_pos_weight = 12: \n",
      " the auc value is  0.812642038390894\n",
      " the f1 score is  0.37265193370165745\n",
      "scale_pos_weight = 13: \n",
      " the auc value is  0.8100539689195355\n",
      " the f1 score is  0.3692729766803841\n",
      "scale_pos_weight = 14: \n",
      " the auc value is  0.814552214313022\n",
      " the f1 score is  0.36859792982927814\n",
      "scale_pos_weight = 15: \n",
      " the auc value is  0.8123076268196011\n",
      " the f1 score is  0.363396276244553\n",
      "scale_pos_weight = 16: \n",
      " the auc value is  0.8125722201292214\n",
      " the f1 score is  0.36289473684210527\n",
      "scale_pos_weight = 17: \n",
      " the auc value is  0.8123841086475586\n",
      " the f1 score is  0.35782993459022705\n",
      "scale_pos_weight = 18: \n",
      " the auc value is  0.8117272401418008\n",
      " the f1 score is  0.35770268533984323\n",
      "scale_pos_weight = 19: \n",
      " the auc value is  0.8163253196821061\n",
      " the f1 score is  0.3585839360487248\n",
      "scale_pos_weight = 20: \n",
      " the auc value is  0.8142710913807665\n",
      " the f1 score is  0.3552317548046728\n"
     ]
    }
   ],
   "source": [
    "from lightgbm import LGBMClassifier\n",
    "auc=[]\n",
    "f1=[]\n",
    "scale_pos_weight = [1,2,3,4,5,6,7,8,9,10,11,12,13,14,15,16,17,18,19,20]\n",
    "for i in scale_pos_weight:\n",
    "    print('scale_pos_weight = {}: '.format(i))\n",
    "    clf_lgb = LGBMClassifier(scale_pos_weight=i)\n",
    "    clf_lgb.fit(X_train_lgbm, y_train_lgbm)\n",
    "    predict = clf_lgb.predict(X_test_lgbm)\n",
    "    auc.append(metrics.roc_auc_score(y_test_lgbm, predict))\n",
    "    f1.append(metrics.f1_score(y_test_lgbm, predict))\n",
    "    print(\" the auc value is \",metrics.roc_auc_score(y_test_lgbm, predict))\n",
    "    print(\" the f1 score is \",metrics.f1_score(y_test_lgbm, predict))"
   ]
  },
  {
   "cell_type": "code",
   "execution_count": 142,
   "metadata": {},
   "outputs": [
    {
     "data": {
      "text/plain": [
       "Text(0, 0.5, 'scores ')"
      ]
     },
     "execution_count": 142,
     "metadata": {},
     "output_type": "execute_result"
    },
    {
     "data": {
      "image/png": "[encoded data removed]",
      "text/plain": [
       "<Figure size 432x288 with 1 Axes>"
      ]
     },
     "metadata": {
      "needs_background": "light"
     },
     "output_type": "display_data"
    }
   ],
   "source": [
    "from matplotlib.legend_handler import HandlerLine2D\n",
    "line1 = plt.plot(scale_pos_weight, auc, color=\"blue\", label=\"Train AUC\")\n",
    "line2 = plt.plot(scale_pos_weight, f1,color=\"red\", label=\"f1 score\")\n",
    "plt.legend(loc='upper left')\n",
    "plt.xlabel('values of scale_pos_weight')\n",
    "plt.ylabel(\"scores \")"
   ]
  },
  {
   "cell_type": "markdown",
   "metadata": {},
   "source": [
    "choosing 2 as scale_pos_weight for lgmboost , we can also observe that the f1 score is increased as compared to the XGboost which maxed out at 0.45 while for lgb we are getting maxed f1 score at 0.4942 at scale pos value of 3."
   ]
  },
  {
   "cell_type": "code",
   "execution_count": 143,
   "metadata": {},
   "outputs": [
    {
     "data": {
      "text/plain": [
       "LGBMClassifier(boosting_type='gbdt', class_weight=None, colsample_bytree=1.0,\n",
       "        importance_type='split', learning_rate=0.1, max_depth=-1,\n",
       "        min_child_samples=20, min_child_weight=0.001, min_split_gain=0.0,\n",
       "        n_estimators=100, n_jobs=-1, num_leaves=31, objective=None,\n",
       "        random_state=None, reg_alpha=0.0, reg_lambda=0.0,\n",
       "        scale_pos_weight=3, silent=True, subsample=1.0,\n",
       "        subsample_for_bin=200000, subsample_freq=0)"
      ]
     },
     "execution_count": 143,
     "metadata": {},
     "output_type": "execute_result"
    }
   ],
   "source": [
    "clf_lgb_1 = LGBMClassifier(scale_pos_weight=3)\n",
    "clf_lgb_1.fit(X_train_lgbm, y_train_lgbm)"
   ]
  },
  {
   "cell_type": "code",
   "execution_count": 145,
   "metadata": {},
   "outputs": [
    {
     "name": "stdout",
     "output_type": "stream",
     "text": [
      "True positive =  16308\n",
      "False positive =  262\n",
      "False negative =  933\n",
      "True negative =  584\n"
     ]
    }
   ],
   "source": [
    "predict_lgbm1=clf_lgb_1.predict(X_test_lgbm)\n",
    "cm4 = confusion_matrix(y_test_lgbm, predict_lgbm1)\n",
    "print('True positive = ', cm4[0][0])\n",
    "print('False positive = ', cm4[0][1])\n",
    "print('False negative = ', cm4[1][0])\n",
    "print('True negative = ', cm4[1][1])"
   ]
  },
  {
   "cell_type": "code",
   "execution_count": 152,
   "metadata": {},
   "outputs": [
    {
     "data": {
      "text/plain": [
       "(<Figure size 432x288 with 1 Axes>,\n",
       " <matplotlib.axes._subplots.AxesSubplot at 0x1e995ff8668>)"
      ]
     },
     "execution_count": 152,
     "metadata": {},
     "output_type": "execute_result"
    },
    {
     "data": {
      "image/png": "[encoded data removed]",
      "text/plain": [
       "<Figure size 432x288 with 1 Axes>"
      ]
     },
     "metadata": {
      "needs_background": "light"
     },
     "output_type": "display_data"
    }
   ],
   "source": [
    "plot_confusion_matrix(confusion_matrix(y_test_lgbm, predict_lgbm1))"
   ]
  },
  {
   "cell_type": "code",
   "execution_count": 155,
   "metadata": {},
   "outputs": [],
   "source": [
    "scaler = StandardScaler()\n",
    "cols=list(X_train.columns)\n",
    "test_selected=test[cols]\n",
    "scaled_test = scaler.fit_transform(test_selected)\n",
    "test_scaled=pd.DataFrame(scaled_test)\n",
    "test_scaled.columns=cols \n",
    "pred_test_2=clf_lgb_1.predict(test_scaled)\n",
    "# for submissions                          \n",
    "ids=testCopy['employee_id']\n",
    "submission = pd.DataFrame({'employee_id': ids,\n",
    "                           'is_promoted':pred_test_2\n",
    "                           })\n",
    "\n",
    "submission.to_csv(\"lgb_with_scale_pos_weight_3.csv\")"
   ]
  },
  {
   "cell_type": "markdown",
   "metadata": {},
   "source": [
    "we can see that the contest requires less false positives ie not to predict someone as promoted when he/ she is not eligible\n"
   ]
  },
  {
   "cell_type": "code",
   "execution_count": null,
   "metadata": {},
   "outputs": [],
   "source": []
  }
 ],
 "metadata": {
  "kernelspec": {
   "display_name": "Python 3",
   "language": "python",
   "name": "python3"
  },
  "language_info": {
   "codemirror_mode": {
    "name": "ipython",
    "version": 3
   },
   "file_extension": ".py",
   "mimetype": "text/x-python",
   "name": "python",
   "nbconvert_exporter": "python",
   "pygments_lexer": "ipython3",
   "version": "3.7.1"
  }
 },
 "nbformat": 4,
 "nbformat_minor": 2
}
