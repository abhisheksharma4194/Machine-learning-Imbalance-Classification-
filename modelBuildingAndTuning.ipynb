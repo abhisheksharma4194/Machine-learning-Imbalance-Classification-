{
 "cells": [
  {
   "cell_type": "code",
   "execution_count": 40,
   "metadata": {},
   "outputs": [],
   "source": [
    "import matplotlib.pyplot as plt\n",
    "import pandas as pd\n",
    "import numpy as np\n",
    "import seaborn as sns\n",
    "from sklearn import datasets, linear_model, svm\n",
    "from sklearn.model_selection import train_test_split\n",
    "from sklearn.metrics import accuracy_score\n",
    "from sklearn import preprocessing\n",
    "from sklearn.preprocessing import StandardScaler\n",
    "from sklearn.metrics import mean_squared_error\n",
    "import math\n",
    "from xgboost import XGBRegressor\n",
    "from xgboost import plot_importance\n",
    "from sklearn.feature_selection import SelectFromModel\n",
    "from sklearn.utils import shuffle\n",
    "from sklearn.model_selection import GridSearchCV\n",
    "from sklearn.preprocessing import LabelEncoder\n",
    "from sklearn.ensemble import RandomForestClassifier\n",
    "from sklearn.model_selection import cross_val_score\n",
    "from imblearn.over_sampling import SMOTE\n",
    "from sklearn.metrics import confusion_matrix\n",
    "from sklearn.metrics import f1_score"
   ]
  },
  {
   "cell_type": "code",
   "execution_count": 41,
   "metadata": {},
   "outputs": [],
   "source": [
    "train=pd.read_csv(\"train.csv\")\n",
    "test=pd.read_csv(\"test.csv\")\n",
    "trainCopy=train.copy()\n",
    "testCopy=test.copy()\n",
    "train=shuffle(train)"
   ]
  },
  {
   "cell_type": "code",
   "execution_count": 42,
   "metadata": {},
   "outputs": [
    {
     "data": {
      "text/html": [
       "<div>\n",
       "<style scoped>\n",
       "    .dataframe tbody tr th:only-of-type {\n",
       "        vertical-align: middle;\n",
       "    }\n",
       "\n",
       "    .dataframe tbody tr th {\n",
       "        vertical-align: top;\n",
       "    }\n",
       "\n",
       "    .dataframe thead th {\n",
       "        text-align: right;\n",
       "    }\n",
       "</style>\n",
       "<table border=\"1\" class=\"dataframe\">\n",
       "  <thead>\n",
       "    <tr style=\"text-align: right;\">\n",
       "      <th></th>\n",
       "      <th>employee_id</th>\n",
       "      <th>department</th>\n",
       "      <th>region</th>\n",
       "      <th>education</th>\n",
       "      <th>gender</th>\n",
       "      <th>recruitment_channel</th>\n",
       "      <th>no_of_trainings</th>\n",
       "      <th>age</th>\n",
       "      <th>previous_year_rating</th>\n",
       "      <th>length_of_service</th>\n",
       "      <th>KPIs_met &gt;80%</th>\n",
       "      <th>awards_won?</th>\n",
       "      <th>avg_training_score</th>\n",
       "      <th>is_promoted</th>\n",
       "    </tr>\n",
       "  </thead>\n",
       "  <tbody>\n",
       "    <tr>\n",
       "      <th>16419</th>\n",
       "      <td>44918</td>\n",
       "      <td>Sales &amp; Marketing</td>\n",
       "      <td>region_15</td>\n",
       "      <td>Bachelor's</td>\n",
       "      <td>m</td>\n",
       "      <td>other</td>\n",
       "      <td>2</td>\n",
       "      <td>46</td>\n",
       "      <td>3.0</td>\n",
       "      <td>4</td>\n",
       "      <td>1</td>\n",
       "      <td>0</td>\n",
       "      <td>54</td>\n",
       "      <td>0</td>\n",
       "    </tr>\n",
       "    <tr>\n",
       "      <th>30613</th>\n",
       "      <td>8697</td>\n",
       "      <td>Sales &amp; Marketing</td>\n",
       "      <td>region_22</td>\n",
       "      <td>Master's &amp; above</td>\n",
       "      <td>m</td>\n",
       "      <td>sourcing</td>\n",
       "      <td>1</td>\n",
       "      <td>56</td>\n",
       "      <td>5.0</td>\n",
       "      <td>11</td>\n",
       "      <td>0</td>\n",
       "      <td>0</td>\n",
       "      <td>49</td>\n",
       "      <td>0</td>\n",
       "    </tr>\n",
       "    <tr>\n",
       "      <th>40061</th>\n",
       "      <td>56471</td>\n",
       "      <td>Analytics</td>\n",
       "      <td>region_22</td>\n",
       "      <td>Bachelor's</td>\n",
       "      <td>m</td>\n",
       "      <td>other</td>\n",
       "      <td>2</td>\n",
       "      <td>29</td>\n",
       "      <td>4.0</td>\n",
       "      <td>2</td>\n",
       "      <td>1</td>\n",
       "      <td>0</td>\n",
       "      <td>87</td>\n",
       "      <td>0</td>\n",
       "    </tr>\n",
       "    <tr>\n",
       "      <th>3187</th>\n",
       "      <td>3631</td>\n",
       "      <td>Sales &amp; Marketing</td>\n",
       "      <td>region_4</td>\n",
       "      <td>Master's &amp; above</td>\n",
       "      <td>m</td>\n",
       "      <td>sourcing</td>\n",
       "      <td>2</td>\n",
       "      <td>40</td>\n",
       "      <td>1.0</td>\n",
       "      <td>3</td>\n",
       "      <td>0</td>\n",
       "      <td>0</td>\n",
       "      <td>51</td>\n",
       "      <td>0</td>\n",
       "    </tr>\n",
       "    <tr>\n",
       "      <th>40450</th>\n",
       "      <td>63651</td>\n",
       "      <td>Procurement</td>\n",
       "      <td>region_9</td>\n",
       "      <td>Bachelor's</td>\n",
       "      <td>m</td>\n",
       "      <td>other</td>\n",
       "      <td>1</td>\n",
       "      <td>31</td>\n",
       "      <td>4.0</td>\n",
       "      <td>2</td>\n",
       "      <td>1</td>\n",
       "      <td>0</td>\n",
       "      <td>69</td>\n",
       "      <td>0</td>\n",
       "    </tr>\n",
       "  </tbody>\n",
       "</table>\n",
       "</div>"
      ],
      "text/plain": [
       "       employee_id         department     region         education gender  \\\n",
       "16419        44918  Sales & Marketing  region_15        Bachelor's      m   \n",
       "30613         8697  Sales & Marketing  region_22  Master's & above      m   \n",
       "40061        56471          Analytics  region_22        Bachelor's      m   \n",
       "3187          3631  Sales & Marketing   region_4  Master's & above      m   \n",
       "40450        63651        Procurement   region_9        Bachelor's      m   \n",
       "\n",
       "      recruitment_channel  no_of_trainings  age  previous_year_rating  \\\n",
       "16419               other                2   46                   3.0   \n",
       "30613            sourcing                1   56                   5.0   \n",
       "40061               other                2   29                   4.0   \n",
       "3187             sourcing                2   40                   1.0   \n",
       "40450               other                1   31                   4.0   \n",
       "\n",
       "       length_of_service  KPIs_met >80%  awards_won?  avg_training_score  \\\n",
       "16419                  4              1            0                  54   \n",
       "30613                 11              0            0                  49   \n",
       "40061                  2              1            0                  87   \n",
       "3187                   3              0            0                  51   \n",
       "40450                  2              1            0                  69   \n",
       "\n",
       "       is_promoted  \n",
       "16419            0  \n",
       "30613            0  \n",
       "40061            0  \n",
       "3187             0  \n",
       "40450            0  "
      ]
     },
     "execution_count": 42,
     "metadata": {},
     "output_type": "execute_result"
    }
   ],
   "source": [
    "train.head()"
   ]
  },
  {
   "cell_type": "code",
   "execution_count": 43,
   "metadata": {},
   "outputs": [
    {
     "data": {
      "text/plain": [
       "employee_id             54808\n",
       "department                  9\n",
       "region                     34\n",
       "education                   3\n",
       "gender                      2\n",
       "recruitment_channel         3\n",
       "no_of_trainings            10\n",
       "age                        41\n",
       "previous_year_rating        5\n",
       "length_of_service          35\n",
       "KPIs_met >80%               2\n",
       "awards_won?                 2\n",
       "avg_training_score         61\n",
       "is_promoted                 2\n",
       "dtype: int64"
      ]
     },
     "execution_count": 43,
     "metadata": {},
     "output_type": "execute_result"
    }
   ],
   "source": [
    "train.nunique()"
   ]
  },
  {
   "cell_type": "code",
   "execution_count": 44,
   "metadata": {},
   "outputs": [
    {
     "data": {
      "text/plain": [
       "((54808, 13), (23490, 12))"
      ]
     },
     "execution_count": 44,
     "metadata": {},
     "output_type": "execute_result"
    }
   ],
   "source": [
    "train.drop(['employee_id'],axis=1,inplace=True)\n",
    "test.drop(['employee_id'],axis=1,inplace=True)\n",
    "train.shape,test.shape"
   ]
  },
  {
   "cell_type": "code",
   "execution_count": 45,
   "metadata": {},
   "outputs": [
    {
     "data": {
      "text/plain": [
       "0    50140\n",
       "1     4668\n",
       "Name: is_promoted, dtype: int64"
      ]
     },
     "execution_count": 45,
     "metadata": {},
     "output_type": "execute_result"
    }
   ],
   "source": [
    "train.is_promoted.value_counts()"
   ]
  },
  {
   "cell_type": "code",
   "execution_count": 46,
   "metadata": {},
   "outputs": [
    {
     "data": {
      "text/plain": [
       "<matplotlib.axes._subplots.AxesSubplot at 0x26e76707780>"
      ]
     },
     "execution_count": 46,
     "metadata": {},
     "output_type": "execute_result"
    },
    {
     "data": {
      "image/png": "[encoded data removed]",
      "text/plain": [
       "<Figure size 432x288 with 1 Axes>"
      ]
     },
     "metadata": {
      "needs_background": "light"
     },
     "output_type": "display_data"
    }
   ],
   "source": [
    "train.is_promoted.hist()"
   ]
  },
  {
   "cell_type": "markdown",
   "metadata": {},
   "source": [
    "Encoding data "
   ]
  },
  {
   "cell_type": "code",
   "execution_count": 47,
   "metadata": {},
   "outputs": [],
   "source": [
    "\n",
    "labels = train['recruitment_channel'].astype('category').cat.categories.tolist()\n",
    "recChannelMap = {'recruitment_channel' : {k: v for k,v in zip(labels,list(range(1,len(labels)+1)))}}\n",
    "\n",
    "labels = train['department'].astype('category').cat.categories.tolist()\n",
    "departmentMap = {'department' : {k: v for k,v in zip(labels,list(range(1,len(labels)+1)))}}\n",
    "\n",
    "labels = train['region'].astype('category').cat.categories.tolist()\n",
    "regionMap = {'region' : {k: v for k,v in zip(labels,list(range(1,len(labels)+1)))}}"
   ]
  },
  {
   "cell_type": "code",
   "execution_count": 48,
   "metadata": {},
   "outputs": [],
   "source": [
    "train.replace(departmentMap, inplace=True)\n",
    "train.replace(regionMap, inplace=True)\n",
    "train.replace(recChannelMap, inplace=True)\n",
    "\n",
    "\n",
    "test.replace(departmentMap, inplace=True)\n",
    "test.replace(regionMap, inplace=True)\n",
    "test.replace(recChannelMap, inplace=True)"
   ]
  },
  {
   "cell_type": "code",
   "execution_count": 49,
   "metadata": {},
   "outputs": [],
   "source": [
    "train['previous_year_rating']=train['previous_year_rating'].fillna(train.previous_year_rating.mode()[0])\n",
    "train['education'] = train['education'].fillna(train['education'].mode()[0])\n",
    "\n",
    "test['previous_year_rating']=test['previous_year_rating'].fillna(test.previous_year_rating.mode()[0])\n",
    "test['education'] = test['education'].fillna(test['education'].mode()[0])"
   ]
  },
  {
   "cell_type": "code",
   "execution_count": 50,
   "metadata": {},
   "outputs": [],
   "source": [
    "\n",
    "education_mapper = {\"Master's & above\":3, \"Bachelor's\":2,\"Below Secondary\":1}\n",
    "gender_mapper = {\"m\":1, \"f\":2}"
   ]
  },
  {
   "cell_type": "code",
   "execution_count": 51,
   "metadata": {},
   "outputs": [],
   "source": [
    "train['education_scaled'] = train['education'].replace(education_mapper)\n",
    "test['education_scaled'] = test['education'].replace(education_mapper)\n",
    "train['education']=train['education_scaled']\n",
    "train.drop(['education_scaled'],axis=1,inplace=True)\n",
    "train['gender'] = train['gender'].replace(gender_mapper)\n",
    "test['gender'] = test['gender'].replace(gender_mapper)\n",
    "test['education']=test['education_scaled']\n",
    "test.drop(['education_scaled'],axis=1,inplace=True)"
   ]
  },
  {
   "cell_type": "code",
   "execution_count": 52,
   "metadata": {},
   "outputs": [
    {
     "data": {
      "text/html": [
       "<div>\n",
       "<style scoped>\n",
       "    .dataframe tbody tr th:only-of-type {\n",
       "        vertical-align: middle;\n",
       "    }\n",
       "\n",
       "    .dataframe tbody tr th {\n",
       "        vertical-align: top;\n",
       "    }\n",
       "\n",
       "    .dataframe thead th {\n",
       "        text-align: right;\n",
       "    }\n",
       "</style>\n",
       "<table border=\"1\" class=\"dataframe\">\n",
       "  <thead>\n",
       "    <tr style=\"text-align: right;\">\n",
       "      <th></th>\n",
       "      <th>department</th>\n",
       "      <th>region</th>\n",
       "      <th>education</th>\n",
       "      <th>gender</th>\n",
       "      <th>recruitment_channel</th>\n",
       "      <th>no_of_trainings</th>\n",
       "      <th>age</th>\n",
       "      <th>previous_year_rating</th>\n",
       "      <th>length_of_service</th>\n",
       "      <th>KPIs_met &gt;80%</th>\n",
       "      <th>awards_won?</th>\n",
       "      <th>avg_training_score</th>\n",
       "      <th>is_promoted</th>\n",
       "    </tr>\n",
       "  </thead>\n",
       "  <tbody>\n",
       "    <tr>\n",
       "      <th>16419</th>\n",
       "      <td>8</td>\n",
       "      <td>7</td>\n",
       "      <td>2</td>\n",
       "      <td>1</td>\n",
       "      <td>1</td>\n",
       "      <td>2</td>\n",
       "      <td>46</td>\n",
       "      <td>3.0</td>\n",
       "      <td>4</td>\n",
       "      <td>1</td>\n",
       "      <td>0</td>\n",
       "      <td>54</td>\n",
       "      <td>0</td>\n",
       "    </tr>\n",
       "    <tr>\n",
       "      <th>30613</th>\n",
       "      <td>8</td>\n",
       "      <td>15</td>\n",
       "      <td>3</td>\n",
       "      <td>1</td>\n",
       "      <td>3</td>\n",
       "      <td>1</td>\n",
       "      <td>56</td>\n",
       "      <td>5.0</td>\n",
       "      <td>11</td>\n",
       "      <td>0</td>\n",
       "      <td>0</td>\n",
       "      <td>49</td>\n",
       "      <td>0</td>\n",
       "    </tr>\n",
       "    <tr>\n",
       "      <th>40061</th>\n",
       "      <td>1</td>\n",
       "      <td>15</td>\n",
       "      <td>2</td>\n",
       "      <td>1</td>\n",
       "      <td>1</td>\n",
       "      <td>2</td>\n",
       "      <td>29</td>\n",
       "      <td>4.0</td>\n",
       "      <td>2</td>\n",
       "      <td>1</td>\n",
       "      <td>0</td>\n",
       "      <td>87</td>\n",
       "      <td>0</td>\n",
       "    </tr>\n",
       "    <tr>\n",
       "      <th>3187</th>\n",
       "      <td>8</td>\n",
       "      <td>29</td>\n",
       "      <td>3</td>\n",
       "      <td>1</td>\n",
       "      <td>3</td>\n",
       "      <td>2</td>\n",
       "      <td>40</td>\n",
       "      <td>1.0</td>\n",
       "      <td>3</td>\n",
       "      <td>0</td>\n",
       "      <td>0</td>\n",
       "      <td>51</td>\n",
       "      <td>0</td>\n",
       "    </tr>\n",
       "    <tr>\n",
       "      <th>40450</th>\n",
       "      <td>6</td>\n",
       "      <td>34</td>\n",
       "      <td>2</td>\n",
       "      <td>1</td>\n",
       "      <td>1</td>\n",
       "      <td>1</td>\n",
       "      <td>31</td>\n",
       "      <td>4.0</td>\n",
       "      <td>2</td>\n",
       "      <td>1</td>\n",
       "      <td>0</td>\n",
       "      <td>69</td>\n",
       "      <td>0</td>\n",
       "    </tr>\n",
       "  </tbody>\n",
       "</table>\n",
       "</div>"
      ],
      "text/plain": [
       "       department  region  education  gender  recruitment_channel  \\\n",
       "16419           8       7          2       1                    1   \n",
       "30613           8      15          3       1                    3   \n",
       "40061           1      15          2       1                    1   \n",
       "3187            8      29          3       1                    3   \n",
       "40450           6      34          2       1                    1   \n",
       "\n",
       "       no_of_trainings  age  previous_year_rating  length_of_service  \\\n",
       "16419                2   46                   3.0                  4   \n",
       "30613                1   56                   5.0                 11   \n",
       "40061                2   29                   4.0                  2   \n",
       "3187                 2   40                   1.0                  3   \n",
       "40450                1   31                   4.0                  2   \n",
       "\n",
       "       KPIs_met >80%  awards_won?  avg_training_score  is_promoted  \n",
       "16419              1            0                  54            0  \n",
       "30613              0            0                  49            0  \n",
       "40061              1            0                  87            0  \n",
       "3187               0            0                  51            0  \n",
       "40450              1            0                  69            0  "
      ]
     },
     "execution_count": 52,
     "metadata": {},
     "output_type": "execute_result"
    }
   ],
   "source": [
    "train.head()"
   ]
  },
  {
   "cell_type": "code",
   "execution_count": 53,
   "metadata": {},
   "outputs": [],
   "source": [
    "train['joining_age']=train['age']-train['length_of_service']\n",
    "test['joining_age']=test['age']-test['length_of_service']\n",
    "\n",
    "train['training_hours']=train['no_of_trainings']*train['avg_training_score']\n",
    "test['training_hours']=test['no_of_trainings']*test['avg_training_score']"
   ]
  },
  {
   "cell_type": "code",
   "execution_count": 54,
   "metadata": {},
   "outputs": [
    {
     "data": {
      "text/html": [
       "<div>\n",
       "<style scoped>\n",
       "    .dataframe tbody tr th:only-of-type {\n",
       "        vertical-align: middle;\n",
       "    }\n",
       "\n",
       "    .dataframe tbody tr th {\n",
       "        vertical-align: top;\n",
       "    }\n",
       "\n",
       "    .dataframe thead th {\n",
       "        text-align: right;\n",
       "    }\n",
       "</style>\n",
       "<table border=\"1\" class=\"dataframe\">\n",
       "  <thead>\n",
       "    <tr style=\"text-align: right;\">\n",
       "      <th></th>\n",
       "      <th>department</th>\n",
       "      <th>region</th>\n",
       "      <th>education</th>\n",
       "      <th>gender</th>\n",
       "      <th>recruitment_channel</th>\n",
       "      <th>no_of_trainings</th>\n",
       "      <th>age</th>\n",
       "      <th>previous_year_rating</th>\n",
       "      <th>length_of_service</th>\n",
       "      <th>KPIs_met &gt;80%</th>\n",
       "      <th>awards_won?</th>\n",
       "      <th>avg_training_score</th>\n",
       "      <th>is_promoted</th>\n",
       "      <th>joining_age</th>\n",
       "      <th>training_hours</th>\n",
       "    </tr>\n",
       "  </thead>\n",
       "  <tbody>\n",
       "    <tr>\n",
       "      <th>count</th>\n",
       "      <td>54808.000000</td>\n",
       "      <td>54808.000000</td>\n",
       "      <td>54808.000000</td>\n",
       "      <td>54808.000000</td>\n",
       "      <td>54808.000000</td>\n",
       "      <td>54808.000000</td>\n",
       "      <td>54808.000000</td>\n",
       "      <td>54808.000000</td>\n",
       "      <td>54808.000000</td>\n",
       "      <td>54808.000000</td>\n",
       "      <td>54808.000000</td>\n",
       "      <td>54808.000000</td>\n",
       "      <td>54808.000000</td>\n",
       "      <td>54808.000000</td>\n",
       "      <td>54808.000000</td>\n",
       "    </tr>\n",
       "    <tr>\n",
       "      <th>mean</th>\n",
       "      <td>5.972796</td>\n",
       "      <td>16.428970</td>\n",
       "      <td>2.257627</td>\n",
       "      <td>1.297621</td>\n",
       "      <td>1.868158</td>\n",
       "      <td>1.253011</td>\n",
       "      <td>34.803915</td>\n",
       "      <td>3.304481</td>\n",
       "      <td>5.865512</td>\n",
       "      <td>0.351974</td>\n",
       "      <td>0.023172</td>\n",
       "      <td>63.386750</td>\n",
       "      <td>0.085170</td>\n",
       "      <td>28.938403</td>\n",
       "      <td>79.770636</td>\n",
       "    </tr>\n",
       "    <tr>\n",
       "      <th>std</th>\n",
       "      <td>2.506046</td>\n",
       "      <td>8.764954</td>\n",
       "      <td>0.469717</td>\n",
       "      <td>0.457216</td>\n",
       "      <td>0.980713</td>\n",
       "      <td>0.609264</td>\n",
       "      <td>7.660169</td>\n",
       "      <td>1.214770</td>\n",
       "      <td>4.265094</td>\n",
       "      <td>0.477590</td>\n",
       "      <td>0.150450</td>\n",
       "      <td>13.371559</td>\n",
       "      <td>0.279137</td>\n",
       "      <td>5.825101</td>\n",
       "      <td>43.879135</td>\n",
       "    </tr>\n",
       "    <tr>\n",
       "      <th>min</th>\n",
       "      <td>1.000000</td>\n",
       "      <td>1.000000</td>\n",
       "      <td>1.000000</td>\n",
       "      <td>1.000000</td>\n",
       "      <td>1.000000</td>\n",
       "      <td>1.000000</td>\n",
       "      <td>20.000000</td>\n",
       "      <td>1.000000</td>\n",
       "      <td>1.000000</td>\n",
       "      <td>0.000000</td>\n",
       "      <td>0.000000</td>\n",
       "      <td>39.000000</td>\n",
       "      <td>0.000000</td>\n",
       "      <td>17.000000</td>\n",
       "      <td>39.000000</td>\n",
       "    </tr>\n",
       "    <tr>\n",
       "      <th>25%</th>\n",
       "      <td>5.000000</td>\n",
       "      <td>12.000000</td>\n",
       "      <td>2.000000</td>\n",
       "      <td>1.000000</td>\n",
       "      <td>1.000000</td>\n",
       "      <td>1.000000</td>\n",
       "      <td>29.000000</td>\n",
       "      <td>3.000000</td>\n",
       "      <td>3.000000</td>\n",
       "      <td>0.000000</td>\n",
       "      <td>0.000000</td>\n",
       "      <td>51.000000</td>\n",
       "      <td>0.000000</td>\n",
       "      <td>25.000000</td>\n",
       "      <td>53.000000</td>\n",
       "    </tr>\n",
       "    <tr>\n",
       "      <th>50%</th>\n",
       "      <td>6.000000</td>\n",
       "      <td>15.000000</td>\n",
       "      <td>2.000000</td>\n",
       "      <td>1.000000</td>\n",
       "      <td>1.000000</td>\n",
       "      <td>1.000000</td>\n",
       "      <td>33.000000</td>\n",
       "      <td>3.000000</td>\n",
       "      <td>5.000000</td>\n",
       "      <td>0.000000</td>\n",
       "      <td>0.000000</td>\n",
       "      <td>60.000000</td>\n",
       "      <td>0.000000</td>\n",
       "      <td>27.000000</td>\n",
       "      <td>64.000000</td>\n",
       "    </tr>\n",
       "    <tr>\n",
       "      <th>75%</th>\n",
       "      <td>8.000000</td>\n",
       "      <td>22.000000</td>\n",
       "      <td>3.000000</td>\n",
       "      <td>2.000000</td>\n",
       "      <td>3.000000</td>\n",
       "      <td>1.000000</td>\n",
       "      <td>39.000000</td>\n",
       "      <td>4.000000</td>\n",
       "      <td>7.000000</td>\n",
       "      <td>1.000000</td>\n",
       "      <td>0.000000</td>\n",
       "      <td>76.000000</td>\n",
       "      <td>0.000000</td>\n",
       "      <td>31.000000</td>\n",
       "      <td>84.000000</td>\n",
       "    </tr>\n",
       "    <tr>\n",
       "      <th>max</th>\n",
       "      <td>9.000000</td>\n",
       "      <td>34.000000</td>\n",
       "      <td>3.000000</td>\n",
       "      <td>2.000000</td>\n",
       "      <td>3.000000</td>\n",
       "      <td>10.000000</td>\n",
       "      <td>60.000000</td>\n",
       "      <td>5.000000</td>\n",
       "      <td>37.000000</td>\n",
       "      <td>1.000000</td>\n",
       "      <td>1.000000</td>\n",
       "      <td>99.000000</td>\n",
       "      <td>1.000000</td>\n",
       "      <td>58.000000</td>\n",
       "      <td>710.000000</td>\n",
       "    </tr>\n",
       "  </tbody>\n",
       "</table>\n",
       "</div>"
      ],
      "text/plain": [
       "         department        region     education        gender  \\\n",
       "count  54808.000000  54808.000000  54808.000000  54808.000000   \n",
       "mean       5.972796     16.428970      2.257627      1.297621   \n",
       "std        2.506046      8.764954      0.469717      0.457216   \n",
       "min        1.000000      1.000000      1.000000      1.000000   \n",
       "25%        5.000000     12.000000      2.000000      1.000000   \n",
       "50%        6.000000     15.000000      2.000000      1.000000   \n",
       "75%        8.000000     22.000000      3.000000      2.000000   \n",
       "max        9.000000     34.000000      3.000000      2.000000   \n",
       "\n",
       "       recruitment_channel  no_of_trainings           age  \\\n",
       "count         54808.000000     54808.000000  54808.000000   \n",
       "mean              1.868158         1.253011     34.803915   \n",
       "std               0.980713         0.609264      7.660169   \n",
       "min               1.000000         1.000000     20.000000   \n",
       "25%               1.000000         1.000000     29.000000   \n",
       "50%               1.000000         1.000000     33.000000   \n",
       "75%               3.000000         1.000000     39.000000   \n",
       "max               3.000000        10.000000     60.000000   \n",
       "\n",
       "       previous_year_rating  length_of_service  KPIs_met >80%   awards_won?  \\\n",
       "count          54808.000000       54808.000000   54808.000000  54808.000000   \n",
       "mean               3.304481           5.865512       0.351974      0.023172   \n",
       "std                1.214770           4.265094       0.477590      0.150450   \n",
       "min                1.000000           1.000000       0.000000      0.000000   \n",
       "25%                3.000000           3.000000       0.000000      0.000000   \n",
       "50%                3.000000           5.000000       0.000000      0.000000   \n",
       "75%                4.000000           7.000000       1.000000      0.000000   \n",
       "max                5.000000          37.000000       1.000000      1.000000   \n",
       "\n",
       "       avg_training_score   is_promoted   joining_age  training_hours  \n",
       "count        54808.000000  54808.000000  54808.000000    54808.000000  \n",
       "mean            63.386750      0.085170     28.938403       79.770636  \n",
       "std             13.371559      0.279137      5.825101       43.879135  \n",
       "min             39.000000      0.000000     17.000000       39.000000  \n",
       "25%             51.000000      0.000000     25.000000       53.000000  \n",
       "50%             60.000000      0.000000     27.000000       64.000000  \n",
       "75%             76.000000      0.000000     31.000000       84.000000  \n",
       "max             99.000000      1.000000     58.000000      710.000000  "
      ]
     },
     "execution_count": 54,
     "metadata": {},
     "output_type": "execute_result"
    }
   ],
   "source": [
    "train.describe()"
   ]
  },
  {
   "cell_type": "code",
   "execution_count": 55,
   "metadata": {},
   "outputs": [],
   "source": [
    "X_selected=train[['education',\n",
    "  'department','gender',\n",
    "  'no_of_trainings',\n",
    "  'age',\n",
    "  'previous_year_rating',\n",
    "  'KPIs_met >80%',\n",
    "  'awards_won?',\n",
    "  'avg_training_score']]"
   ]
  },
  {
   "cell_type": "code",
   "execution_count": 56,
   "metadata": {},
   "outputs": [],
   "source": [
    "y=train[['is_promoted']]"
   ]
  },
  {
   "cell_type": "code",
   "execution_count": 57,
   "metadata": {},
   "outputs": [],
   "source": [
    "import warnings\n",
    "warnings.filterwarnings(\"ignore\")"
   ]
  },
  {
   "cell_type": "code",
   "execution_count": 58,
   "metadata": {},
   "outputs": [],
   "source": [
    "scaler = StandardScaler()\n",
    "scaled_data = scaler.fit_transform(X_selected)"
   ]
  },
  {
   "cell_type": "code",
   "execution_count": 59,
   "metadata": {},
   "outputs": [
    {
     "data": {
      "text/html": [
       "<div>\n",
       "<style scoped>\n",
       "    .dataframe tbody tr th:only-of-type {\n",
       "        vertical-align: middle;\n",
       "    }\n",
       "\n",
       "    .dataframe tbody tr th {\n",
       "        vertical-align: top;\n",
       "    }\n",
       "\n",
       "    .dataframe thead th {\n",
       "        text-align: right;\n",
       "    }\n",
       "</style>\n",
       "<table border=\"1\" class=\"dataframe\">\n",
       "  <thead>\n",
       "    <tr style=\"text-align: right;\">\n",
       "      <th></th>\n",
       "      <th>education</th>\n",
       "      <th>department</th>\n",
       "      <th>gender</th>\n",
       "      <th>no_of_trainings</th>\n",
       "      <th>age</th>\n",
       "      <th>previous_year_rating</th>\n",
       "      <th>KPIs_met &gt;80%</th>\n",
       "      <th>awards_won?</th>\n",
       "      <th>avg_training_score</th>\n",
       "    </tr>\n",
       "  </thead>\n",
       "  <tbody>\n",
       "    <tr>\n",
       "      <th>0</th>\n",
       "      <td>-0.548477</td>\n",
       "      <td>0.808933</td>\n",
       "      <td>-0.650947</td>\n",
       "      <td>1.226063</td>\n",
       "      <td>1.461611</td>\n",
       "      <td>-0.250651</td>\n",
       "      <td>1.356878</td>\n",
       "      <td>-0.154018</td>\n",
       "      <td>-0.702000</td>\n",
       "    </tr>\n",
       "    <tr>\n",
       "      <th>1</th>\n",
       "      <td>1.580483</td>\n",
       "      <td>0.808933</td>\n",
       "      <td>-0.650947</td>\n",
       "      <td>-0.415276</td>\n",
       "      <td>2.767077</td>\n",
       "      <td>1.395766</td>\n",
       "      <td>-0.736986</td>\n",
       "      <td>-0.154018</td>\n",
       "      <td>-1.075931</td>\n",
       "    </tr>\n",
       "    <tr>\n",
       "      <th>2</th>\n",
       "      <td>-0.548477</td>\n",
       "      <td>-1.984338</td>\n",
       "      <td>-0.650947</td>\n",
       "      <td>1.226063</td>\n",
       "      <td>-0.757681</td>\n",
       "      <td>0.572557</td>\n",
       "      <td>1.356878</td>\n",
       "      <td>-0.154018</td>\n",
       "      <td>1.765947</td>\n",
       "    </tr>\n",
       "    <tr>\n",
       "      <th>3</th>\n",
       "      <td>1.580483</td>\n",
       "      <td>0.808933</td>\n",
       "      <td>-0.650947</td>\n",
       "      <td>1.226063</td>\n",
       "      <td>0.678331</td>\n",
       "      <td>-1.897069</td>\n",
       "      <td>-0.736986</td>\n",
       "      <td>-0.154018</td>\n",
       "      <td>-0.926359</td>\n",
       "    </tr>\n",
       "    <tr>\n",
       "      <th>4</th>\n",
       "      <td>-0.548477</td>\n",
       "      <td>0.010855</td>\n",
       "      <td>-0.650947</td>\n",
       "      <td>-0.415276</td>\n",
       "      <td>-0.496588</td>\n",
       "      <td>0.572557</td>\n",
       "      <td>1.356878</td>\n",
       "      <td>-0.154018</td>\n",
       "      <td>0.419794</td>\n",
       "    </tr>\n",
       "  </tbody>\n",
       "</table>\n",
       "</div>"
      ],
      "text/plain": [
       "   education  department    gender  no_of_trainings       age  \\\n",
       "0  -0.548477    0.808933 -0.650947         1.226063  1.461611   \n",
       "1   1.580483    0.808933 -0.650947        -0.415276  2.767077   \n",
       "2  -0.548477   -1.984338 -0.650947         1.226063 -0.757681   \n",
       "3   1.580483    0.808933 -0.650947         1.226063  0.678331   \n",
       "4  -0.548477    0.010855 -0.650947        -0.415276 -0.496588   \n",
       "\n",
       "   previous_year_rating  KPIs_met >80%  awards_won?  avg_training_score  \n",
       "0             -0.250651       1.356878    -0.154018           -0.702000  \n",
       "1              1.395766      -0.736986    -0.154018           -1.075931  \n",
       "2              0.572557       1.356878    -0.154018            1.765947  \n",
       "3             -1.897069      -0.736986    -0.154018           -0.926359  \n",
       "4              0.572557       1.356878    -0.154018            0.419794  "
      ]
     },
     "execution_count": 59,
     "metadata": {},
     "output_type": "execute_result"
    }
   ],
   "source": [
    "scaled_data_frame=pd.DataFrame(scaled_data)\n",
    "scaled_data_frame.columns=X_selected.columns\n",
    "X_selected_scaled=scaled_data_frame\n",
    "X_selected_scaled.head()"
   ]
  },
  {
   "cell_type": "code",
   "execution_count": 60,
   "metadata": {},
   "outputs": [],
   "source": [
    "from sklearn import model_selection\n",
    "from sklearn.linear_model import LogisticRegression\n",
    "from sklearn.tree import DecisionTreeClassifier\n",
    "from sklearn.neighbors import KNeighborsClassifier\n",
    "from sklearn.discriminant_analysis import LinearDiscriminantAnalysis\n",
    "from sklearn.naive_bayes import GaussianNB\n",
    "from sklearn.svm import SVC\n",
    "from xgboost import XGBClassifier\n",
    "from lightgbm import LGBMClassifier\n",
    "from sklearn.ensemble import RandomForestClassifier\n",
    "from sklearn import metrics"
   ]
  },
  {
   "cell_type": "code",
   "execution_count": 61,
   "metadata": {},
   "outputs": [],
   "source": [
    "models = []\n",
    "models.append(('LR', LogisticRegression()))\n",
    "models.append(('LDA', LinearDiscriminantAnalysis()))\n",
    "models.append(('KNN', KNeighborsClassifier()))\n",
    "models.append(('CART', DecisionTreeClassifier()))\n",
    "models.append(('NB', GaussianNB()))\n",
    "models.append(('XGB', XGBClassifier()))\n",
    "models.append(('LGBM', LGBMClassifier()))\n",
    "models.append(('RF', RandomForestClassifier()))"
   ]
  },
  {
   "cell_type": "code",
   "execution_count": 62,
   "metadata": {},
   "outputs": [],
   "source": [
    "X_train, X_test, y_train, y_test = train_test_split(X_selected_scaled,y, test_size=0.33, random_state=33)"
   ]
  },
  {
   "cell_type": "code",
   "execution_count": 63,
   "metadata": {},
   "outputs": [
    {
     "name": "stdout",
     "output_type": "stream",
     "text": [
      "LR 0.5314187037134993 0.120427687113112\n",
      "LDA 0.5550492607496802 0.19603960396039605\n",
      "KNN 0.6155099816764117 0.3545331529093369\n",
      "CART 0.6932269407835696 0.45934284766013944\n",
      "NB 0.5527318557821026 0.18925579103006407\n",
      "XGB 0.6282253900826574 0.40586797066014674\n",
      "LGBM 0.6691399328994082 0.5004566210045662\n",
      "RF 0.6645974642649339 0.44418331374853115\n"
     ]
    }
   ],
   "source": [
    "auc_score=[]\n",
    "f1_score=[]\n",
    "names=[]\n",
    "for name, model in models:\n",
    "    model.fit(X_train,y_train)\n",
    "    y_pred=model.predict(X_test)\n",
    "    names.append(name)\n",
    "    auc=metrics.roc_auc_score(y_test, y_pred)\n",
    "    f1=metrics.f1_score(y_test, y_pred)\n",
    "    auc_score.append(auc)\n",
    "    f1_score.append(f1)\n",
    "    print(name,auc,f1)"
   ]
  },
  {
   "cell_type": "markdown",
   "metadata": {},
   "source": [
    "From above we can observe that the Highest f1 score is obtained using the LGBM classifier thus we will tune the model based on f1 score for improvement"
   ]
  },
  {
   "cell_type": "code",
   "execution_count": 64,
   "metadata": {},
   "outputs": [
    {
     "name": "stdout",
     "output_type": "stream",
     "text": [
      "num_leaves = 2: \n",
      " the auc value is  0.557069728411559\n",
      " the f1 score is  0.20445459737292973\n",
      "num_leaves = 3: \n",
      " the auc value is  0.5719091058814061\n",
      " the f1 score is  0.25098039215686274\n",
      "num_leaves = 4: \n",
      " the auc value is  0.6042570854142513\n",
      " the f1 score is  0.3433703116745906\n",
      "num_leaves = 5: \n",
      " the auc value is  0.6349429624971576\n",
      " the f1 score is  0.4229607250755287\n",
      "num_leaves = 6: \n",
      " the auc value is  0.6363734034599149\n",
      " the f1 score is  0.4256384576865298\n",
      "num_leaves = 9: \n",
      " the auc value is  0.6648026719032338\n",
      " the f1 score is  0.4925588094095055\n",
      "num_leaves = 18: \n",
      " the auc value is  0.6749976488786205\n",
      " the f1 score is  0.5143935818782445\n",
      "num_leaves = 21: \n",
      " the auc value is  0.6736476841103497\n",
      " the f1 score is  0.5111006140765234\n",
      "num_leaves = 27: \n",
      " the auc value is  0.6722372452250011\n",
      " the f1 score is  0.507321681624941\n",
      "num_leaves = 31: \n",
      " the auc value is  0.6735569729347328\n",
      " the f1 score is  0.5103773584905661\n",
      "num_leaves = 61: \n",
      " the auc value is  0.6749269397804123\n",
      " the f1 score is  0.5119549929676512\n",
      "num_leaves = 81: \n",
      " the auc value is  0.6756219242419563\n",
      " the f1 score is  0.5118881118881118\n",
      "num_leaves = 127: \n",
      " the auc value is  0.6753595578113845\n",
      " the f1 score is  0.5062011943040883\n",
      "num_leaves = 197: \n",
      " the auc value is  0.6763969170131354\n",
      " the f1 score is  0.5052248977737392\n",
      "num_leaves = 231: \n",
      " the auc value is  0.673656515436925\n",
      " the f1 score is  0.49683257918552043\n",
      "num_leaves = 275: \n",
      " the auc value is  0.6775045174282429\n",
      " the f1 score is  0.5013357079252003\n",
      "num_leaves = 302: \n",
      " the auc value is  0.6760033673672775\n",
      " the f1 score is  0.4971098265895953\n"
     ]
    },
    {
     "data": {
      "text/plain": [
       "Text(0, 0.5, 'scores ')"
      ]
     },
     "execution_count": 64,
     "metadata": {},
     "output_type": "execute_result"
    },
    {
     "data": {
      "image/png": "[encoded data removed]",
      "text/plain": [
       "<Figure size 432x288 with 1 Axes>"
      ]
     },
     "metadata": {
      "needs_background": "light"
     },
     "output_type": "display_data"
    }
   ],
   "source": [
    "#num_leaves\n",
    "\n",
    "X_train_lgbm, X_test_lgbm, y_train_lgbm, y_test_lgbm = train_test_split(X_selected_scaled,y, test_size=0.33, random_state=225)\n",
    "\n",
    "auc=[]\n",
    "f1=[]\n",
    "num_leaves= [2,3,4,5,6,9,18,21,27, 31, 61, 81, 127, 197, 231, 275, 302]\n",
    "for i in num_leaves:\n",
    "    print('num_leaves = {}: '.format(i))\n",
    "    clf_lgb = LGBMClassifier(num_leaves=i)\n",
    "    clf_lgb.fit(X_train_lgbm, y_train_lgbm)\n",
    "    predict = clf_lgb.predict(X_test_lgbm)\n",
    "    auc.append(metrics.roc_auc_score(y_test_lgbm, predict))\n",
    "    f1.append(metrics.f1_score(y_test_lgbm, predict))\n",
    "    print(\" the auc value is \",metrics.roc_auc_score(y_test_lgbm, predict))\n",
    "    print(\" the f1 score is \",metrics.f1_score(y_test_lgbm, predict))\n",
    "\n",
    "    \n",
    "from matplotlib.legend_handler import HandlerLine2D\n",
    "line1 = plt.plot(num_leaves, auc, color=\"blue\", label=\" AUC\")\n",
    "line2 = plt.plot(num_leaves, f1,color=\"red\", label=\"f1 score\")\n",
    "plt.legend(loc='upper left')\n",
    "plt.xlabel('values of num_leaves')\n",
    "plt.ylabel(\"scores \")\n"
   ]
  },
  {
   "cell_type": "code",
   "execution_count": 65,
   "metadata": {},
   "outputs": [
    {
     "name": "stdout",
     "output_type": "stream",
     "text": [
      "bagging_fraction = 0.1: \n",
      " the auc value is  0.6735569729347328\n",
      " the f1 score is  0.5103773584905661\n",
      "bagging_fraction = 0.2: \n",
      " the auc value is  0.6735569729347328\n",
      " the f1 score is  0.5103773584905661\n",
      "bagging_fraction = 0.3: \n",
      " the auc value is  0.6735569729347328\n",
      " the f1 score is  0.5103773584905661\n",
      "bagging_fraction = 0.4: \n",
      " the auc value is  0.6735569729347328\n",
      " the f1 score is  0.5103773584905661\n",
      "bagging_fraction = 0.5: \n",
      " the auc value is  0.6735569729347328\n",
      " the f1 score is  0.5103773584905661\n",
      "bagging_fraction = 0.7: \n",
      " the auc value is  0.6735569729347328\n",
      " the f1 score is  0.5103773584905661\n",
      "bagging_fraction = 0.8: \n",
      " the auc value is  0.6735569729347328\n",
      " the f1 score is  0.5103773584905661\n",
      "bagging_fraction = 0.9: \n",
      " the auc value is  0.6735569729347328\n",
      " the f1 score is  0.5103773584905661\n"
     ]
    },
    {
     "data": {
      "text/plain": [
       "Text(0, 0.5, 'scores ')"
      ]
     },
     "execution_count": 65,
     "metadata": {},
     "output_type": "execute_result"
    },
    {
     "data": {
      "image/png": "[encoded data removed]",
      "text/plain": [
       "<Figure size 432x288 with 1 Axes>"
      ]
     },
     "metadata": {
      "needs_background": "light"
     },
     "output_type": "display_data"
    }
   ],
   "source": [
    "#bagging_fraction\n",
    "\n",
    "X_train_lgbm, X_test_lgbm, y_train_lgbm, y_test_lgbm = train_test_split(X_selected_scaled,y, test_size=0.33, random_state=225)\n",
    "\n",
    "auc=[]\n",
    "f1=[]\n",
    "bagging_fraction=[0.1,0.2,0.3,0.4,0.5, 0.7, 0.8, 0.9]\n",
    "for i in bagging_fraction:\n",
    "    print('bagging_fraction = {}: '.format(i))\n",
    "    clf_lgb = LGBMClassifier(bagging_fraction=i)\n",
    "    clf_lgb.fit(X_train_lgbm, y_train_lgbm)\n",
    "    predict = clf_lgb.predict(X_test_lgbm)\n",
    "    auc.append(metrics.roc_auc_score(y_test_lgbm, predict))\n",
    "    f1.append(metrics.f1_score(y_test_lgbm, predict))\n",
    "    print(\" the auc value is \",metrics.roc_auc_score(y_test_lgbm, predict))\n",
    "    print(\" the f1 score is \",metrics.f1_score(y_test_lgbm, predict))\n",
    "\n",
    "    \n",
    "line1 = plt.plot(bagging_fraction, auc, color=\"blue\", label=\" AUC\")\n",
    "line2 = plt.plot(bagging_fraction, f1,color=\"red\", label=\"f1 score\")\n",
    "plt.legend(loc='upper left')\n",
    "plt.xlabel('values of bagging_fraction')\n",
    "plt.ylabel(\"scores \")\n"
   ]
  },
  {
   "cell_type": "code",
   "execution_count": 66,
   "metadata": {},
   "outputs": [
    {
     "name": "stdout",
     "output_type": "stream",
     "text": [
      "learning_rate = 0.001: \n",
      " the auc value is  0.5\n",
      " the f1 score is  0.0\n",
      "learning_rate = 0.005: \n",
      " the auc value is  0.5\n",
      " the f1 score is  0.0\n",
      "learning_rate = 0.01: \n",
      " the auc value is  0.6271702871905775\n",
      " the f1 score is  0.4051413881748072\n",
      "learning_rate = 0.05: \n",
      " the auc value is  0.6714622965403361\n",
      " the f1 score is  0.5066539923954373\n",
      "learning_rate = 0.1: \n",
      " the auc value is  0.675540336653182\n",
      " the f1 score is  0.5148514851485149\n",
      "learning_rate = 0.3: \n",
      " the auc value is  0.6780861163957776\n",
      " the f1 score is  0.5126320624712907\n",
      "learning_rate = 0.5: \n",
      " the auc value is  0.6729929164375864\n",
      " the f1 score is  0.48845470692717585\n"
     ]
    },
    {
     "data": {
      "text/plain": [
       "Text(0, 0.5, 'scores ')"
      ]
     },
     "execution_count": 66,
     "metadata": {},
     "output_type": "execute_result"
    },
    {
     "data": {
      "image/png": "[encoded data removed]",
      "text/plain": [
       "<Figure size 432x288 with 1 Axes>"
      ]
     },
     "metadata": {
      "needs_background": "light"
     },
     "output_type": "display_data"
    }
   ],
   "source": [
    "#learning_rate\n",
    "\n",
    "X_train_lgbm, X_test_lgbm, y_train_lgbm, y_test_lgbm = train_test_split(X_selected_scaled,y, test_size=0.33, random_state=12)\n",
    "\n",
    "auc=[]\n",
    "f1=[]\n",
    "learning_rate=[0.001, 0.005, 0.01, 0.05, 0.1, 0.3, 0.5]\n",
    "for i in learning_rate:\n",
    "    print('learning_rate = {}: '.format(i))\n",
    "    clf_lgb = LGBMClassifier(learning_rate=i)\n",
    "    clf_lgb.fit(X_train_lgbm, y_train_lgbm)\n",
    "    predict = clf_lgb.predict(X_test_lgbm)\n",
    "    auc.append(metrics.roc_auc_score(y_test_lgbm, predict))\n",
    "    f1.append(metrics.f1_score(y_test_lgbm, predict))\n",
    "    print(\" the auc value is \",metrics.roc_auc_score(y_test_lgbm, predict))\n",
    "    print(\" the f1 score is \",metrics.f1_score(y_test_lgbm, predict))\n",
    "\n",
    "\n",
    "line1 = plt.plot(learning_rate, auc, color=\"blue\", label=\" AUC\")\n",
    "line2 = plt.plot(learning_rate, f1,color=\"red\", label=\"f1 score\")\n",
    "plt.legend(loc='upper left')\n",
    "plt.xlabel('values of learning_rate')\n",
    "plt.ylabel(\"scores \")\n"
   ]
  },
  {
   "cell_type": "code",
   "execution_count": 67,
   "metadata": {},
   "outputs": [
    {
     "name": "stdout",
     "output_type": "stream",
     "text": [
      "is_unbalance = True: \n",
      " the auc value is  0.8124327113128424\n",
      " the f1 score is  0.37779914823464766\n",
      "is_unbalance = False: \n",
      " the auc value is  0.675540336653182\n",
      " the f1 score is  0.5148514851485149\n"
     ]
    },
    {
     "data": {
      "text/plain": [
       "Text(0, 0.5, 'scores ')"
      ]
     },
     "execution_count": 67,
     "metadata": {},
     "output_type": "execute_result"
    },
    {
     "data": {
      "image/png": "[encoded data removed]",
      "text/plain": [
       "<Figure size 432x288 with 1 Axes>"
      ]
     },
     "metadata": {
      "needs_background": "light"
     },
     "output_type": "display_data"
    }
   ],
   "source": [
    "#is_unbalance': choice([True, False]),\n",
    "\n",
    "X_train_lgbm, X_test_lgbm, y_train_lgbm, y_test_lgbm = train_test_split(X_selected_scaled,y, test_size=0.33, random_state=12)\n",
    "\n",
    "auc=[]\n",
    "f1=[]\n",
    "is_unbalance=[True, False]\n",
    "for i in is_unbalance:\n",
    "    print('is_unbalance = {}: '.format(i))\n",
    "    clf_lgb = LGBMClassifier(is_unbalance=i)\n",
    "    clf_lgb.fit(X_train_lgbm, y_train_lgbm)\n",
    "    predict = clf_lgb.predict(X_test_lgbm)\n",
    "    auc.append(metrics.roc_auc_score(y_test_lgbm, predict))\n",
    "    f1.append(metrics.f1_score(y_test_lgbm, predict))\n",
    "    print(\" the auc value is \",metrics.roc_auc_score(y_test_lgbm, predict))\n",
    "    print(\" the f1 score is \",metrics.f1_score(y_test_lgbm, predict))\n",
    "\n",
    "\n",
    "line1 = plt.plot(is_unbalance, auc, color=\"blue\", label=\" AUC\")\n",
    "line2 = plt.plot(is_unbalance, f1,color=\"red\", label=\"f1 score\")\n",
    "plt.legend(loc='upper left')\n",
    "plt.xlabel('values of learning_rate')\n",
    "plt.ylabel(\"scores \")\n"
   ]
  },
  {
   "cell_type": "code",
   "execution_count": 74,
   "metadata": {},
   "outputs": [
    {
     "name": "stdout",
     "output_type": "stream",
     "text": [
      "max_bin = 3: \n",
      " the auc value is  0.5354215031326003\n",
      " the f1 score is  0.13372093023255813\n",
      "max_bin = 5: \n",
      " the auc value is  0.595591299118691\n",
      " the f1 score is  0.3137254901960785\n",
      "max_bin = 10: \n",
      " the auc value is  0.6451292481805982\n",
      " the f1 score is  0.44249512670565305\n",
      "max_bin = 12: \n",
      " the auc value is  0.6608447451665806\n",
      " the f1 score is  0.4796942188246536\n",
      "max_bin = 18: \n",
      " the auc value is  0.667879093390253\n",
      " the f1 score is  0.49856733524355296\n",
      "max_bin = 20: \n",
      " the auc value is  0.6705839990138412\n",
      " the f1 score is  0.5052430886558626\n",
      "max_bin = 22: \n",
      " the auc value is  0.6714320649664804\n",
      " the f1 score is  0.5064133016627078\n",
      "max_bin = 24: \n",
      " the auc value is  0.6677374854173669\n",
      " the f1 score is  0.4992812649736464\n",
      "max_bin = 26: \n",
      " the auc value is  0.6765300105787073\n",
      " the f1 score is  0.5152224824355972\n",
      "max_bin = 28: \n",
      " the auc value is  0.6728354310295936\n",
      " the f1 score is  0.5082664147378365\n"
     ]
    },
    {
     "data": {
      "text/plain": [
       "Text(0, 0.5, 'scores ')"
      ]
     },
     "execution_count": 74,
     "metadata": {},
     "output_type": "execute_result"
    },
    {
     "data": {
      "image/png": "[encoded data removed]",
      "text/plain": [
       "<Figure size 432x288 with 1 Axes>"
      ]
     },
     "metadata": {
      "needs_background": "light"
     },
     "output_type": "display_data"
    }
   ],
   "source": [
    "#max_bin': choice([3, 5, 10, 12, 18, 20, 22,24,26,28]),\n",
    "\n",
    "X_train_lgbm, X_test_lgbm, y_train_lgbm, y_test_lgbm = train_test_split(X_selected_scaled,y, test_size=0.33, random_state=12)\n",
    "\n",
    "auc=[]\n",
    "f1=[]\n",
    "max_bin=[3, 5, 10, 12, 18, 20, 22,24,26,28]\n",
    "for i in max_bin:\n",
    "    print('max_bin = {}: '.format(i))\n",
    "    clf_lgb = LGBMClassifier(max_bin=i)\n",
    "    clf_lgb.fit(X_train_lgbm, y_train_lgbm)\n",
    "    predict = clf_lgb.predict(X_test_lgbm)\n",
    "    auc.append(metrics.roc_auc_score(y_test_lgbm, predict))\n",
    "    f1.append(metrics.f1_score(y_test_lgbm, predict))\n",
    "    print(\" the auc value is \",metrics.roc_auc_score(y_test_lgbm, predict))\n",
    "    print(\" the f1 score is \",metrics.f1_score(y_test_lgbm, predict))\n",
    "\n",
    "\n",
    "line1 = plt.plot(max_bin, auc, color=\"blue\", label=\" AUC\")\n",
    "line2 = plt.plot(max_bin, f1,color=\"red\", label=\"f1 score\")\n",
    "plt.legend(loc='upper left')\n",
    "plt.xlabel('values of max_bin')\n",
    "plt.ylabel(\"scores \")\n"
   ]
  },
  {
   "cell_type": "code",
   "execution_count": 69,
   "metadata": {},
   "outputs": [
    {
     "name": "stdout",
     "output_type": "stream",
     "text": [
      "bagging_freq = 3: \n",
      " the auc value is  0.674394154880388\n",
      " the f1 score is  0.5116279069767442\n",
      "bagging_freq = 9: \n",
      " the auc value is  0.674394154880388\n",
      " the f1 score is  0.5116279069767442\n",
      "bagging_freq = 11: \n",
      " the auc value is  0.674394154880388\n",
      " the f1 score is  0.5116279069767442\n",
      "bagging_freq = 15: \n",
      " the auc value is  0.674394154880388\n",
      " the f1 score is  0.5116279069767442\n",
      "bagging_freq = 17: \n",
      " the auc value is  0.674394154880388\n",
      " the f1 score is  0.5116279069767442\n",
      "bagging_freq = 23: \n",
      " the auc value is  0.674394154880388\n",
      " the f1 score is  0.5116279069767442\n",
      "bagging_freq = 31: \n",
      " the auc value is  0.674394154880388\n",
      " the f1 score is  0.5116279069767442\n"
     ]
    },
    {
     "data": {
      "text/plain": [
       "Text(0, 0.5, 'scores ')"
      ]
     },
     "execution_count": 69,
     "metadata": {},
     "output_type": "execute_result"
    },
    {
     "data": {
      "image/png": "[encoded data removed]",
      "text/plain": [
       "<Figure size 432x288 with 1 Axes>"
      ]
     },
     "metadata": {
      "needs_background": "light"
     },
     "output_type": "display_data"
    }
   ],
   "source": [
    "#bagging_freq': choice([3, 9, 11, 15, 17, 23, 31]),\n",
    "\n",
    "X_train_lgbm, X_test_lgbm, y_train_lgbm, y_test_lgbm = train_test_split(X_selected_scaled,y, test_size=0.33, random_state=100)\n",
    "\n",
    "auc=[]\n",
    "f1=[]\n",
    "bagging_freq=[3, 9, 11, 15, 17, 23, 31]\n",
    "for i in bagging_freq:\n",
    "    print('bagging_freq = {}: '.format(i))\n",
    "    clf_lgb = LGBMClassifier(bagging_freq=i)\n",
    "    clf_lgb.fit(X_train_lgbm, y_train_lgbm)\n",
    "    predict = clf_lgb.predict(X_test_lgbm)\n",
    "    auc.append(metrics.roc_auc_score(y_test_lgbm, predict))\n",
    "    f1.append(metrics.f1_score(y_test_lgbm, predict))\n",
    "    print(\" the auc value is \",metrics.roc_auc_score(y_test_lgbm, predict))\n",
    "    print(\" the f1 score is \",metrics.f1_score(y_test_lgbm, predict))\n",
    "\n",
    "\n",
    "line1 = plt.plot(bagging_freq, auc, color=\"blue\", label=\" AUC\")\n",
    "line2 = plt.plot(bagging_freq, f1,color=\"red\", label=\"f1 score\")\n",
    "plt.legend(loc='upper left')\n",
    "plt.xlabel('values of bagging_freq')\n",
    "plt.ylabel(\"scores \")\n"
   ]
  },
  {
   "cell_type": "code",
   "execution_count": 70,
   "metadata": {},
   "outputs": [
    {
     "name": "stdout",
     "output_type": "stream",
     "text": [
      "max_depth = 2: \n",
      " the auc value is  0.5801646558930433\n",
      " the f1 score is  0.27519818799546997\n",
      "max_depth = 3: \n",
      " the auc value is  0.6360021586652606\n",
      " the f1 score is  0.42386831275720166\n",
      "max_depth = 4: \n",
      " the auc value is  0.6669691176792137\n",
      " the f1 score is  0.4965585054080629\n",
      "max_depth = 5: \n",
      " the auc value is  0.6724018226593056\n",
      " the f1 score is  0.509286412512219\n",
      "max_depth = 6: \n",
      " the auc value is  0.6731867536187799\n",
      " the f1 score is  0.509727626459144\n",
      "max_depth = 7: \n",
      " the auc value is  0.6706814861055146\n",
      " the f1 score is  0.5051395007342143\n",
      "max_depth = 9: \n",
      " the auc value is  0.6748769351758878\n",
      " the f1 score is  0.5135922330097088\n",
      "max_depth = 11: \n",
      " the auc value is  0.673790454249584\n",
      " the f1 score is  0.5106796116504855\n"
     ]
    },
    {
     "data": {
      "text/plain": [
       "Text(0, 0.5, 'scores ')"
      ]
     },
     "execution_count": 70,
     "metadata": {},
     "output_type": "execute_result"
    },
    {
     "data": {
      "image/png": "[encoded data removed]",
      "text/plain": [
       "<Figure size 432x288 with 1 Axes>"
      ]
     },
     "metadata": {
      "needs_background": "light"
     },
     "output_type": "display_data"
    }
   ],
   "source": [
    "#max_depth': choice([3, 4, 5, 6, 7, 9, 11]),\n",
    "\n",
    "\n",
    "\n",
    "X_train_lgbm, X_test_lgbm, y_train_lgbm, y_test_lgbm = train_test_split(X_selected_scaled,y, test_size=0.33, random_state=100)\n",
    "\n",
    "auc=[]\n",
    "f1=[]\n",
    "max_depth=[2,3, 4, 5, 6, 7, 9, 11]\n",
    "for i in max_depth:\n",
    "    print('max_depth = {}: '.format(i))\n",
    "    clf_lgb = LGBMClassifier(max_depth=i)\n",
    "    clf_lgb.fit(X_train_lgbm, y_train_lgbm)\n",
    "    predict = clf_lgb.predict(X_test_lgbm)\n",
    "    auc.append(metrics.roc_auc_score(y_test_lgbm, predict))\n",
    "    f1.append(metrics.f1_score(y_test_lgbm, predict))\n",
    "    print(\" the auc value is \",metrics.roc_auc_score(y_test_lgbm, predict))\n",
    "    print(\" the f1 score is \",metrics.f1_score(y_test_lgbm, predict))\n",
    "\n",
    "\n",
    "line1 = plt.plot(max_depth, auc, color=\"blue\", label=\" AUC\")\n",
    "line2 = plt.plot(max_depth, f1,color=\"red\", label=\"f1 score\")\n",
    "plt.legend(loc='upper left')\n",
    "plt.xlabel('values of max_depth')\n",
    "plt.ylabel(\"scores \")\n"
   ]
  },
  {
   "cell_type": "code",
   "execution_count": 71,
   "metadata": {},
   "outputs": [
    {
     "name": "stdout",
     "output_type": "stream",
     "text": [
      "feature_fraction = 0.2: \n",
      " the auc value is  0.5558295830511224\n",
      " the f1 score is  0.20067264573991028\n",
      "feature_fraction = 0.3: \n",
      " the auc value is  0.5743522342578068\n",
      " the f1 score is  0.25768194070080863\n",
      "feature_fraction = 0.4: \n",
      " the auc value is  0.6184406512505783\n",
      " the f1 score is  0.3805220883534136\n",
      "feature_fraction = 0.5: \n",
      " the auc value is  0.6680454999356833\n",
      " the f1 score is  0.497457235321313\n",
      "feature_fraction = 0.7: \n",
      " the auc value is  0.6714418244965467\n",
      " the f1 score is  0.504595588235294\n",
      "feature_fraction = 0.8: \n",
      " the auc value is  0.6697380802294185\n",
      " the f1 score is  0.5018484288354897\n",
      "feature_fraction = 0.9: \n",
      " the auc value is  0.6715327556313673\n",
      " the f1 score is  0.5052922227335481\n"
     ]
    },
    {
     "data": {
      "text/plain": [
       "Text(0, 0.5, 'scores ')"
      ]
     },
     "execution_count": 71,
     "metadata": {},
     "output_type": "execute_result"
    },
    {
     "data": {
      "image/png": "[encoded data removed]",
      "text/plain": [
       "<Figure size 432x288 with 1 Axes>"
      ]
     },
     "metadata": {
      "needs_background": "light"
     },
     "output_type": "display_data"
    }
   ],
   "source": [
    "#'feature_fraction': choice([0.5, 0.7, 0.8, 0.9]),\n",
    "\n",
    "X_train_lgbm, X_test_lgbm, y_train_lgbm, y_test_lgbm = train_test_split(X_selected_scaled,y, test_size=0.33, random_state=200)\n",
    "\n",
    "auc=[]\n",
    "f1=[]\n",
    "feature_fraction=[0.2,0.3,0.4,0.5, 0.7, 0.8, 0.9]\n",
    "for i in feature_fraction:\n",
    "    print('feature_fraction = {}: '.format(i))\n",
    "    clf_lgb = LGBMClassifier(feature_fraction=i)\n",
    "    clf_lgb.fit(X_train_lgbm, y_train_lgbm)\n",
    "    predict = clf_lgb.predict(X_test_lgbm)\n",
    "    auc.append(metrics.roc_auc_score(y_test_lgbm, predict))\n",
    "    f1.append(metrics.f1_score(y_test_lgbm, predict))\n",
    "    print(\" the auc value is \",metrics.roc_auc_score(y_test_lgbm, predict))\n",
    "    print(\" the f1 score is \",metrics.f1_score(y_test_lgbm, predict))\n",
    "\n",
    "\n",
    "line1 = plt.plot(feature_fraction, auc, color=\"blue\", label=\" AUC\")\n",
    "line2 = plt.plot(feature_fraction, f1,color=\"red\", label=\"f1 score\")\n",
    "plt.legend(loc='upper left')\n",
    "plt.xlabel('values of feature_fraction')\n",
    "plt.ylabel(\"scores \")"
   ]
  },
  {
   "cell_type": "code",
   "execution_count": 72,
   "metadata": {},
   "outputs": [
    {
     "name": "stdout",
     "output_type": "stream",
     "text": [
      "lambda_l1 = 0: \n",
      " the auc value is  0.6648575239155362\n",
      " the f1 score is  0.488804192472606\n",
      "lambda_l1 = 2: \n",
      " the auc value is  0.6698359339250607\n",
      " the f1 score is  0.5004739336492892\n",
      "lambda_l1 = 5: \n",
      " the auc value is  0.6674266059341661\n",
      " the f1 score is  0.49618320610687017\n",
      "lambda_l1 = 7: \n",
      " the auc value is  0.6662823904667974\n",
      " the f1 score is  0.49448969813128896\n",
      "lambda_l1 = 10: \n",
      " the auc value is  0.665341112140163\n",
      " the f1 score is  0.49255880940950547\n",
      "lambda_l1 = 20: \n",
      " the auc value is  0.6607167605915688\n",
      " the f1 score is  0.48166023166023164\n",
      "lambda_l1 = 30: \n",
      " the auc value is  0.6518005243988113\n",
      " the f1 score is  0.46199117214320745\n",
      "lambda_l1 = 40: \n",
      " the auc value is  0.6468825629173649\n",
      " the f1 score is  0.4501480750246792\n"
     ]
    },
    {
     "data": {
      "text/plain": [
       "Text(0, 0.5, 'scores ')"
      ]
     },
     "execution_count": 72,
     "metadata": {},
     "output_type": "execute_result"
    },
    {
     "data": {
      "image/png": "[encoded data removed]",
      "text/plain": [
       "<Figure size 432x288 with 1 Axes>"
      ]
     },
     "metadata": {
      "needs_background": "light"
     },
     "output_type": "display_data"
    }
   ],
   "source": [
    "#lambda_l1': choice([0, 10, 20, 30, 40]),\n",
    "\n",
    "X_train_lgbm, X_test_lgbm, y_train_lgbm, y_test_lgbm = train_test_split(X_selected_scaled,y, test_size=0.33, random_state=250)\n",
    "\n",
    "auc=[]\n",
    "f1=[]\n",
    "lambda_l1=[0,2,5,7, 10, 20, 30, 40]\n",
    "for i in lambda_l1:\n",
    "    print('lambda_l1 = {}: '.format(i))\n",
    "    clf_lgb = LGBMClassifier(lambda_l1=i)\n",
    "    clf_lgb.fit(X_train_lgbm, y_train_lgbm)\n",
    "    predict = clf_lgb.predict(X_test_lgbm)\n",
    "    auc.append(metrics.roc_auc_score(y_test_lgbm, predict))\n",
    "    f1.append(metrics.f1_score(y_test_lgbm, predict))\n",
    "    print(\" the auc value is \",metrics.roc_auc_score(y_test_lgbm, predict))\n",
    "    print(\" the f1 score is \",metrics.f1_score(y_test_lgbm, predict))\n",
    "\n",
    "\n",
    "line1 = plt.plot(lambda_l1, auc, color=\"blue\", label=\" AUC\")\n",
    "line2 = plt.plot(lambda_l1, f1,color=\"red\", label=\"f1 score\")\n",
    "plt.legend(loc='upper left')\n",
    "plt.xlabel('values of lambda_l1')\n",
    "plt.ylabel(\"scores \")"
   ]
  },
  {
   "cell_type": "code",
   "execution_count": 73,
   "metadata": {},
   "outputs": [
    {
     "name": "stdout",
     "output_type": "stream",
     "text": [
      "scale_pos_weight = 1: \n",
      " the auc value is  0.6732249018817723\n",
      " the f1 score is  0.5083293669681104\n",
      "scale_pos_weight = 2: \n",
      " the auc value is  0.6851505346920976\n",
      " the f1 score is  0.5231607629427792\n",
      "scale_pos_weight = 3: \n",
      " the auc value is  0.7089315384354549\n",
      " the f1 score is  0.5274725274725275\n",
      "scale_pos_weight = 4: \n",
      " the auc value is  0.7245921104822678\n",
      " the f1 score is  0.4991757335970986\n",
      "scale_pos_weight = 5: \n",
      " the auc value is  0.7543103808572265\n",
      " the f1 score is  0.4405204460966543\n",
      "scale_pos_weight = 6: \n",
      " the auc value is  0.7740008382533734\n",
      " the f1 score is  0.4024078803356439\n",
      "scale_pos_weight = 7: \n",
      " the auc value is  0.7849196404421372\n",
      " the f1 score is  0.387981711299804\n",
      "scale_pos_weight = 8: \n",
      " the auc value is  0.7909323932488667\n",
      " the f1 score is  0.38157081014223876\n",
      "scale_pos_weight = 9: \n",
      " the auc value is  0.7980441411766932\n",
      " the f1 score is  0.3785545023696682\n",
      "scale_pos_weight = 10: \n",
      " the auc value is  0.7939813131795037\n",
      " the f1 score is  0.3667613636363637\n",
      "scale_pos_weight = 11: \n",
      " the auc value is  0.8016786161801038\n",
      " the f1 score is  0.3661584947122648\n",
      "scale_pos_weight = 12: \n",
      " the auc value is  0.8047823813808391\n",
      " the f1 score is  0.36281179138321995\n",
      "scale_pos_weight = 13: \n",
      " the auc value is  0.8021664867405349\n",
      " the f1 score is  0.3592592592592593\n",
      "scale_pos_weight = 14: \n",
      " the auc value is  0.8003192144548633\n",
      " the f1 score is  0.3546541861674467\n",
      "scale_pos_weight = 15: \n",
      " the auc value is  0.8012203565455129\n",
      " the f1 score is  0.35432561748351227\n",
      "scale_pos_weight = 16: \n",
      " the auc value is  0.801083834800211\n",
      " the f1 score is  0.35052591560005064\n",
      "scale_pos_weight = 17: \n",
      " the auc value is  0.8033986324562559\n",
      " the f1 score is  0.3520324173736862\n",
      "scale_pos_weight = 18: \n",
      " the auc value is  0.8040590822742137\n",
      " the f1 score is  0.3500312304809494\n",
      "scale_pos_weight = 19: \n",
      " the auc value is  0.8009599499413695\n",
      " the f1 score is  0.3461157842652152\n",
      "scale_pos_weight = 20: \n",
      " the auc value is  0.8023686769239018\n",
      " the f1 score is  0.3463054187192118\n"
     ]
    },
    {
     "data": {
      "text/plain": [
       "Text(0, 0.5, 'scores ')"
      ]
     },
     "execution_count": 73,
     "metadata": {},
     "output_type": "execute_result"
    },
    {
     "data": {
      "image/png": "[encoded data removed]",
      "text/plain": [
       "<Figure size 432x288 with 1 Axes>"
      ]
     },
     "metadata": {
      "needs_background": "light"
     },
     "output_type": "display_data"
    }
   ],
   "source": [
    "X_train_lgbm, X_test_lgbm, y_train_lgbm, y_test_lgbm = train_test_split(X_selected_scaled,y, test_size=0.33, random_state=300)\n",
    "\n",
    "auc=[]\n",
    "f1=[]\n",
    "scale_pos_weight = [1,2,3,4,5,6,7,8,9,10,11,12,13,14,15,16,17,18,19,20]\n",
    "for i in scale_pos_weight:\n",
    "    print('scale_pos_weight = {}: '.format(i))\n",
    "    clf_lgb = LGBMClassifier(scale_pos_weight=i)\n",
    "    clf_lgb.fit(X_train_lgbm, y_train_lgbm)\n",
    "    predict = clf_lgb.predict(X_test_lgbm)\n",
    "    auc.append(metrics.roc_auc_score(y_test_lgbm, predict))\n",
    "    f1.append(metrics.f1_score(y_test_lgbm, predict))\n",
    "    print(\" the auc value is \",metrics.roc_auc_score(y_test_lgbm, predict))\n",
    "    print(\" the f1 score is \",metrics.f1_score(y_test_lgbm, predict))\n",
    "\n",
    "line1 = plt.plot(scale_pos_weight, auc, color=\"blue\", label=\"Train AUC\")\n",
    "line2 = plt.plot(scale_pos_weight, f1,color=\"red\", label=\"f1 score\")\n",
    "plt.legend(loc='upper left')\n",
    "plt.xlabel('values of scale_pos_weight')\n",
    "plt.ylabel(\"scores \")"
   ]
  },
  {
   "cell_type": "markdown",
   "metadata": {},
   "source": [
    "#Best params \n",
    "\n",
    "num_leaves=21,\n",
    "\tearning_rate=0.3,\n",
    "\tis_unbalance=False,\n",
    "\tmax_bin=20,\n",
    "\tmax_depth=5,\n",
    "\tfeature_fraction=0.6,\n",
    "\tlambda_l1=2,\n",
    "\tscale_pos_weight=3"
   ]
  },
  {
   "cell_type": "code",
   "execution_count": 75,
   "metadata": {},
   "outputs": [],
   "source": [
    "Model_final=LGBMClassifier(num_leaves=21, earning_rate=0.3, is_unbalance=False, max_bin=20, max_depth=5, feature_fraction=0.6, lambda_l1=2, scale_pos_weight=3)"
   ]
  },
  {
   "cell_type": "code",
   "execution_count": 76,
   "metadata": {},
   "outputs": [],
   "source": [
    "X_train_final, X_test_final, y_train_final, y_test_final = train_test_split(X_selected_scaled,y, test_size=0.33, random_state=50)\n"
   ]
  },
  {
   "cell_type": "code",
   "execution_count": 77,
   "metadata": {},
   "outputs": [
    {
     "name": "stdout",
     "output_type": "stream",
     "text": [
      "0.6986471166410959\n",
      "0.5098199672667757\n"
     ]
    }
   ],
   "source": [
    "Model_final.fit(X_train_final, y_train_final)\n",
    "predict_final = Model_final.predict(X_test_final)\n",
    "print(metrics.roc_auc_score(y_test_final, predict_final))\n",
    "print(metrics.f1_score(y_test_final, predict_final))"
   ]
  },
  {
   "cell_type": "code",
   "execution_count": 79,
   "metadata": {},
   "outputs": [],
   "source": [
    "scaler = StandardScaler()\n",
    "cols=list(X_train_final.columns)\n",
    "test_selected=test[cols]\n",
    "scaled_test = scaler.fit_transform(test_selected)\n",
    "test_scaled=pd.DataFrame(scaled_test)\n",
    "test_scaled.columns=cols \n",
    "pred_test=Model_final.predict(test_scaled)\n",
    "# for submissions                          \n",
    "ids=testCopy['employee_id']\n",
    "submission = pd.DataFrame({'employee_id': ids,\n",
    "                           'is_promoted':pred_test\n",
    "                           })\n",
    "\n",
    "submission.to_csv(\"Model_final.csv\")"
   ]
  },
  {
   "cell_type": "code",
   "execution_count": null,
   "metadata": {},
   "outputs": [],
   "source": []
  },
  {
   "cell_type": "code",
   "execution_count": null,
   "metadata": {},
   "outputs": [],
   "source": []
  }
 ],
 "metadata": {
  "kernelspec": {
   "display_name": "Python 3",
   "language": "python",
   "name": "python3"
  },
  "language_info": {
   "codemirror_mode": {
    "name": "ipython",
    "version": 3
   },
   "file_extension": ".py",
   "mimetype": "text/x-python",
   "name": "python",
   "nbconvert_exporter": "python",
   "pygments_lexer": "ipython3",
   "version": "3.7.1"
  }
 },
 "nbformat": 4,
 "nbformat_minor": 2
}
