{
 "cells": [
  {
   "cell_type": "code",
   "execution_count": 1,
   "metadata": {},
   "outputs": [],
   "source": [
    "import matplotlib.pyplot as plt\n",
    "import pandas as pd\n",
    "import numpy as np\n",
    "import seaborn as sns\n",
    "from sklearn import datasets, linear_model, svm\n",
    "from sklearn.model_selection import train_test_split\n",
    "from sklearn.metrics import accuracy_score\n",
    "from sklearn import preprocessing\n",
    "from sklearn.preprocessing import StandardScaler\n",
    "from sklearn.metrics import mean_squared_error\n",
    "import math\n",
    "from xgboost import XGBRegressor\n",
    "from xgboost import plot_importance\n",
    "from sklearn.feature_selection import SelectFromModel\n",
    "from sklearn.utils import shuffle\n",
    "from sklearn.model_selection import GridSearchCV\n",
    "from sklearn.preprocessing import LabelEncoder\n",
    "from sklearn.ensemble import RandomForestClassifier\n",
    "from sklearn.model_selection import cross_val_score\n",
    "from imblearn.over_sampling import SMOTE\n",
    "from sklearn.metrics import confusion_matrix\n",
    "from sklearn.metrics import f1_score\n",
    "import warnings\n",
    "warnings.filterwarnings(\"ignore\")"
   ]
  },
  {
   "cell_type": "code",
   "execution_count": 2,
   "metadata": {},
   "outputs": [],
   "source": [
    "train=pd.read_csv(\"train.csv\")\n",
    "test=pd.read_csv(\"test.csv\")\n",
    "trainCopy=train.copy()\n",
    "testCopy=test.copy()\n",
    "train=shuffle(train)"
   ]
  },
  {
   "cell_type": "code",
   "execution_count": 3,
   "metadata": {},
   "outputs": [
    {
     "data": {
      "text/html": [
       "<div>\n",
       "<style scoped>\n",
       "    .dataframe tbody tr th:only-of-type {\n",
       "        vertical-align: middle;\n",
       "    }\n",
       "\n",
       "    .dataframe tbody tr th {\n",
       "        vertical-align: top;\n",
       "    }\n",
       "\n",
       "    .dataframe thead th {\n",
       "        text-align: right;\n",
       "    }\n",
       "</style>\n",
       "<table border=\"1\" class=\"dataframe\">\n",
       "  <thead>\n",
       "    <tr style=\"text-align: right;\">\n",
       "      <th></th>\n",
       "      <th>employee_id</th>\n",
       "      <th>department</th>\n",
       "      <th>region</th>\n",
       "      <th>education</th>\n",
       "      <th>gender</th>\n",
       "      <th>recruitment_channel</th>\n",
       "      <th>no_of_trainings</th>\n",
       "      <th>age</th>\n",
       "      <th>previous_year_rating</th>\n",
       "      <th>length_of_service</th>\n",
       "      <th>KPIs_met &gt;80%</th>\n",
       "      <th>awards_won?</th>\n",
       "      <th>avg_training_score</th>\n",
       "      <th>is_promoted</th>\n",
       "    </tr>\n",
       "  </thead>\n",
       "  <tbody>\n",
       "    <tr>\n",
       "      <th>48114</th>\n",
       "      <td>51301</td>\n",
       "      <td>Analytics</td>\n",
       "      <td>region_22</td>\n",
       "      <td>Bachelor's</td>\n",
       "      <td>m</td>\n",
       "      <td>referred</td>\n",
       "      <td>2</td>\n",
       "      <td>29</td>\n",
       "      <td>2.0</td>\n",
       "      <td>7</td>\n",
       "      <td>1</td>\n",
       "      <td>0</td>\n",
       "      <td>81</td>\n",
       "      <td>1</td>\n",
       "    </tr>\n",
       "    <tr>\n",
       "      <th>1281</th>\n",
       "      <td>66108</td>\n",
       "      <td>Sales &amp; Marketing</td>\n",
       "      <td>region_29</td>\n",
       "      <td>Bachelor's</td>\n",
       "      <td>m</td>\n",
       "      <td>other</td>\n",
       "      <td>1</td>\n",
       "      <td>46</td>\n",
       "      <td>3.0</td>\n",
       "      <td>6</td>\n",
       "      <td>0</td>\n",
       "      <td>0</td>\n",
       "      <td>48</td>\n",
       "      <td>0</td>\n",
       "    </tr>\n",
       "    <tr>\n",
       "      <th>31767</th>\n",
       "      <td>19202</td>\n",
       "      <td>Technology</td>\n",
       "      <td>region_7</td>\n",
       "      <td>Bachelor's</td>\n",
       "      <td>m</td>\n",
       "      <td>other</td>\n",
       "      <td>1</td>\n",
       "      <td>28</td>\n",
       "      <td>5.0</td>\n",
       "      <td>3</td>\n",
       "      <td>1</td>\n",
       "      <td>0</td>\n",
       "      <td>79</td>\n",
       "      <td>0</td>\n",
       "    </tr>\n",
       "    <tr>\n",
       "      <th>45226</th>\n",
       "      <td>15886</td>\n",
       "      <td>Analytics</td>\n",
       "      <td>region_32</td>\n",
       "      <td>Bachelor's</td>\n",
       "      <td>m</td>\n",
       "      <td>sourcing</td>\n",
       "      <td>2</td>\n",
       "      <td>27</td>\n",
       "      <td>5.0</td>\n",
       "      <td>4</td>\n",
       "      <td>0</td>\n",
       "      <td>0</td>\n",
       "      <td>87</td>\n",
       "      <td>0</td>\n",
       "    </tr>\n",
       "    <tr>\n",
       "      <th>19940</th>\n",
       "      <td>34557</td>\n",
       "      <td>Procurement</td>\n",
       "      <td>region_10</td>\n",
       "      <td>Master's &amp; above</td>\n",
       "      <td>m</td>\n",
       "      <td>other</td>\n",
       "      <td>1</td>\n",
       "      <td>42</td>\n",
       "      <td>4.0</td>\n",
       "      <td>7</td>\n",
       "      <td>0</td>\n",
       "      <td>0</td>\n",
       "      <td>67</td>\n",
       "      <td>0</td>\n",
       "    </tr>\n",
       "  </tbody>\n",
       "</table>\n",
       "</div>"
      ],
      "text/plain": [
       "       employee_id         department     region         education gender  \\\n",
       "48114        51301          Analytics  region_22        Bachelor's      m   \n",
       "1281         66108  Sales & Marketing  region_29        Bachelor's      m   \n",
       "31767        19202         Technology   region_7        Bachelor's      m   \n",
       "45226        15886          Analytics  region_32        Bachelor's      m   \n",
       "19940        34557        Procurement  region_10  Master's & above      m   \n",
       "\n",
       "      recruitment_channel  no_of_trainings  age  previous_year_rating  \\\n",
       "48114            referred                2   29                   2.0   \n",
       "1281                other                1   46                   3.0   \n",
       "31767               other                1   28                   5.0   \n",
       "45226            sourcing                2   27                   5.0   \n",
       "19940               other                1   42                   4.0   \n",
       "\n",
       "       length_of_service  KPIs_met >80%  awards_won?  avg_training_score  \\\n",
       "48114                  7              1            0                  81   \n",
       "1281                   6              0            0                  48   \n",
       "31767                  3              1            0                  79   \n",
       "45226                  4              0            0                  87   \n",
       "19940                  7              0            0                  67   \n",
       "\n",
       "       is_promoted  \n",
       "48114            1  \n",
       "1281             0  \n",
       "31767            0  \n",
       "45226            0  \n",
       "19940            0  "
      ]
     },
     "execution_count": 3,
     "metadata": {},
     "output_type": "execute_result"
    }
   ],
   "source": [
    "train.head()"
   ]
  },
  {
   "cell_type": "code",
   "execution_count": 4,
   "metadata": {},
   "outputs": [
    {
     "data": {
      "text/plain": [
       "((54808, 13), (23490, 12))"
      ]
     },
     "execution_count": 4,
     "metadata": {},
     "output_type": "execute_result"
    }
   ],
   "source": [
    "train.drop(['employee_id'],axis=1,inplace=True)\n",
    "test.drop(['employee_id'],axis=1,inplace=True)\n",
    "train.shape,test.shape"
   ]
  },
  {
   "cell_type": "code",
   "execution_count": 5,
   "metadata": {},
   "outputs": [
    {
     "data": {
      "text/plain": [
       "0    50140\n",
       "1     4668\n",
       "Name: is_promoted, dtype: int64"
      ]
     },
     "execution_count": 5,
     "metadata": {},
     "output_type": "execute_result"
    }
   ],
   "source": [
    "train.is_promoted.value_counts()"
   ]
  },
  {
   "cell_type": "code",
   "execution_count": 6,
   "metadata": {},
   "outputs": [
    {
     "data": {
      "text/plain": [
       "department               9\n",
       "region                  34\n",
       "education                3\n",
       "gender                   2\n",
       "recruitment_channel      3\n",
       "no_of_trainings         10\n",
       "age                     41\n",
       "previous_year_rating     5\n",
       "length_of_service       35\n",
       "KPIs_met >80%            2\n",
       "awards_won?              2\n",
       "avg_training_score      61\n",
       "is_promoted              2\n",
       "dtype: int64"
      ]
     },
     "execution_count": 6,
     "metadata": {},
     "output_type": "execute_result"
    }
   ],
   "source": [
    "train.nunique()"
   ]
  },
  {
   "cell_type": "markdown",
   "metadata": {},
   "source": [
    "replacing the categorical variables with numbers "
   ]
  },
  {
   "cell_type": "code",
   "execution_count": 7,
   "metadata": {},
   "outputs": [],
   "source": [
    "\n",
    "labels = train['recruitment_channel'].astype('category').cat.categories.tolist()\n",
    "recChannelMap = {'recruitment_channel' : {k: v for k,v in zip(labels,list(range(1,len(labels)+1)))}}\n",
    "\n",
    "labels = train['department'].astype('category').cat.categories.tolist()\n",
    "departmentMap = {'department' : {k: v for k,v in zip(labels,list(range(1,len(labels)+1)))}}\n",
    "\n",
    "labels = train['region'].astype('category').cat.categories.tolist()\n",
    "regionMap = {'region' : {k: v for k,v in zip(labels,list(range(1,len(labels)+1)))}}\n",
    "\n"
   ]
  },
  {
   "cell_type": "code",
   "execution_count": 8,
   "metadata": {},
   "outputs": [],
   "source": [
    "train.replace(departmentMap, inplace=True)\n",
    "train.replace(regionMap, inplace=True)\n",
    "\n",
    "train.replace(recChannelMap, inplace=True)\n",
    "\n",
    "\n",
    "test.replace(departmentMap, inplace=True)\n",
    "test.replace(regionMap, inplace=True)\n",
    "\n",
    "test.replace(recChannelMap, inplace=True)"
   ]
  },
  {
   "cell_type": "code",
   "execution_count": 9,
   "metadata": {},
   "outputs": [
    {
     "data": {
      "text/html": [
       "<div>\n",
       "<style scoped>\n",
       "    .dataframe tbody tr th:only-of-type {\n",
       "        vertical-align: middle;\n",
       "    }\n",
       "\n",
       "    .dataframe tbody tr th {\n",
       "        vertical-align: top;\n",
       "    }\n",
       "\n",
       "    .dataframe thead th {\n",
       "        text-align: right;\n",
       "    }\n",
       "</style>\n",
       "<table border=\"1\" class=\"dataframe\">\n",
       "  <thead>\n",
       "    <tr style=\"text-align: right;\">\n",
       "      <th></th>\n",
       "      <th>department</th>\n",
       "      <th>region</th>\n",
       "      <th>education</th>\n",
       "      <th>gender</th>\n",
       "      <th>recruitment_channel</th>\n",
       "      <th>no_of_trainings</th>\n",
       "      <th>age</th>\n",
       "      <th>previous_year_rating</th>\n",
       "      <th>length_of_service</th>\n",
       "      <th>KPIs_met &gt;80%</th>\n",
       "      <th>awards_won?</th>\n",
       "      <th>avg_training_score</th>\n",
       "      <th>is_promoted</th>\n",
       "    </tr>\n",
       "  </thead>\n",
       "  <tbody>\n",
       "    <tr>\n",
       "      <th>48114</th>\n",
       "      <td>1</td>\n",
       "      <td>15</td>\n",
       "      <td>Bachelor's</td>\n",
       "      <td>m</td>\n",
       "      <td>2</td>\n",
       "      <td>2</td>\n",
       "      <td>29</td>\n",
       "      <td>2.0</td>\n",
       "      <td>7</td>\n",
       "      <td>1</td>\n",
       "      <td>0</td>\n",
       "      <td>81</td>\n",
       "      <td>1</td>\n",
       "    </tr>\n",
       "    <tr>\n",
       "      <th>1281</th>\n",
       "      <td>8</td>\n",
       "      <td>22</td>\n",
       "      <td>Bachelor's</td>\n",
       "      <td>m</td>\n",
       "      <td>1</td>\n",
       "      <td>1</td>\n",
       "      <td>46</td>\n",
       "      <td>3.0</td>\n",
       "      <td>6</td>\n",
       "      <td>0</td>\n",
       "      <td>0</td>\n",
       "      <td>48</td>\n",
       "      <td>0</td>\n",
       "    </tr>\n",
       "    <tr>\n",
       "      <th>31767</th>\n",
       "      <td>9</td>\n",
       "      <td>32</td>\n",
       "      <td>Bachelor's</td>\n",
       "      <td>m</td>\n",
       "      <td>1</td>\n",
       "      <td>1</td>\n",
       "      <td>28</td>\n",
       "      <td>5.0</td>\n",
       "      <td>3</td>\n",
       "      <td>1</td>\n",
       "      <td>0</td>\n",
       "      <td>79</td>\n",
       "      <td>0</td>\n",
       "    </tr>\n",
       "    <tr>\n",
       "      <th>45226</th>\n",
       "      <td>1</td>\n",
       "      <td>26</td>\n",
       "      <td>Bachelor's</td>\n",
       "      <td>m</td>\n",
       "      <td>3</td>\n",
       "      <td>2</td>\n",
       "      <td>27</td>\n",
       "      <td>5.0</td>\n",
       "      <td>4</td>\n",
       "      <td>0</td>\n",
       "      <td>0</td>\n",
       "      <td>87</td>\n",
       "      <td>0</td>\n",
       "    </tr>\n",
       "    <tr>\n",
       "      <th>19940</th>\n",
       "      <td>6</td>\n",
       "      <td>2</td>\n",
       "      <td>Master's &amp; above</td>\n",
       "      <td>m</td>\n",
       "      <td>1</td>\n",
       "      <td>1</td>\n",
       "      <td>42</td>\n",
       "      <td>4.0</td>\n",
       "      <td>7</td>\n",
       "      <td>0</td>\n",
       "      <td>0</td>\n",
       "      <td>67</td>\n",
       "      <td>0</td>\n",
       "    </tr>\n",
       "  </tbody>\n",
       "</table>\n",
       "</div>"
      ],
      "text/plain": [
       "       department  region         education gender  recruitment_channel  \\\n",
       "48114           1      15        Bachelor's      m                    2   \n",
       "1281            8      22        Bachelor's      m                    1   \n",
       "31767           9      32        Bachelor's      m                    1   \n",
       "45226           1      26        Bachelor's      m                    3   \n",
       "19940           6       2  Master's & above      m                    1   \n",
       "\n",
       "       no_of_trainings  age  previous_year_rating  length_of_service  \\\n",
       "48114                2   29                   2.0                  7   \n",
       "1281                 1   46                   3.0                  6   \n",
       "31767                1   28                   5.0                  3   \n",
       "45226                2   27                   5.0                  4   \n",
       "19940                1   42                   4.0                  7   \n",
       "\n",
       "       KPIs_met >80%  awards_won?  avg_training_score  is_promoted  \n",
       "48114              1            0                  81            1  \n",
       "1281               0            0                  48            0  \n",
       "31767              1            0                  79            0  \n",
       "45226              0            0                  87            0  \n",
       "19940              0            0                  67            0  "
      ]
     },
     "execution_count": 9,
     "metadata": {},
     "output_type": "execute_result"
    }
   ],
   "source": [
    "train.head()"
   ]
  },
  {
   "cell_type": "code",
   "execution_count": 10,
   "metadata": {},
   "outputs": [],
   "source": [
    "# filling nan values in education \n"
   ]
  },
  {
   "cell_type": "code",
   "execution_count": 11,
   "metadata": {},
   "outputs": [],
   "source": [
    "train['previous_year_rating']=train['previous_year_rating'].fillna(train.previous_year_rating.mode()[0])\n",
    "train['education'] = train['education'].fillna(train['education'].mode()[0])\n",
    "\n",
    "test['previous_year_rating']=test['previous_year_rating'].fillna(test.previous_year_rating.mode()[0])\n",
    "test['education'] = test['education'].fillna(test['education'].mode()[0])"
   ]
  },
  {
   "cell_type": "code",
   "execution_count": 12,
   "metadata": {},
   "outputs": [
    {
     "data": {
      "text/plain": [
       "department              0\n",
       "region                  0\n",
       "education               0\n",
       "gender                  0\n",
       "recruitment_channel     0\n",
       "no_of_trainings         0\n",
       "age                     0\n",
       "previous_year_rating    0\n",
       "length_of_service       0\n",
       "KPIs_met >80%           0\n",
       "awards_won?             0\n",
       "avg_training_score      0\n",
       "is_promoted             0\n",
       "dtype: int64"
      ]
     },
     "execution_count": 12,
     "metadata": {},
     "output_type": "execute_result"
    }
   ],
   "source": [
    "train.isnull().sum()"
   ]
  },
  {
   "cell_type": "code",
   "execution_count": 13,
   "metadata": {},
   "outputs": [
    {
     "data": {
      "text/plain": [
       "array([\"Bachelor's\", \"Master's & above\", 'Below Secondary'], dtype=object)"
      ]
     },
     "execution_count": 13,
     "metadata": {},
     "output_type": "execute_result"
    }
   ],
   "source": [
    "train.education.unique()"
   ]
  },
  {
   "cell_type": "code",
   "execution_count": 14,
   "metadata": {},
   "outputs": [],
   "source": [
    "# encoding education \n",
    "\n",
    "education_mapper = {\"Master's & above\":3, \"Bachelor's\":2,\"Below Secondary\":1}\n",
    "gender_mapper = {\"m\":1, \"f\":2}"
   ]
  },
  {
   "cell_type": "code",
   "execution_count": 15,
   "metadata": {},
   "outputs": [],
   "source": [
    "train['education_scaled'] = train['education'].replace(education_mapper)\n",
    "test['education_scaled'] = test['education'].replace(education_mapper)\n",
    "train['education']=train['education_scaled']\n",
    "train.drop(['education_scaled'],axis=1,inplace=True)\n",
    "\n",
    "train['gender'] = train['gender'].replace(gender_mapper)\n",
    "test['gender'] = test['gender'].replace(gender_mapper)\n",
    "\n",
    "\n",
    "test['education']=test['education_scaled']\n",
    "test.drop(['education_scaled'],axis=1,inplace=True)"
   ]
  },
  {
   "cell_type": "code",
   "execution_count": 16,
   "metadata": {},
   "outputs": [
    {
     "data": {
      "text/html": [
       "<div>\n",
       "<style scoped>\n",
       "    .dataframe tbody tr th:only-of-type {\n",
       "        vertical-align: middle;\n",
       "    }\n",
       "\n",
       "    .dataframe tbody tr th {\n",
       "        vertical-align: top;\n",
       "    }\n",
       "\n",
       "    .dataframe thead th {\n",
       "        text-align: right;\n",
       "    }\n",
       "</style>\n",
       "<table border=\"1\" class=\"dataframe\">\n",
       "  <thead>\n",
       "    <tr style=\"text-align: right;\">\n",
       "      <th></th>\n",
       "      <th>department</th>\n",
       "      <th>region</th>\n",
       "      <th>education</th>\n",
       "      <th>gender</th>\n",
       "      <th>recruitment_channel</th>\n",
       "      <th>no_of_trainings</th>\n",
       "      <th>age</th>\n",
       "      <th>previous_year_rating</th>\n",
       "      <th>length_of_service</th>\n",
       "      <th>KPIs_met &gt;80%</th>\n",
       "      <th>awards_won?</th>\n",
       "      <th>avg_training_score</th>\n",
       "      <th>is_promoted</th>\n",
       "    </tr>\n",
       "  </thead>\n",
       "  <tbody>\n",
       "    <tr>\n",
       "      <th>48114</th>\n",
       "      <td>1</td>\n",
       "      <td>15</td>\n",
       "      <td>2</td>\n",
       "      <td>1</td>\n",
       "      <td>2</td>\n",
       "      <td>2</td>\n",
       "      <td>29</td>\n",
       "      <td>2.0</td>\n",
       "      <td>7</td>\n",
       "      <td>1</td>\n",
       "      <td>0</td>\n",
       "      <td>81</td>\n",
       "      <td>1</td>\n",
       "    </tr>\n",
       "    <tr>\n",
       "      <th>1281</th>\n",
       "      <td>8</td>\n",
       "      <td>22</td>\n",
       "      <td>2</td>\n",
       "      <td>1</td>\n",
       "      <td>1</td>\n",
       "      <td>1</td>\n",
       "      <td>46</td>\n",
       "      <td>3.0</td>\n",
       "      <td>6</td>\n",
       "      <td>0</td>\n",
       "      <td>0</td>\n",
       "      <td>48</td>\n",
       "      <td>0</td>\n",
       "    </tr>\n",
       "    <tr>\n",
       "      <th>31767</th>\n",
       "      <td>9</td>\n",
       "      <td>32</td>\n",
       "      <td>2</td>\n",
       "      <td>1</td>\n",
       "      <td>1</td>\n",
       "      <td>1</td>\n",
       "      <td>28</td>\n",
       "      <td>5.0</td>\n",
       "      <td>3</td>\n",
       "      <td>1</td>\n",
       "      <td>0</td>\n",
       "      <td>79</td>\n",
       "      <td>0</td>\n",
       "    </tr>\n",
       "    <tr>\n",
       "      <th>45226</th>\n",
       "      <td>1</td>\n",
       "      <td>26</td>\n",
       "      <td>2</td>\n",
       "      <td>1</td>\n",
       "      <td>3</td>\n",
       "      <td>2</td>\n",
       "      <td>27</td>\n",
       "      <td>5.0</td>\n",
       "      <td>4</td>\n",
       "      <td>0</td>\n",
       "      <td>0</td>\n",
       "      <td>87</td>\n",
       "      <td>0</td>\n",
       "    </tr>\n",
       "    <tr>\n",
       "      <th>19940</th>\n",
       "      <td>6</td>\n",
       "      <td>2</td>\n",
       "      <td>3</td>\n",
       "      <td>1</td>\n",
       "      <td>1</td>\n",
       "      <td>1</td>\n",
       "      <td>42</td>\n",
       "      <td>4.0</td>\n",
       "      <td>7</td>\n",
       "      <td>0</td>\n",
       "      <td>0</td>\n",
       "      <td>67</td>\n",
       "      <td>0</td>\n",
       "    </tr>\n",
       "  </tbody>\n",
       "</table>\n",
       "</div>"
      ],
      "text/plain": [
       "       department  region  education  gender  recruitment_channel  \\\n",
       "48114           1      15          2       1                    2   \n",
       "1281            8      22          2       1                    1   \n",
       "31767           9      32          2       1                    1   \n",
       "45226           1      26          2       1                    3   \n",
       "19940           6       2          3       1                    1   \n",
       "\n",
       "       no_of_trainings  age  previous_year_rating  length_of_service  \\\n",
       "48114                2   29                   2.0                  7   \n",
       "1281                 1   46                   3.0                  6   \n",
       "31767                1   28                   5.0                  3   \n",
       "45226                2   27                   5.0                  4   \n",
       "19940                1   42                   4.0                  7   \n",
       "\n",
       "       KPIs_met >80%  awards_won?  avg_training_score  is_promoted  \n",
       "48114              1            0                  81            1  \n",
       "1281               0            0                  48            0  \n",
       "31767              1            0                  79            0  \n",
       "45226              0            0                  87            0  \n",
       "19940              0            0                  67            0  "
      ]
     },
     "execution_count": 16,
     "metadata": {},
     "output_type": "execute_result"
    }
   ],
   "source": [
    "train.head()"
   ]
  },
  {
   "cell_type": "code",
   "execution_count": 17,
   "metadata": {},
   "outputs": [
    {
     "data": {
      "text/html": [
       "<div>\n",
       "<style scoped>\n",
       "    .dataframe tbody tr th:only-of-type {\n",
       "        vertical-align: middle;\n",
       "    }\n",
       "\n",
       "    .dataframe tbody tr th {\n",
       "        vertical-align: top;\n",
       "    }\n",
       "\n",
       "    .dataframe thead th {\n",
       "        text-align: right;\n",
       "    }\n",
       "</style>\n",
       "<table border=\"1\" class=\"dataframe\">\n",
       "  <thead>\n",
       "    <tr style=\"text-align: right;\">\n",
       "      <th></th>\n",
       "      <th>department</th>\n",
       "      <th>region</th>\n",
       "      <th>education</th>\n",
       "      <th>gender</th>\n",
       "      <th>recruitment_channel</th>\n",
       "      <th>no_of_trainings</th>\n",
       "      <th>age</th>\n",
       "      <th>previous_year_rating</th>\n",
       "      <th>length_of_service</th>\n",
       "      <th>KPIs_met &gt;80%</th>\n",
       "      <th>awards_won?</th>\n",
       "      <th>avg_training_score</th>\n",
       "      <th>is_promoted</th>\n",
       "    </tr>\n",
       "  </thead>\n",
       "  <tbody>\n",
       "    <tr>\n",
       "      <th>count</th>\n",
       "      <td>54808.000000</td>\n",
       "      <td>54808.000000</td>\n",
       "      <td>54808.000000</td>\n",
       "      <td>54808.000000</td>\n",
       "      <td>54808.000000</td>\n",
       "      <td>54808.000000</td>\n",
       "      <td>54808.000000</td>\n",
       "      <td>54808.000000</td>\n",
       "      <td>54808.000000</td>\n",
       "      <td>54808.000000</td>\n",
       "      <td>54808.000000</td>\n",
       "      <td>54808.000000</td>\n",
       "      <td>54808.000000</td>\n",
       "    </tr>\n",
       "    <tr>\n",
       "      <th>mean</th>\n",
       "      <td>5.972796</td>\n",
       "      <td>16.428970</td>\n",
       "      <td>2.257627</td>\n",
       "      <td>1.297621</td>\n",
       "      <td>1.868158</td>\n",
       "      <td>1.253011</td>\n",
       "      <td>34.803915</td>\n",
       "      <td>3.304481</td>\n",
       "      <td>5.865512</td>\n",
       "      <td>0.351974</td>\n",
       "      <td>0.023172</td>\n",
       "      <td>63.386750</td>\n",
       "      <td>0.085170</td>\n",
       "    </tr>\n",
       "    <tr>\n",
       "      <th>std</th>\n",
       "      <td>2.506046</td>\n",
       "      <td>8.764954</td>\n",
       "      <td>0.469717</td>\n",
       "      <td>0.457216</td>\n",
       "      <td>0.980713</td>\n",
       "      <td>0.609264</td>\n",
       "      <td>7.660169</td>\n",
       "      <td>1.214770</td>\n",
       "      <td>4.265094</td>\n",
       "      <td>0.477590</td>\n",
       "      <td>0.150450</td>\n",
       "      <td>13.371559</td>\n",
       "      <td>0.279137</td>\n",
       "    </tr>\n",
       "    <tr>\n",
       "      <th>min</th>\n",
       "      <td>1.000000</td>\n",
       "      <td>1.000000</td>\n",
       "      <td>1.000000</td>\n",
       "      <td>1.000000</td>\n",
       "      <td>1.000000</td>\n",
       "      <td>1.000000</td>\n",
       "      <td>20.000000</td>\n",
       "      <td>1.000000</td>\n",
       "      <td>1.000000</td>\n",
       "      <td>0.000000</td>\n",
       "      <td>0.000000</td>\n",
       "      <td>39.000000</td>\n",
       "      <td>0.000000</td>\n",
       "    </tr>\n",
       "    <tr>\n",
       "      <th>25%</th>\n",
       "      <td>5.000000</td>\n",
       "      <td>12.000000</td>\n",
       "      <td>2.000000</td>\n",
       "      <td>1.000000</td>\n",
       "      <td>1.000000</td>\n",
       "      <td>1.000000</td>\n",
       "      <td>29.000000</td>\n",
       "      <td>3.000000</td>\n",
       "      <td>3.000000</td>\n",
       "      <td>0.000000</td>\n",
       "      <td>0.000000</td>\n",
       "      <td>51.000000</td>\n",
       "      <td>0.000000</td>\n",
       "    </tr>\n",
       "    <tr>\n",
       "      <th>50%</th>\n",
       "      <td>6.000000</td>\n",
       "      <td>15.000000</td>\n",
       "      <td>2.000000</td>\n",
       "      <td>1.000000</td>\n",
       "      <td>1.000000</td>\n",
       "      <td>1.000000</td>\n",
       "      <td>33.000000</td>\n",
       "      <td>3.000000</td>\n",
       "      <td>5.000000</td>\n",
       "      <td>0.000000</td>\n",
       "      <td>0.000000</td>\n",
       "      <td>60.000000</td>\n",
       "      <td>0.000000</td>\n",
       "    </tr>\n",
       "    <tr>\n",
       "      <th>75%</th>\n",
       "      <td>8.000000</td>\n",
       "      <td>22.000000</td>\n",
       "      <td>3.000000</td>\n",
       "      <td>2.000000</td>\n",
       "      <td>3.000000</td>\n",
       "      <td>1.000000</td>\n",
       "      <td>39.000000</td>\n",
       "      <td>4.000000</td>\n",
       "      <td>7.000000</td>\n",
       "      <td>1.000000</td>\n",
       "      <td>0.000000</td>\n",
       "      <td>76.000000</td>\n",
       "      <td>0.000000</td>\n",
       "    </tr>\n",
       "    <tr>\n",
       "      <th>max</th>\n",
       "      <td>9.000000</td>\n",
       "      <td>34.000000</td>\n",
       "      <td>3.000000</td>\n",
       "      <td>2.000000</td>\n",
       "      <td>3.000000</td>\n",
       "      <td>10.000000</td>\n",
       "      <td>60.000000</td>\n",
       "      <td>5.000000</td>\n",
       "      <td>37.000000</td>\n",
       "      <td>1.000000</td>\n",
       "      <td>1.000000</td>\n",
       "      <td>99.000000</td>\n",
       "      <td>1.000000</td>\n",
       "    </tr>\n",
       "  </tbody>\n",
       "</table>\n",
       "</div>"
      ],
      "text/plain": [
       "         department        region     education        gender  \\\n",
       "count  54808.000000  54808.000000  54808.000000  54808.000000   \n",
       "mean       5.972796     16.428970      2.257627      1.297621   \n",
       "std        2.506046      8.764954      0.469717      0.457216   \n",
       "min        1.000000      1.000000      1.000000      1.000000   \n",
       "25%        5.000000     12.000000      2.000000      1.000000   \n",
       "50%        6.000000     15.000000      2.000000      1.000000   \n",
       "75%        8.000000     22.000000      3.000000      2.000000   \n",
       "max        9.000000     34.000000      3.000000      2.000000   \n",
       "\n",
       "       recruitment_channel  no_of_trainings           age  \\\n",
       "count         54808.000000     54808.000000  54808.000000   \n",
       "mean              1.868158         1.253011     34.803915   \n",
       "std               0.980713         0.609264      7.660169   \n",
       "min               1.000000         1.000000     20.000000   \n",
       "25%               1.000000         1.000000     29.000000   \n",
       "50%               1.000000         1.000000     33.000000   \n",
       "75%               3.000000         1.000000     39.000000   \n",
       "max               3.000000        10.000000     60.000000   \n",
       "\n",
       "       previous_year_rating  length_of_service  KPIs_met >80%   awards_won?  \\\n",
       "count          54808.000000       54808.000000   54808.000000  54808.000000   \n",
       "mean               3.304481           5.865512       0.351974      0.023172   \n",
       "std                1.214770           4.265094       0.477590      0.150450   \n",
       "min                1.000000           1.000000       0.000000      0.000000   \n",
       "25%                3.000000           3.000000       0.000000      0.000000   \n",
       "50%                3.000000           5.000000       0.000000      0.000000   \n",
       "75%                4.000000           7.000000       1.000000      0.000000   \n",
       "max                5.000000          37.000000       1.000000      1.000000   \n",
       "\n",
       "       avg_training_score   is_promoted  \n",
       "count        54808.000000  54808.000000  \n",
       "mean            63.386750      0.085170  \n",
       "std             13.371559      0.279137  \n",
       "min             39.000000      0.000000  \n",
       "25%             51.000000      0.000000  \n",
       "50%             60.000000      0.000000  \n",
       "75%             76.000000      0.000000  \n",
       "max             99.000000      1.000000  "
      ]
     },
     "execution_count": 17,
     "metadata": {},
     "output_type": "execute_result"
    }
   ],
   "source": [
    "train.describe()"
   ]
  },
  {
   "cell_type": "code",
   "execution_count": 18,
   "metadata": {},
   "outputs": [],
   "source": [
    "train['joining_age']=train['age']-train['length_of_service']\n",
    "test['joining_age']=test['age']-test['length_of_service']\n",
    "\n",
    "train['training_hours']=train['no_of_trainings']*train['avg_training_score']\n",
    "test['training_hours']=test['no_of_trainings']*test['avg_training_score']"
   ]
  },
  {
   "cell_type": "markdown",
   "metadata": {},
   "source": [
    "# Data visualisation "
   ]
  },
  {
   "cell_type": "code",
   "execution_count": 19,
   "metadata": {},
   "outputs": [
    {
     "data": {
      "text/plain": [
       "<matplotlib.axes._subplots.AxesSubplot at 0x1f56a75c390>"
      ]
     },
     "execution_count": 19,
     "metadata": {},
     "output_type": "execute_result"
    },
    {
     "data": {
      "image/png": "[encoded data removed]",
      "text/plain": [
       "<Figure size 432x288 with 1 Axes>"
      ]
     },
     "metadata": {
      "needs_background": "light"
     },
     "output_type": "display_data"
    }
   ],
   "source": [
    "# age distribution \n",
    "sns.boxplot(x=\"is_promoted\",y=\"age\",data=train, palette=\"coolwarm\")"
   ]
  },
  {
   "cell_type": "markdown",
   "metadata": {},
   "source": [
    "Age distribution of the employees with the gender showing most of the employees are in the age group of 30 to 38 with some outliers in the age range of 55 above "
   ]
  },
  {
   "cell_type": "code",
   "execution_count": 20,
   "metadata": {},
   "outputs": [
    {
     "data": {
      "text/plain": [
       "(array([  870.,  7031., 13751., 12531.,  8300.,  5093.,  2861.,  1908.,\n",
       "         1322.,  1141.]),\n",
       " array([20., 24., 28., 32., 36., 40., 44., 48., 52., 56., 60.]),\n",
       " <a list of 10 Patch objects>)"
      ]
     },
     "execution_count": 20,
     "metadata": {},
     "output_type": "execute_result"
    },
    {
     "data": {
      "image/png": "[encoded data removed]",
      "text/plain": [
       "<Figure size 432x288 with 1 Axes>"
      ]
     },
     "metadata": {
      "needs_background": "light"
     },
     "output_type": "display_data"
    }
   ],
   "source": [
    "plt.hist(train.age)\n"
   ]
  },
  {
   "cell_type": "markdown",
   "metadata": {},
   "source": [
    "we can observe that the age of most of the people are in range of 30-38 and there is very less number of people in lower and higher age group"
   ]
  },
  {
   "cell_type": "code",
   "execution_count": 22,
   "metadata": {
    "scrolled": true
   },
   "outputs": [
    {
     "data": {
      "text/plain": [
       "<matplotlib.axes._subplots.AxesSubplot at 0x1f56b12d208>"
      ]
     },
     "execution_count": 22,
     "metadata": {},
     "output_type": "execute_result"
    },
    {
     "data": {
      "image/png": "[encoded data removed]",
      "text/plain": [
       "<Figure size 432x288 with 1 Axes>"
      ]
     },
     "metadata": {
      "needs_background": "light"
     },
     "output_type": "display_data"
    }
   ],
   "source": [
    "sns.countplot(x=\"education\", data=trainCopy)\n"
   ]
  },
  {
   "cell_type": "markdown",
   "metadata": {},
   "source": [
    "The education trend shows that most of the employees are Bachelor(2) and very less of them are below seconday\n",
    "some of the employees are having masters and above too(1)"
   ]
  },
  {
   "cell_type": "code",
   "execution_count": 23,
   "metadata": {},
   "outputs": [
    {
     "data": {
      "text/plain": [
       "<matplotlib.axes._subplots.AxesSubplot at 0x1f56b14cf60>"
      ]
     },
     "execution_count": 23,
     "metadata": {},
     "output_type": "execute_result"
    },
    {
     "data": {
      "image/png": "[encoded data removed]",
      "text/plain": [
       "<Figure size 432x288 with 1 Axes>"
      ]
     },
     "metadata": {
      "needs_background": "light"
     },
     "output_type": "display_data"
    }
   ],
   "source": [
    "sns.countplot(x=\"gender\", data=trainCopy)\n"
   ]
  },
  {
   "cell_type": "markdown",
   "metadata": {},
   "source": [
    "1 is for males and 2 is for females , the proportion of males and females in the company is not equal "
   ]
  },
  {
   "cell_type": "code",
   "execution_count": 24,
   "metadata": {},
   "outputs": [
    {
     "data": {
      "text/plain": [
       "(array([  606., 11397.,  8466., 10883.,  4571.,  4652.,  4915.,  7154.,\n",
       "         1801.,   363.]),\n",
       " array([39., 45., 51., 57., 63., 69., 75., 81., 87., 93., 99.]),\n",
       " <a list of 10 Patch objects>)"
      ]
     },
     "execution_count": 24,
     "metadata": {},
     "output_type": "execute_result"
    },
    {
     "data": {
      "image/png": "[encoded data removed]",
      "text/plain": [
       "<Figure size 432x288 with 1 Axes>"
      ]
     },
     "metadata": {
      "needs_background": "light"
     },
     "output_type": "display_data"
    }
   ],
   "source": [
    "plt.hist(train.avg_training_score)"
   ]
  },
  {
   "cell_type": "markdown",
   "metadata": {},
   "source": [
    "most of the employees are having score between 40 to 60 while some are having scores aove 80 with large no of employees "
   ]
  },
  {
   "cell_type": "code",
   "execution_count": 25,
   "metadata": {},
   "outputs": [
    {
     "data": {
      "text/plain": [
       "<matplotlib.axes._subplots.AxesSubplot at 0x1f56b160278>"
      ]
     },
     "execution_count": 25,
     "metadata": {},
     "output_type": "execute_result"
    },
    {
     "data": {
      "image/png": "[encoded data removed]",
      "text/plain": [
       "<Figure size 432x288 with 1 Axes>"
      ]
     },
     "metadata": {
      "needs_background": "light"
     },
     "output_type": "display_data"
    }
   ],
   "source": [
    "sns.countplot(x=\"awards_won?\", data=trainCopy)"
   ]
  },
  {
   "cell_type": "markdown",
   "metadata": {},
   "source": [
    "very less number of employee got awards "
   ]
  },
  {
   "cell_type": "code",
   "execution_count": 26,
   "metadata": {},
   "outputs": [
    {
     "data": {
      "text/plain": [
       "<matplotlib.axes._subplots.AxesSubplot at 0x1a31bdcdd30>"
      ]
     },
     "execution_count": 26,
     "metadata": {},
     "output_type": "execute_result"
    },
    {
     "data": {
      "image/png": "[encoded data removed]",
      "text/plain": [
       "<Figure size 432x288 with 1 Axes>"
      ]
     },
     "metadata": {
      "needs_background": "light"
     },
     "output_type": "display_data"
    }
   ],
   "source": [
    "#plt.hist(train['KPIs_met >80%'])\n",
    "sns.countplot(x=\"KPIs_met >80%\", data=train)\n"
   ]
  },
  {
   "cell_type": "code",
   "execution_count": 26,
   "metadata": {},
   "outputs": [
    {
     "data": {
      "text/plain": [
       "(array([2.510e+04, 1.900e+04, 5.738e+03, 2.623e+03, 1.372e+03, 5.960e+02,\n",
       "        2.270e+02, 9.600e+01, 5.100e+01, 5.000e+00]),\n",
       " array([ 1. ,  4.6,  8.2, 11.8, 15.4, 19. , 22.6, 26.2, 29.8, 33.4, 37. ]),\n",
       " <a list of 10 Patch objects>)"
      ]
     },
     "execution_count": 26,
     "metadata": {},
     "output_type": "execute_result"
    },
    {
     "data": {
      "image/png": "[encoded data removed]",
      "text/plain": [
       "<Figure size 432x288 with 1 Axes>"
      ]
     },
     "metadata": {
      "needs_background": "light"
     },
     "output_type": "display_data"
    }
   ],
   "source": [
    "plt.hist(train['length_of_service'])"
   ]
  },
  {
   "cell_type": "code",
   "execution_count": null,
   "metadata": {},
   "outputs": [],
   "source": []
  },
  {
   "cell_type": "code",
   "execution_count": 27,
   "metadata": {},
   "outputs": [
    {
     "data": {
      "text/plain": [
       "Text(0, 0.5, 'is promoted')"
      ]
     },
     "execution_count": 27,
     "metadata": {},
     "output_type": "execute_result"
    },
    {
     "data": {
      "image/png": "[encoded data removed]",
      "text/plain": [
       "<Figure size 432x288 with 1 Axes>"
      ]
     },
     "metadata": {
      "needs_background": "light"
     },
     "output_type": "display_data"
    }
   ],
   "source": [
    "pd.crosstab(train.gender,train.is_promoted).plot(kind='bar')\n",
    "plt.title('promotion frequency')\n",
    "plt.xlabel('gender')\n",
    "plt.ylabel('is promoted')"
   ]
  },
  {
   "cell_type": "markdown",
   "metadata": {},
   "source": [
    "The ratio of promotion vs non promotion is amlost equal for both gender, thus as assumed the gender does not affects the promotion"
   ]
  },
  {
   "cell_type": "code",
   "execution_count": 28,
   "metadata": {},
   "outputs": [
    {
     "data": {
      "text/plain": [
       "<matplotlib.axes._subplots.AxesSubplot at 0x1f56b83c4e0>"
      ]
     },
     "execution_count": 28,
     "metadata": {},
     "output_type": "execute_result"
    },
    {
     "data": {
      "image/png": "[encoded data removed]",
      "text/plain": [
       "<Figure size 432x288 with 1 Axes>"
      ]
     },
     "metadata": {
      "needs_background": "light"
     },
     "output_type": "display_data"
    }
   ],
   "source": [
    "sns.boxplot(x=\"education\", y=\"age\", hue=\"is_promoted\",data=trainCopy, palette=\"Set3\")"
   ]
  },
  {
   "cell_type": "markdown",
   "metadata": {},
   "source": [
    "we can observe that the employees having age above 35 are mostly in the higher education and people below 25 are in the below secondary education group"
   ]
  },
  {
   "cell_type": "code",
   "execution_count": 29,
   "metadata": {},
   "outputs": [
    {
     "data": {
      "text/plain": [
       "<matplotlib.axes._subplots.AxesSubplot at 0x1f56b9a8fd0>"
      ]
     },
     "execution_count": 29,
     "metadata": {},
     "output_type": "execute_result"
    },
    {
     "data": {
      "image/png": "[encoded data removed]",
      "text/plain": [
       "<Figure size 432x288 with 1 Axes>"
      ]
     },
     "metadata": {
      "needs_background": "light"
     },
     "output_type": "display_data"
    }
   ],
   "source": [
    "sns.boxplot(x=\"previous_year_rating\", y=\"length_of_service\", hue=\"is_promoted\",data=trainCopy, palette=\"Set3\")"
   ]
  },
  {
   "cell_type": "markdown",
   "metadata": {},
   "source": [
    "we can observe that alaong all the range of previous year rating, the length of service is not actually affecting the rating much"
   ]
  },
  {
   "cell_type": "code",
   "execution_count": 30,
   "metadata": {},
   "outputs": [
    {
     "data": {
      "text/plain": [
       "Text(0, 0.5, 'is promoted')"
      ]
     },
     "execution_count": 30,
     "metadata": {},
     "output_type": "execute_result"
    },
    {
     "data": {
      "image/png": "[encoded data removed]",
      "text/plain": [
       "<Figure size 432x288 with 1 Axes>"
      ]
     },
     "metadata": {
      "needs_background": "light"
     },
     "output_type": "display_data"
    }
   ],
   "source": [
    "pd.crosstab(train.education,train.is_promoted).plot(kind='bar')\n",
    "plt.title('promotion frequency')\n",
    "plt.xlabel('education')\n",
    "plt.ylabel('is promoted')"
   ]
  },
  {
   "cell_type": "markdown",
   "metadata": {},
   "source": [
    "we can observe that only 67  people having education below Secondary are promoted (which can be observed in the below section where we check the hypothesis assumed by the visualisation)\n",
    "\n",
    "The ratio of getting promoted is higher for people having education masters and above\n",
    "\n",
    "Thus education surely affects the promotion"
   ]
  },
  {
   "cell_type": "code",
   "execution_count": 31,
   "metadata": {},
   "outputs": [
    {
     "data": {
      "text/plain": [
       "Text(0, 0.5, 'is promoted')"
      ]
     },
     "execution_count": 31,
     "metadata": {},
     "output_type": "execute_result"
    },
    {
     "data": {
      "image/png": "[encoded data removed]",
      "text/plain": [
       "<Figure size 432x288 with 1 Axes>"
      ]
     },
     "metadata": {
      "needs_background": "light"
     },
     "output_type": "display_data"
    }
   ],
   "source": [
    "pd.crosstab(train.previous_year_rating,train.is_promoted).plot(kind='bar')\n",
    "plt.title('promotion frequency')\n",
    "plt.xlabel('previous_year_rating')\n",
    "plt.ylabel('is promoted')"
   ]
  },
  {
   "cell_type": "markdown",
   "metadata": {},
   "source": [
    "we can observe that the rating of the previous year affects the promotion as people with low rating ie below 3 are less likely to be promoted"
   ]
  },
  {
   "cell_type": "code",
   "execution_count": 32,
   "metadata": {},
   "outputs": [
    {
     "data": {
      "text/html": [
       "<div>\n",
       "<style scoped>\n",
       "    .dataframe tbody tr th:only-of-type {\n",
       "        vertical-align: middle;\n",
       "    }\n",
       "\n",
       "    .dataframe tbody tr th {\n",
       "        vertical-align: top;\n",
       "    }\n",
       "\n",
       "    .dataframe thead th {\n",
       "        text-align: right;\n",
       "    }\n",
       "</style>\n",
       "<table border=\"1\" class=\"dataframe\">\n",
       "  <thead>\n",
       "    <tr style=\"text-align: right;\">\n",
       "      <th>is_promoted</th>\n",
       "      <th>0</th>\n",
       "      <th>1</th>\n",
       "      <th>All</th>\n",
       "    </tr>\n",
       "    <tr>\n",
       "      <th>previous_year_rating</th>\n",
       "      <th></th>\n",
       "      <th></th>\n",
       "      <th></th>\n",
       "    </tr>\n",
       "  </thead>\n",
       "  <tbody>\n",
       "    <tr>\n",
       "      <th>1.0</th>\n",
       "      <td>6135</td>\n",
       "      <td>88</td>\n",
       "      <td>6223</td>\n",
       "    </tr>\n",
       "    <tr>\n",
       "      <th>2.0</th>\n",
       "      <td>4044</td>\n",
       "      <td>181</td>\n",
       "      <td>4225</td>\n",
       "    </tr>\n",
       "    <tr>\n",
       "      <th>3.0</th>\n",
       "      <td>21048</td>\n",
       "      <td>1694</td>\n",
       "      <td>22742</td>\n",
       "    </tr>\n",
       "    <tr>\n",
       "      <th>4.0</th>\n",
       "      <td>9093</td>\n",
       "      <td>784</td>\n",
       "      <td>9877</td>\n",
       "    </tr>\n",
       "    <tr>\n",
       "      <th>5.0</th>\n",
       "      <td>9820</td>\n",
       "      <td>1921</td>\n",
       "      <td>11741</td>\n",
       "    </tr>\n",
       "    <tr>\n",
       "      <th>All</th>\n",
       "      <td>50140</td>\n",
       "      <td>4668</td>\n",
       "      <td>54808</td>\n",
       "    </tr>\n",
       "  </tbody>\n",
       "</table>\n",
       "</div>"
      ],
      "text/plain": [
       "is_promoted               0     1    All\n",
       "previous_year_rating                    \n",
       "1.0                    6135    88   6223\n",
       "2.0                    4044   181   4225\n",
       "3.0                   21048  1694  22742\n",
       "4.0                    9093   784   9877\n",
       "5.0                    9820  1921  11741\n",
       "All                   50140  4668  54808"
      ]
     },
     "execution_count": 32,
     "metadata": {},
     "output_type": "execute_result"
    }
   ],
   "source": [
    "pd.crosstab(train[\"previous_year_rating\"],train[\"is_promoted\"],margins=True)"
   ]
  },
  {
   "cell_type": "markdown",
   "metadata": {},
   "source": [
    "16.3% of 5 star\n",
    "\n",
    "7.9 % of 4 star\n",
    "\n",
    "7.4% of 3 star\n",
    "\n",
    "4.2% of 2 star\n",
    "\n",
    "1.4 % of 1 star \n"
   ]
  },
  {
   "cell_type": "code",
   "execution_count": 33,
   "metadata": {},
   "outputs": [
    {
     "data": {
      "text/plain": [
       "Text(0, 0.5, 'is promoted')"
      ]
     },
     "execution_count": 33,
     "metadata": {},
     "output_type": "execute_result"
    },
    {
     "data": {
      "image/png": "[encoded data removed]",
      "text/plain": [
       "<Figure size 432x288 with 1 Axes>"
      ]
     },
     "metadata": {
      "needs_background": "light"
     },
     "output_type": "display_data"
    }
   ],
   "source": [
    "pd.crosstab(train.age,train.is_promoted).plot(kind='bar')\n",
    "plt.title('promotion frequency')\n",
    "plt.xlabel('age')\n",
    "plt.ylabel('is promoted')"
   ]
  },
  {
   "cell_type": "markdown",
   "metadata": {},
   "source": [
    "we can observe that the age is normally distributed with slight skewness \n",
    "most of the employee in the age range of 27 to 40\n",
    "the chances of promotion also lies in same range thus we have to visualise the relation more "
   ]
  },
  {
   "cell_type": "code",
   "execution_count": 34,
   "metadata": {},
   "outputs": [
    {
     "data": {
      "text/plain": [
       "<matplotlib.axes._subplots.AxesSubplot at 0x1f56ba76ba8>"
      ]
     },
     "execution_count": 34,
     "metadata": {},
     "output_type": "execute_result"
    },
    {
     "data": {
      "image/png": "[encoded data removed]",
      "text/plain": [
       "<Figure size 432x288 with 1 Axes>"
      ]
     },
     "metadata": {
      "needs_background": "light"
     },
     "output_type": "display_data"
    }
   ],
   "source": [
    "sns.boxplot(x=\"previous_year_rating\", y=\"avg_training_score\", hue=\"is_promoted\",data=trainCopy, palette=\"Set3\")"
   ]
  },
  {
   "cell_type": "markdown",
   "metadata": {},
   "source": [
    "we can observe that alaong all the range of previous year rating, people with scores above 60% are more likely to be prmoted then the people with less score"
   ]
  },
  {
   "cell_type": "code",
   "execution_count": 35,
   "metadata": {},
   "outputs": [
    {
     "data": {
      "text/plain": [
       "Text(0, 0.5, 'is promoted')"
      ]
     },
     "execution_count": 35,
     "metadata": {},
     "output_type": "execute_result"
    },
    {
     "data": {
      "image/png": "[encoded data removed]",
      "text/plain": [
       "<Figure size 432x288 with 1 Axes>"
      ]
     },
     "metadata": {
      "needs_background": "light"
     },
     "output_type": "display_data"
    }
   ],
   "source": [
    "pd.crosstab(train['awards_won?'],train.is_promoted).plot(kind='bar')\n",
    "plt.title('promotion frequency')\n",
    "plt.xlabel('awards won')\n",
    "plt.ylabel('is promoted')"
   ]
  },
  {
   "cell_type": "markdown",
   "metadata": {},
   "source": [
    "we can observe that very less number of people won the awards but most of the people who won awards are promoted"
   ]
  },
  {
   "cell_type": "code",
   "execution_count": 36,
   "metadata": {},
   "outputs": [
    {
     "data": {
      "text/html": [
       "<div>\n",
       "<style scoped>\n",
       "    .dataframe tbody tr th:only-of-type {\n",
       "        vertical-align: middle;\n",
       "    }\n",
       "\n",
       "    .dataframe tbody tr th {\n",
       "        vertical-align: top;\n",
       "    }\n",
       "\n",
       "    .dataframe thead th {\n",
       "        text-align: right;\n",
       "    }\n",
       "</style>\n",
       "<table border=\"1\" class=\"dataframe\">\n",
       "  <thead>\n",
       "    <tr style=\"text-align: right;\">\n",
       "      <th>is_promoted</th>\n",
       "      <th>0</th>\n",
       "      <th>1</th>\n",
       "      <th>All</th>\n",
       "    </tr>\n",
       "    <tr>\n",
       "      <th>awards_won?</th>\n",
       "      <th></th>\n",
       "      <th></th>\n",
       "      <th></th>\n",
       "    </tr>\n",
       "  </thead>\n",
       "  <tbody>\n",
       "    <tr>\n",
       "      <th>0</th>\n",
       "      <td>49429</td>\n",
       "      <td>4109</td>\n",
       "      <td>53538</td>\n",
       "    </tr>\n",
       "    <tr>\n",
       "      <th>1</th>\n",
       "      <td>711</td>\n",
       "      <td>559</td>\n",
       "      <td>1270</td>\n",
       "    </tr>\n",
       "    <tr>\n",
       "      <th>All</th>\n",
       "      <td>50140</td>\n",
       "      <td>4668</td>\n",
       "      <td>54808</td>\n",
       "    </tr>\n",
       "  </tbody>\n",
       "</table>\n",
       "</div>"
      ],
      "text/plain": [
       "is_promoted      0     1    All\n",
       "awards_won?                    \n",
       "0            49429  4109  53538\n",
       "1              711   559   1270\n",
       "All          50140  4668  54808"
      ]
     },
     "execution_count": 36,
     "metadata": {},
     "output_type": "execute_result"
    }
   ],
   "source": [
    "pd.crosstab(train[\"awards_won?\"],train[\"is_promoted\"],margins=True)"
   ]
  },
  {
   "cell_type": "markdown",
   "metadata": {},
   "source": [
    "559/1270 = 44% of the people who got award are promoted\n",
    "\n",
    "4109/53524 = 7.6 % of the people who were not awarded got promoted"
   ]
  },
  {
   "cell_type": "code",
   "execution_count": 38,
   "metadata": {},
   "outputs": [
    {
     "data": {
      "text/plain": [
       "<matplotlib.axes._subplots.AxesSubplot at 0x1f56bd80470>"
      ]
     },
     "execution_count": 38,
     "metadata": {},
     "output_type": "execute_result"
    },
    {
     "data": {
      "image/png": "[encoded data removed]",
      "text/plain": [
       "<Figure size 432x288 with 1 Axes>"
      ]
     },
     "metadata": {
      "needs_background": "light"
     },
     "output_type": "display_data"
    }
   ],
   "source": [
    "sns.boxplot(x=\"education\", y=\"age\",data=train, palette=\"Set3\")"
   ]
  },
  {
   "cell_type": "markdown",
   "metadata": {},
   "source": [
    "we can observe that most of the lower age people are in the lowest educated group\n",
    "while the people in higher age group are having higher education"
   ]
  },
  {
   "cell_type": "code",
   "execution_count": 39,
   "metadata": {},
   "outputs": [
    {
     "data": {
      "text/plain": [
       "<matplotlib.axes._subplots.AxesSubplot at 0x1f56f4250b8>"
      ]
     },
     "execution_count": 39,
     "metadata": {},
     "output_type": "execute_result"
    },
    {
     "data": {
      "image/png": "[encoded data removed]",
      "text/plain": [
       "<Figure size 432x288 with 1 Axes>"
      ]
     },
     "metadata": {
      "needs_background": "light"
     },
     "output_type": "display_data"
    }
   ],
   "source": [
    "sns.boxplot(x=\"previous_year_rating\", y=\"avg_training_score\", hue=\"is_promoted\",data=trainCopy, palette=\"Set3\")"
   ]
  },
  {
   "cell_type": "code",
   "execution_count": 35,
   "metadata": {},
   "outputs": [
    {
     "data": {
      "text/plain": [
       "Text(0, 0.5, 'is promoted')"
      ]
     },
     "execution_count": 35,
     "metadata": {},
     "output_type": "execute_result"
    },
    {
     "data": {
      "image/png": "[encoded data removed]",
      "text/plain": [
       "<Figure size 432x288 with 1 Axes>"
      ]
     },
     "metadata": {
      "needs_background": "light"
     },
     "output_type": "display_data"
    }
   ],
   "source": [
    "pd.crosstab(train.gender,train.is_promoted).plot(kind='bar')\n",
    "plt.title('promotion frequency')\n",
    "plt.xlabel('gender')\n",
    "plt.ylabel('is promoted')"
   ]
  },
  {
   "cell_type": "code",
   "execution_count": 41,
   "metadata": {},
   "outputs": [
    {
     "data": {
      "text/html": [
       "<div>\n",
       "<style scoped>\n",
       "    .dataframe tbody tr th:only-of-type {\n",
       "        vertical-align: middle;\n",
       "    }\n",
       "\n",
       "    .dataframe tbody tr th {\n",
       "        vertical-align: top;\n",
       "    }\n",
       "\n",
       "    .dataframe thead th {\n",
       "        text-align: right;\n",
       "    }\n",
       "</style>\n",
       "<table border=\"1\" class=\"dataframe\">\n",
       "  <thead>\n",
       "    <tr style=\"text-align: right;\">\n",
       "      <th>is_promoted</th>\n",
       "      <th>0</th>\n",
       "      <th>1</th>\n",
       "      <th>All</th>\n",
       "    </tr>\n",
       "    <tr>\n",
       "      <th>gender</th>\n",
       "      <th></th>\n",
       "      <th></th>\n",
       "      <th></th>\n",
       "    </tr>\n",
       "  </thead>\n",
       "  <tbody>\n",
       "    <tr>\n",
       "      <th>1</th>\n",
       "      <td>35295</td>\n",
       "      <td>3201</td>\n",
       "      <td>38496</td>\n",
       "    </tr>\n",
       "    <tr>\n",
       "      <th>2</th>\n",
       "      <td>14845</td>\n",
       "      <td>1467</td>\n",
       "      <td>16312</td>\n",
       "    </tr>\n",
       "    <tr>\n",
       "      <th>All</th>\n",
       "      <td>50140</td>\n",
       "      <td>4668</td>\n",
       "      <td>54808</td>\n",
       "    </tr>\n",
       "  </tbody>\n",
       "</table>\n",
       "</div>"
      ],
      "text/plain": [
       "is_promoted      0     1    All\n",
       "gender                         \n",
       "1            35295  3201  38496\n",
       "2            14845  1467  16312\n",
       "All          50140  4668  54808"
      ]
     },
     "execution_count": 41,
     "metadata": {},
     "output_type": "execute_result"
    }
   ],
   "source": [
    "pd.crosstab(train[\"gender\"],train[\"is_promoted\"],margins=True)"
   ]
  },
  {
   "cell_type": "markdown",
   "metadata": {},
   "source": [
    "both men and women are promoted with 8% ratio"
   ]
  },
  {
   "cell_type": "markdown",
   "metadata": {},
   "source": [
    "the ratio of promotion vs non promotion is amlost equal for both gender, thus as assumed the gender does not affects the promotion that significantly"
   ]
  },
  {
   "cell_type": "code",
   "execution_count": 43,
   "metadata": {},
   "outputs": [
    {
     "data": {
      "text/plain": [
       "Text(0, 0.5, 'is promoted')"
      ]
     },
     "execution_count": 43,
     "metadata": {},
     "output_type": "execute_result"
    },
    {
     "data": {
      "image/png": "[encoded data removed]",
      "text/plain": [
       "<Figure size 432x288 with 1 Axes>"
      ]
     },
     "metadata": {
      "needs_background": "light"
     },
     "output_type": "display_data"
    }
   ],
   "source": [
    "pd.crosstab(train.department,train.is_promoted).plot(kind='bar')\n",
    "plt.title('promotion frequency')\n",
    "plt.xlabel('department')\n",
    "plt.ylabel('is promoted')"
   ]
  },
  {
   "cell_type": "code",
   "execution_count": 44,
   "metadata": {},
   "outputs": [
    {
     "data": {
      "text/html": [
       "<div>\n",
       "<style scoped>\n",
       "    .dataframe tbody tr th:only-of-type {\n",
       "        vertical-align: middle;\n",
       "    }\n",
       "\n",
       "    .dataframe tbody tr th {\n",
       "        vertical-align: top;\n",
       "    }\n",
       "\n",
       "    .dataframe thead th {\n",
       "        text-align: right;\n",
       "    }\n",
       "</style>\n",
       "<table border=\"1\" class=\"dataframe\">\n",
       "  <thead>\n",
       "    <tr style=\"text-align: right;\">\n",
       "      <th>is_promoted</th>\n",
       "      <th>0</th>\n",
       "      <th>1</th>\n",
       "      <th>All</th>\n",
       "    </tr>\n",
       "    <tr>\n",
       "      <th>department</th>\n",
       "      <th></th>\n",
       "      <th></th>\n",
       "      <th></th>\n",
       "    </tr>\n",
       "  </thead>\n",
       "  <tbody>\n",
       "    <tr>\n",
       "      <th>1</th>\n",
       "      <td>4840</td>\n",
       "      <td>512</td>\n",
       "      <td>5352</td>\n",
       "    </tr>\n",
       "    <tr>\n",
       "      <th>2</th>\n",
       "      <td>2330</td>\n",
       "      <td>206</td>\n",
       "      <td>2536</td>\n",
       "    </tr>\n",
       "    <tr>\n",
       "      <th>3</th>\n",
       "      <td>2282</td>\n",
       "      <td>136</td>\n",
       "      <td>2418</td>\n",
       "    </tr>\n",
       "    <tr>\n",
       "      <th>4</th>\n",
       "      <td>986</td>\n",
       "      <td>53</td>\n",
       "      <td>1039</td>\n",
       "    </tr>\n",
       "    <tr>\n",
       "      <th>5</th>\n",
       "      <td>10325</td>\n",
       "      <td>1023</td>\n",
       "      <td>11348</td>\n",
       "    </tr>\n",
       "    <tr>\n",
       "      <th>6</th>\n",
       "      <td>6450</td>\n",
       "      <td>688</td>\n",
       "      <td>7138</td>\n",
       "    </tr>\n",
       "    <tr>\n",
       "      <th>7</th>\n",
       "      <td>930</td>\n",
       "      <td>69</td>\n",
       "      <td>999</td>\n",
       "    </tr>\n",
       "    <tr>\n",
       "      <th>8</th>\n",
       "      <td>15627</td>\n",
       "      <td>1213</td>\n",
       "      <td>16840</td>\n",
       "    </tr>\n",
       "    <tr>\n",
       "      <th>9</th>\n",
       "      <td>6370</td>\n",
       "      <td>768</td>\n",
       "      <td>7138</td>\n",
       "    </tr>\n",
       "    <tr>\n",
       "      <th>All</th>\n",
       "      <td>50140</td>\n",
       "      <td>4668</td>\n",
       "      <td>54808</td>\n",
       "    </tr>\n",
       "  </tbody>\n",
       "</table>\n",
       "</div>"
      ],
      "text/plain": [
       "is_promoted      0     1    All\n",
       "department                     \n",
       "1             4840   512   5352\n",
       "2             2330   206   2536\n",
       "3             2282   136   2418\n",
       "4              986    53   1039\n",
       "5            10325  1023  11348\n",
       "6             6450   688   7138\n",
       "7              930    69    999\n",
       "8            15627  1213  16840\n",
       "9             6370   768   7138\n",
       "All          50140  4668  54808"
      ]
     },
     "execution_count": 44,
     "metadata": {},
     "output_type": "execute_result"
    }
   ],
   "source": [
    "pd.crosstab(train[\"department\"],train[\"is_promoted\"],margins=True)"
   ]
  },
  {
   "cell_type": "markdown",
   "metadata": {},
   "source": [
    "Department also affects the promotion as people from department 4 and 7 are less chances to be promoted "
   ]
  },
  {
   "cell_type": "code",
   "execution_count": 45,
   "metadata": {},
   "outputs": [
    {
     "data": {
      "text/plain": [
       "Text(0, 0.5, 'is promoted')"
      ]
     },
     "execution_count": 45,
     "metadata": {},
     "output_type": "execute_result"
    },
    {
     "data": {
      "image/png": "[encoded data removed]",
      "text/plain": [
       "<Figure size 432x288 with 1 Axes>"
      ]
     },
     "metadata": {
      "needs_background": "light"
     },
     "output_type": "display_data"
    }
   ],
   "source": [
    "pd.crosstab(train.region,train.is_promoted).plot(kind='bar')\n",
    "plt.title('promotion frequency')\n",
    "plt.xlabel('region')\n",
    "plt.ylabel('is promoted')"
   ]
  },
  {
   "cell_type": "code",
   "execution_count": null,
   "metadata": {},
   "outputs": [],
   "source": []
  },
  {
   "cell_type": "code",
   "execution_count": 46,
   "metadata": {},
   "outputs": [
    {
     "data": {
      "text/plain": [
       "Text(0, 0.5, 'is promoted')"
      ]
     },
     "execution_count": 46,
     "metadata": {},
     "output_type": "execute_result"
    },
    {
     "data": {
      "image/png": "[encoded data removed]",
      "text/plain": [
       "<Figure size 432x288 with 1 Axes>"
      ]
     },
     "metadata": {
      "needs_background": "light"
     },
     "output_type": "display_data"
    }
   ],
   "source": [
    "pd.crosstab(train.no_of_trainings,train.is_promoted).plot(kind='bar')\n",
    "plt.title('promotion frequency')\n",
    "plt.xlabel('number of training')\n",
    "plt.ylabel('is promoted')"
   ]
  },
  {
   "cell_type": "code",
   "execution_count": 47,
   "metadata": {},
   "outputs": [
    {
     "data": {
      "text/html": [
       "<div>\n",
       "<style scoped>\n",
       "    .dataframe tbody tr th:only-of-type {\n",
       "        vertical-align: middle;\n",
       "    }\n",
       "\n",
       "    .dataframe tbody tr th {\n",
       "        vertical-align: top;\n",
       "    }\n",
       "\n",
       "    .dataframe thead th {\n",
       "        text-align: right;\n",
       "    }\n",
       "</style>\n",
       "<table border=\"1\" class=\"dataframe\">\n",
       "  <thead>\n",
       "    <tr style=\"text-align: right;\">\n",
       "      <th>is_promoted</th>\n",
       "      <th>0</th>\n",
       "      <th>1</th>\n",
       "      <th>All</th>\n",
       "    </tr>\n",
       "    <tr>\n",
       "      <th>no_of_trainings</th>\n",
       "      <th></th>\n",
       "      <th></th>\n",
       "      <th></th>\n",
       "    </tr>\n",
       "  </thead>\n",
       "  <tbody>\n",
       "    <tr>\n",
       "      <th>1</th>\n",
       "      <td>40468</td>\n",
       "      <td>3910</td>\n",
       "      <td>44378</td>\n",
       "    </tr>\n",
       "    <tr>\n",
       "      <th>2</th>\n",
       "      <td>7382</td>\n",
       "      <td>605</td>\n",
       "      <td>7987</td>\n",
       "    </tr>\n",
       "    <tr>\n",
       "      <th>3</th>\n",
       "      <td>1654</td>\n",
       "      <td>122</td>\n",
       "      <td>1776</td>\n",
       "    </tr>\n",
       "    <tr>\n",
       "      <th>4</th>\n",
       "      <td>442</td>\n",
       "      <td>26</td>\n",
       "      <td>468</td>\n",
       "    </tr>\n",
       "    <tr>\n",
       "      <th>5</th>\n",
       "      <td>125</td>\n",
       "      <td>3</td>\n",
       "      <td>128</td>\n",
       "    </tr>\n",
       "    <tr>\n",
       "      <th>6</th>\n",
       "      <td>42</td>\n",
       "      <td>2</td>\n",
       "      <td>44</td>\n",
       "    </tr>\n",
       "    <tr>\n",
       "      <th>7</th>\n",
       "      <td>12</td>\n",
       "      <td>0</td>\n",
       "      <td>12</td>\n",
       "    </tr>\n",
       "    <tr>\n",
       "      <th>8</th>\n",
       "      <td>5</td>\n",
       "      <td>0</td>\n",
       "      <td>5</td>\n",
       "    </tr>\n",
       "    <tr>\n",
       "      <th>9</th>\n",
       "      <td>5</td>\n",
       "      <td>0</td>\n",
       "      <td>5</td>\n",
       "    </tr>\n",
       "    <tr>\n",
       "      <th>10</th>\n",
       "      <td>5</td>\n",
       "      <td>0</td>\n",
       "      <td>5</td>\n",
       "    </tr>\n",
       "    <tr>\n",
       "      <th>All</th>\n",
       "      <td>50140</td>\n",
       "      <td>4668</td>\n",
       "      <td>54808</td>\n",
       "    </tr>\n",
       "  </tbody>\n",
       "</table>\n",
       "</div>"
      ],
      "text/plain": [
       "is_promoted          0     1    All\n",
       "no_of_trainings                    \n",
       "1                40468  3910  44378\n",
       "2                 7382   605   7987\n",
       "3                 1654   122   1776\n",
       "4                  442    26    468\n",
       "5                  125     3    128\n",
       "6                   42     2     44\n",
       "7                   12     0     12\n",
       "8                    5     0      5\n",
       "9                    5     0      5\n",
       "10                   5     0      5\n",
       "All              50140  4668  54808"
      ]
     },
     "execution_count": 47,
     "metadata": {},
     "output_type": "execute_result"
    }
   ],
   "source": [
    "pd.crosstab(train[\"no_of_trainings\"],train[\"is_promoted\"],margins=True)"
   ]
  },
  {
   "cell_type": "markdown",
   "metadata": {},
   "source": [
    "number ot training surely affects promotion criteria as people having large number of trainng are rarely promoted\n",
    "but the effects is significant as ratio is similar for 1 and 2 trainings and promotion chances changes as training increases"
   ]
  },
  {
   "cell_type": "code",
   "execution_count": null,
   "metadata": {},
   "outputs": [],
   "source": []
  },
  {
   "cell_type": "code",
   "execution_count": 50,
   "metadata": {},
   "outputs": [
    {
     "data": {
      "text/plain": [
       "Text(0, 0.5, 'training score')"
      ]
     },
     "execution_count": 50,
     "metadata": {},
     "output_type": "execute_result"
    },
    {
     "data": {
      "image/png": "[encoded data removed]",
      "text/plain": [
       "<Figure size 432x288 with 1 Axes>"
      ]
     },
     "metadata": {
      "needs_background": "light"
     },
     "output_type": "display_data"
    }
   ],
   "source": [
    "plt.scatter(train.no_of_trainings,train.avg_training_score,c=train.is_promoted)\n",
    "plt.xlabel(\"number of training\")\n",
    "plt.ylabel(\"training score\")\n"
   ]
  },
  {
   "cell_type": "markdown",
   "metadata": {},
   "source": [
    "we can observe that the number of people having less number of training and high training score are more likely to be prmoted as can be observed from the plots( yellow for promoted , purple for not promoted )"
   ]
  },
  {
   "cell_type": "code",
   "execution_count": 51,
   "metadata": {},
   "outputs": [
    {
     "data": {
      "text/plain": [
       "Text(0, 0.5, 'training score')"
      ]
     },
     "execution_count": 51,
     "metadata": {},
     "output_type": "execute_result"
    },
    {
     "data": {
      "image/png": "[encoded data removed]",
      "text/plain": [
       "<Figure size 432x288 with 1 Axes>"
      ]
     },
     "metadata": {
      "needs_background": "light"
     },
     "output_type": "display_data"
    }
   ],
   "source": [
    "plt.scatter(train.training_hours,train.avg_training_score,c=train.is_promoted)\n",
    "plt.xlabel(\"training hours\")\n",
    "plt.ylabel(\"training score\")"
   ]
  },
  {
   "cell_type": "markdown",
   "metadata": {},
   "source": [
    "we can observe that the training score is related to promotion as more the training score more is the chance to be promoted\n",
    "also the training hours are linearly related to training score "
   ]
  },
  {
   "cell_type": "code",
   "execution_count": 52,
   "metadata": {},
   "outputs": [
    {
     "data": {
      "text/plain": [
       "Text(0, 0.5, 'is promoted')"
      ]
     },
     "execution_count": 52,
     "metadata": {},
     "output_type": "execute_result"
    },
    {
     "data": {
      "image/png": "[encoded data removed]",
      "text/plain": [
       "<Figure size 432x288 with 1 Axes>"
      ]
     },
     "metadata": {
      "needs_background": "light"
     },
     "output_type": "display_data"
    }
   ],
   "source": [
    "pd.crosstab(train['KPIs_met >80%'],train.is_promoted).plot(kind='bar')\n",
    "plt.title('promotion frequency')\n",
    "plt.xlabel('KPIs_met >80%')\n",
    "plt.ylabel('is promoted')\n"
   ]
  },
  {
   "cell_type": "code",
   "execution_count": 53,
   "metadata": {},
   "outputs": [
    {
     "data": {
      "text/html": [
       "<div>\n",
       "<style scoped>\n",
       "    .dataframe tbody tr th:only-of-type {\n",
       "        vertical-align: middle;\n",
       "    }\n",
       "\n",
       "    .dataframe tbody tr th {\n",
       "        vertical-align: top;\n",
       "    }\n",
       "\n",
       "    .dataframe thead th {\n",
       "        text-align: right;\n",
       "    }\n",
       "</style>\n",
       "<table border=\"1\" class=\"dataframe\">\n",
       "  <thead>\n",
       "    <tr style=\"text-align: right;\">\n",
       "      <th>is_promoted</th>\n",
       "      <th>0</th>\n",
       "      <th>1</th>\n",
       "      <th>All</th>\n",
       "    </tr>\n",
       "    <tr>\n",
       "      <th>KPIs_met &gt;80%</th>\n",
       "      <th></th>\n",
       "      <th></th>\n",
       "      <th></th>\n",
       "    </tr>\n",
       "  </thead>\n",
       "  <tbody>\n",
       "    <tr>\n",
       "      <th>0</th>\n",
       "      <td>34111</td>\n",
       "      <td>1406</td>\n",
       "      <td>35517</td>\n",
       "    </tr>\n",
       "    <tr>\n",
       "      <th>1</th>\n",
       "      <td>16029</td>\n",
       "      <td>3262</td>\n",
       "      <td>19291</td>\n",
       "    </tr>\n",
       "    <tr>\n",
       "      <th>All</th>\n",
       "      <td>50140</td>\n",
       "      <td>4668</td>\n",
       "      <td>54808</td>\n",
       "    </tr>\n",
       "  </tbody>\n",
       "</table>\n",
       "</div>"
      ],
      "text/plain": [
       "is_promoted        0     1    All\n",
       "KPIs_met >80%                    \n",
       "0              34111  1406  35517\n",
       "1              16029  3262  19291\n",
       "All            50140  4668  54808"
      ]
     },
     "execution_count": 53,
     "metadata": {},
     "output_type": "execute_result"
    }
   ],
   "source": [
    "pd.crosstab(train[\"KPIs_met >80%\"],train[\"is_promoted\"],margins=True)"
   ]
  },
  {
   "cell_type": "markdown",
   "metadata": {},
   "source": [
    "16 % of the people who met condition are promoted \n",
    "3.9 % of the people who didnt met were promoted thus kpi met is surely affecting promotion"
   ]
  },
  {
   "cell_type": "code",
   "execution_count": 54,
   "metadata": {},
   "outputs": [
    {
     "data": {
      "text/html": [
       "<style  type=\"text/css\" >\n",
       "    #T_f3ac114a_4342_11e9_acb7_98e7f4854936row0_col0 {\n",
       "            background-color:  #023858;\n",
       "            color:  #f1f1f1;\n",
       "        }    #T_f3ac114a_4342_11e9_acb7_98e7f4854936row0_col1 {\n",
       "            background-color:  #f5eff6;\n",
       "            color:  #000000;\n",
       "        }    #T_f3ac114a_4342_11e9_acb7_98e7f4854936row0_col2 {\n",
       "            background-color:  #f2ecf5;\n",
       "            color:  #000000;\n",
       "        }    #T_f3ac114a_4342_11e9_acb7_98e7f4854936row0_col3 {\n",
       "            background-color:  #efe9f3;\n",
       "            color:  #000000;\n",
       "        }    #T_f3ac114a_4342_11e9_acb7_98e7f4854936row0_col4 {\n",
       "            background-color:  #fdf5fa;\n",
       "            color:  #000000;\n",
       "        }    #T_f3ac114a_4342_11e9_acb7_98e7f4854936row0_col5 {\n",
       "            background-color:  #f1ebf5;\n",
       "            color:  #000000;\n",
       "        }    #T_f3ac114a_4342_11e9_acb7_98e7f4854936row0_col6 {\n",
       "            background-color:  #e6e2ef;\n",
       "            color:  #000000;\n",
       "        }    #T_f3ac114a_4342_11e9_acb7_98e7f4854936row0_col7 {\n",
       "            background-color:  #fff7fb;\n",
       "            color:  #000000;\n",
       "        }    #T_f3ac114a_4342_11e9_acb7_98e7f4854936row0_col8 {\n",
       "            background-color:  #ece7f2;\n",
       "            color:  #000000;\n",
       "        }    #T_f3ac114a_4342_11e9_acb7_98e7f4854936row0_col9 {\n",
       "            background-color:  #fff7fb;\n",
       "            color:  #000000;\n",
       "        }    #T_f3ac114a_4342_11e9_acb7_98e7f4854936row0_col10 {\n",
       "            background-color:  #faf2f8;\n",
       "            color:  #000000;\n",
       "        }    #T_f3ac114a_4342_11e9_acb7_98e7f4854936row0_col11 {\n",
       "            background-color:  #fff7fb;\n",
       "            color:  #000000;\n",
       "        }    #T_f3ac114a_4342_11e9_acb7_98e7f4854936row0_col12 {\n",
       "            background-color:  #fbf4f9;\n",
       "            color:  #000000;\n",
       "        }    #T_f3ac114a_4342_11e9_acb7_98e7f4854936row0_col13 {\n",
       "            background-color:  #ece7f2;\n",
       "            color:  #000000;\n",
       "        }    #T_f3ac114a_4342_11e9_acb7_98e7f4854936row0_col14 {\n",
       "            background-color:  #fff7fb;\n",
       "            color:  #000000;\n",
       "        }    #T_f3ac114a_4342_11e9_acb7_98e7f4854936row1_col0 {\n",
       "            background-color:  #dfddec;\n",
       "            color:  #000000;\n",
       "        }    #T_f3ac114a_4342_11e9_acb7_98e7f4854936row1_col1 {\n",
       "            background-color:  #023858;\n",
       "            color:  #f1f1f1;\n",
       "        }    #T_f3ac114a_4342_11e9_acb7_98e7f4854936row1_col2 {\n",
       "            background-color:  #faf3f9;\n",
       "            color:  #000000;\n",
       "        }    #T_f3ac114a_4342_11e9_acb7_98e7f4854936row1_col3 {\n",
       "            background-color:  #f6eff7;\n",
       "            color:  #000000;\n",
       "        }    #T_f3ac114a_4342_11e9_acb7_98e7f4854936row1_col4 {\n",
       "            background-color:  #fdf5fa;\n",
       "            color:  #000000;\n",
       "        }    #T_f3ac114a_4342_11e9_acb7_98e7f4854936row1_col5 {\n",
       "            background-color:  #f4eef6;\n",
       "            color:  #000000;\n",
       "        }    #T_f3ac114a_4342_11e9_acb7_98e7f4854936row1_col6 {\n",
       "            background-color:  #fff7fb;\n",
       "            color:  #000000;\n",
       "        }    #T_f3ac114a_4342_11e9_acb7_98e7f4854936row1_col7 {\n",
       "            background-color:  #eee8f3;\n",
       "            color:  #000000;\n",
       "        }    #T_f3ac114a_4342_11e9_acb7_98e7f4854936row1_col8 {\n",
       "            background-color:  #fdf5fa;\n",
       "            color:  #000000;\n",
       "        }    #T_f3ac114a_4342_11e9_acb7_98e7f4854936row1_col9 {\n",
       "            background-color:  #f4eef6;\n",
       "            color:  #000000;\n",
       "        }    #T_f3ac114a_4342_11e9_acb7_98e7f4854936row1_col10 {\n",
       "            background-color:  #faf2f8;\n",
       "            color:  #000000;\n",
       "        }    #T_f3ac114a_4342_11e9_acb7_98e7f4854936row1_col11 {\n",
       "            background-color:  #d7d6e9;\n",
       "            color:  #000000;\n",
       "        }    #T_f3ac114a_4342_11e9_acb7_98e7f4854936row1_col12 {\n",
       "            background-color:  #faf3f9;\n",
       "            color:  #000000;\n",
       "        }    #T_f3ac114a_4342_11e9_acb7_98e7f4854936row1_col13 {\n",
       "            background-color:  #fff7fb;\n",
       "            color:  #000000;\n",
       "        }    #T_f3ac114a_4342_11e9_acb7_98e7f4854936row1_col14 {\n",
       "            background-color:  #f1ebf5;\n",
       "            color:  #000000;\n",
       "        }    #T_f3ac114a_4342_11e9_acb7_98e7f4854936row2_col0 {\n",
       "            background-color:  #d2d2e7;\n",
       "            color:  #000000;\n",
       "        }    #T_f3ac114a_4342_11e9_acb7_98e7f4854936row2_col1 {\n",
       "            background-color:  #f2ecf5;\n",
       "            color:  #000000;\n",
       "        }    #T_f3ac114a_4342_11e9_acb7_98e7f4854936row2_col2 {\n",
       "            background-color:  #023858;\n",
       "            color:  #f1f1f1;\n",
       "        }    #T_f3ac114a_4342_11e9_acb7_98e7f4854936row2_col3 {\n",
       "            background-color:  #f0eaf4;\n",
       "            color:  #000000;\n",
       "        }    #T_f3ac114a_4342_11e9_acb7_98e7f4854936row2_col4 {\n",
       "            background-color:  #fef6fb;\n",
       "            color:  #000000;\n",
       "        }    #T_f3ac114a_4342_11e9_acb7_98e7f4854936row2_col5 {\n",
       "            background-color:  #f8f1f8;\n",
       "            color:  #000000;\n",
       "        }    #T_f3ac114a_4342_11e9_acb7_98e7f4854936row2_col6 {\n",
       "            background-color:  #8cb3d5;\n",
       "            color:  #000000;\n",
       "        }    #T_f3ac114a_4342_11e9_acb7_98e7f4854936row2_col7 {\n",
       "            background-color:  #e8e4f0;\n",
       "            color:  #000000;\n",
       "        }    #T_f3ac114a_4342_11e9_acb7_98e7f4854936row2_col8 {\n",
       "            background-color:  #b9c6e0;\n",
       "            color:  #000000;\n",
       "        }    #T_f3ac114a_4342_11e9_acb7_98e7f4854936row2_col9 {\n",
       "            background-color:  #f2ecf5;\n",
       "            color:  #000000;\n",
       "        }    #T_f3ac114a_4342_11e9_acb7_98e7f4854936row2_col10 {\n",
       "            background-color:  #faf2f8;\n",
       "            color:  #000000;\n",
       "        }    #T_f3ac114a_4342_11e9_acb7_98e7f4854936row2_col11 {\n",
       "            background-color:  #d7d6e9;\n",
       "            color:  #000000;\n",
       "        }    #T_f3ac114a_4342_11e9_acb7_98e7f4854936row2_col12 {\n",
       "            background-color:  #f7f0f7;\n",
       "            color:  #000000;\n",
       "        }    #T_f3ac114a_4342_11e9_acb7_98e7f4854936row2_col13 {\n",
       "            background-color:  #abbfdc;\n",
       "            color:  #000000;\n",
       "        }    #T_f3ac114a_4342_11e9_acb7_98e7f4854936row2_col14 {\n",
       "            background-color:  #f5eef6;\n",
       "            color:  #000000;\n",
       "        }    #T_f3ac114a_4342_11e9_acb7_98e7f4854936row3_col0 {\n",
       "            background-color:  #d6d6e9;\n",
       "            color:  #000000;\n",
       "        }    #T_f3ac114a_4342_11e9_acb7_98e7f4854936row3_col1 {\n",
       "            background-color:  #f5eff6;\n",
       "            color:  #000000;\n",
       "        }    #T_f3ac114a_4342_11e9_acb7_98e7f4854936row3_col2 {\n",
       "            background-color:  #f7f0f7;\n",
       "            color:  #000000;\n",
       "        }    #T_f3ac114a_4342_11e9_acb7_98e7f4854936row3_col3 {\n",
       "            background-color:  #023858;\n",
       "            color:  #f1f1f1;\n",
       "        }    #T_f3ac114a_4342_11e9_acb7_98e7f4854936row3_col4 {\n",
       "            background-color:  #fef6fb;\n",
       "            color:  #000000;\n",
       "        }    #T_f3ac114a_4342_11e9_acb7_98e7f4854936row3_col5 {\n",
       "            background-color:  #fff7fb;\n",
       "            color:  #000000;\n",
       "        }    #T_f3ac114a_4342_11e9_acb7_98e7f4854936row3_col6 {\n",
       "            background-color:  #f0eaf4;\n",
       "            color:  #000000;\n",
       "        }    #T_f3ac114a_4342_11e9_acb7_98e7f4854936row3_col7 {\n",
       "            background-color:  #e9e5f1;\n",
       "            color:  #000000;\n",
       "        }    #T_f3ac114a_4342_11e9_acb7_98e7f4854936row3_col8 {\n",
       "            background-color:  #f1ebf5;\n",
       "            color:  #000000;\n",
       "        }    #T_f3ac114a_4342_11e9_acb7_98e7f4854936row3_col9 {\n",
       "            background-color:  #eee8f3;\n",
       "            color:  #000000;\n",
       "        }    #T_f3ac114a_4342_11e9_acb7_98e7f4854936row3_col10 {\n",
       "            background-color:  #faf2f8;\n",
       "            color:  #000000;\n",
       "        }    #T_f3ac114a_4342_11e9_acb7_98e7f4854936row3_col11 {\n",
       "            background-color:  #d7d6e9;\n",
       "            color:  #000000;\n",
       "        }    #T_f3ac114a_4342_11e9_acb7_98e7f4854936row3_col12 {\n",
       "            background-color:  #faf3f9;\n",
       "            color:  #000000;\n",
       "        }    #T_f3ac114a_4342_11e9_acb7_98e7f4854936row3_col13 {\n",
       "            background-color:  #f4edf6;\n",
       "            color:  #000000;\n",
       "        }    #T_f3ac114a_4342_11e9_acb7_98e7f4854936row3_col14 {\n",
       "            background-color:  #fbf3f9;\n",
       "            color:  #000000;\n",
       "        }    #T_f3ac114a_4342_11e9_acb7_98e7f4854936row4_col0 {\n",
       "            background-color:  #dad9ea;\n",
       "            color:  #000000;\n",
       "        }    #T_f3ac114a_4342_11e9_acb7_98e7f4854936row4_col1 {\n",
       "            background-color:  #f3edf5;\n",
       "            color:  #000000;\n",
       "        }    #T_f3ac114a_4342_11e9_acb7_98e7f4854936row4_col2 {\n",
       "            background-color:  #fbf4f9;\n",
       "            color:  #000000;\n",
       "        }    #T_f3ac114a_4342_11e9_acb7_98e7f4854936row4_col3 {\n",
       "            background-color:  #f4eef6;\n",
       "            color:  #000000;\n",
       "        }    #T_f3ac114a_4342_11e9_acb7_98e7f4854936row4_col4 {\n",
       "            background-color:  #023858;\n",
       "            color:  #f1f1f1;\n",
       "        }    #T_f3ac114a_4342_11e9_acb7_98e7f4854936row4_col5 {\n",
       "            background-color:  #f5eef6;\n",
       "            color:  #000000;\n",
       "        }    #T_f3ac114a_4342_11e9_acb7_98e7f4854936row4_col6 {\n",
       "            background-color:  #f4eef6;\n",
       "            color:  #000000;\n",
       "        }    #T_f3ac114a_4342_11e9_acb7_98e7f4854936row4_col7 {\n",
       "            background-color:  #ede7f2;\n",
       "            color:  #000000;\n",
       "        }    #T_f3ac114a_4342_11e9_acb7_98e7f4854936row4_col8 {\n",
       "            background-color:  #f5eef6;\n",
       "            color:  #000000;\n",
       "        }    #T_f3ac114a_4342_11e9_acb7_98e7f4854936row4_col9 {\n",
       "            background-color:  #f3edf5;\n",
       "            color:  #000000;\n",
       "        }    #T_f3ac114a_4342_11e9_acb7_98e7f4854936row4_col10 {\n",
       "            background-color:  #faf3f9;\n",
       "            color:  #000000;\n",
       "        }    #T_f3ac114a_4342_11e9_acb7_98e7f4854936row4_col11 {\n",
       "            background-color:  #dcdaeb;\n",
       "            color:  #000000;\n",
       "        }    #T_f3ac114a_4342_11e9_acb7_98e7f4854936row4_col12 {\n",
       "            background-color:  #fbf4f9;\n",
       "            color:  #000000;\n",
       "        }    #T_f3ac114a_4342_11e9_acb7_98e7f4854936row4_col13 {\n",
       "            background-color:  #f7f0f7;\n",
       "            color:  #000000;\n",
       "        }    #T_f3ac114a_4342_11e9_acb7_98e7f4854936row4_col14 {\n",
       "            background-color:  #f3edf5;\n",
       "            color:  #000000;\n",
       "        }    #T_f3ac114a_4342_11e9_acb7_98e7f4854936row5_col0 {\n",
       "            background-color:  #d9d8ea;\n",
       "            color:  #000000;\n",
       "        }    #T_f3ac114a_4342_11e9_acb7_98e7f4854936row5_col1 {\n",
       "            background-color:  #f4edf6;\n",
       "            color:  #000000;\n",
       "        }    #T_f3ac114a_4342_11e9_acb7_98e7f4854936row5_col2 {\n",
       "            background-color:  #fff7fb;\n",
       "            color:  #000000;\n",
       "        }    #T_f3ac114a_4342_11e9_acb7_98e7f4854936row5_col3 {\n",
       "            background-color:  #fff7fb;\n",
       "            color:  #000000;\n",
       "        }    #T_f3ac114a_4342_11e9_acb7_98e7f4854936row5_col4 {\n",
       "            background-color:  #fff7fb;\n",
       "            color:  #000000;\n",
       "        }    #T_f3ac114a_4342_11e9_acb7_98e7f4854936row5_col5 {\n",
       "            background-color:  #023858;\n",
       "            color:  #f1f1f1;\n",
       "        }    #T_f3ac114a_4342_11e9_acb7_98e7f4854936row5_col6 {\n",
       "            background-color:  #fef6fa;\n",
       "            color:  #000000;\n",
       "        }    #T_f3ac114a_4342_11e9_acb7_98e7f4854936row5_col7 {\n",
       "            background-color:  #f5eff6;\n",
       "            color:  #000000;\n",
       "        }    #T_f3ac114a_4342_11e9_acb7_98e7f4854936row5_col8 {\n",
       "            background-color:  #fdf5fa;\n",
       "            color:  #000000;\n",
       "        }    #T_f3ac114a_4342_11e9_acb7_98e7f4854936row5_col9 {\n",
       "            background-color:  #f9f2f8;\n",
       "            color:  #000000;\n",
       "        }    #T_f3ac114a_4342_11e9_acb7_98e7f4854936row5_col10 {\n",
       "            background-color:  #fbf3f9;\n",
       "            color:  #000000;\n",
       "        }    #T_f3ac114a_4342_11e9_acb7_98e7f4854936row5_col11 {\n",
       "            background-color:  #d3d4e7;\n",
       "            color:  #000000;\n",
       "        }    #T_f3ac114a_4342_11e9_acb7_98e7f4854936row5_col12 {\n",
       "            background-color:  #fff7fb;\n",
       "            color:  #000000;\n",
       "        }    #T_f3ac114a_4342_11e9_acb7_98e7f4854936row5_col13 {\n",
       "            background-color:  #fef6fa;\n",
       "            color:  #000000;\n",
       "        }    #T_f3ac114a_4342_11e9_acb7_98e7f4854936row5_col14 {\n",
       "            background-color:  #034f7d;\n",
       "            color:  #f1f1f1;\n",
       "        }    #T_f3ac114a_4342_11e9_acb7_98e7f4854936row6_col0 {\n",
       "            background-color:  #cccfe5;\n",
       "            color:  #000000;\n",
       "        }    #T_f3ac114a_4342_11e9_acb7_98e7f4854936row6_col1 {\n",
       "            background-color:  #fff7fb;\n",
       "            color:  #000000;\n",
       "        }    #T_f3ac114a_4342_11e9_acb7_98e7f4854936row6_col2 {\n",
       "            background-color:  #99b8d8;\n",
       "            color:  #000000;\n",
       "        }    #T_f3ac114a_4342_11e9_acb7_98e7f4854936row6_col3 {\n",
       "            background-color:  #f1ebf5;\n",
       "            color:  #000000;\n",
       "        }    #T_f3ac114a_4342_11e9_acb7_98e7f4854936row6_col4 {\n",
       "            background-color:  #fff7fb;\n",
       "            color:  #000000;\n",
       "        }    #T_f3ac114a_4342_11e9_acb7_98e7f4854936row6_col5 {\n",
       "            background-color:  #fff7fb;\n",
       "            color:  #000000;\n",
       "        }    #T_f3ac114a_4342_11e9_acb7_98e7f4854936row6_col6 {\n",
       "            background-color:  #023858;\n",
       "            color:  #f1f1f1;\n",
       "        }    #T_f3ac114a_4342_11e9_acb7_98e7f4854936row6_col7 {\n",
       "            background-color:  #e8e4f0;\n",
       "            color:  #000000;\n",
       "        }    #T_f3ac114a_4342_11e9_acb7_98e7f4854936row6_col8 {\n",
       "            background-color:  #2081b9;\n",
       "            color:  #000000;\n",
       "        }    #T_f3ac114a_4342_11e9_acb7_98e7f4854936row6_col9 {\n",
       "            background-color:  #f7f0f7;\n",
       "            color:  #000000;\n",
       "        }    #T_f3ac114a_4342_11e9_acb7_98e7f4854936row6_col10 {\n",
       "            background-color:  #fbf3f9;\n",
       "            color:  #000000;\n",
       "        }    #T_f3ac114a_4342_11e9_acb7_98e7f4854936row6_col11 {\n",
       "            background-color:  #e4e1ef;\n",
       "            color:  #000000;\n",
       "        }    #T_f3ac114a_4342_11e9_acb7_98e7f4854936row6_col12 {\n",
       "            background-color:  #fef6fb;\n",
       "            color:  #000000;\n",
       "        }    #T_f3ac114a_4342_11e9_acb7_98e7f4854936row6_col13 {\n",
       "            background-color:  #045f95;\n",
       "            color:  #f1f1f1;\n",
       "        }    #T_f3ac114a_4342_11e9_acb7_98e7f4854936row6_col14 {\n",
       "            background-color:  #fef6fb;\n",
       "            color:  #000000;\n",
       "        }    #T_f3ac114a_4342_11e9_acb7_98e7f4854936row7_col0 {\n",
       "            background-color:  #f1ebf5;\n",
       "            color:  #000000;\n",
       "        }    #T_f3ac114a_4342_11e9_acb7_98e7f4854936row7_col1 {\n",
       "            background-color:  #f4edf6;\n",
       "            color:  #000000;\n",
       "        }    #T_f3ac114a_4342_11e9_acb7_98e7f4854936row7_col2 {\n",
       "            background-color:  #f7f0f7;\n",
       "            color:  #000000;\n",
       "        }    #T_f3ac114a_4342_11e9_acb7_98e7f4854936row7_col3 {\n",
       "            background-color:  #f0eaf4;\n",
       "            color:  #000000;\n",
       "        }    #T_f3ac114a_4342_11e9_acb7_98e7f4854936row7_col4 {\n",
       "            background-color:  #fdf5fa;\n",
       "            color:  #000000;\n",
       "        }    #T_f3ac114a_4342_11e9_acb7_98e7f4854936row7_col5 {\n",
       "            background-color:  #fcf4fa;\n",
       "            color:  #000000;\n",
       "        }    #T_f3ac114a_4342_11e9_acb7_98e7f4854936row7_col6 {\n",
       "            background-color:  #efe9f3;\n",
       "            color:  #000000;\n",
       "        }    #T_f3ac114a_4342_11e9_acb7_98e7f4854936row7_col7 {\n",
       "            background-color:  #023858;\n",
       "            color:  #f1f1f1;\n",
       "        }    #T_f3ac114a_4342_11e9_acb7_98e7f4854936row7_col8 {\n",
       "            background-color:  #f1ebf4;\n",
       "            color:  #000000;\n",
       "        }    #T_f3ac114a_4342_11e9_acb7_98e7f4854936row7_col9 {\n",
       "            background-color:  #9fbad9;\n",
       "            color:  #000000;\n",
       "        }    #T_f3ac114a_4342_11e9_acb7_98e7f4854936row7_col10 {\n",
       "            background-color:  #f5eff6;\n",
       "            color:  #000000;\n",
       "        }    #T_f3ac114a_4342_11e9_acb7_98e7f4854936row7_col11 {\n",
       "            background-color:  #cdd0e5;\n",
       "            color:  #000000;\n",
       "        }    #T_f3ac114a_4342_11e9_acb7_98e7f4854936row7_col12 {\n",
       "            background-color:  #e1dfed;\n",
       "            color:  #000000;\n",
       "        }    #T_f3ac114a_4342_11e9_acb7_98e7f4854936row7_col13 {\n",
       "            background-color:  #f2ecf5;\n",
       "            color:  #000000;\n",
       "        }    #T_f3ac114a_4342_11e9_acb7_98e7f4854936row7_col14 {\n",
       "            background-color:  #f4edf6;\n",
       "            color:  #000000;\n",
       "        }    #T_f3ac114a_4342_11e9_acb7_98e7f4854936row8_col0 {\n",
       "            background-color:  #d1d2e6;\n",
       "            color:  #000000;\n",
       "        }    #T_f3ac114a_4342_11e9_acb7_98e7f4854936row8_col1 {\n",
       "            background-color:  #fbf3f9;\n",
       "            color:  #000000;\n",
       "        }    #T_f3ac114a_4342_11e9_acb7_98e7f4854936row8_col2 {\n",
       "            background-color:  #c2cbe2;\n",
       "            color:  #000000;\n",
       "        }    #T_f3ac114a_4342_11e9_acb7_98e7f4854936row8_col3 {\n",
       "            background-color:  #f1ebf4;\n",
       "            color:  #000000;\n",
       "        }    #T_f3ac114a_4342_11e9_acb7_98e7f4854936row8_col4 {\n",
       "            background-color:  #fef6fa;\n",
       "            color:  #000000;\n",
       "        }    #T_f3ac114a_4342_11e9_acb7_98e7f4854936row8_col5 {\n",
       "            background-color:  #fbf4f9;\n",
       "            color:  #000000;\n",
       "        }    #T_f3ac114a_4342_11e9_acb7_98e7f4854936row8_col6 {\n",
       "            background-color:  #1e80b8;\n",
       "            color:  #000000;\n",
       "        }    #T_f3ac114a_4342_11e9_acb7_98e7f4854936row8_col7 {\n",
       "            background-color:  #e9e5f1;\n",
       "            color:  #000000;\n",
       "        }    #T_f3ac114a_4342_11e9_acb7_98e7f4854936row8_col8 {\n",
       "            background-color:  #023858;\n",
       "            color:  #f1f1f1;\n",
       "        }    #T_f3ac114a_4342_11e9_acb7_98e7f4854936row8_col9 {\n",
       "            background-color:  #fef6fa;\n",
       "            color:  #000000;\n",
       "        }    #T_f3ac114a_4342_11e9_acb7_98e7f4854936row8_col10 {\n",
       "            background-color:  #fff7fb;\n",
       "            color:  #000000;\n",
       "        }    #T_f3ac114a_4342_11e9_acb7_98e7f4854936row8_col11 {\n",
       "            background-color:  #e2dfee;\n",
       "            color:  #000000;\n",
       "        }    #T_f3ac114a_4342_11e9_acb7_98e7f4854936row8_col12 {\n",
       "            background-color:  #fdf5fa;\n",
       "            color:  #000000;\n",
       "        }    #T_f3ac114a_4342_11e9_acb7_98e7f4854936row8_col13 {\n",
       "            background-color:  #dddbec;\n",
       "            color:  #000000;\n",
       "        }    #T_f3ac114a_4342_11e9_acb7_98e7f4854936row8_col14 {\n",
       "            background-color:  #fbf3f9;\n",
       "            color:  #000000;\n",
       "        }    #T_f3ac114a_4342_11e9_acb7_98e7f4854936row9_col0 {\n",
       "            background-color:  #ebe6f2;\n",
       "            color:  #000000;\n",
       "        }    #T_f3ac114a_4342_11e9_acb7_98e7f4854936row9_col1 {\n",
       "            background-color:  #f4edf6;\n",
       "            color:  #000000;\n",
       "        }    #T_f3ac114a_4342_11e9_acb7_98e7f4854936row9_col2 {\n",
       "            background-color:  #faf2f8;\n",
       "            color:  #000000;\n",
       "        }    #T_f3ac114a_4342_11e9_acb7_98e7f4854936row9_col3 {\n",
       "            background-color:  #eee9f3;\n",
       "            color:  #000000;\n",
       "        }    #T_f3ac114a_4342_11e9_acb7_98e7f4854936row9_col4 {\n",
       "            background-color:  #fdf5fa;\n",
       "            color:  #000000;\n",
       "        }    #T_f3ac114a_4342_11e9_acb7_98e7f4854936row9_col5 {\n",
       "            background-color:  #faf2f8;\n",
       "            color:  #000000;\n",
       "        }    #T_f3ac114a_4342_11e9_acb7_98e7f4854936row9_col6 {\n",
       "            background-color:  #f6eff7;\n",
       "            color:  #000000;\n",
       "        }    #T_f3ac114a_4342_11e9_acb7_98e7f4854936row9_col7 {\n",
       "            background-color:  #96b6d7;\n",
       "            color:  #000000;\n",
       "        }    #T_f3ac114a_4342_11e9_acb7_98e7f4854936row9_col8 {\n",
       "            background-color:  #fff7fb;\n",
       "            color:  #000000;\n",
       "        }    #T_f3ac114a_4342_11e9_acb7_98e7f4854936row9_col9 {\n",
       "            background-color:  #023858;\n",
       "            color:  #f1f1f1;\n",
       "        }    #T_f3ac114a_4342_11e9_acb7_98e7f4854936row9_col10 {\n",
       "            background-color:  #ebe6f2;\n",
       "            color:  #000000;\n",
       "        }    #T_f3ac114a_4342_11e9_acb7_98e7f4854936row9_col11 {\n",
       "            background-color:  #cccfe5;\n",
       "            color:  #000000;\n",
       "        }    #T_f3ac114a_4342_11e9_acb7_98e7f4854936row9_col12 {\n",
       "            background-color:  #d2d3e7;\n",
       "            color:  #000000;\n",
       "        }    #T_f3ac114a_4342_11e9_acb7_98e7f4854936row9_col13 {\n",
       "            background-color:  #f1ebf5;\n",
       "            color:  #000000;\n",
       "        }    #T_f3ac114a_4342_11e9_acb7_98e7f4854936row9_col14 {\n",
       "            background-color:  #f2ecf5;\n",
       "            color:  #000000;\n",
       "        }    #T_f3ac114a_4342_11e9_acb7_98e7f4854936row10_col0 {\n",
       "            background-color:  #dbdaeb;\n",
       "            color:  #000000;\n",
       "        }    #T_f3ac114a_4342_11e9_acb7_98e7f4854936row10_col1 {\n",
       "            background-color:  #f3edf5;\n",
       "            color:  #000000;\n",
       "        }    #T_f3ac114a_4342_11e9_acb7_98e7f4854936row10_col2 {\n",
       "            background-color:  #faf3f9;\n",
       "            color:  #000000;\n",
       "        }    #T_f3ac114a_4342_11e9_acb7_98e7f4854936row10_col3 {\n",
       "            background-color:  #f4edf6;\n",
       "            color:  #000000;\n",
       "        }    #T_f3ac114a_4342_11e9_acb7_98e7f4854936row10_col4 {\n",
       "            background-color:  #fef6fb;\n",
       "            color:  #000000;\n",
       "        }    #T_f3ac114a_4342_11e9_acb7_98e7f4854936row10_col5 {\n",
       "            background-color:  #f4eef6;\n",
       "            color:  #000000;\n",
       "        }    #T_f3ac114a_4342_11e9_acb7_98e7f4854936row10_col6 {\n",
       "            background-color:  #f4edf6;\n",
       "            color:  #000000;\n",
       "        }    #T_f3ac114a_4342_11e9_acb7_98e7f4854936row10_col7 {\n",
       "            background-color:  #e8e4f0;\n",
       "            color:  #000000;\n",
       "        }    #T_f3ac114a_4342_11e9_acb7_98e7f4854936row10_col8 {\n",
       "            background-color:  #faf3f9;\n",
       "            color:  #000000;\n",
       "        }    #T_f3ac114a_4342_11e9_acb7_98e7f4854936row10_col9 {\n",
       "            background-color:  #e2dfee;\n",
       "            color:  #000000;\n",
       "        }    #T_f3ac114a_4342_11e9_acb7_98e7f4854936row10_col10 {\n",
       "            background-color:  #023858;\n",
       "            color:  #f1f1f1;\n",
       "        }    #T_f3ac114a_4342_11e9_acb7_98e7f4854936row10_col11 {\n",
       "            background-color:  #cdd0e5;\n",
       "            color:  #000000;\n",
       "        }    #T_f3ac114a_4342_11e9_acb7_98e7f4854936row10_col12 {\n",
       "            background-color:  #d8d7e9;\n",
       "            color:  #000000;\n",
       "        }    #T_f3ac114a_4342_11e9_acb7_98e7f4854936row10_col13 {\n",
       "            background-color:  #f2ecf5;\n",
       "            color:  #000000;\n",
       "        }    #T_f3ac114a_4342_11e9_acb7_98e7f4854936row10_col14 {\n",
       "            background-color:  #f0eaf4;\n",
       "            color:  #000000;\n",
       "        }    #T_f3ac114a_4342_11e9_acb7_98e7f4854936row11_col0 {\n",
       "            background-color:  #fff7fb;\n",
       "            color:  #000000;\n",
       "        }    #T_f3ac114a_4342_11e9_acb7_98e7f4854936row11_col1 {\n",
       "            background-color:  #f0eaf4;\n",
       "            color:  #000000;\n",
       "        }    #T_f3ac114a_4342_11e9_acb7_98e7f4854936row11_col2 {\n",
       "            background-color:  #f7f0f7;\n",
       "            color:  #000000;\n",
       "        }    #T_f3ac114a_4342_11e9_acb7_98e7f4854936row11_col3 {\n",
       "            background-color:  #f0eaf4;\n",
       "            color:  #000000;\n",
       "        }    #T_f3ac114a_4342_11e9_acb7_98e7f4854936row11_col4 {\n",
       "            background-color:  #fef6fa;\n",
       "            color:  #000000;\n",
       "        }    #T_f3ac114a_4342_11e9_acb7_98e7f4854936row11_col5 {\n",
       "            background-color:  #eee8f3;\n",
       "            color:  #000000;\n",
       "        }    #T_f3ac114a_4342_11e9_acb7_98e7f4854936row11_col6 {\n",
       "            background-color:  #faf2f8;\n",
       "            color:  #000000;\n",
       "        }    #T_f3ac114a_4342_11e9_acb7_98e7f4854936row11_col7 {\n",
       "            background-color:  #e0dded;\n",
       "            color:  #000000;\n",
       "        }    #T_f3ac114a_4342_11e9_acb7_98e7f4854936row11_col8 {\n",
       "            background-color:  #faf2f8;\n",
       "            color:  #000000;\n",
       "        }    #T_f3ac114a_4342_11e9_acb7_98e7f4854936row11_col9 {\n",
       "            background-color:  #e6e2ef;\n",
       "            color:  #000000;\n",
       "        }    #T_f3ac114a_4342_11e9_acb7_98e7f4854936row11_col10 {\n",
       "            background-color:  #efe9f3;\n",
       "            color:  #000000;\n",
       "        }    #T_f3ac114a_4342_11e9_acb7_98e7f4854936row11_col11 {\n",
       "            background-color:  #023858;\n",
       "            color:  #f1f1f1;\n",
       "        }    #T_f3ac114a_4342_11e9_acb7_98e7f4854936row11_col12 {\n",
       "            background-color:  #dbdaeb;\n",
       "            color:  #000000;\n",
       "        }    #T_f3ac114a_4342_11e9_acb7_98e7f4854936row11_col13 {\n",
       "            background-color:  #faf2f8;\n",
       "            color:  #000000;\n",
       "        }    #T_f3ac114a_4342_11e9_acb7_98e7f4854936row11_col14 {\n",
       "            background-color:  #7dacd1;\n",
       "            color:  #000000;\n",
       "        }    #T_f3ac114a_4342_11e9_acb7_98e7f4854936row12_col0 {\n",
       "            background-color:  #dbdaeb;\n",
       "            color:  #000000;\n",
       "        }    #T_f3ac114a_4342_11e9_acb7_98e7f4854936row12_col1 {\n",
       "            background-color:  #f2ecf5;\n",
       "            color:  #000000;\n",
       "        }    #T_f3ac114a_4342_11e9_acb7_98e7f4854936row12_col2 {\n",
       "            background-color:  #f6eff7;\n",
       "            color:  #000000;\n",
       "        }    #T_f3ac114a_4342_11e9_acb7_98e7f4854936row12_col3 {\n",
       "            background-color:  #f2ecf5;\n",
       "            color:  #000000;\n",
       "        }    #T_f3ac114a_4342_11e9_acb7_98e7f4854936row12_col4 {\n",
       "            background-color:  #fdf5fa;\n",
       "            color:  #000000;\n",
       "        }    #T_f3ac114a_4342_11e9_acb7_98e7f4854936row12_col5 {\n",
       "            background-color:  #f7f0f7;\n",
       "            color:  #000000;\n",
       "        }    #T_f3ac114a_4342_11e9_acb7_98e7f4854936row12_col6 {\n",
       "            background-color:  #f5eef6;\n",
       "            color:  #000000;\n",
       "        }    #T_f3ac114a_4342_11e9_acb7_98e7f4854936row12_col7 {\n",
       "            background-color:  #ced0e6;\n",
       "            color:  #000000;\n",
       "        }    #T_f3ac114a_4342_11e9_acb7_98e7f4854936row12_col8 {\n",
       "            background-color:  #f6eff7;\n",
       "            color:  #000000;\n",
       "        }    #T_f3ac114a_4342_11e9_acb7_98e7f4854936row12_col9 {\n",
       "            background-color:  #c5cce3;\n",
       "            color:  #000000;\n",
       "        }    #T_f3ac114a_4342_11e9_acb7_98e7f4854936row12_col10 {\n",
       "            background-color:  #d5d5e8;\n",
       "            color:  #000000;\n",
       "        }    #T_f3ac114a_4342_11e9_acb7_98e7f4854936row12_col11 {\n",
       "            background-color:  #b0c2de;\n",
       "            color:  #000000;\n",
       "        }    #T_f3ac114a_4342_11e9_acb7_98e7f4854936row12_col12 {\n",
       "            background-color:  #023858;\n",
       "            color:  #f1f1f1;\n",
       "        }    #T_f3ac114a_4342_11e9_acb7_98e7f4854936row12_col13 {\n",
       "            background-color:  #f7f0f7;\n",
       "            color:  #000000;\n",
       "        }    #T_f3ac114a_4342_11e9_acb7_98e7f4854936row12_col14 {\n",
       "            background-color:  #ebe6f2;\n",
       "            color:  #000000;\n",
       "        }    #T_f3ac114a_4342_11e9_acb7_98e7f4854936row13_col0 {\n",
       "            background-color:  #d1d2e6;\n",
       "            color:  #000000;\n",
       "        }    #T_f3ac114a_4342_11e9_acb7_98e7f4854936row13_col1 {\n",
       "            background-color:  #fdf5fa;\n",
       "            color:  #000000;\n",
       "        }    #T_f3ac114a_4342_11e9_acb7_98e7f4854936row13_col2 {\n",
       "            background-color:  #b3c3de;\n",
       "            color:  #000000;\n",
       "        }    #T_f3ac114a_4342_11e9_acb7_98e7f4854936row13_col3 {\n",
       "            background-color:  #f2ecf5;\n",
       "            color:  #000000;\n",
       "        }    #T_f3ac114a_4342_11e9_acb7_98e7f4854936row13_col4 {\n",
       "            background-color:  #fff7fb;\n",
       "            color:  #000000;\n",
       "        }    #T_f3ac114a_4342_11e9_acb7_98e7f4854936row13_col5 {\n",
       "            background-color:  #fdf5fa;\n",
       "            color:  #000000;\n",
       "        }    #T_f3ac114a_4342_11e9_acb7_98e7f4854936row13_col6 {\n",
       "            background-color:  #045e94;\n",
       "            color:  #f1f1f1;\n",
       "        }    #T_f3ac114a_4342_11e9_acb7_98e7f4854936row13_col7 {\n",
       "            background-color:  #eae6f1;\n",
       "            color:  #000000;\n",
       "        }    #T_f3ac114a_4342_11e9_acb7_98e7f4854936row13_col8 {\n",
       "            background-color:  #dddbec;\n",
       "            color:  #000000;\n",
       "        }    #T_f3ac114a_4342_11e9_acb7_98e7f4854936row13_col9 {\n",
       "            background-color:  #f0eaf4;\n",
       "            color:  #000000;\n",
       "        }    #T_f3ac114a_4342_11e9_acb7_98e7f4854936row13_col10 {\n",
       "            background-color:  #f7f0f7;\n",
       "            color:  #000000;\n",
       "        }    #T_f3ac114a_4342_11e9_acb7_98e7f4854936row13_col11 {\n",
       "            background-color:  #e1dfed;\n",
       "            color:  #000000;\n",
       "        }    #T_f3ac114a_4342_11e9_acb7_98e7f4854936row13_col12 {\n",
       "            background-color:  #fef6fa;\n",
       "            color:  #000000;\n",
       "        }    #T_f3ac114a_4342_11e9_acb7_98e7f4854936row13_col13 {\n",
       "            background-color:  #023858;\n",
       "            color:  #f1f1f1;\n",
       "        }    #T_f3ac114a_4342_11e9_acb7_98e7f4854936row13_col14 {\n",
       "            background-color:  #fbf4f9;\n",
       "            color:  #000000;\n",
       "        }    #T_f3ac114a_4342_11e9_acb7_98e7f4854936row14_col0 {\n",
       "            background-color:  #ede7f2;\n",
       "            color:  #000000;\n",
       "        }    #T_f3ac114a_4342_11e9_acb7_98e7f4854936row14_col1 {\n",
       "            background-color:  #f2ecf5;\n",
       "            color:  #000000;\n",
       "        }    #T_f3ac114a_4342_11e9_acb7_98e7f4854936row14_col2 {\n",
       "            background-color:  #fef6fa;\n",
       "            color:  #000000;\n",
       "        }    #T_f3ac114a_4342_11e9_acb7_98e7f4854936row14_col3 {\n",
       "            background-color:  #fdf5fa;\n",
       "            color:  #000000;\n",
       "        }    #T_f3ac114a_4342_11e9_acb7_98e7f4854936row14_col4 {\n",
       "            background-color:  #fff7fb;\n",
       "            color:  #000000;\n",
       "        }    #T_f3ac114a_4342_11e9_acb7_98e7f4854936row14_col5 {\n",
       "            background-color:  #03517e;\n",
       "            color:  #f1f1f1;\n",
       "        }    #T_f3ac114a_4342_11e9_acb7_98e7f4854936row14_col6 {\n",
       "            background-color:  #fff7fb;\n",
       "            color:  #000000;\n",
       "        }    #T_f3ac114a_4342_11e9_acb7_98e7f4854936row14_col7 {\n",
       "            background-color:  #efe9f3;\n",
       "            color:  #000000;\n",
       "        }    #T_f3ac114a_4342_11e9_acb7_98e7f4854936row14_col8 {\n",
       "            background-color:  #fef6fa;\n",
       "            color:  #000000;\n",
       "        }    #T_f3ac114a_4342_11e9_acb7_98e7f4854936row14_col9 {\n",
       "            background-color:  #f4edf6;\n",
       "            color:  #000000;\n",
       "        }    #T_f3ac114a_4342_11e9_acb7_98e7f4854936row14_col10 {\n",
       "            background-color:  #f7f0f7;\n",
       "            color:  #000000;\n",
       "        }    #T_f3ac114a_4342_11e9_acb7_98e7f4854936row14_col11 {\n",
       "            background-color:  #60a1ca;\n",
       "            color:  #000000;\n",
       "        }    #T_f3ac114a_4342_11e9_acb7_98e7f4854936row14_col12 {\n",
       "            background-color:  #f5eef6;\n",
       "            color:  #000000;\n",
       "        }    #T_f3ac114a_4342_11e9_acb7_98e7f4854936row14_col13 {\n",
       "            background-color:  #fff7fb;\n",
       "            color:  #000000;\n",
       "        }    #T_f3ac114a_4342_11e9_acb7_98e7f4854936row14_col14 {\n",
       "            background-color:  #023858;\n",
       "            color:  #f1f1f1;\n",
       "        }</style><table id=\"T_f3ac114a_4342_11e9_acb7_98e7f4854936\" ><thead>    <tr>        <th class=\"blank level0\" ></th>        <th class=\"col_heading level0 col0\" >department</th>        <th class=\"col_heading level0 col1\" >region</th>        <th class=\"col_heading level0 col2\" >education</th>        <th class=\"col_heading level0 col3\" >gender</th>        <th class=\"col_heading level0 col4\" >recruitment_channel</th>        <th class=\"col_heading level0 col5\" >no_of_trainings</th>        <th class=\"col_heading level0 col6\" >age</th>        <th class=\"col_heading level0 col7\" >previous_year_rating</th>        <th class=\"col_heading level0 col8\" >length_of_service</th>        <th class=\"col_heading level0 col9\" >KPIs_met >80%</th>        <th class=\"col_heading level0 col10\" >awards_won?</th>        <th class=\"col_heading level0 col11\" >avg_training_score</th>        <th class=\"col_heading level0 col12\" >is_promoted</th>        <th class=\"col_heading level0 col13\" >joining_age</th>        <th class=\"col_heading level0 col14\" >training_hours</th>    </tr></thead><tbody>\n",
       "                <tr>\n",
       "                        <th id=\"T_f3ac114a_4342_11e9_acb7_98e7f4854936level0_row0\" class=\"row_heading level0 row0\" >department</th>\n",
       "                        <td id=\"T_f3ac114a_4342_11e9_acb7_98e7f4854936row0_col0\" class=\"data row0 col0\" >1</td>\n",
       "                        <td id=\"T_f3ac114a_4342_11e9_acb7_98e7f4854936row0_col1\" class=\"data row0 col1\" >-0.0205925</td>\n",
       "                        <td id=\"T_f3ac114a_4342_11e9_acb7_98e7f4854936row0_col2\" class=\"data row0 col2\" >0.0525012</td>\n",
       "                        <td id=\"T_f3ac114a_4342_11e9_acb7_98e7f4854936row0_col3\" class=\"data row0 col3\" >0.0301084</td>\n",
       "                        <td id=\"T_f3ac114a_4342_11e9_acb7_98e7f4854936row0_col4\" class=\"data row0 col4\" >0.00473218</td>\n",
       "                        <td id=\"T_f3ac114a_4342_11e9_acb7_98e7f4854936row0_col5\" class=\"data row0 col5\" >0.0141517</td>\n",
       "                        <td id=\"T_f3ac114a_4342_11e9_acb7_98e7f4854936row0_col6\" class=\"data row0 col6\" >0.0791621</td>\n",
       "                        <td id=\"T_f3ac114a_4342_11e9_acb7_98e7f4854936row0_col7\" class=\"data row0 col7\" >-0.135561</td>\n",
       "                        <td id=\"T_f3ac114a_4342_11e9_acb7_98e7f4854936row0_col8\" class=\"data row0 col8\" >0.0590596</td>\n",
       "                        <td id=\"T_f3ac114a_4342_11e9_acb7_98e7f4854936row0_col9\" class=\"data row0 col9\" >-0.0882091</td>\n",
       "                        <td id=\"T_f3ac114a_4342_11e9_acb7_98e7f4854936row0_col10\" class=\"data row0 col10\" >-0.00215111</td>\n",
       "                        <td id=\"T_f3ac114a_4342_11e9_acb7_98e7f4854936row0_col11\" class=\"data row0 col11\" >-0.251626</td>\n",
       "                        <td id=\"T_f3ac114a_4342_11e9_acb7_98e7f4854936row0_col12\" class=\"data row0 col12\" >0.000130116</td>\n",
       "                        <td id=\"T_f3ac114a_4342_11e9_acb7_98e7f4854936row0_col13\" class=\"data row0 col13\" >0.0608573</td>\n",
       "                        <td id=\"T_f3ac114a_4342_11e9_acb7_98e7f4854936row0_col14\" class=\"data row0 col14\" >-0.0968076</td>\n",
       "            </tr>\n",
       "            <tr>\n",
       "                        <th id=\"T_f3ac114a_4342_11e9_acb7_98e7f4854936level0_row1\" class=\"row_heading level0 row1\" >region</th>\n",
       "                        <td id=\"T_f3ac114a_4342_11e9_acb7_98e7f4854936row1_col0\" class=\"data row1 col0\" >-0.0205925</td>\n",
       "                        <td id=\"T_f3ac114a_4342_11e9_acb7_98e7f4854936row1_col1\" class=\"data row1 col1\" >1</td>\n",
       "                        <td id=\"T_f3ac114a_4342_11e9_acb7_98e7f4854936row1_col2\" class=\"data row1 col2\" >0.00106336</td>\n",
       "                        <td id=\"T_f3ac114a_4342_11e9_acb7_98e7f4854936row1_col3\" class=\"data row1 col3\" >-0.0197296</td>\n",
       "                        <td id=\"T_f3ac114a_4342_11e9_acb7_98e7f4854936row1_col4\" class=\"data row1 col4\" >-0.000919649</td>\n",
       "                        <td id=\"T_f3ac114a_4342_11e9_acb7_98e7f4854936row1_col5\" class=\"data row1 col5\" >-0.00459046</td>\n",
       "                        <td id=\"T_f3ac114a_4342_11e9_acb7_98e7f4854936row1_col6\" class=\"data row1 col6\" >-0.0889184</td>\n",
       "                        <td id=\"T_f3ac114a_4342_11e9_acb7_98e7f4854936row1_col7\" class=\"data row1 col7\" >-0.0059766</td>\n",
       "                        <td id=\"T_f3ac114a_4342_11e9_acb7_98e7f4854936row1_col8\" class=\"data row1 col8\" >-0.0589394</td>\n",
       "                        <td id=\"T_f3ac114a_4342_11e9_acb7_98e7f4854936row1_col9\" class=\"data row1 col9\" >-0.00766378</td>\n",
       "                        <td id=\"T_f3ac114a_4342_11e9_acb7_98e7f4854936row1_col10\" class=\"data row1 col10\" >0.000307275</td>\n",
       "                        <td id=\"T_f3ac114a_4342_11e9_acb7_98e7f4854936row1_col11\" class=\"data row1 col11\" >0.0235718</td>\n",
       "                        <td id=\"T_f3ac114a_4342_11e9_acb7_98e7f4854936row1_col12\" class=\"data row1 col12\" >0.00884144</td>\n",
       "                        <td id=\"T_f3ac114a_4342_11e9_acb7_98e7f4854936row1_col13\" class=\"data row1 col13\" >-0.0737752</td>\n",
       "                        <td id=\"T_f3ac114a_4342_11e9_acb7_98e7f4854936row1_col14\" class=\"data row1 col14\" >0.00467944</td>\n",
       "            </tr>\n",
       "            <tr>\n",
       "                        <th id=\"T_f3ac114a_4342_11e9_acb7_98e7f4854936level0_row2\" class=\"row_heading level0 row2\" >education</th>\n",
       "                        <td id=\"T_f3ac114a_4342_11e9_acb7_98e7f4854936row2_col0\" class=\"data row2 col0\" >0.0525012</td>\n",
       "                        <td id=\"T_f3ac114a_4342_11e9_acb7_98e7f4854936row2_col1\" class=\"data row2 col1\" >0.00106336</td>\n",
       "                        <td id=\"T_f3ac114a_4342_11e9_acb7_98e7f4854936row2_col2\" class=\"data row2 col2\" >1</td>\n",
       "                        <td id=\"T_f3ac114a_4342_11e9_acb7_98e7f4854936row2_col3\" class=\"data row2 col3\" >0.0243486</td>\n",
       "                        <td id=\"T_f3ac114a_4342_11e9_acb7_98e7f4854936row2_col4\" class=\"data row2 col4\" >-0.00552099</td>\n",
       "                        <td id=\"T_f3ac114a_4342_11e9_acb7_98e7f4854936row2_col5\" class=\"data row2 col5\" >-0.0334406</td>\n",
       "                        <td id=\"T_f3ac114a_4342_11e9_acb7_98e7f4854936row2_col6\" class=\"data row2 col6\" >0.389036</td>\n",
       "                        <td id=\"T_f3ac114a_4342_11e9_acb7_98e7f4854936row2_col7\" class=\"data row2 col7\" >0.0268517</td>\n",
       "                        <td id=\"T_f3ac114a_4342_11e9_acb7_98e7f4854936row2_col8\" class=\"data row2 col8\" >0.266995</td>\n",
       "                        <td id=\"T_f3ac114a_4342_11e9_acb7_98e7f4854936row2_col9\" class=\"data row2 col9\" >0.00676087</td>\n",
       "                        <td id=\"T_f3ac114a_4342_11e9_acb7_98e7f4854936row2_col10\" class=\"data row2 col10\" >0.0004684</td>\n",
       "                        <td id=\"T_f3ac114a_4342_11e9_acb7_98e7f4854936row2_col11\" class=\"data row2 col11\" >0.0256455</td>\n",
       "                        <td id=\"T_f3ac114a_4342_11e9_acb7_98e7f4854936row2_col12\" class=\"data row2 col12\" >0.0280264</td>\n",
       "                        <td id=\"T_f3ac114a_4342_11e9_acb7_98e7f4854936row2_col13\" class=\"data row2 col13\" >0.316102</td>\n",
       "                        <td id=\"T_f3ac114a_4342_11e9_acb7_98e7f4854936row2_col14\" class=\"data row2 col14\" >-0.0218387</td>\n",
       "            </tr>\n",
       "            <tr>\n",
       "                        <th id=\"T_f3ac114a_4342_11e9_acb7_98e7f4854936level0_row3\" class=\"row_heading level0 row3\" >gender</th>\n",
       "                        <td id=\"T_f3ac114a_4342_11e9_acb7_98e7f4854936row3_col0\" class=\"data row3 col0\" >0.0301084</td>\n",
       "                        <td id=\"T_f3ac114a_4342_11e9_acb7_98e7f4854936row3_col1\" class=\"data row3 col1\" >-0.0197296</td>\n",
       "                        <td id=\"T_f3ac114a_4342_11e9_acb7_98e7f4854936row3_col2\" class=\"data row3 col2\" >0.0243486</td>\n",
       "                        <td id=\"T_f3ac114a_4342_11e9_acb7_98e7f4854936row3_col3\" class=\"data row3 col3\" >1</td>\n",
       "                        <td id=\"T_f3ac114a_4342_11e9_acb7_98e7f4854936row3_col4\" class=\"data row3 col4\" >-0.00656724</td>\n",
       "                        <td id=\"T_f3ac114a_4342_11e9_acb7_98e7f4854936row3_col5\" class=\"data row3 col5\" >-0.0845012</td>\n",
       "                        <td id=\"T_f3ac114a_4342_11e9_acb7_98e7f4854936row3_col6\" class=\"data row3 col6\" >0.0162932</td>\n",
       "                        <td id=\"T_f3ac114a_4342_11e9_acb7_98e7f4854936row3_col7\" class=\"data row3 col7\" >0.0240241</td>\n",
       "                        <td id=\"T_f3ac114a_4342_11e9_acb7_98e7f4854936row3_col8\" class=\"data row3 col8\" >0.0196745</td>\n",
       "                        <td id=\"T_f3ac114a_4342_11e9_acb7_98e7f4854936row3_col9\" class=\"data row3 col9\" >0.0374003</td>\n",
       "                        <td id=\"T_f3ac114a_4342_11e9_acb7_98e7f4854936row3_col10\" class=\"data row3 col10\" >-0.00238149</td>\n",
       "                        <td id=\"T_f3ac114a_4342_11e9_acb7_98e7f4854936row3_col11\" class=\"data row3 col11\" >0.0244942</td>\n",
       "                        <td id=\"T_f3ac114a_4342_11e9_acb7_98e7f4854936row3_col12\" class=\"data row3 col12\" >0.0111091</td>\n",
       "                        <td id=\"T_f3ac114a_4342_11e9_acb7_98e7f4854936row3_col13\" class=\"data row3 col13\" >0.00702044</td>\n",
       "                        <td id=\"T_f3ac114a_4342_11e9_acb7_98e7f4854936row3_col14\" class=\"data row3 col14\" >-0.0664722</td>\n",
       "            </tr>\n",
       "            <tr>\n",
       "                        <th id=\"T_f3ac114a_4342_11e9_acb7_98e7f4854936level0_row4\" class=\"row_heading level0 row4\" >recruitment_channel</th>\n",
       "                        <td id=\"T_f3ac114a_4342_11e9_acb7_98e7f4854936row4_col0\" class=\"data row4 col0\" >0.00473218</td>\n",
       "                        <td id=\"T_f3ac114a_4342_11e9_acb7_98e7f4854936row4_col1\" class=\"data row4 col1\" >-0.000919649</td>\n",
       "                        <td id=\"T_f3ac114a_4342_11e9_acb7_98e7f4854936row4_col2\" class=\"data row4 col2\" >-0.00552099</td>\n",
       "                        <td id=\"T_f3ac114a_4342_11e9_acb7_98e7f4854936row4_col3\" class=\"data row4 col3\" >-0.00656724</td>\n",
       "                        <td id=\"T_f3ac114a_4342_11e9_acb7_98e7f4854936row4_col4\" class=\"data row4 col4\" >1</td>\n",
       "                        <td id=\"T_f3ac114a_4342_11e9_acb7_98e7f4854936row4_col5\" class=\"data row4 col5\" >-0.0104051</td>\n",
       "                        <td id=\"T_f3ac114a_4342_11e9_acb7_98e7f4854936row4_col6\" class=\"data row4 col6\" >-0.0114003</td>\n",
       "                        <td id=\"T_f3ac114a_4342_11e9_acb7_98e7f4854936row4_col7\" class=\"data row4 col7\" >0.00573072</td>\n",
       "                        <td id=\"T_f3ac114a_4342_11e9_acb7_98e7f4854936row4_col8\" class=\"data row4 col8\" >-0.00288686</td>\n",
       "                        <td id=\"T_f3ac114a_4342_11e9_acb7_98e7f4854936row4_col9\" class=\"data row4 col9\" >-0.000297411</td>\n",
       "                        <td id=\"T_f3ac114a_4342_11e9_acb7_98e7f4854936row4_col10\" class=\"data row4 col10\" >-0.00551036</td>\n",
       "                        <td id=\"T_f3ac114a_4342_11e9_acb7_98e7f4854936row4_col11\" class=\"data row4 col11\" >-0.00241588</td>\n",
       "                        <td id=\"T_f3ac114a_4342_11e9_acb7_98e7f4854936row4_col12\" class=\"data row4 col12\" >0.00222871</td>\n",
       "                        <td id=\"T_f3ac114a_4342_11e9_acb7_98e7f4854936row4_col13\" class=\"data row4 col13\" >-0.012878</td>\n",
       "                        <td id=\"T_f3ac114a_4342_11e9_acb7_98e7f4854936row4_col14\" class=\"data row4 col14\" >-0.0096758</td>\n",
       "            </tr>\n",
       "            <tr>\n",
       "                        <th id=\"T_f3ac114a_4342_11e9_acb7_98e7f4854936level0_row5\" class=\"row_heading level0 row5\" >no_of_trainings</th>\n",
       "                        <td id=\"T_f3ac114a_4342_11e9_acb7_98e7f4854936row5_col0\" class=\"data row5 col0\" >0.0141517</td>\n",
       "                        <td id=\"T_f3ac114a_4342_11e9_acb7_98e7f4854936row5_col1\" class=\"data row5 col1\" >-0.00459046</td>\n",
       "                        <td id=\"T_f3ac114a_4342_11e9_acb7_98e7f4854936row5_col2\" class=\"data row5 col2\" >-0.0334406</td>\n",
       "                        <td id=\"T_f3ac114a_4342_11e9_acb7_98e7f4854936row5_col3\" class=\"data row5 col3\" >-0.0845012</td>\n",
       "                        <td id=\"T_f3ac114a_4342_11e9_acb7_98e7f4854936row5_col4\" class=\"data row5 col4\" >-0.0104051</td>\n",
       "                        <td id=\"T_f3ac114a_4342_11e9_acb7_98e7f4854936row5_col5\" class=\"data row5 col5\" >1</td>\n",
       "                        <td id=\"T_f3ac114a_4342_11e9_acb7_98e7f4854936row5_col6\" class=\"data row5 col6\" >-0.0812779</td>\n",
       "                        <td id=\"T_f3ac114a_4342_11e9_acb7_98e7f4854936row5_col7\" class=\"data row5 col7\" >-0.0615637</td>\n",
       "                        <td id=\"T_f3ac114a_4342_11e9_acb7_98e7f4854936row5_col8\" class=\"data row5 col8\" >-0.0572748</td>\n",
       "                        <td id=\"T_f3ac114a_4342_11e9_acb7_98e7f4854936row5_col9\" class=\"data row5 col9\" >-0.0455757</td>\n",
       "                        <td id=\"T_f3ac114a_4342_11e9_acb7_98e7f4854936row5_col10\" class=\"data row5 col10\" >-0.00762832</td>\n",
       "                        <td id=\"T_f3ac114a_4342_11e9_acb7_98e7f4854936row5_col11\" class=\"data row5 col11\" >0.042517</td>\n",
       "                        <td id=\"T_f3ac114a_4342_11e9_acb7_98e7f4854936row5_col12\" class=\"data row5 col12\" >-0.0248959</td>\n",
       "                        <td id=\"T_f3ac114a_4342_11e9_acb7_98e7f4854936row5_col13\" class=\"data row5 col13\" >-0.0649465</td>\n",
       "                        <td id=\"T_f3ac114a_4342_11e9_acb7_98e7f4854936row5_col14\" class=\"data row5 col14\" >0.901878</td>\n",
       "            </tr>\n",
       "            <tr>\n",
       "                        <th id=\"T_f3ac114a_4342_11e9_acb7_98e7f4854936level0_row6\" class=\"row_heading level0 row6\" >age</th>\n",
       "                        <td id=\"T_f3ac114a_4342_11e9_acb7_98e7f4854936row6_col0\" class=\"data row6 col0\" >0.0791621</td>\n",
       "                        <td id=\"T_f3ac114a_4342_11e9_acb7_98e7f4854936row6_col1\" class=\"data row6 col1\" >-0.0889184</td>\n",
       "                        <td id=\"T_f3ac114a_4342_11e9_acb7_98e7f4854936row6_col2\" class=\"data row6 col2\" >0.389036</td>\n",
       "                        <td id=\"T_f3ac114a_4342_11e9_acb7_98e7f4854936row6_col3\" class=\"data row6 col3\" >0.0162932</td>\n",
       "                        <td id=\"T_f3ac114a_4342_11e9_acb7_98e7f4854936row6_col4\" class=\"data row6 col4\" >-0.0114003</td>\n",
       "                        <td id=\"T_f3ac114a_4342_11e9_acb7_98e7f4854936row6_col5\" class=\"data row6 col5\" >-0.0812779</td>\n",
       "                        <td id=\"T_f3ac114a_4342_11e9_acb7_98e7f4854936row6_col6\" class=\"data row6 col6\" >1</td>\n",
       "                        <td id=\"T_f3ac114a_4342_11e9_acb7_98e7f4854936row6_col7\" class=\"data row6 col7\" >0.0268104</td>\n",
       "                        <td id=\"T_f3ac114a_4342_11e9_acb7_98e7f4854936row6_col8\" class=\"data row6 col8\" >0.657111</td>\n",
       "                        <td id=\"T_f3ac114a_4342_11e9_acb7_98e7f4854936row6_col9\" class=\"data row6 col9\" >-0.0255918</td>\n",
       "                        <td id=\"T_f3ac114a_4342_11e9_acb7_98e7f4854936row6_col10\" class=\"data row6 col10\" >-0.00816882</td>\n",
       "                        <td id=\"T_f3ac114a_4342_11e9_acb7_98e7f4854936row6_col11\" class=\"data row6 col11\" >-0.0483797</td>\n",
       "                        <td id=\"T_f3ac114a_4342_11e9_acb7_98e7f4854936row6_col12\" class=\"data row6 col12\" >-0.0171659</td>\n",
       "                        <td id=\"T_f3ac114a_4342_11e9_acb7_98e7f4854936row6_col13\" class=\"data row6 col13\" >0.833896</td>\n",
       "                        <td id=\"T_f3ac114a_4342_11e9_acb7_98e7f4854936row6_col14\" class=\"data row6 col14\" >-0.0907978</td>\n",
       "            </tr>\n",
       "            <tr>\n",
       "                        <th id=\"T_f3ac114a_4342_11e9_acb7_98e7f4854936level0_row7\" class=\"row_heading level0 row7\" >previous_year_rating</th>\n",
       "                        <td id=\"T_f3ac114a_4342_11e9_acb7_98e7f4854936row7_col0\" class=\"data row7 col0\" >-0.135561</td>\n",
       "                        <td id=\"T_f3ac114a_4342_11e9_acb7_98e7f4854936row7_col1\" class=\"data row7 col1\" >-0.0059766</td>\n",
       "                        <td id=\"T_f3ac114a_4342_11e9_acb7_98e7f4854936row7_col2\" class=\"data row7 col2\" >0.0268517</td>\n",
       "                        <td id=\"T_f3ac114a_4342_11e9_acb7_98e7f4854936row7_col3\" class=\"data row7 col3\" >0.0240241</td>\n",
       "                        <td id=\"T_f3ac114a_4342_11e9_acb7_98e7f4854936row7_col4\" class=\"data row7 col4\" >0.00573072</td>\n",
       "                        <td id=\"T_f3ac114a_4342_11e9_acb7_98e7f4854936row7_col5\" class=\"data row7 col5\" >-0.0615637</td>\n",
       "                        <td id=\"T_f3ac114a_4342_11e9_acb7_98e7f4854936row7_col6\" class=\"data row7 col6\" >0.0268104</td>\n",
       "                        <td id=\"T_f3ac114a_4342_11e9_acb7_98e7f4854936row7_col7\" class=\"data row7 col7\" >1</td>\n",
       "                        <td id=\"T_f3ac114a_4342_11e9_acb7_98e7f4854936row7_col8\" class=\"data row7 col8\" >0.0235044</td>\n",
       "                        <td id=\"T_f3ac114a_4342_11e9_acb7_98e7f4854936row7_col9\" class=\"data row7 col9\" >0.337367</td>\n",
       "                        <td id=\"T_f3ac114a_4342_11e9_acb7_98e7f4854936row7_col10\" class=\"data row7 col10\" >0.0265866</td>\n",
       "                        <td id=\"T_f3ac114a_4342_11e9_acb7_98e7f4854936row7_col11\" class=\"data row7 col11\" >0.0719257</td>\n",
       "                        <td id=\"T_f3ac114a_4342_11e9_acb7_98e7f4854936row7_col12\" class=\"data row7 col12\" >0.15323</td>\n",
       "                        <td id=\"T_f3ac114a_4342_11e9_acb7_98e7f4854936row7_col13\" class=\"data row7 col13\" >0.0180467</td>\n",
       "                        <td id=\"T_f3ac114a_4342_11e9_acb7_98e7f4854936row7_col14\" class=\"data row7 col14\" >-0.012217</td>\n",
       "            </tr>\n",
       "            <tr>\n",
       "                        <th id=\"T_f3ac114a_4342_11e9_acb7_98e7f4854936level0_row8\" class=\"row_heading level0 row8\" >length_of_service</th>\n",
       "                        <td id=\"T_f3ac114a_4342_11e9_acb7_98e7f4854936row8_col0\" class=\"data row8 col0\" >0.0590596</td>\n",
       "                        <td id=\"T_f3ac114a_4342_11e9_acb7_98e7f4854936row8_col1\" class=\"data row8 col1\" >-0.0589394</td>\n",
       "                        <td id=\"T_f3ac114a_4342_11e9_acb7_98e7f4854936row8_col2\" class=\"data row8 col2\" >0.266995</td>\n",
       "                        <td id=\"T_f3ac114a_4342_11e9_acb7_98e7f4854936row8_col3\" class=\"data row8 col3\" >0.0196745</td>\n",
       "                        <td id=\"T_f3ac114a_4342_11e9_acb7_98e7f4854936row8_col4\" class=\"data row8 col4\" >-0.00288686</td>\n",
       "                        <td id=\"T_f3ac114a_4342_11e9_acb7_98e7f4854936row8_col5\" class=\"data row8 col5\" >-0.0572748</td>\n",
       "                        <td id=\"T_f3ac114a_4342_11e9_acb7_98e7f4854936row8_col6\" class=\"data row8 col6\" >0.657111</td>\n",
       "                        <td id=\"T_f3ac114a_4342_11e9_acb7_98e7f4854936row8_col7\" class=\"data row8 col7\" >0.0235044</td>\n",
       "                        <td id=\"T_f3ac114a_4342_11e9_acb7_98e7f4854936row8_col8\" class=\"data row8 col8\" >1</td>\n",
       "                        <td id=\"T_f3ac114a_4342_11e9_acb7_98e7f4854936row8_col9\" class=\"data row8 col9\" >-0.0776925</td>\n",
       "                        <td id=\"T_f3ac114a_4342_11e9_acb7_98e7f4854936row8_col10\" class=\"data row8 col10\" >-0.0399275</td>\n",
       "                        <td id=\"T_f3ac114a_4342_11e9_acb7_98e7f4854936row8_col11\" class=\"data row8 col11\" >-0.0381222</td>\n",
       "                        <td id=\"T_f3ac114a_4342_11e9_acb7_98e7f4854936row8_col12\" class=\"data row8 col12\" >-0.0106699</td>\n",
       "                        <td id=\"T_f3ac114a_4342_11e9_acb7_98e7f4854936row8_col13\" class=\"data row8 col13\" >0.131927</td>\n",
       "                        <td id=\"T_f3ac114a_4342_11e9_acb7_98e7f4854936row8_col14\" class=\"data row8 col14\" >-0.0664172</td>\n",
       "            </tr>\n",
       "            <tr>\n",
       "                        <th id=\"T_f3ac114a_4342_11e9_acb7_98e7f4854936level0_row9\" class=\"row_heading level0 row9\" >KPIs_met >80%</th>\n",
       "                        <td id=\"T_f3ac114a_4342_11e9_acb7_98e7f4854936row9_col0\" class=\"data row9 col0\" >-0.0882091</td>\n",
       "                        <td id=\"T_f3ac114a_4342_11e9_acb7_98e7f4854936row9_col1\" class=\"data row9 col1\" >-0.00766378</td>\n",
       "                        <td id=\"T_f3ac114a_4342_11e9_acb7_98e7f4854936row9_col2\" class=\"data row9 col2\" >0.00676087</td>\n",
       "                        <td id=\"T_f3ac114a_4342_11e9_acb7_98e7f4854936row9_col3\" class=\"data row9 col3\" >0.0374003</td>\n",
       "                        <td id=\"T_f3ac114a_4342_11e9_acb7_98e7f4854936row9_col4\" class=\"data row9 col4\" >-0.000297411</td>\n",
       "                        <td id=\"T_f3ac114a_4342_11e9_acb7_98e7f4854936row9_col5\" class=\"data row9 col5\" >-0.0455757</td>\n",
       "                        <td id=\"T_f3ac114a_4342_11e9_acb7_98e7f4854936row9_col6\" class=\"data row9 col6\" >-0.0255918</td>\n",
       "                        <td id=\"T_f3ac114a_4342_11e9_acb7_98e7f4854936row9_col7\" class=\"data row9 col7\" >0.337367</td>\n",
       "                        <td id=\"T_f3ac114a_4342_11e9_acb7_98e7f4854936row9_col8\" class=\"data row9 col8\" >-0.0776925</td>\n",
       "                        <td id=\"T_f3ac114a_4342_11e9_acb7_98e7f4854936row9_col9\" class=\"data row9 col9\" >1</td>\n",
       "                        <td id=\"T_f3ac114a_4342_11e9_acb7_98e7f4854936row9_col10\" class=\"data row9 col10\" >0.0969998</td>\n",
       "                        <td id=\"T_f3ac114a_4342_11e9_acb7_98e7f4854936row9_col11\" class=\"data row9 col11\" >0.078391</td>\n",
       "                        <td id=\"T_f3ac114a_4342_11e9_acb7_98e7f4854936row9_col12\" class=\"data row9 col12\" >0.221582</td>\n",
       "                        <td id=\"T_f3ac114a_4342_11e9_acb7_98e7f4854936row9_col13\" class=\"data row9 col13\" >0.023232</td>\n",
       "                        <td id=\"T_f3ac114a_4342_11e9_acb7_98e7f4854936row9_col14\" class=\"data row9 col14\" >-0.00367623</td>\n",
       "            </tr>\n",
       "            <tr>\n",
       "                        <th id=\"T_f3ac114a_4342_11e9_acb7_98e7f4854936level0_row10\" class=\"row_heading level0 row10\" >awards_won?</th>\n",
       "                        <td id=\"T_f3ac114a_4342_11e9_acb7_98e7f4854936row10_col0\" class=\"data row10 col0\" >-0.00215111</td>\n",
       "                        <td id=\"T_f3ac114a_4342_11e9_acb7_98e7f4854936row10_col1\" class=\"data row10 col1\" >0.000307275</td>\n",
       "                        <td id=\"T_f3ac114a_4342_11e9_acb7_98e7f4854936row10_col2\" class=\"data row10 col2\" >0.0004684</td>\n",
       "                        <td id=\"T_f3ac114a_4342_11e9_acb7_98e7f4854936row10_col3\" class=\"data row10 col3\" >-0.00238149</td>\n",
       "                        <td id=\"T_f3ac114a_4342_11e9_acb7_98e7f4854936row10_col4\" class=\"data row10 col4\" >-0.00551036</td>\n",
       "                        <td id=\"T_f3ac114a_4342_11e9_acb7_98e7f4854936row10_col5\" class=\"data row10 col5\" >-0.00762832</td>\n",
       "                        <td id=\"T_f3ac114a_4342_11e9_acb7_98e7f4854936row10_col6\" class=\"data row10 col6\" >-0.00816882</td>\n",
       "                        <td id=\"T_f3ac114a_4342_11e9_acb7_98e7f4854936row10_col7\" class=\"data row10 col7\" >0.0265866</td>\n",
       "                        <td id=\"T_f3ac114a_4342_11e9_acb7_98e7f4854936row10_col8\" class=\"data row10 col8\" >-0.0399275</td>\n",
       "                        <td id=\"T_f3ac114a_4342_11e9_acb7_98e7f4854936row10_col9\" class=\"data row10 col9\" >0.0969998</td>\n",
       "                        <td id=\"T_f3ac114a_4342_11e9_acb7_98e7f4854936row10_col10\" class=\"data row10 col10\" >1</td>\n",
       "                        <td id=\"T_f3ac114a_4342_11e9_acb7_98e7f4854936row10_col11\" class=\"data row10 col11\" >0.0721382</td>\n",
       "                        <td id=\"T_f3ac114a_4342_11e9_acb7_98e7f4854936row10_col12\" class=\"data row10 col12\" >0.195871</td>\n",
       "                        <td id=\"T_f3ac114a_4342_11e9_acb7_98e7f4854936row10_col13\" class=\"data row10 col13\" >0.0184923</td>\n",
       "                        <td id=\"T_f3ac114a_4342_11e9_acb7_98e7f4854936row10_col14\" class=\"data row10 col14\" >0.0187065</td>\n",
       "            </tr>\n",
       "            <tr>\n",
       "                        <th id=\"T_f3ac114a_4342_11e9_acb7_98e7f4854936level0_row11\" class=\"row_heading level0 row11\" >avg_training_score</th>\n",
       "                        <td id=\"T_f3ac114a_4342_11e9_acb7_98e7f4854936row11_col0\" class=\"data row11 col0\" >-0.251626</td>\n",
       "                        <td id=\"T_f3ac114a_4342_11e9_acb7_98e7f4854936row11_col1\" class=\"data row11 col1\" >0.0235718</td>\n",
       "                        <td id=\"T_f3ac114a_4342_11e9_acb7_98e7f4854936row11_col2\" class=\"data row11 col2\" >0.0256455</td>\n",
       "                        <td id=\"T_f3ac114a_4342_11e9_acb7_98e7f4854936row11_col3\" class=\"data row11 col3\" >0.0244942</td>\n",
       "                        <td id=\"T_f3ac114a_4342_11e9_acb7_98e7f4854936row11_col4\" class=\"data row11 col4\" >-0.00241588</td>\n",
       "                        <td id=\"T_f3ac114a_4342_11e9_acb7_98e7f4854936row11_col5\" class=\"data row11 col5\" >0.042517</td>\n",
       "                        <td id=\"T_f3ac114a_4342_11e9_acb7_98e7f4854936row11_col6\" class=\"data row11 col6\" >-0.0483797</td>\n",
       "                        <td id=\"T_f3ac114a_4342_11e9_acb7_98e7f4854936row11_col7\" class=\"data row11 col7\" >0.0719257</td>\n",
       "                        <td id=\"T_f3ac114a_4342_11e9_acb7_98e7f4854936row11_col8\" class=\"data row11 col8\" >-0.0381222</td>\n",
       "                        <td id=\"T_f3ac114a_4342_11e9_acb7_98e7f4854936row11_col9\" class=\"data row11 col9\" >0.078391</td>\n",
       "                        <td id=\"T_f3ac114a_4342_11e9_acb7_98e7f4854936row11_col10\" class=\"data row11 col10\" >0.0721382</td>\n",
       "                        <td id=\"T_f3ac114a_4342_11e9_acb7_98e7f4854936row11_col11\" class=\"data row11 col11\" >1</td>\n",
       "                        <td id=\"T_f3ac114a_4342_11e9_acb7_98e7f4854936row11_col12\" class=\"data row11 col12\" >0.181147</td>\n",
       "                        <td id=\"T_f3ac114a_4342_11e9_acb7_98e7f4854936row11_col13\" class=\"data row11 col13\" >-0.0357079</td>\n",
       "                        <td id=\"T_f3ac114a_4342_11e9_acb7_98e7f4854936row11_col14\" class=\"data row11 col14\" >0.427185</td>\n",
       "            </tr>\n",
       "            <tr>\n",
       "                        <th id=\"T_f3ac114a_4342_11e9_acb7_98e7f4854936level0_row12\" class=\"row_heading level0 row12\" >is_promoted</th>\n",
       "                        <td id=\"T_f3ac114a_4342_11e9_acb7_98e7f4854936row12_col0\" class=\"data row12 col0\" >0.000130116</td>\n",
       "                        <td id=\"T_f3ac114a_4342_11e9_acb7_98e7f4854936row12_col1\" class=\"data row12 col1\" >0.00884144</td>\n",
       "                        <td id=\"T_f3ac114a_4342_11e9_acb7_98e7f4854936row12_col2\" class=\"data row12 col2\" >0.0280264</td>\n",
       "                        <td id=\"T_f3ac114a_4342_11e9_acb7_98e7f4854936row12_col3\" class=\"data row12 col3\" >0.0111091</td>\n",
       "                        <td id=\"T_f3ac114a_4342_11e9_acb7_98e7f4854936row12_col4\" class=\"data row12 col4\" >0.00222871</td>\n",
       "                        <td id=\"T_f3ac114a_4342_11e9_acb7_98e7f4854936row12_col5\" class=\"data row12 col5\" >-0.0248959</td>\n",
       "                        <td id=\"T_f3ac114a_4342_11e9_acb7_98e7f4854936row12_col6\" class=\"data row12 col6\" >-0.0171659</td>\n",
       "                        <td id=\"T_f3ac114a_4342_11e9_acb7_98e7f4854936row12_col7\" class=\"data row12 col7\" >0.15323</td>\n",
       "                        <td id=\"T_f3ac114a_4342_11e9_acb7_98e7f4854936row12_col8\" class=\"data row12 col8\" >-0.0106699</td>\n",
       "                        <td id=\"T_f3ac114a_4342_11e9_acb7_98e7f4854936row12_col9\" class=\"data row12 col9\" >0.221582</td>\n",
       "                        <td id=\"T_f3ac114a_4342_11e9_acb7_98e7f4854936row12_col10\" class=\"data row12 col10\" >0.195871</td>\n",
       "                        <td id=\"T_f3ac114a_4342_11e9_acb7_98e7f4854936row12_col11\" class=\"data row12 col11\" >0.181147</td>\n",
       "                        <td id=\"T_f3ac114a_4342_11e9_acb7_98e7f4854936row12_col12\" class=\"data row12 col12\" >1</td>\n",
       "                        <td id=\"T_f3ac114a_4342_11e9_acb7_98e7f4854936row12_col13\" class=\"data row12 col13\" >-0.0147612</td>\n",
       "                        <td id=\"T_f3ac114a_4342_11e9_acb7_98e7f4854936row12_col14\" class=\"data row12 col14\" >0.0464279</td>\n",
       "            </tr>\n",
       "            <tr>\n",
       "                        <th id=\"T_f3ac114a_4342_11e9_acb7_98e7f4854936level0_row13\" class=\"row_heading level0 row13\" >joining_age</th>\n",
       "                        <td id=\"T_f3ac114a_4342_11e9_acb7_98e7f4854936row13_col0\" class=\"data row13 col0\" >0.0608573</td>\n",
       "                        <td id=\"T_f3ac114a_4342_11e9_acb7_98e7f4854936row13_col1\" class=\"data row13 col1\" >-0.0737752</td>\n",
       "                        <td id=\"T_f3ac114a_4342_11e9_acb7_98e7f4854936row13_col2\" class=\"data row13 col2\" >0.316102</td>\n",
       "                        <td id=\"T_f3ac114a_4342_11e9_acb7_98e7f4854936row13_col3\" class=\"data row13 col3\" >0.00702044</td>\n",
       "                        <td id=\"T_f3ac114a_4342_11e9_acb7_98e7f4854936row13_col4\" class=\"data row13 col4\" >-0.012878</td>\n",
       "                        <td id=\"T_f3ac114a_4342_11e9_acb7_98e7f4854936row13_col5\" class=\"data row13 col5\" >-0.0649465</td>\n",
       "                        <td id=\"T_f3ac114a_4342_11e9_acb7_98e7f4854936row13_col6\" class=\"data row13 col6\" >0.833896</td>\n",
       "                        <td id=\"T_f3ac114a_4342_11e9_acb7_98e7f4854936row13_col7\" class=\"data row13 col7\" >0.0180467</td>\n",
       "                        <td id=\"T_f3ac114a_4342_11e9_acb7_98e7f4854936row13_col8\" class=\"data row13 col8\" >0.131927</td>\n",
       "                        <td id=\"T_f3ac114a_4342_11e9_acb7_98e7f4854936row13_col9\" class=\"data row13 col9\" >0.023232</td>\n",
       "                        <td id=\"T_f3ac114a_4342_11e9_acb7_98e7f4854936row13_col10\" class=\"data row13 col10\" >0.0184923</td>\n",
       "                        <td id=\"T_f3ac114a_4342_11e9_acb7_98e7f4854936row13_col11\" class=\"data row13 col11\" >-0.0357079</td>\n",
       "                        <td id=\"T_f3ac114a_4342_11e9_acb7_98e7f4854936row13_col12\" class=\"data row13 col12\" >-0.0147612</td>\n",
       "                        <td id=\"T_f3ac114a_4342_11e9_acb7_98e7f4854936row13_col13\" class=\"data row13 col13\" >1</td>\n",
       "                        <td id=\"T_f3ac114a_4342_11e9_acb7_98e7f4854936row13_col14\" class=\"data row13 col14\" >-0.0707715</td>\n",
       "            </tr>\n",
       "            <tr>\n",
       "                        <th id=\"T_f3ac114a_4342_11e9_acb7_98e7f4854936level0_row14\" class=\"row_heading level0 row14\" >training_hours</th>\n",
       "                        <td id=\"T_f3ac114a_4342_11e9_acb7_98e7f4854936row14_col0\" class=\"data row14 col0\" >-0.0968076</td>\n",
       "                        <td id=\"T_f3ac114a_4342_11e9_acb7_98e7f4854936row14_col1\" class=\"data row14 col1\" >0.00467944</td>\n",
       "                        <td id=\"T_f3ac114a_4342_11e9_acb7_98e7f4854936row14_col2\" class=\"data row14 col2\" >-0.0218387</td>\n",
       "                        <td id=\"T_f3ac114a_4342_11e9_acb7_98e7f4854936row14_col3\" class=\"data row14 col3\" >-0.0664722</td>\n",
       "                        <td id=\"T_f3ac114a_4342_11e9_acb7_98e7f4854936row14_col4\" class=\"data row14 col4\" >-0.0096758</td>\n",
       "                        <td id=\"T_f3ac114a_4342_11e9_acb7_98e7f4854936row14_col5\" class=\"data row14 col5\" >0.901878</td>\n",
       "                        <td id=\"T_f3ac114a_4342_11e9_acb7_98e7f4854936row14_col6\" class=\"data row14 col6\" >-0.0907978</td>\n",
       "                        <td id=\"T_f3ac114a_4342_11e9_acb7_98e7f4854936row14_col7\" class=\"data row14 col7\" >-0.012217</td>\n",
       "                        <td id=\"T_f3ac114a_4342_11e9_acb7_98e7f4854936row14_col8\" class=\"data row14 col8\" >-0.0664172</td>\n",
       "                        <td id=\"T_f3ac114a_4342_11e9_acb7_98e7f4854936row14_col9\" class=\"data row14 col9\" >-0.00367623</td>\n",
       "                        <td id=\"T_f3ac114a_4342_11e9_acb7_98e7f4854936row14_col10\" class=\"data row14 col10\" >0.0187065</td>\n",
       "                        <td id=\"T_f3ac114a_4342_11e9_acb7_98e7f4854936row14_col11\" class=\"data row14 col11\" >0.427185</td>\n",
       "                        <td id=\"T_f3ac114a_4342_11e9_acb7_98e7f4854936row14_col12\" class=\"data row14 col12\" >0.0464279</td>\n",
       "                        <td id=\"T_f3ac114a_4342_11e9_acb7_98e7f4854936row14_col13\" class=\"data row14 col13\" >-0.0707715</td>\n",
       "                        <td id=\"T_f3ac114a_4342_11e9_acb7_98e7f4854936row14_col14\" class=\"data row14 col14\" >1</td>\n",
       "            </tr>\n",
       "    </tbody></table>"
      ],
      "text/plain": [
       "<pandas.io.formats.style.Styler at 0x1f56bc18be0>"
      ]
     },
     "execution_count": 54,
     "metadata": {},
     "output_type": "execute_result"
    }
   ],
   "source": [
    "corr = train.corr()\n",
    "corr.style.background_gradient()"
   ]
  },
  {
   "cell_type": "code",
   "execution_count": null,
   "metadata": {},
   "outputs": [],
   "source": []
  },
  {
   "cell_type": "markdown",
   "metadata": {},
   "source": [
    "# Feature selection "
   ]
  },
  {
   "cell_type": "markdown",
   "metadata": {},
   "source": [
    "As the data is imbalnce we have to apply certain techniques for making the model fit accurately for the imbalance output\n",
    "as the data contains large number of target variables labled as 0, it will try to predict 0 for most of the cases.\n",
    "we will do the feature selection before any over/undersampling technique because as we over/ undersample , the feature importance may \n",
    "change from the original importance of the feature.\n",
    "\n"
   ]
  },
  {
   "cell_type": "code",
   "execution_count": null,
   "metadata": {},
   "outputs": [],
   "source": []
  }
 ],
 "metadata": {
  "kernelspec": {
   "display_name": "Python 3",
   "language": "python",
   "name": "python3"
  },
  "language_info": {
   "codemirror_mode": {
    "name": "ipython",
    "version": 3
   },
   "file_extension": ".py",
   "mimetype": "text/x-python",
   "name": "python",
   "nbconvert_exporter": "python",
   "pygments_lexer": "ipython3",
   "version": "3.7.1"
  }
 },
 "nbformat": 4,
 "nbformat_minor": 2
}
