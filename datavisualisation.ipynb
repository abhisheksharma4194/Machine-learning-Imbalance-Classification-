{
 "cells": [
  {
   "cell_type": "code",
   "execution_count": 1,
   "metadata": {},
   "outputs": [],
   "source": [
    "import matplotlib.pyplot as plt\n",
    "import pandas as pd\n",
    "import numpy as np\n",
    "import seaborn as sns\n",
    "from sklearn import datasets, linear_model, svm\n",
    "from sklearn.model_selection import train_test_split\n",
    "from sklearn.metrics import accuracy_score\n",
    "from sklearn import preprocessing\n",
    "from sklearn.preprocessing import StandardScaler\n",
    "from sklearn.metrics import mean_squared_error\n",
    "import math\n",
    "from xgboost import XGBRegressor\n",
    "from xgboost import plot_importance\n",
    "from sklearn.feature_selection import SelectFromModel\n",
    "from sklearn.utils import shuffle\n",
    "from sklearn.model_selection import GridSearchCV\n",
    "from sklearn.preprocessing import LabelEncoder\n",
    "from sklearn.ensemble import RandomForestClassifier\n",
    "from sklearn.model_selection import cross_val_score\n",
    "from imblearn.over_sampling import SMOTE\n",
    "from sklearn.metrics import confusion_matrix\n",
    "from sklearn.metrics import f1_score"
   ]
  },
  {
   "cell_type": "code",
   "execution_count": 2,
   "metadata": {},
   "outputs": [],
   "source": [
    "train=pd.read_csv(\"train.csv\")\n",
    "test=pd.read_csv(\"test.csv\")\n",
    "trainCopy=train.copy()\n",
    "testCopy=test.copy()\n",
    "train=shuffle(train)"
   ]
  },
  {
   "cell_type": "code",
   "execution_count": 3,
   "metadata": {},
   "outputs": [
    {
     "data": {
      "text/html": [
       "<div>\n",
       "<style scoped>\n",
       "    .dataframe tbody tr th:only-of-type {\n",
       "        vertical-align: middle;\n",
       "    }\n",
       "\n",
       "    .dataframe tbody tr th {\n",
       "        vertical-align: top;\n",
       "    }\n",
       "\n",
       "    .dataframe thead th {\n",
       "        text-align: right;\n",
       "    }\n",
       "</style>\n",
       "<table border=\"1\" class=\"dataframe\">\n",
       "  <thead>\n",
       "    <tr style=\"text-align: right;\">\n",
       "      <th></th>\n",
       "      <th>employee_id</th>\n",
       "      <th>department</th>\n",
       "      <th>region</th>\n",
       "      <th>education</th>\n",
       "      <th>gender</th>\n",
       "      <th>recruitment_channel</th>\n",
       "      <th>no_of_trainings</th>\n",
       "      <th>age</th>\n",
       "      <th>previous_year_rating</th>\n",
       "      <th>length_of_service</th>\n",
       "      <th>KPIs_met &gt;80%</th>\n",
       "      <th>awards_won?</th>\n",
       "      <th>avg_training_score</th>\n",
       "      <th>is_promoted</th>\n",
       "    </tr>\n",
       "  </thead>\n",
       "  <tbody>\n",
       "    <tr>\n",
       "      <th>13095</th>\n",
       "      <td>54397</td>\n",
       "      <td>Technology</td>\n",
       "      <td>region_23</td>\n",
       "      <td>Bachelor's</td>\n",
       "      <td>f</td>\n",
       "      <td>other</td>\n",
       "      <td>1</td>\n",
       "      <td>30</td>\n",
       "      <td>NaN</td>\n",
       "      <td>1</td>\n",
       "      <td>0</td>\n",
       "      <td>0</td>\n",
       "      <td>80</td>\n",
       "      <td>0</td>\n",
       "    </tr>\n",
       "    <tr>\n",
       "      <th>37673</th>\n",
       "      <td>36194</td>\n",
       "      <td>Finance</td>\n",
       "      <td>region_5</td>\n",
       "      <td>Bachelor's</td>\n",
       "      <td>m</td>\n",
       "      <td>sourcing</td>\n",
       "      <td>1</td>\n",
       "      <td>36</td>\n",
       "      <td>5.0</td>\n",
       "      <td>3</td>\n",
       "      <td>1</td>\n",
       "      <td>0</td>\n",
       "      <td>62</td>\n",
       "      <td>0</td>\n",
       "    </tr>\n",
       "    <tr>\n",
       "      <th>24431</th>\n",
       "      <td>46586</td>\n",
       "      <td>Procurement</td>\n",
       "      <td>region_2</td>\n",
       "      <td>Master's &amp; above</td>\n",
       "      <td>f</td>\n",
       "      <td>other</td>\n",
       "      <td>1</td>\n",
       "      <td>42</td>\n",
       "      <td>3.0</td>\n",
       "      <td>13</td>\n",
       "      <td>0</td>\n",
       "      <td>0</td>\n",
       "      <td>67</td>\n",
       "      <td>0</td>\n",
       "    </tr>\n",
       "    <tr>\n",
       "      <th>32131</th>\n",
       "      <td>37354</td>\n",
       "      <td>Sales &amp; Marketing</td>\n",
       "      <td>region_31</td>\n",
       "      <td>Bachelor's</td>\n",
       "      <td>m</td>\n",
       "      <td>other</td>\n",
       "      <td>2</td>\n",
       "      <td>27</td>\n",
       "      <td>3.0</td>\n",
       "      <td>4</td>\n",
       "      <td>0</td>\n",
       "      <td>0</td>\n",
       "      <td>49</td>\n",
       "      <td>0</td>\n",
       "    </tr>\n",
       "    <tr>\n",
       "      <th>44460</th>\n",
       "      <td>62993</td>\n",
       "      <td>Operations</td>\n",
       "      <td>region_26</td>\n",
       "      <td>Bachelor's</td>\n",
       "      <td>f</td>\n",
       "      <td>sourcing</td>\n",
       "      <td>1</td>\n",
       "      <td>25</td>\n",
       "      <td>NaN</td>\n",
       "      <td>1</td>\n",
       "      <td>0</td>\n",
       "      <td>0</td>\n",
       "      <td>61</td>\n",
       "      <td>0</td>\n",
       "    </tr>\n",
       "  </tbody>\n",
       "</table>\n",
       "</div>"
      ],
      "text/plain": [
       "       employee_id         department     region         education gender  \\\n",
       "13095        54397         Technology  region_23        Bachelor's      f   \n",
       "37673        36194            Finance   region_5        Bachelor's      m   \n",
       "24431        46586        Procurement   region_2  Master's & above      f   \n",
       "32131        37354  Sales & Marketing  region_31        Bachelor's      m   \n",
       "44460        62993         Operations  region_26        Bachelor's      f   \n",
       "\n",
       "      recruitment_channel  no_of_trainings  age  previous_year_rating  \\\n",
       "13095               other                1   30                   NaN   \n",
       "37673            sourcing                1   36                   5.0   \n",
       "24431               other                1   42                   3.0   \n",
       "32131               other                2   27                   3.0   \n",
       "44460            sourcing                1   25                   NaN   \n",
       "\n",
       "       length_of_service  KPIs_met >80%  awards_won?  avg_training_score  \\\n",
       "13095                  1              0            0                  80   \n",
       "37673                  3              1            0                  62   \n",
       "24431                 13              0            0                  67   \n",
       "32131                  4              0            0                  49   \n",
       "44460                  1              0            0                  61   \n",
       "\n",
       "       is_promoted  \n",
       "13095            0  \n",
       "37673            0  \n",
       "24431            0  \n",
       "32131            0  \n",
       "44460            0  "
      ]
     },
     "execution_count": 3,
     "metadata": {},
     "output_type": "execute_result"
    }
   ],
   "source": [
    "train.head()"
   ]
  },
  {
   "cell_type": "code",
   "execution_count": 4,
   "metadata": {},
   "outputs": [
    {
     "data": {
      "text/plain": [
       "((54808, 13), (23490, 12))"
      ]
     },
     "execution_count": 4,
     "metadata": {},
     "output_type": "execute_result"
    }
   ],
   "source": [
    "train.drop(['employee_id'],axis=1,inplace=True)\n",
    "test.drop(['employee_id'],axis=1,inplace=True)\n",
    "train.shape,test.shape"
   ]
  },
  {
   "cell_type": "code",
   "execution_count": 5,
   "metadata": {},
   "outputs": [
    {
     "data": {
      "text/plain": [
       "0    50140\n",
       "1     4668\n",
       "Name: is_promoted, dtype: int64"
      ]
     },
     "execution_count": 5,
     "metadata": {},
     "output_type": "execute_result"
    }
   ],
   "source": [
    "train.is_promoted.value_counts()"
   ]
  },
  {
   "cell_type": "code",
   "execution_count": 6,
   "metadata": {},
   "outputs": [
    {
     "data": {
      "text/plain": [
       "department               9\n",
       "region                  34\n",
       "education                3\n",
       "gender                   2\n",
       "recruitment_channel      3\n",
       "no_of_trainings         10\n",
       "age                     41\n",
       "previous_year_rating     5\n",
       "length_of_service       35\n",
       "KPIs_met >80%            2\n",
       "awards_won?              2\n",
       "avg_training_score      61\n",
       "is_promoted              2\n",
       "dtype: int64"
      ]
     },
     "execution_count": 6,
     "metadata": {},
     "output_type": "execute_result"
    }
   ],
   "source": [
    "train.nunique()"
   ]
  },
  {
   "cell_type": "code",
   "execution_count": null,
   "metadata": {},
   "outputs": [],
   "source": []
  },
  {
   "cell_type": "code",
   "execution_count": 7,
   "metadata": {},
   "outputs": [],
   "source": [
    "\n",
    "labels = train['recruitment_channel'].astype('category').cat.categories.tolist()\n",
    "recChannelMap = {'recruitment_channel' : {k: v for k,v in zip(labels,list(range(1,len(labels)+1)))}}\n",
    "\n",
    "labels = train['department'].astype('category').cat.categories.tolist()\n",
    "departmentMap = {'department' : {k: v for k,v in zip(labels,list(range(1,len(labels)+1)))}}\n",
    "\n",
    "labels = train['region'].astype('category').cat.categories.tolist()\n",
    "regionMap = {'region' : {k: v for k,v in zip(labels,list(range(1,len(labels)+1)))}}\n",
    "\n"
   ]
  },
  {
   "cell_type": "code",
   "execution_count": 8,
   "metadata": {},
   "outputs": [],
   "source": [
    "train.replace(departmentMap, inplace=True)\n",
    "train.replace(regionMap, inplace=True)\n",
    "\n",
    "train.replace(recChannelMap, inplace=True)\n",
    "\n",
    "\n",
    "test.replace(departmentMap, inplace=True)\n",
    "test.replace(regionMap, inplace=True)\n",
    "\n",
    "test.replace(recChannelMap, inplace=True)"
   ]
  },
  {
   "cell_type": "code",
   "execution_count": 9,
   "metadata": {},
   "outputs": [
    {
     "data": {
      "text/html": [
       "<div>\n",
       "<style scoped>\n",
       "    .dataframe tbody tr th:only-of-type {\n",
       "        vertical-align: middle;\n",
       "    }\n",
       "\n",
       "    .dataframe tbody tr th {\n",
       "        vertical-align: top;\n",
       "    }\n",
       "\n",
       "    .dataframe thead th {\n",
       "        text-align: right;\n",
       "    }\n",
       "</style>\n",
       "<table border=\"1\" class=\"dataframe\">\n",
       "  <thead>\n",
       "    <tr style=\"text-align: right;\">\n",
       "      <th></th>\n",
       "      <th>department</th>\n",
       "      <th>region</th>\n",
       "      <th>education</th>\n",
       "      <th>gender</th>\n",
       "      <th>recruitment_channel</th>\n",
       "      <th>no_of_trainings</th>\n",
       "      <th>age</th>\n",
       "      <th>previous_year_rating</th>\n",
       "      <th>length_of_service</th>\n",
       "      <th>KPIs_met &gt;80%</th>\n",
       "      <th>awards_won?</th>\n",
       "      <th>avg_training_score</th>\n",
       "      <th>is_promoted</th>\n",
       "    </tr>\n",
       "  </thead>\n",
       "  <tbody>\n",
       "    <tr>\n",
       "      <th>13095</th>\n",
       "      <td>9</td>\n",
       "      <td>16</td>\n",
       "      <td>Bachelor's</td>\n",
       "      <td>f</td>\n",
       "      <td>1</td>\n",
       "      <td>1</td>\n",
       "      <td>30</td>\n",
       "      <td>NaN</td>\n",
       "      <td>1</td>\n",
       "      <td>0</td>\n",
       "      <td>0</td>\n",
       "      <td>80</td>\n",
       "      <td>0</td>\n",
       "    </tr>\n",
       "    <tr>\n",
       "      <th>37673</th>\n",
       "      <td>2</td>\n",
       "      <td>30</td>\n",
       "      <td>Bachelor's</td>\n",
       "      <td>m</td>\n",
       "      <td>3</td>\n",
       "      <td>1</td>\n",
       "      <td>36</td>\n",
       "      <td>5.0</td>\n",
       "      <td>3</td>\n",
       "      <td>1</td>\n",
       "      <td>0</td>\n",
       "      <td>62</td>\n",
       "      <td>0</td>\n",
       "    </tr>\n",
       "    <tr>\n",
       "      <th>24431</th>\n",
       "      <td>6</td>\n",
       "      <td>12</td>\n",
       "      <td>Master's &amp; above</td>\n",
       "      <td>f</td>\n",
       "      <td>1</td>\n",
       "      <td>1</td>\n",
       "      <td>42</td>\n",
       "      <td>3.0</td>\n",
       "      <td>13</td>\n",
       "      <td>0</td>\n",
       "      <td>0</td>\n",
       "      <td>67</td>\n",
       "      <td>0</td>\n",
       "    </tr>\n",
       "    <tr>\n",
       "      <th>32131</th>\n",
       "      <td>8</td>\n",
       "      <td>25</td>\n",
       "      <td>Bachelor's</td>\n",
       "      <td>m</td>\n",
       "      <td>1</td>\n",
       "      <td>2</td>\n",
       "      <td>27</td>\n",
       "      <td>3.0</td>\n",
       "      <td>4</td>\n",
       "      <td>0</td>\n",
       "      <td>0</td>\n",
       "      <td>49</td>\n",
       "      <td>0</td>\n",
       "    </tr>\n",
       "    <tr>\n",
       "      <th>44460</th>\n",
       "      <td>5</td>\n",
       "      <td>19</td>\n",
       "      <td>Bachelor's</td>\n",
       "      <td>f</td>\n",
       "      <td>3</td>\n",
       "      <td>1</td>\n",
       "      <td>25</td>\n",
       "      <td>NaN</td>\n",
       "      <td>1</td>\n",
       "      <td>0</td>\n",
       "      <td>0</td>\n",
       "      <td>61</td>\n",
       "      <td>0</td>\n",
       "    </tr>\n",
       "  </tbody>\n",
       "</table>\n",
       "</div>"
      ],
      "text/plain": [
       "       department  region         education gender  recruitment_channel  \\\n",
       "13095           9      16        Bachelor's      f                    1   \n",
       "37673           2      30        Bachelor's      m                    3   \n",
       "24431           6      12  Master's & above      f                    1   \n",
       "32131           8      25        Bachelor's      m                    1   \n",
       "44460           5      19        Bachelor's      f                    3   \n",
       "\n",
       "       no_of_trainings  age  previous_year_rating  length_of_service  \\\n",
       "13095                1   30                   NaN                  1   \n",
       "37673                1   36                   5.0                  3   \n",
       "24431                1   42                   3.0                 13   \n",
       "32131                2   27                   3.0                  4   \n",
       "44460                1   25                   NaN                  1   \n",
       "\n",
       "       KPIs_met >80%  awards_won?  avg_training_score  is_promoted  \n",
       "13095              0            0                  80            0  \n",
       "37673              1            0                  62            0  \n",
       "24431              0            0                  67            0  \n",
       "32131              0            0                  49            0  \n",
       "44460              0            0                  61            0  "
      ]
     },
     "execution_count": 9,
     "metadata": {},
     "output_type": "execute_result"
    }
   ],
   "source": [
    "train.head()"
   ]
  },
  {
   "cell_type": "code",
   "execution_count": 10,
   "metadata": {},
   "outputs": [],
   "source": [
    "# filling nan values in education \n"
   ]
  },
  {
   "cell_type": "code",
   "execution_count": 11,
   "metadata": {},
   "outputs": [],
   "source": [
    "train['previous_year_rating']=train['previous_year_rating'].fillna(train.previous_year_rating.mode()[0])\n",
    "train['education'] = train['education'].fillna(train['education'].mode()[0])\n",
    "\n",
    "test['previous_year_rating']=test['previous_year_rating'].fillna(test.previous_year_rating.mode()[0])\n",
    "test['education'] = test['education'].fillna(test['education'].mode()[0])"
   ]
  },
  {
   "cell_type": "code",
   "execution_count": 12,
   "metadata": {},
   "outputs": [
    {
     "data": {
      "text/plain": [
       "department              0\n",
       "region                  0\n",
       "education               0\n",
       "gender                  0\n",
       "recruitment_channel     0\n",
       "no_of_trainings         0\n",
       "age                     0\n",
       "previous_year_rating    0\n",
       "length_of_service       0\n",
       "KPIs_met >80%           0\n",
       "awards_won?             0\n",
       "avg_training_score      0\n",
       "is_promoted             0\n",
       "dtype: int64"
      ]
     },
     "execution_count": 12,
     "metadata": {},
     "output_type": "execute_result"
    }
   ],
   "source": [
    "train.isnull().sum()"
   ]
  },
  {
   "cell_type": "code",
   "execution_count": 13,
   "metadata": {},
   "outputs": [
    {
     "data": {
      "text/plain": [
       "array([\"Bachelor's\", \"Master's & above\", 'Below Secondary'], dtype=object)"
      ]
     },
     "execution_count": 13,
     "metadata": {},
     "output_type": "execute_result"
    }
   ],
   "source": [
    "train.education.unique()"
   ]
  },
  {
   "cell_type": "code",
   "execution_count": 14,
   "metadata": {},
   "outputs": [],
   "source": [
    "# encoding education \n",
    "\n",
    "education_mapper = {\"Master's & above\":3, \"Bachelor's\":2,\"Below Secondary\":1}\n",
    "gender_mapper = {\"m\":1, \"f\":2}"
   ]
  },
  {
   "cell_type": "code",
   "execution_count": 15,
   "metadata": {},
   "outputs": [],
   "source": [
    "train['education_scaled'] = train['education'].replace(education_mapper)\n",
    "test['education_scaled'] = test['education'].replace(education_mapper)\n",
    "train['education']=train['education_scaled']\n",
    "train.drop(['education_scaled'],axis=1,inplace=True)\n",
    "\n",
    "train['gender'] = train['gender'].replace(gender_mapper)\n",
    "test['gender'] = test['gender'].replace(gender_mapper)\n",
    "\n",
    "\n",
    "test['education']=test['education_scaled']\n",
    "test.drop(['education_scaled'],axis=1,inplace=True)"
   ]
  },
  {
   "cell_type": "code",
   "execution_count": 16,
   "metadata": {},
   "outputs": [
    {
     "data": {
      "text/html": [
       "<div>\n",
       "<style scoped>\n",
       "    .dataframe tbody tr th:only-of-type {\n",
       "        vertical-align: middle;\n",
       "    }\n",
       "\n",
       "    .dataframe tbody tr th {\n",
       "        vertical-align: top;\n",
       "    }\n",
       "\n",
       "    .dataframe thead th {\n",
       "        text-align: right;\n",
       "    }\n",
       "</style>\n",
       "<table border=\"1\" class=\"dataframe\">\n",
       "  <thead>\n",
       "    <tr style=\"text-align: right;\">\n",
       "      <th></th>\n",
       "      <th>department</th>\n",
       "      <th>region</th>\n",
       "      <th>education</th>\n",
       "      <th>gender</th>\n",
       "      <th>recruitment_channel</th>\n",
       "      <th>no_of_trainings</th>\n",
       "      <th>age</th>\n",
       "      <th>previous_year_rating</th>\n",
       "      <th>length_of_service</th>\n",
       "      <th>KPIs_met &gt;80%</th>\n",
       "      <th>awards_won?</th>\n",
       "      <th>avg_training_score</th>\n",
       "      <th>is_promoted</th>\n",
       "    </tr>\n",
       "  </thead>\n",
       "  <tbody>\n",
       "    <tr>\n",
       "      <th>13095</th>\n",
       "      <td>9</td>\n",
       "      <td>16</td>\n",
       "      <td>2</td>\n",
       "      <td>2</td>\n",
       "      <td>1</td>\n",
       "      <td>1</td>\n",
       "      <td>30</td>\n",
       "      <td>3.0</td>\n",
       "      <td>1</td>\n",
       "      <td>0</td>\n",
       "      <td>0</td>\n",
       "      <td>80</td>\n",
       "      <td>0</td>\n",
       "    </tr>\n",
       "    <tr>\n",
       "      <th>37673</th>\n",
       "      <td>2</td>\n",
       "      <td>30</td>\n",
       "      <td>2</td>\n",
       "      <td>1</td>\n",
       "      <td>3</td>\n",
       "      <td>1</td>\n",
       "      <td>36</td>\n",
       "      <td>5.0</td>\n",
       "      <td>3</td>\n",
       "      <td>1</td>\n",
       "      <td>0</td>\n",
       "      <td>62</td>\n",
       "      <td>0</td>\n",
       "    </tr>\n",
       "    <tr>\n",
       "      <th>24431</th>\n",
       "      <td>6</td>\n",
       "      <td>12</td>\n",
       "      <td>3</td>\n",
       "      <td>2</td>\n",
       "      <td>1</td>\n",
       "      <td>1</td>\n",
       "      <td>42</td>\n",
       "      <td>3.0</td>\n",
       "      <td>13</td>\n",
       "      <td>0</td>\n",
       "      <td>0</td>\n",
       "      <td>67</td>\n",
       "      <td>0</td>\n",
       "    </tr>\n",
       "    <tr>\n",
       "      <th>32131</th>\n",
       "      <td>8</td>\n",
       "      <td>25</td>\n",
       "      <td>2</td>\n",
       "      <td>1</td>\n",
       "      <td>1</td>\n",
       "      <td>2</td>\n",
       "      <td>27</td>\n",
       "      <td>3.0</td>\n",
       "      <td>4</td>\n",
       "      <td>0</td>\n",
       "      <td>0</td>\n",
       "      <td>49</td>\n",
       "      <td>0</td>\n",
       "    </tr>\n",
       "    <tr>\n",
       "      <th>44460</th>\n",
       "      <td>5</td>\n",
       "      <td>19</td>\n",
       "      <td>2</td>\n",
       "      <td>2</td>\n",
       "      <td>3</td>\n",
       "      <td>1</td>\n",
       "      <td>25</td>\n",
       "      <td>3.0</td>\n",
       "      <td>1</td>\n",
       "      <td>0</td>\n",
       "      <td>0</td>\n",
       "      <td>61</td>\n",
       "      <td>0</td>\n",
       "    </tr>\n",
       "  </tbody>\n",
       "</table>\n",
       "</div>"
      ],
      "text/plain": [
       "       department  region  education  gender  recruitment_channel  \\\n",
       "13095           9      16          2       2                    1   \n",
       "37673           2      30          2       1                    3   \n",
       "24431           6      12          3       2                    1   \n",
       "32131           8      25          2       1                    1   \n",
       "44460           5      19          2       2                    3   \n",
       "\n",
       "       no_of_trainings  age  previous_year_rating  length_of_service  \\\n",
       "13095                1   30                   3.0                  1   \n",
       "37673                1   36                   5.0                  3   \n",
       "24431                1   42                   3.0                 13   \n",
       "32131                2   27                   3.0                  4   \n",
       "44460                1   25                   3.0                  1   \n",
       "\n",
       "       KPIs_met >80%  awards_won?  avg_training_score  is_promoted  \n",
       "13095              0            0                  80            0  \n",
       "37673              1            0                  62            0  \n",
       "24431              0            0                  67            0  \n",
       "32131              0            0                  49            0  \n",
       "44460              0            0                  61            0  "
      ]
     },
     "execution_count": 16,
     "metadata": {},
     "output_type": "execute_result"
    }
   ],
   "source": [
    "train.head()"
   ]
  },
  {
   "cell_type": "code",
   "execution_count": 17,
   "metadata": {},
   "outputs": [
    {
     "data": {
      "text/html": [
       "<div>\n",
       "<style scoped>\n",
       "    .dataframe tbody tr th:only-of-type {\n",
       "        vertical-align: middle;\n",
       "    }\n",
       "\n",
       "    .dataframe tbody tr th {\n",
       "        vertical-align: top;\n",
       "    }\n",
       "\n",
       "    .dataframe thead th {\n",
       "        text-align: right;\n",
       "    }\n",
       "</style>\n",
       "<table border=\"1\" class=\"dataframe\">\n",
       "  <thead>\n",
       "    <tr style=\"text-align: right;\">\n",
       "      <th></th>\n",
       "      <th>department</th>\n",
       "      <th>region</th>\n",
       "      <th>education</th>\n",
       "      <th>gender</th>\n",
       "      <th>recruitment_channel</th>\n",
       "      <th>no_of_trainings</th>\n",
       "      <th>age</th>\n",
       "      <th>previous_year_rating</th>\n",
       "      <th>length_of_service</th>\n",
       "      <th>KPIs_met &gt;80%</th>\n",
       "      <th>awards_won?</th>\n",
       "      <th>avg_training_score</th>\n",
       "      <th>is_promoted</th>\n",
       "    </tr>\n",
       "  </thead>\n",
       "  <tbody>\n",
       "    <tr>\n",
       "      <th>count</th>\n",
       "      <td>54808.000000</td>\n",
       "      <td>54808.000000</td>\n",
       "      <td>54808.000000</td>\n",
       "      <td>54808.000000</td>\n",
       "      <td>54808.000000</td>\n",
       "      <td>54808.000000</td>\n",
       "      <td>54808.000000</td>\n",
       "      <td>54808.000000</td>\n",
       "      <td>54808.000000</td>\n",
       "      <td>54808.000000</td>\n",
       "      <td>54808.000000</td>\n",
       "      <td>54808.000000</td>\n",
       "      <td>54808.000000</td>\n",
       "    </tr>\n",
       "    <tr>\n",
       "      <th>mean</th>\n",
       "      <td>5.972796</td>\n",
       "      <td>16.428970</td>\n",
       "      <td>2.257627</td>\n",
       "      <td>1.297621</td>\n",
       "      <td>1.868158</td>\n",
       "      <td>1.253011</td>\n",
       "      <td>34.803915</td>\n",
       "      <td>3.304481</td>\n",
       "      <td>5.865512</td>\n",
       "      <td>0.351974</td>\n",
       "      <td>0.023172</td>\n",
       "      <td>63.386750</td>\n",
       "      <td>0.085170</td>\n",
       "    </tr>\n",
       "    <tr>\n",
       "      <th>std</th>\n",
       "      <td>2.506046</td>\n",
       "      <td>8.764954</td>\n",
       "      <td>0.469717</td>\n",
       "      <td>0.457216</td>\n",
       "      <td>0.980713</td>\n",
       "      <td>0.609264</td>\n",
       "      <td>7.660169</td>\n",
       "      <td>1.214770</td>\n",
       "      <td>4.265094</td>\n",
       "      <td>0.477590</td>\n",
       "      <td>0.150450</td>\n",
       "      <td>13.371559</td>\n",
       "      <td>0.279137</td>\n",
       "    </tr>\n",
       "    <tr>\n",
       "      <th>min</th>\n",
       "      <td>1.000000</td>\n",
       "      <td>1.000000</td>\n",
       "      <td>1.000000</td>\n",
       "      <td>1.000000</td>\n",
       "      <td>1.000000</td>\n",
       "      <td>1.000000</td>\n",
       "      <td>20.000000</td>\n",
       "      <td>1.000000</td>\n",
       "      <td>1.000000</td>\n",
       "      <td>0.000000</td>\n",
       "      <td>0.000000</td>\n",
       "      <td>39.000000</td>\n",
       "      <td>0.000000</td>\n",
       "    </tr>\n",
       "    <tr>\n",
       "      <th>25%</th>\n",
       "      <td>5.000000</td>\n",
       "      <td>12.000000</td>\n",
       "      <td>2.000000</td>\n",
       "      <td>1.000000</td>\n",
       "      <td>1.000000</td>\n",
       "      <td>1.000000</td>\n",
       "      <td>29.000000</td>\n",
       "      <td>3.000000</td>\n",
       "      <td>3.000000</td>\n",
       "      <td>0.000000</td>\n",
       "      <td>0.000000</td>\n",
       "      <td>51.000000</td>\n",
       "      <td>0.000000</td>\n",
       "    </tr>\n",
       "    <tr>\n",
       "      <th>50%</th>\n",
       "      <td>6.000000</td>\n",
       "      <td>15.000000</td>\n",
       "      <td>2.000000</td>\n",
       "      <td>1.000000</td>\n",
       "      <td>1.000000</td>\n",
       "      <td>1.000000</td>\n",
       "      <td>33.000000</td>\n",
       "      <td>3.000000</td>\n",
       "      <td>5.000000</td>\n",
       "      <td>0.000000</td>\n",
       "      <td>0.000000</td>\n",
       "      <td>60.000000</td>\n",
       "      <td>0.000000</td>\n",
       "    </tr>\n",
       "    <tr>\n",
       "      <th>75%</th>\n",
       "      <td>8.000000</td>\n",
       "      <td>22.000000</td>\n",
       "      <td>3.000000</td>\n",
       "      <td>2.000000</td>\n",
       "      <td>3.000000</td>\n",
       "      <td>1.000000</td>\n",
       "      <td>39.000000</td>\n",
       "      <td>4.000000</td>\n",
       "      <td>7.000000</td>\n",
       "      <td>1.000000</td>\n",
       "      <td>0.000000</td>\n",
       "      <td>76.000000</td>\n",
       "      <td>0.000000</td>\n",
       "    </tr>\n",
       "    <tr>\n",
       "      <th>max</th>\n",
       "      <td>9.000000</td>\n",
       "      <td>34.000000</td>\n",
       "      <td>3.000000</td>\n",
       "      <td>2.000000</td>\n",
       "      <td>3.000000</td>\n",
       "      <td>10.000000</td>\n",
       "      <td>60.000000</td>\n",
       "      <td>5.000000</td>\n",
       "      <td>37.000000</td>\n",
       "      <td>1.000000</td>\n",
       "      <td>1.000000</td>\n",
       "      <td>99.000000</td>\n",
       "      <td>1.000000</td>\n",
       "    </tr>\n",
       "  </tbody>\n",
       "</table>\n",
       "</div>"
      ],
      "text/plain": [
       "         department        region     education        gender  \\\n",
       "count  54808.000000  54808.000000  54808.000000  54808.000000   \n",
       "mean       5.972796     16.428970      2.257627      1.297621   \n",
       "std        2.506046      8.764954      0.469717      0.457216   \n",
       "min        1.000000      1.000000      1.000000      1.000000   \n",
       "25%        5.000000     12.000000      2.000000      1.000000   \n",
       "50%        6.000000     15.000000      2.000000      1.000000   \n",
       "75%        8.000000     22.000000      3.000000      2.000000   \n",
       "max        9.000000     34.000000      3.000000      2.000000   \n",
       "\n",
       "       recruitment_channel  no_of_trainings           age  \\\n",
       "count         54808.000000     54808.000000  54808.000000   \n",
       "mean              1.868158         1.253011     34.803915   \n",
       "std               0.980713         0.609264      7.660169   \n",
       "min               1.000000         1.000000     20.000000   \n",
       "25%               1.000000         1.000000     29.000000   \n",
       "50%               1.000000         1.000000     33.000000   \n",
       "75%               3.000000         1.000000     39.000000   \n",
       "max               3.000000        10.000000     60.000000   \n",
       "\n",
       "       previous_year_rating  length_of_service  KPIs_met >80%   awards_won?  \\\n",
       "count          54808.000000       54808.000000   54808.000000  54808.000000   \n",
       "mean               3.304481           5.865512       0.351974      0.023172   \n",
       "std                1.214770           4.265094       0.477590      0.150450   \n",
       "min                1.000000           1.000000       0.000000      0.000000   \n",
       "25%                3.000000           3.000000       0.000000      0.000000   \n",
       "50%                3.000000           5.000000       0.000000      0.000000   \n",
       "75%                4.000000           7.000000       1.000000      0.000000   \n",
       "max                5.000000          37.000000       1.000000      1.000000   \n",
       "\n",
       "       avg_training_score   is_promoted  \n",
       "count        54808.000000  54808.000000  \n",
       "mean            63.386750      0.085170  \n",
       "std             13.371559      0.279137  \n",
       "min             39.000000      0.000000  \n",
       "25%             51.000000      0.000000  \n",
       "50%             60.000000      0.000000  \n",
       "75%             76.000000      0.000000  \n",
       "max             99.000000      1.000000  "
      ]
     },
     "execution_count": 17,
     "metadata": {},
     "output_type": "execute_result"
    }
   ],
   "source": [
    "train.describe()"
   ]
  },
  {
   "cell_type": "code",
   "execution_count": 18,
   "metadata": {},
   "outputs": [],
   "source": [
    "train['joining_age']=train['age']-train['length_of_service']\n",
    "test['joining_age']=test['age']-test['length_of_service']\n",
    "\n",
    "train['training_hours']=train['no_of_trainings']*train['avg_training_score']\n",
    "test['training_hours']=test['no_of_trainings']*test['avg_training_score']"
   ]
  },
  {
   "cell_type": "markdown",
   "metadata": {},
   "source": [
    "# Data visualisation "
   ]
  },
  {
   "cell_type": "code",
   "execution_count": 19,
   "metadata": {},
   "outputs": [
    {
     "data": {
      "text/plain": [
       "<matplotlib.axes._subplots.AxesSubplot at 0x1f625fbb5c0>"
      ]
     },
     "execution_count": 19,
     "metadata": {},
     "output_type": "execute_result"
    },
    {
     "data": {
      "image/png": "[encoded data removed]",
      "text/plain": [
       "<Figure size 432x288 with 1 Axes>"
      ]
     },
     "metadata": {
      "needs_background": "light"
     },
     "output_type": "display_data"
    }
   ],
   "source": [
    "# age distribution \n",
    "sns.boxplot(x=\"is_promoted\",y=\"age\",data=train, palette=\"coolwarm\")"
   ]
  },
  {
   "cell_type": "code",
   "execution_count": 20,
   "metadata": {},
   "outputs": [
    {
     "data": {
      "text/plain": [
       "(array([  870.,  7031., 13751., 12531.,  8300.,  5093.,  2861.,  1908.,\n",
       "         1322.,  1141.]),\n",
       " array([20., 24., 28., 32., 36., 40., 44., 48., 52., 56., 60.]),\n",
       " <a list of 10 Patch objects>)"
      ]
     },
     "execution_count": 20,
     "metadata": {},
     "output_type": "execute_result"
    },
    {
     "data": {
      "image/png": "[encoded data removed]",
      "text/plain": [
       "<Figure size 432x288 with 1 Axes>"
      ]
     },
     "metadata": {
      "needs_background": "light"
     },
     "output_type": "display_data"
    }
   ],
   "source": [
    "plt.hist(train.age)\n"
   ]
  },
  {
   "cell_type": "markdown",
   "metadata": {},
   "source": [
    "we can observe that the age of most of the people are in range of 30-38 and there is very less number of people in lower and higher age group"
   ]
  },
  {
   "cell_type": "code",
   "execution_count": 21,
   "metadata": {
    "scrolled": true
   },
   "outputs": [
    {
     "data": {
      "text/plain": [
       "<matplotlib.axes._subplots.AxesSubplot at 0x1f6266530b8>"
      ]
     },
     "execution_count": 21,
     "metadata": {},
     "output_type": "execute_result"
    },
    {
     "data": {
      "image/png": "[encoded data removed]",
      "text/plain": [
       "<Figure size 432x288 with 1 Axes>"
      ]
     },
     "metadata": {
      "needs_background": "light"
     },
     "output_type": "display_data"
    }
   ],
   "source": [
    "#plt.hist(train.education)\n",
    "sns.countplot(x=\"education\", data=trainCopy)\n"
   ]
  },
  {
   "cell_type": "markdown",
   "metadata": {},
   "source": [
    "The education trend shows that most of the employees are Bachelor(2) and very less of them are below seconday\n",
    "some of the employees are having masters and above too(1)"
   ]
  },
  {
   "cell_type": "code",
   "execution_count": 22,
   "metadata": {},
   "outputs": [
    {
     "data": {
      "text/plain": [
       "<matplotlib.axes._subplots.AxesSubplot at 0x1f6266cfd30>"
      ]
     },
     "execution_count": 22,
     "metadata": {},
     "output_type": "execute_result"
    },
    {
     "data": {
      "image/png": "[encoded data removed]",
      "text/plain": [
       "<Figure size 432x288 with 1 Axes>"
      ]
     },
     "metadata": {
      "needs_background": "light"
     },
     "output_type": "display_data"
    }
   ],
   "source": [
    "sns.countplot(x=\"gender\", data=trainCopy)\n"
   ]
  },
  {
   "cell_type": "markdown",
   "metadata": {},
   "source": [
    "1 is for males and 2 is for females"
   ]
  },
  {
   "cell_type": "code",
   "execution_count": 23,
   "metadata": {},
   "outputs": [
    {
     "data": {
      "text/plain": [
       "(array([  606., 11397.,  8466., 10883.,  4571.,  4652.,  4915.,  7154.,\n",
       "         1801.,   363.]),\n",
       " array([39., 45., 51., 57., 63., 69., 75., 81., 87., 93., 99.]),\n",
       " <a list of 10 Patch objects>)"
      ]
     },
     "execution_count": 23,
     "metadata": {},
     "output_type": "execute_result"
    },
    {
     "data": {
      "image/png": "[encoded data removed]",
      "text/plain": [
       "<Figure size 432x288 with 1 Axes>"
      ]
     },
     "metadata": {
      "needs_background": "light"
     },
     "output_type": "display_data"
    }
   ],
   "source": [
    "plt.hist(train.avg_training_score)\n",
    "#sns.countplot(x=\"avg_training_score\", data=train)\n"
   ]
  },
  {
   "cell_type": "markdown",
   "metadata": {},
   "source": [
    "most of the employees are having score between 40 to 60 while some are having scores aove 80 with large no of employees "
   ]
  },
  {
   "cell_type": "code",
   "execution_count": 24,
   "metadata": {},
   "outputs": [
    {
     "data": {
      "text/plain": [
       "<matplotlib.axes._subplots.AxesSubplot at 0x1f626d3b8d0>"
      ]
     },
     "execution_count": 24,
     "metadata": {},
     "output_type": "execute_result"
    },
    {
     "data": {
      "image/png": "[encoded data removed]",
      "text/plain": [
       "<Figure size 432x288 with 1 Axes>"
      ]
     },
     "metadata": {
      "needs_background": "light"
     },
     "output_type": "display_data"
    }
   ],
   "source": [
    "#plt.hist(train['awards_won?'])\n",
    "\n",
    "sns.countplot(x=\"awards_won?\", data=trainCopy)"
   ]
  },
  {
   "cell_type": "markdown",
   "metadata": {},
   "source": [
    "very less number of employee got awards "
   ]
  },
  {
   "cell_type": "code",
   "execution_count": 25,
   "metadata": {},
   "outputs": [
    {
     "data": {
      "text/plain": [
       "<matplotlib.axes._subplots.AxesSubplot at 0x1f626d92c18>"
      ]
     },
     "execution_count": 25,
     "metadata": {},
     "output_type": "execute_result"
    },
    {
     "data": {
      "image/png": "[encoded data removed]",
      "text/plain": [
       "<Figure size 432x288 with 1 Axes>"
      ]
     },
     "metadata": {
      "needs_background": "light"
     },
     "output_type": "display_data"
    }
   ],
   "source": [
    "#plt.hist(train['KPIs_met >80%'])\n",
    "sns.countplot(x=\"KPIs_met >80%\", data=train)\n"
   ]
  },
  {
   "cell_type": "code",
   "execution_count": 26,
   "metadata": {},
   "outputs": [
    {
     "data": {
      "text/plain": [
       "(array([2.510e+04, 1.900e+04, 5.738e+03, 2.623e+03, 1.372e+03, 5.960e+02,\n",
       "        2.270e+02, 9.600e+01, 5.100e+01, 5.000e+00]),\n",
       " array([ 1. ,  4.6,  8.2, 11.8, 15.4, 19. , 22.6, 26.2, 29.8, 33.4, 37. ]),\n",
       " <a list of 10 Patch objects>)"
      ]
     },
     "execution_count": 26,
     "metadata": {},
     "output_type": "execute_result"
    },
    {
     "data": {
      "image/png": "[encoded data removed]",
      "text/plain": [
       "<Figure size 432x288 with 1 Axes>"
      ]
     },
     "metadata": {
      "needs_background": "light"
     },
     "output_type": "display_data"
    }
   ],
   "source": [
    "plt.hist(train['length_of_service'])\n"
   ]
  },
  {
   "cell_type": "code",
   "execution_count": null,
   "metadata": {},
   "outputs": [],
   "source": []
  },
  {
   "cell_type": "code",
   "execution_count": 27,
   "metadata": {},
   "outputs": [
    {
     "data": {
      "text/plain": [
       "<matplotlib.axes._subplots.AxesSubplot at 0x1f626e06d30>"
      ]
     },
     "execution_count": 27,
     "metadata": {},
     "output_type": "execute_result"
    },
    {
     "data": {
      "image/png": "[encoded data removed]",
      "text/plain": [
       "<Figure size 432x288 with 1 Axes>"
      ]
     },
     "metadata": {
      "needs_background": "light"
     },
     "output_type": "display_data"
    }
   ],
   "source": [
    "sns.boxplot(x=\"gender\", y=\"age\", hue=\"is_promoted\",data=trainCopy, palette=\"Set3\")"
   ]
  },
  {
   "cell_type": "markdown",
   "metadata": {},
   "source": [
    "distribution of promotion with age and gender"
   ]
  },
  {
   "cell_type": "code",
   "execution_count": 28,
   "metadata": {},
   "outputs": [
    {
     "data": {
      "text/plain": [
       "<matplotlib.axes._subplots.AxesSubplot at 0x1f626ee5a90>"
      ]
     },
     "execution_count": 28,
     "metadata": {},
     "output_type": "execute_result"
    },
    {
     "data": {
      "image/png": "[encoded data removed]",
      "text/plain": [
       "<Figure size 432x288 with 1 Axes>"
      ]
     },
     "metadata": {
      "needs_background": "light"
     },
     "output_type": "display_data"
    }
   ],
   "source": [
    "sns.boxplot(x=\"education\", y=\"age\", hue=\"is_promoted\",data=trainCopy, palette=\"Set3\")"
   ]
  },
  {
   "cell_type": "markdown",
   "metadata": {},
   "source": [
    "we can observe that the employees having age above 35 are mostly in the higher education\n",
    "and people below 25 are in the below secondary education group"
   ]
  },
  {
   "cell_type": "code",
   "execution_count": 29,
   "metadata": {},
   "outputs": [
    {
     "data": {
      "text/plain": [
       "<matplotlib.axes._subplots.AxesSubplot at 0x1f626fbc128>"
      ]
     },
     "execution_count": 29,
     "metadata": {},
     "output_type": "execute_result"
    },
    {
     "data": {
      "image/png": "[encoded data removed]",
      "text/plain": [
       "<Figure size 432x288 with 1 Axes>"
      ]
     },
     "metadata": {
      "needs_background": "light"
     },
     "output_type": "display_data"
    }
   ],
   "source": [
    "sns.boxplot(x=\"awards_won?\", y=\"age\", hue=\"is_promoted\",data=train, palette=\"Set3\")"
   ]
  },
  {
   "cell_type": "code",
   "execution_count": 30,
   "metadata": {},
   "outputs": [
    {
     "data": {
      "text/plain": [
       "<matplotlib.axes._subplots.AxesSubplot at 0x1f627054828>"
      ]
     },
     "execution_count": 30,
     "metadata": {},
     "output_type": "execute_result"
    },
    {
     "data": {
      "image/png": "[encoded data removed]",
      "text/plain": [
       "<Figure size 432x288 with 1 Axes>"
      ]
     },
     "metadata": {
      "needs_background": "light"
     },
     "output_type": "display_data"
    }
   ],
   "source": [
    "sns.boxplot(x=\"education\", y=\"age\",data=train, palette=\"Set3\")"
   ]
  },
  {
   "cell_type": "markdown",
   "metadata": {},
   "source": [
    "we can observe that most of the lower age people are in the lowest educated group\n",
    "while the people in higher age group are having higher education"
   ]
  },
  {
   "cell_type": "code",
   "execution_count": 31,
   "metadata": {},
   "outputs": [],
   "source": [
    "\n",
    "#sns.boxplot(data=train, orient=\"h\", palette=\"Set2\")"
   ]
  },
  {
   "cell_type": "code",
   "execution_count": 32,
   "metadata": {},
   "outputs": [
    {
     "data": {
      "text/plain": [
       "<matplotlib.axes._subplots.AxesSubplot at 0x1f6270e3d30>"
      ]
     },
     "execution_count": 32,
     "metadata": {},
     "output_type": "execute_result"
    },
    {
     "data": {
      "image/png": "[encoded data removed]",
      "text/plain": [
       "<Figure size 432x288 with 1 Axes>"
      ]
     },
     "metadata": {
      "needs_background": "light"
     },
     "output_type": "display_data"
    }
   ],
   "source": [
    "sns.boxplot(train.training_hours)"
   ]
  },
  {
   "cell_type": "code",
   "execution_count": null,
   "metadata": {},
   "outputs": [],
   "source": []
  },
  {
   "cell_type": "code",
   "execution_count": 33,
   "metadata": {},
   "outputs": [
    {
     "data": {
      "text/plain": [
       "(54808, 15)"
      ]
     },
     "execution_count": 33,
     "metadata": {},
     "output_type": "execute_result"
    }
   ],
   "source": [
    "train.shape"
   ]
  },
  {
   "cell_type": "code",
   "execution_count": 34,
   "metadata": {},
   "outputs": [
    {
     "data": {
      "text/plain": [
       "Text(0, 0.5, 'training score')"
      ]
     },
     "execution_count": 34,
     "metadata": {},
     "output_type": "execute_result"
    },
    {
     "data": {
      "image/png": "[encoded data removed]",
      "text/plain": [
       "<Figure size 432x288 with 1 Axes>"
      ]
     },
     "metadata": {
      "needs_background": "light"
     },
     "output_type": "display_data"
    }
   ],
   "source": [
    "plt.scatter(train.no_of_trainings,train.avg_training_score,c=train.is_promoted)\n",
    "plt.xlabel(\"number of training\")\n",
    "plt.ylabel(\"training score\")"
   ]
  },
  {
   "cell_type": "code",
   "execution_count": 35,
   "metadata": {},
   "outputs": [
    {
     "data": {
      "text/plain": [
       "Text(0, 0.5, 'training score')"
      ]
     },
     "execution_count": 35,
     "metadata": {},
     "output_type": "execute_result"
    },
    {
     "data": {
      "image/png": "[encoded data removed]",
      "text/plain": [
       "<Figure size 432x288 with 1 Axes>"
      ]
     },
     "metadata": {
      "needs_background": "light"
     },
     "output_type": "display_data"
    }
   ],
   "source": [
    "plt.scatter(train.training_hours,train.avg_training_score,c=train.is_promoted)\n",
    "plt.xlabel(\"training hours\")\n",
    "plt.ylabel(\"training score\")"
   ]
  },
  {
   "cell_type": "markdown",
   "metadata": {},
   "source": [
    "we can observe that the training score is related to promotion as more the training score more is the chance to be promoted\n",
    "also the training hours are linearly related to training score "
   ]
  },
  {
   "cell_type": "code",
   "execution_count": 36,
   "metadata": {},
   "outputs": [
    {
     "data": {
      "text/plain": [
       "Text(0, 0.5, 'rating ')"
      ]
     },
     "execution_count": 36,
     "metadata": {},
     "output_type": "execute_result"
    },
    {
     "data": {
      "image/png": "[encoded data removed]",
      "text/plain": [
       "<Figure size 432x288 with 1 Axes>"
      ]
     },
     "metadata": {
      "needs_background": "light"
     },
     "output_type": "display_data"
    }
   ],
   "source": [
    "plt.scatter(train.training_hours,train.previous_year_rating,c=train.is_promoted)\n",
    "plt.xlabel(\"training hours\")\n",
    "plt.ylabel(\"rating \")"
   ]
  },
  {
   "cell_type": "markdown",
   "metadata": {},
   "source": [
    "Similarly the people with high rating (5) are more in the promoted category as comapred to the low rating"
   ]
  },
  {
   "cell_type": "markdown",
   "metadata": {},
   "source": [
    "We can observe that the training hours are having outliers which are above 500 "
   ]
  },
  {
   "cell_type": "code",
   "execution_count": null,
   "metadata": {},
   "outputs": [],
   "source": []
  },
  {
   "cell_type": "code",
   "execution_count": 37,
   "metadata": {},
   "outputs": [
    {
     "data": {
      "text/plain": [
       "Index(['department', 'region', 'education', 'gender', 'recruitment_channel',\n",
       "       'no_of_trainings', 'age', 'previous_year_rating', 'length_of_service',\n",
       "       'KPIs_met >80%', 'awards_won?', 'avg_training_score', 'is_promoted',\n",
       "       'joining_age', 'training_hours'],\n",
       "      dtype='object')"
      ]
     },
     "execution_count": 37,
     "metadata": {},
     "output_type": "execute_result"
    }
   ],
   "source": [
    "train.columns"
   ]
  },
  {
   "cell_type": "code",
   "execution_count": 38,
   "metadata": {},
   "outputs": [],
   "source": [
    "\n",
    "train_new = train.loc[(train['training_hours'] < 500)]\n"
   ]
  },
  {
   "cell_type": "code",
   "execution_count": 39,
   "metadata": {},
   "outputs": [
    {
     "data": {
      "text/plain": [
       "(54808, 15)"
      ]
     },
     "execution_count": 39,
     "metadata": {},
     "output_type": "execute_result"
    }
   ],
   "source": [
    "train.shape"
   ]
  },
  {
   "cell_type": "code",
   "execution_count": 40,
   "metadata": {},
   "outputs": [
    {
     "data": {
      "text/plain": [
       "(54794, 15)"
      ]
     },
     "execution_count": 40,
     "metadata": {},
     "output_type": "execute_result"
    }
   ],
   "source": [
    "train_new.shape"
   ]
  },
  {
   "cell_type": "code",
   "execution_count": 41,
   "metadata": {},
   "outputs": [
    {
     "data": {
      "text/plain": [
       "Text(0, 0.5, \"rating previous year's\")"
      ]
     },
     "execution_count": 41,
     "metadata": {},
     "output_type": "execute_result"
    },
    {
     "data": {
      "image/png": "[encoded data removed]",
      "text/plain": [
       "<Figure size 432x288 with 1 Axes>"
      ]
     },
     "metadata": {
      "needs_background": "light"
     },
     "output_type": "display_data"
    }
   ],
   "source": [
    "plt.scatter(train_new.training_hours,train_new.previous_year_rating,c=train_new.is_promoted)\n",
    "plt.xlabel(\"training hours\")\n",
    "plt.ylabel(\"rating previous year's\")"
   ]
  },
  {
   "cell_type": "code",
   "execution_count": null,
   "metadata": {},
   "outputs": [],
   "source": []
  },
  {
   "cell_type": "code",
   "execution_count": null,
   "metadata": {},
   "outputs": [],
   "source": []
  },
  {
   "cell_type": "code",
   "execution_count": null,
   "metadata": {},
   "outputs": [],
   "source": []
  },
  {
   "cell_type": "code",
   "execution_count": 42,
   "metadata": {},
   "outputs": [
    {
     "data": {
      "text/plain": [
       "Text(0, 0.5, 'age')"
      ]
     },
     "execution_count": 42,
     "metadata": {},
     "output_type": "execute_result"
    },
    {
     "data": {
      "image/png": "[encoded data removed]",
      "text/plain": [
       "<Figure size 432x288 with 1 Axes>"
      ]
     },
     "metadata": {
      "needs_background": "light"
     },
     "output_type": "display_data"
    }
   ],
   "source": [
    "plt.scatter(train_new.length_of_service,train_new.age,c=train_new.is_promoted)\n",
    "plt.xlabel(\"length of service\")\n",
    "plt.ylabel(\"age\")"
   ]
  },
  {
   "cell_type": "code",
   "execution_count": null,
   "metadata": {},
   "outputs": [],
   "source": []
  },
  {
   "cell_type": "code",
   "execution_count": 43,
   "metadata": {},
   "outputs": [
    {
     "data": {
      "text/html": [
       "<style  type=\"text/css\" >\n",
       "    #T_256cf5d4_3f56_11e9_8538_98e7f4854936row0_col0 {\n",
       "            background-color:  #023858;\n",
       "            color:  #f1f1f1;\n",
       "        }    #T_256cf5d4_3f56_11e9_8538_98e7f4854936row0_col1 {\n",
       "            background-color:  #f5eff6;\n",
       "            color:  #000000;\n",
       "        }    #T_256cf5d4_3f56_11e9_8538_98e7f4854936row0_col2 {\n",
       "            background-color:  #f2ecf5;\n",
       "            color:  #000000;\n",
       "        }    #T_256cf5d4_3f56_11e9_8538_98e7f4854936row0_col3 {\n",
       "            background-color:  #efe9f3;\n",
       "            color:  #000000;\n",
       "        }    #T_256cf5d4_3f56_11e9_8538_98e7f4854936row0_col4 {\n",
       "            background-color:  #fdf5fa;\n",
       "            color:  #000000;\n",
       "        }    #T_256cf5d4_3f56_11e9_8538_98e7f4854936row0_col5 {\n",
       "            background-color:  #f1ebf5;\n",
       "            color:  #000000;\n",
       "        }    #T_256cf5d4_3f56_11e9_8538_98e7f4854936row0_col6 {\n",
       "            background-color:  #e5e1ef;\n",
       "            color:  #000000;\n",
       "        }    #T_256cf5d4_3f56_11e9_8538_98e7f4854936row0_col7 {\n",
       "            background-color:  #fff7fb;\n",
       "            color:  #000000;\n",
       "        }    #T_256cf5d4_3f56_11e9_8538_98e7f4854936row0_col8 {\n",
       "            background-color:  #ece7f2;\n",
       "            color:  #000000;\n",
       "        }    #T_256cf5d4_3f56_11e9_8538_98e7f4854936row0_col9 {\n",
       "            background-color:  #fff7fb;\n",
       "            color:  #000000;\n",
       "        }    #T_256cf5d4_3f56_11e9_8538_98e7f4854936row0_col10 {\n",
       "            background-color:  #faf2f8;\n",
       "            color:  #000000;\n",
       "        }    #T_256cf5d4_3f56_11e9_8538_98e7f4854936row0_col11 {\n",
       "            background-color:  #fff7fb;\n",
       "            color:  #000000;\n",
       "        }    #T_256cf5d4_3f56_11e9_8538_98e7f4854936row0_col12 {\n",
       "            background-color:  #fbf4f9;\n",
       "            color:  #000000;\n",
       "        }    #T_256cf5d4_3f56_11e9_8538_98e7f4854936row0_col13 {\n",
       "            background-color:  #ece7f2;\n",
       "            color:  #000000;\n",
       "        }    #T_256cf5d4_3f56_11e9_8538_98e7f4854936row0_col14 {\n",
       "            background-color:  #fff7fb;\n",
       "            color:  #000000;\n",
       "        }    #T_256cf5d4_3f56_11e9_8538_98e7f4854936row1_col0 {\n",
       "            background-color:  #dfddec;\n",
       "            color:  #000000;\n",
       "        }    #T_256cf5d4_3f56_11e9_8538_98e7f4854936row1_col1 {\n",
       "            background-color:  #023858;\n",
       "            color:  #f1f1f1;\n",
       "        }    #T_256cf5d4_3f56_11e9_8538_98e7f4854936row1_col2 {\n",
       "            background-color:  #faf3f9;\n",
       "            color:  #000000;\n",
       "        }    #T_256cf5d4_3f56_11e9_8538_98e7f4854936row1_col3 {\n",
       "            background-color:  #f6eff7;\n",
       "            color:  #000000;\n",
       "        }    #T_256cf5d4_3f56_11e9_8538_98e7f4854936row1_col4 {\n",
       "            background-color:  #fdf5fa;\n",
       "            color:  #000000;\n",
       "        }    #T_256cf5d4_3f56_11e9_8538_98e7f4854936row1_col5 {\n",
       "            background-color:  #f4edf6;\n",
       "            color:  #000000;\n",
       "        }    #T_256cf5d4_3f56_11e9_8538_98e7f4854936row1_col6 {\n",
       "            background-color:  #fff7fb;\n",
       "            color:  #000000;\n",
       "        }    #T_256cf5d4_3f56_11e9_8538_98e7f4854936row1_col7 {\n",
       "            background-color:  #eee8f3;\n",
       "            color:  #000000;\n",
       "        }    #T_256cf5d4_3f56_11e9_8538_98e7f4854936row1_col8 {\n",
       "            background-color:  #fdf5fa;\n",
       "            color:  #000000;\n",
       "        }    #T_256cf5d4_3f56_11e9_8538_98e7f4854936row1_col9 {\n",
       "            background-color:  #f4eef6;\n",
       "            color:  #000000;\n",
       "        }    #T_256cf5d4_3f56_11e9_8538_98e7f4854936row1_col10 {\n",
       "            background-color:  #faf2f8;\n",
       "            color:  #000000;\n",
       "        }    #T_256cf5d4_3f56_11e9_8538_98e7f4854936row1_col11 {\n",
       "            background-color:  #d7d6e9;\n",
       "            color:  #000000;\n",
       "        }    #T_256cf5d4_3f56_11e9_8538_98e7f4854936row1_col12 {\n",
       "            background-color:  #faf3f9;\n",
       "            color:  #000000;\n",
       "        }    #T_256cf5d4_3f56_11e9_8538_98e7f4854936row1_col13 {\n",
       "            background-color:  #fff7fb;\n",
       "            color:  #000000;\n",
       "        }    #T_256cf5d4_3f56_11e9_8538_98e7f4854936row1_col14 {\n",
       "            background-color:  #f1ebf4;\n",
       "            color:  #000000;\n",
       "        }    #T_256cf5d4_3f56_11e9_8538_98e7f4854936row2_col0 {\n",
       "            background-color:  #d2d2e7;\n",
       "            color:  #000000;\n",
       "        }    #T_256cf5d4_3f56_11e9_8538_98e7f4854936row2_col1 {\n",
       "            background-color:  #f2ecf5;\n",
       "            color:  #000000;\n",
       "        }    #T_256cf5d4_3f56_11e9_8538_98e7f4854936row2_col2 {\n",
       "            background-color:  #023858;\n",
       "            color:  #f1f1f1;\n",
       "        }    #T_256cf5d4_3f56_11e9_8538_98e7f4854936row2_col3 {\n",
       "            background-color:  #f0eaf4;\n",
       "            color:  #000000;\n",
       "        }    #T_256cf5d4_3f56_11e9_8538_98e7f4854936row2_col4 {\n",
       "            background-color:  #fef6fb;\n",
       "            color:  #000000;\n",
       "        }    #T_256cf5d4_3f56_11e9_8538_98e7f4854936row2_col5 {\n",
       "            background-color:  #f8f1f8;\n",
       "            color:  #000000;\n",
       "        }    #T_256cf5d4_3f56_11e9_8538_98e7f4854936row2_col6 {\n",
       "            background-color:  #8cb3d5;\n",
       "            color:  #000000;\n",
       "        }    #T_256cf5d4_3f56_11e9_8538_98e7f4854936row2_col7 {\n",
       "            background-color:  #e8e4f0;\n",
       "            color:  #000000;\n",
       "        }    #T_256cf5d4_3f56_11e9_8538_98e7f4854936row2_col8 {\n",
       "            background-color:  #b9c6e0;\n",
       "            color:  #000000;\n",
       "        }    #T_256cf5d4_3f56_11e9_8538_98e7f4854936row2_col9 {\n",
       "            background-color:  #f2ecf5;\n",
       "            color:  #000000;\n",
       "        }    #T_256cf5d4_3f56_11e9_8538_98e7f4854936row2_col10 {\n",
       "            background-color:  #faf2f8;\n",
       "            color:  #000000;\n",
       "        }    #T_256cf5d4_3f56_11e9_8538_98e7f4854936row2_col11 {\n",
       "            background-color:  #d7d6e9;\n",
       "            color:  #000000;\n",
       "        }    #T_256cf5d4_3f56_11e9_8538_98e7f4854936row2_col12 {\n",
       "            background-color:  #f7f0f7;\n",
       "            color:  #000000;\n",
       "        }    #T_256cf5d4_3f56_11e9_8538_98e7f4854936row2_col13 {\n",
       "            background-color:  #abbfdc;\n",
       "            color:  #000000;\n",
       "        }    #T_256cf5d4_3f56_11e9_8538_98e7f4854936row2_col14 {\n",
       "            background-color:  #f5eef6;\n",
       "            color:  #000000;\n",
       "        }    #T_256cf5d4_3f56_11e9_8538_98e7f4854936row3_col0 {\n",
       "            background-color:  #d6d6e9;\n",
       "            color:  #000000;\n",
       "        }    #T_256cf5d4_3f56_11e9_8538_98e7f4854936row3_col1 {\n",
       "            background-color:  #f5eff6;\n",
       "            color:  #000000;\n",
       "        }    #T_256cf5d4_3f56_11e9_8538_98e7f4854936row3_col2 {\n",
       "            background-color:  #f7f0f7;\n",
       "            color:  #000000;\n",
       "        }    #T_256cf5d4_3f56_11e9_8538_98e7f4854936row3_col3 {\n",
       "            background-color:  #023858;\n",
       "            color:  #f1f1f1;\n",
       "        }    #T_256cf5d4_3f56_11e9_8538_98e7f4854936row3_col4 {\n",
       "            background-color:  #fef6fb;\n",
       "            color:  #000000;\n",
       "        }    #T_256cf5d4_3f56_11e9_8538_98e7f4854936row3_col5 {\n",
       "            background-color:  #fff7fb;\n",
       "            color:  #000000;\n",
       "        }    #T_256cf5d4_3f56_11e9_8538_98e7f4854936row3_col6 {\n",
       "            background-color:  #f0eaf4;\n",
       "            color:  #000000;\n",
       "        }    #T_256cf5d4_3f56_11e9_8538_98e7f4854936row3_col7 {\n",
       "            background-color:  #e9e5f1;\n",
       "            color:  #000000;\n",
       "        }    #T_256cf5d4_3f56_11e9_8538_98e7f4854936row3_col8 {\n",
       "            background-color:  #f1ebf5;\n",
       "            color:  #000000;\n",
       "        }    #T_256cf5d4_3f56_11e9_8538_98e7f4854936row3_col9 {\n",
       "            background-color:  #eee8f3;\n",
       "            color:  #000000;\n",
       "        }    #T_256cf5d4_3f56_11e9_8538_98e7f4854936row3_col10 {\n",
       "            background-color:  #faf2f8;\n",
       "            color:  #000000;\n",
       "        }    #T_256cf5d4_3f56_11e9_8538_98e7f4854936row3_col11 {\n",
       "            background-color:  #d7d6e9;\n",
       "            color:  #000000;\n",
       "        }    #T_256cf5d4_3f56_11e9_8538_98e7f4854936row3_col12 {\n",
       "            background-color:  #faf3f9;\n",
       "            color:  #000000;\n",
       "        }    #T_256cf5d4_3f56_11e9_8538_98e7f4854936row3_col13 {\n",
       "            background-color:  #f4edf6;\n",
       "            color:  #000000;\n",
       "        }    #T_256cf5d4_3f56_11e9_8538_98e7f4854936row3_col14 {\n",
       "            background-color:  #fbf3f9;\n",
       "            color:  #000000;\n",
       "        }    #T_256cf5d4_3f56_11e9_8538_98e7f4854936row4_col0 {\n",
       "            background-color:  #dad9ea;\n",
       "            color:  #000000;\n",
       "        }    #T_256cf5d4_3f56_11e9_8538_98e7f4854936row4_col1 {\n",
       "            background-color:  #f3edf5;\n",
       "            color:  #000000;\n",
       "        }    #T_256cf5d4_3f56_11e9_8538_98e7f4854936row4_col2 {\n",
       "            background-color:  #fbf3f9;\n",
       "            color:  #000000;\n",
       "        }    #T_256cf5d4_3f56_11e9_8538_98e7f4854936row4_col3 {\n",
       "            background-color:  #f4eef6;\n",
       "            color:  #000000;\n",
       "        }    #T_256cf5d4_3f56_11e9_8538_98e7f4854936row4_col4 {\n",
       "            background-color:  #023858;\n",
       "            color:  #f1f1f1;\n",
       "        }    #T_256cf5d4_3f56_11e9_8538_98e7f4854936row4_col5 {\n",
       "            background-color:  #f5eff6;\n",
       "            color:  #000000;\n",
       "        }    #T_256cf5d4_3f56_11e9_8538_98e7f4854936row4_col6 {\n",
       "            background-color:  #f4edf6;\n",
       "            color:  #000000;\n",
       "        }    #T_256cf5d4_3f56_11e9_8538_98e7f4854936row4_col7 {\n",
       "            background-color:  #ede7f2;\n",
       "            color:  #000000;\n",
       "        }    #T_256cf5d4_3f56_11e9_8538_98e7f4854936row4_col8 {\n",
       "            background-color:  #f5eef6;\n",
       "            color:  #000000;\n",
       "        }    #T_256cf5d4_3f56_11e9_8538_98e7f4854936row4_col9 {\n",
       "            background-color:  #f3edf5;\n",
       "            color:  #000000;\n",
       "        }    #T_256cf5d4_3f56_11e9_8538_98e7f4854936row4_col10 {\n",
       "            background-color:  #faf3f9;\n",
       "            color:  #000000;\n",
       "        }    #T_256cf5d4_3f56_11e9_8538_98e7f4854936row4_col11 {\n",
       "            background-color:  #dcdaeb;\n",
       "            color:  #000000;\n",
       "        }    #T_256cf5d4_3f56_11e9_8538_98e7f4854936row4_col12 {\n",
       "            background-color:  #fbf4f9;\n",
       "            color:  #000000;\n",
       "        }    #T_256cf5d4_3f56_11e9_8538_98e7f4854936row4_col13 {\n",
       "            background-color:  #f7f0f7;\n",
       "            color:  #000000;\n",
       "        }    #T_256cf5d4_3f56_11e9_8538_98e7f4854936row4_col14 {\n",
       "            background-color:  #f3edf5;\n",
       "            color:  #000000;\n",
       "        }    #T_256cf5d4_3f56_11e9_8538_98e7f4854936row5_col0 {\n",
       "            background-color:  #d9d8ea;\n",
       "            color:  #000000;\n",
       "        }    #T_256cf5d4_3f56_11e9_8538_98e7f4854936row5_col1 {\n",
       "            background-color:  #f4edf6;\n",
       "            color:  #000000;\n",
       "        }    #T_256cf5d4_3f56_11e9_8538_98e7f4854936row5_col2 {\n",
       "            background-color:  #fff7fb;\n",
       "            color:  #000000;\n",
       "        }    #T_256cf5d4_3f56_11e9_8538_98e7f4854936row5_col3 {\n",
       "            background-color:  #fff7fb;\n",
       "            color:  #000000;\n",
       "        }    #T_256cf5d4_3f56_11e9_8538_98e7f4854936row5_col4 {\n",
       "            background-color:  #fff7fb;\n",
       "            color:  #000000;\n",
       "        }    #T_256cf5d4_3f56_11e9_8538_98e7f4854936row5_col5 {\n",
       "            background-color:  #023858;\n",
       "            color:  #f1f1f1;\n",
       "        }    #T_256cf5d4_3f56_11e9_8538_98e7f4854936row5_col6 {\n",
       "            background-color:  #fef6fa;\n",
       "            color:  #000000;\n",
       "        }    #T_256cf5d4_3f56_11e9_8538_98e7f4854936row5_col7 {\n",
       "            background-color:  #f5eff6;\n",
       "            color:  #000000;\n",
       "        }    #T_256cf5d4_3f56_11e9_8538_98e7f4854936row5_col8 {\n",
       "            background-color:  #fdf5fa;\n",
       "            color:  #000000;\n",
       "        }    #T_256cf5d4_3f56_11e9_8538_98e7f4854936row5_col9 {\n",
       "            background-color:  #faf2f8;\n",
       "            color:  #000000;\n",
       "        }    #T_256cf5d4_3f56_11e9_8538_98e7f4854936row5_col10 {\n",
       "            background-color:  #faf3f9;\n",
       "            color:  #000000;\n",
       "        }    #T_256cf5d4_3f56_11e9_8538_98e7f4854936row5_col11 {\n",
       "            background-color:  #d4d4e8;\n",
       "            color:  #000000;\n",
       "        }    #T_256cf5d4_3f56_11e9_8538_98e7f4854936row5_col12 {\n",
       "            background-color:  #fff7fb;\n",
       "            color:  #000000;\n",
       "        }    #T_256cf5d4_3f56_11e9_8538_98e7f4854936row5_col13 {\n",
       "            background-color:  #fef6fb;\n",
       "            color:  #000000;\n",
       "        }    #T_256cf5d4_3f56_11e9_8538_98e7f4854936row5_col14 {\n",
       "            background-color:  #03517e;\n",
       "            color:  #f1f1f1;\n",
       "        }    #T_256cf5d4_3f56_11e9_8538_98e7f4854936row6_col0 {\n",
       "            background-color:  #cccfe5;\n",
       "            color:  #000000;\n",
       "        }    #T_256cf5d4_3f56_11e9_8538_98e7f4854936row6_col1 {\n",
       "            background-color:  #fff7fb;\n",
       "            color:  #000000;\n",
       "        }    #T_256cf5d4_3f56_11e9_8538_98e7f4854936row6_col2 {\n",
       "            background-color:  #99b8d8;\n",
       "            color:  #000000;\n",
       "        }    #T_256cf5d4_3f56_11e9_8538_98e7f4854936row6_col3 {\n",
       "            background-color:  #f1ebf5;\n",
       "            color:  #000000;\n",
       "        }    #T_256cf5d4_3f56_11e9_8538_98e7f4854936row6_col4 {\n",
       "            background-color:  #fff7fb;\n",
       "            color:  #000000;\n",
       "        }    #T_256cf5d4_3f56_11e9_8538_98e7f4854936row6_col5 {\n",
       "            background-color:  #fff7fb;\n",
       "            color:  #000000;\n",
       "        }    #T_256cf5d4_3f56_11e9_8538_98e7f4854936row6_col6 {\n",
       "            background-color:  #023858;\n",
       "            color:  #f1f1f1;\n",
       "        }    #T_256cf5d4_3f56_11e9_8538_98e7f4854936row6_col7 {\n",
       "            background-color:  #e8e4f0;\n",
       "            color:  #000000;\n",
       "        }    #T_256cf5d4_3f56_11e9_8538_98e7f4854936row6_col8 {\n",
       "            background-color:  #2081b9;\n",
       "            color:  #000000;\n",
       "        }    #T_256cf5d4_3f56_11e9_8538_98e7f4854936row6_col9 {\n",
       "            background-color:  #f7f0f7;\n",
       "            color:  #000000;\n",
       "        }    #T_256cf5d4_3f56_11e9_8538_98e7f4854936row6_col10 {\n",
       "            background-color:  #fbf3f9;\n",
       "            color:  #000000;\n",
       "        }    #T_256cf5d4_3f56_11e9_8538_98e7f4854936row6_col11 {\n",
       "            background-color:  #e4e1ef;\n",
       "            color:  #000000;\n",
       "        }    #T_256cf5d4_3f56_11e9_8538_98e7f4854936row6_col12 {\n",
       "            background-color:  #fef6fb;\n",
       "            color:  #000000;\n",
       "        }    #T_256cf5d4_3f56_11e9_8538_98e7f4854936row6_col13 {\n",
       "            background-color:  #045f95;\n",
       "            color:  #f1f1f1;\n",
       "        }    #T_256cf5d4_3f56_11e9_8538_98e7f4854936row6_col14 {\n",
       "            background-color:  #fef6fb;\n",
       "            color:  #000000;\n",
       "        }    #T_256cf5d4_3f56_11e9_8538_98e7f4854936row7_col0 {\n",
       "            background-color:  #f1ebf5;\n",
       "            color:  #000000;\n",
       "        }    #T_256cf5d4_3f56_11e9_8538_98e7f4854936row7_col1 {\n",
       "            background-color:  #f4edf6;\n",
       "            color:  #000000;\n",
       "        }    #T_256cf5d4_3f56_11e9_8538_98e7f4854936row7_col2 {\n",
       "            background-color:  #f6eff7;\n",
       "            color:  #000000;\n",
       "        }    #T_256cf5d4_3f56_11e9_8538_98e7f4854936row7_col3 {\n",
       "            background-color:  #f0eaf4;\n",
       "            color:  #000000;\n",
       "        }    #T_256cf5d4_3f56_11e9_8538_98e7f4854936row7_col4 {\n",
       "            background-color:  #fdf5fa;\n",
       "            color:  #000000;\n",
       "        }    #T_256cf5d4_3f56_11e9_8538_98e7f4854936row7_col5 {\n",
       "            background-color:  #fcf4fa;\n",
       "            color:  #000000;\n",
       "        }    #T_256cf5d4_3f56_11e9_8538_98e7f4854936row7_col6 {\n",
       "            background-color:  #eee9f3;\n",
       "            color:  #000000;\n",
       "        }    #T_256cf5d4_3f56_11e9_8538_98e7f4854936row7_col7 {\n",
       "            background-color:  #023858;\n",
       "            color:  #f1f1f1;\n",
       "        }    #T_256cf5d4_3f56_11e9_8538_98e7f4854936row7_col8 {\n",
       "            background-color:  #f1ebf4;\n",
       "            color:  #000000;\n",
       "        }    #T_256cf5d4_3f56_11e9_8538_98e7f4854936row7_col9 {\n",
       "            background-color:  #9fbad9;\n",
       "            color:  #000000;\n",
       "        }    #T_256cf5d4_3f56_11e9_8538_98e7f4854936row7_col10 {\n",
       "            background-color:  #f5eff6;\n",
       "            color:  #000000;\n",
       "        }    #T_256cf5d4_3f56_11e9_8538_98e7f4854936row7_col11 {\n",
       "            background-color:  #cdd0e5;\n",
       "            color:  #000000;\n",
       "        }    #T_256cf5d4_3f56_11e9_8538_98e7f4854936row7_col12 {\n",
       "            background-color:  #e1dfed;\n",
       "            color:  #000000;\n",
       "        }    #T_256cf5d4_3f56_11e9_8538_98e7f4854936row7_col13 {\n",
       "            background-color:  #f2ecf5;\n",
       "            color:  #000000;\n",
       "        }    #T_256cf5d4_3f56_11e9_8538_98e7f4854936row7_col14 {\n",
       "            background-color:  #f3edf5;\n",
       "            color:  #000000;\n",
       "        }    #T_256cf5d4_3f56_11e9_8538_98e7f4854936row8_col0 {\n",
       "            background-color:  #d1d2e6;\n",
       "            color:  #000000;\n",
       "        }    #T_256cf5d4_3f56_11e9_8538_98e7f4854936row8_col1 {\n",
       "            background-color:  #fbf3f9;\n",
       "            color:  #000000;\n",
       "        }    #T_256cf5d4_3f56_11e9_8538_98e7f4854936row8_col2 {\n",
       "            background-color:  #c2cbe2;\n",
       "            color:  #000000;\n",
       "        }    #T_256cf5d4_3f56_11e9_8538_98e7f4854936row8_col3 {\n",
       "            background-color:  #f1ebf4;\n",
       "            color:  #000000;\n",
       "        }    #T_256cf5d4_3f56_11e9_8538_98e7f4854936row8_col4 {\n",
       "            background-color:  #fef6fa;\n",
       "            color:  #000000;\n",
       "        }    #T_256cf5d4_3f56_11e9_8538_98e7f4854936row8_col5 {\n",
       "            background-color:  #fbf4f9;\n",
       "            color:  #000000;\n",
       "        }    #T_256cf5d4_3f56_11e9_8538_98e7f4854936row8_col6 {\n",
       "            background-color:  #1e80b8;\n",
       "            color:  #000000;\n",
       "        }    #T_256cf5d4_3f56_11e9_8538_98e7f4854936row8_col7 {\n",
       "            background-color:  #e9e5f1;\n",
       "            color:  #000000;\n",
       "        }    #T_256cf5d4_3f56_11e9_8538_98e7f4854936row8_col8 {\n",
       "            background-color:  #023858;\n",
       "            color:  #f1f1f1;\n",
       "        }    #T_256cf5d4_3f56_11e9_8538_98e7f4854936row8_col9 {\n",
       "            background-color:  #fef6fa;\n",
       "            color:  #000000;\n",
       "        }    #T_256cf5d4_3f56_11e9_8538_98e7f4854936row8_col10 {\n",
       "            background-color:  #fff7fb;\n",
       "            color:  #000000;\n",
       "        }    #T_256cf5d4_3f56_11e9_8538_98e7f4854936row8_col11 {\n",
       "            background-color:  #e2dfee;\n",
       "            color:  #000000;\n",
       "        }    #T_256cf5d4_3f56_11e9_8538_98e7f4854936row8_col12 {\n",
       "            background-color:  #fdf5fa;\n",
       "            color:  #000000;\n",
       "        }    #T_256cf5d4_3f56_11e9_8538_98e7f4854936row8_col13 {\n",
       "            background-color:  #dddbec;\n",
       "            color:  #000000;\n",
       "        }    #T_256cf5d4_3f56_11e9_8538_98e7f4854936row8_col14 {\n",
       "            background-color:  #fbf3f9;\n",
       "            color:  #000000;\n",
       "        }    #T_256cf5d4_3f56_11e9_8538_98e7f4854936row9_col0 {\n",
       "            background-color:  #ebe6f2;\n",
       "            color:  #000000;\n",
       "        }    #T_256cf5d4_3f56_11e9_8538_98e7f4854936row9_col1 {\n",
       "            background-color:  #f4edf6;\n",
       "            color:  #000000;\n",
       "        }    #T_256cf5d4_3f56_11e9_8538_98e7f4854936row9_col2 {\n",
       "            background-color:  #f9f2f8;\n",
       "            color:  #000000;\n",
       "        }    #T_256cf5d4_3f56_11e9_8538_98e7f4854936row9_col3 {\n",
       "            background-color:  #eee9f3;\n",
       "            color:  #000000;\n",
       "        }    #T_256cf5d4_3f56_11e9_8538_98e7f4854936row9_col4 {\n",
       "            background-color:  #fdf5fa;\n",
       "            color:  #000000;\n",
       "        }    #T_256cf5d4_3f56_11e9_8538_98e7f4854936row9_col5 {\n",
       "            background-color:  #faf2f8;\n",
       "            color:  #000000;\n",
       "        }    #T_256cf5d4_3f56_11e9_8538_98e7f4854936row9_col6 {\n",
       "            background-color:  #f6eff7;\n",
       "            color:  #000000;\n",
       "        }    #T_256cf5d4_3f56_11e9_8538_98e7f4854936row9_col7 {\n",
       "            background-color:  #96b6d7;\n",
       "            color:  #000000;\n",
       "        }    #T_256cf5d4_3f56_11e9_8538_98e7f4854936row9_col8 {\n",
       "            background-color:  #fff7fb;\n",
       "            color:  #000000;\n",
       "        }    #T_256cf5d4_3f56_11e9_8538_98e7f4854936row9_col9 {\n",
       "            background-color:  #023858;\n",
       "            color:  #f1f1f1;\n",
       "        }    #T_256cf5d4_3f56_11e9_8538_98e7f4854936row9_col10 {\n",
       "            background-color:  #ebe6f2;\n",
       "            color:  #000000;\n",
       "        }    #T_256cf5d4_3f56_11e9_8538_98e7f4854936row9_col11 {\n",
       "            background-color:  #cccfe5;\n",
       "            color:  #000000;\n",
       "        }    #T_256cf5d4_3f56_11e9_8538_98e7f4854936row9_col12 {\n",
       "            background-color:  #d2d3e7;\n",
       "            color:  #000000;\n",
       "        }    #T_256cf5d4_3f56_11e9_8538_98e7f4854936row9_col13 {\n",
       "            background-color:  #f1ebf5;\n",
       "            color:  #000000;\n",
       "        }    #T_256cf5d4_3f56_11e9_8538_98e7f4854936row9_col14 {\n",
       "            background-color:  #f2ecf5;\n",
       "            color:  #000000;\n",
       "        }    #T_256cf5d4_3f56_11e9_8538_98e7f4854936row10_col0 {\n",
       "            background-color:  #dbdaeb;\n",
       "            color:  #000000;\n",
       "        }    #T_256cf5d4_3f56_11e9_8538_98e7f4854936row10_col1 {\n",
       "            background-color:  #f3edf5;\n",
       "            color:  #000000;\n",
       "        }    #T_256cf5d4_3f56_11e9_8538_98e7f4854936row10_col2 {\n",
       "            background-color:  #faf3f9;\n",
       "            color:  #000000;\n",
       "        }    #T_256cf5d4_3f56_11e9_8538_98e7f4854936row10_col3 {\n",
       "            background-color:  #f4edf6;\n",
       "            color:  #000000;\n",
       "        }    #T_256cf5d4_3f56_11e9_8538_98e7f4854936row10_col4 {\n",
       "            background-color:  #fef6fb;\n",
       "            color:  #000000;\n",
       "        }    #T_256cf5d4_3f56_11e9_8538_98e7f4854936row10_col5 {\n",
       "            background-color:  #f4eef6;\n",
       "            color:  #000000;\n",
       "        }    #T_256cf5d4_3f56_11e9_8538_98e7f4854936row10_col6 {\n",
       "            background-color:  #f4edf6;\n",
       "            color:  #000000;\n",
       "        }    #T_256cf5d4_3f56_11e9_8538_98e7f4854936row10_col7 {\n",
       "            background-color:  #e8e4f0;\n",
       "            color:  #000000;\n",
       "        }    #T_256cf5d4_3f56_11e9_8538_98e7f4854936row10_col8 {\n",
       "            background-color:  #faf3f9;\n",
       "            color:  #000000;\n",
       "        }    #T_256cf5d4_3f56_11e9_8538_98e7f4854936row10_col9 {\n",
       "            background-color:  #e2dfee;\n",
       "            color:  #000000;\n",
       "        }    #T_256cf5d4_3f56_11e9_8538_98e7f4854936row10_col10 {\n",
       "            background-color:  #023858;\n",
       "            color:  #f1f1f1;\n",
       "        }    #T_256cf5d4_3f56_11e9_8538_98e7f4854936row10_col11 {\n",
       "            background-color:  #cdd0e5;\n",
       "            color:  #000000;\n",
       "        }    #T_256cf5d4_3f56_11e9_8538_98e7f4854936row10_col12 {\n",
       "            background-color:  #d8d7e9;\n",
       "            color:  #000000;\n",
       "        }    #T_256cf5d4_3f56_11e9_8538_98e7f4854936row10_col13 {\n",
       "            background-color:  #f2ecf5;\n",
       "            color:  #000000;\n",
       "        }    #T_256cf5d4_3f56_11e9_8538_98e7f4854936row10_col14 {\n",
       "            background-color:  #efe9f3;\n",
       "            color:  #000000;\n",
       "        }    #T_256cf5d4_3f56_11e9_8538_98e7f4854936row11_col0 {\n",
       "            background-color:  #fff7fb;\n",
       "            color:  #000000;\n",
       "        }    #T_256cf5d4_3f56_11e9_8538_98e7f4854936row11_col1 {\n",
       "            background-color:  #f0eaf4;\n",
       "            color:  #000000;\n",
       "        }    #T_256cf5d4_3f56_11e9_8538_98e7f4854936row11_col2 {\n",
       "            background-color:  #f7f0f7;\n",
       "            color:  #000000;\n",
       "        }    #T_256cf5d4_3f56_11e9_8538_98e7f4854936row11_col3 {\n",
       "            background-color:  #f0eaf4;\n",
       "            color:  #000000;\n",
       "        }    #T_256cf5d4_3f56_11e9_8538_98e7f4854936row11_col4 {\n",
       "            background-color:  #fef6fa;\n",
       "            color:  #000000;\n",
       "        }    #T_256cf5d4_3f56_11e9_8538_98e7f4854936row11_col5 {\n",
       "            background-color:  #eee8f3;\n",
       "            color:  #000000;\n",
       "        }    #T_256cf5d4_3f56_11e9_8538_98e7f4854936row11_col6 {\n",
       "            background-color:  #f9f2f8;\n",
       "            color:  #000000;\n",
       "        }    #T_256cf5d4_3f56_11e9_8538_98e7f4854936row11_col7 {\n",
       "            background-color:  #e0dded;\n",
       "            color:  #000000;\n",
       "        }    #T_256cf5d4_3f56_11e9_8538_98e7f4854936row11_col8 {\n",
       "            background-color:  #faf2f8;\n",
       "            color:  #000000;\n",
       "        }    #T_256cf5d4_3f56_11e9_8538_98e7f4854936row11_col9 {\n",
       "            background-color:  #e6e2ef;\n",
       "            color:  #000000;\n",
       "        }    #T_256cf5d4_3f56_11e9_8538_98e7f4854936row11_col10 {\n",
       "            background-color:  #efe9f3;\n",
       "            color:  #000000;\n",
       "        }    #T_256cf5d4_3f56_11e9_8538_98e7f4854936row11_col11 {\n",
       "            background-color:  #023858;\n",
       "            color:  #f1f1f1;\n",
       "        }    #T_256cf5d4_3f56_11e9_8538_98e7f4854936row11_col12 {\n",
       "            background-color:  #dbdaeb;\n",
       "            color:  #000000;\n",
       "        }    #T_256cf5d4_3f56_11e9_8538_98e7f4854936row11_col13 {\n",
       "            background-color:  #faf2f8;\n",
       "            color:  #000000;\n",
       "        }    #T_256cf5d4_3f56_11e9_8538_98e7f4854936row11_col14 {\n",
       "            background-color:  #79abd0;\n",
       "            color:  #000000;\n",
       "        }    #T_256cf5d4_3f56_11e9_8538_98e7f4854936row12_col0 {\n",
       "            background-color:  #dbdaeb;\n",
       "            color:  #000000;\n",
       "        }    #T_256cf5d4_3f56_11e9_8538_98e7f4854936row12_col1 {\n",
       "            background-color:  #f2ecf5;\n",
       "            color:  #000000;\n",
       "        }    #T_256cf5d4_3f56_11e9_8538_98e7f4854936row12_col2 {\n",
       "            background-color:  #f6eff7;\n",
       "            color:  #000000;\n",
       "        }    #T_256cf5d4_3f56_11e9_8538_98e7f4854936row12_col3 {\n",
       "            background-color:  #f2ecf5;\n",
       "            color:  #000000;\n",
       "        }    #T_256cf5d4_3f56_11e9_8538_98e7f4854936row12_col4 {\n",
       "            background-color:  #fdf5fa;\n",
       "            color:  #000000;\n",
       "        }    #T_256cf5d4_3f56_11e9_8538_98e7f4854936row12_col5 {\n",
       "            background-color:  #f7f0f7;\n",
       "            color:  #000000;\n",
       "        }    #T_256cf5d4_3f56_11e9_8538_98e7f4854936row12_col6 {\n",
       "            background-color:  #f5eef6;\n",
       "            color:  #000000;\n",
       "        }    #T_256cf5d4_3f56_11e9_8538_98e7f4854936row12_col7 {\n",
       "            background-color:  #ced0e6;\n",
       "            color:  #000000;\n",
       "        }    #T_256cf5d4_3f56_11e9_8538_98e7f4854936row12_col8 {\n",
       "            background-color:  #f6eff7;\n",
       "            color:  #000000;\n",
       "        }    #T_256cf5d4_3f56_11e9_8538_98e7f4854936row12_col9 {\n",
       "            background-color:  #c5cce3;\n",
       "            color:  #000000;\n",
       "        }    #T_256cf5d4_3f56_11e9_8538_98e7f4854936row12_col10 {\n",
       "            background-color:  #d5d5e8;\n",
       "            color:  #000000;\n",
       "        }    #T_256cf5d4_3f56_11e9_8538_98e7f4854936row12_col11 {\n",
       "            background-color:  #b0c2de;\n",
       "            color:  #000000;\n",
       "        }    #T_256cf5d4_3f56_11e9_8538_98e7f4854936row12_col12 {\n",
       "            background-color:  #023858;\n",
       "            color:  #f1f1f1;\n",
       "        }    #T_256cf5d4_3f56_11e9_8538_98e7f4854936row12_col13 {\n",
       "            background-color:  #f7f0f7;\n",
       "            color:  #000000;\n",
       "        }    #T_256cf5d4_3f56_11e9_8538_98e7f4854936row12_col14 {\n",
       "            background-color:  #eae6f1;\n",
       "            color:  #000000;\n",
       "        }    #T_256cf5d4_3f56_11e9_8538_98e7f4854936row13_col0 {\n",
       "            background-color:  #d1d2e6;\n",
       "            color:  #000000;\n",
       "        }    #T_256cf5d4_3f56_11e9_8538_98e7f4854936row13_col1 {\n",
       "            background-color:  #fdf5fa;\n",
       "            color:  #000000;\n",
       "        }    #T_256cf5d4_3f56_11e9_8538_98e7f4854936row13_col2 {\n",
       "            background-color:  #b3c3de;\n",
       "            color:  #000000;\n",
       "        }    #T_256cf5d4_3f56_11e9_8538_98e7f4854936row13_col3 {\n",
       "            background-color:  #f2ecf5;\n",
       "            color:  #000000;\n",
       "        }    #T_256cf5d4_3f56_11e9_8538_98e7f4854936row13_col4 {\n",
       "            background-color:  #fff7fb;\n",
       "            color:  #000000;\n",
       "        }    #T_256cf5d4_3f56_11e9_8538_98e7f4854936row13_col5 {\n",
       "            background-color:  #fdf5fa;\n",
       "            color:  #000000;\n",
       "        }    #T_256cf5d4_3f56_11e9_8538_98e7f4854936row13_col6 {\n",
       "            background-color:  #045e94;\n",
       "            color:  #f1f1f1;\n",
       "        }    #T_256cf5d4_3f56_11e9_8538_98e7f4854936row13_col7 {\n",
       "            background-color:  #eae6f1;\n",
       "            color:  #000000;\n",
       "        }    #T_256cf5d4_3f56_11e9_8538_98e7f4854936row13_col8 {\n",
       "            background-color:  #dddbec;\n",
       "            color:  #000000;\n",
       "        }    #T_256cf5d4_3f56_11e9_8538_98e7f4854936row13_col9 {\n",
       "            background-color:  #f0eaf4;\n",
       "            color:  #000000;\n",
       "        }    #T_256cf5d4_3f56_11e9_8538_98e7f4854936row13_col10 {\n",
       "            background-color:  #f7f0f7;\n",
       "            color:  #000000;\n",
       "        }    #T_256cf5d4_3f56_11e9_8538_98e7f4854936row13_col11 {\n",
       "            background-color:  #e1dfed;\n",
       "            color:  #000000;\n",
       "        }    #T_256cf5d4_3f56_11e9_8538_98e7f4854936row13_col12 {\n",
       "            background-color:  #fef6fa;\n",
       "            color:  #000000;\n",
       "        }    #T_256cf5d4_3f56_11e9_8538_98e7f4854936row13_col13 {\n",
       "            background-color:  #023858;\n",
       "            color:  #f1f1f1;\n",
       "        }    #T_256cf5d4_3f56_11e9_8538_98e7f4854936row13_col14 {\n",
       "            background-color:  #fbf4f9;\n",
       "            color:  #000000;\n",
       "        }    #T_256cf5d4_3f56_11e9_8538_98e7f4854936row14_col0 {\n",
       "            background-color:  #ede7f2;\n",
       "            color:  #000000;\n",
       "        }    #T_256cf5d4_3f56_11e9_8538_98e7f4854936row14_col1 {\n",
       "            background-color:  #f2ecf5;\n",
       "            color:  #000000;\n",
       "        }    #T_256cf5d4_3f56_11e9_8538_98e7f4854936row14_col2 {\n",
       "            background-color:  #fef6fa;\n",
       "            color:  #000000;\n",
       "        }    #T_256cf5d4_3f56_11e9_8538_98e7f4854936row14_col3 {\n",
       "            background-color:  #fdf5fa;\n",
       "            color:  #000000;\n",
       "        }    #T_256cf5d4_3f56_11e9_8538_98e7f4854936row14_col4 {\n",
       "            background-color:  #fff7fb;\n",
       "            color:  #000000;\n",
       "        }    #T_256cf5d4_3f56_11e9_8538_98e7f4854936row14_col5 {\n",
       "            background-color:  #045280;\n",
       "            color:  #f1f1f1;\n",
       "        }    #T_256cf5d4_3f56_11e9_8538_98e7f4854936row14_col6 {\n",
       "            background-color:  #fff7fb;\n",
       "            color:  #000000;\n",
       "        }    #T_256cf5d4_3f56_11e9_8538_98e7f4854936row14_col7 {\n",
       "            background-color:  #eee9f3;\n",
       "            color:  #000000;\n",
       "        }    #T_256cf5d4_3f56_11e9_8538_98e7f4854936row14_col8 {\n",
       "            background-color:  #fef6fa;\n",
       "            color:  #000000;\n",
       "        }    #T_256cf5d4_3f56_11e9_8538_98e7f4854936row14_col9 {\n",
       "            background-color:  #f3edf5;\n",
       "            color:  #000000;\n",
       "        }    #T_256cf5d4_3f56_11e9_8538_98e7f4854936row14_col10 {\n",
       "            background-color:  #f7f0f7;\n",
       "            color:  #000000;\n",
       "        }    #T_256cf5d4_3f56_11e9_8538_98e7f4854936row14_col11 {\n",
       "            background-color:  #5c9fc9;\n",
       "            color:  #000000;\n",
       "        }    #T_256cf5d4_3f56_11e9_8538_98e7f4854936row14_col12 {\n",
       "            background-color:  #f4eef6;\n",
       "            color:  #000000;\n",
       "        }    #T_256cf5d4_3f56_11e9_8538_98e7f4854936row14_col13 {\n",
       "            background-color:  #fff7fb;\n",
       "            color:  #000000;\n",
       "        }    #T_256cf5d4_3f56_11e9_8538_98e7f4854936row14_col14 {\n",
       "            background-color:  #023858;\n",
       "            color:  #f1f1f1;\n",
       "        }</style><table id=\"T_256cf5d4_3f56_11e9_8538_98e7f4854936\" ><thead>    <tr>        <th class=\"blank level0\" ></th>        <th class=\"col_heading level0 col0\" >department</th>        <th class=\"col_heading level0 col1\" >region</th>        <th class=\"col_heading level0 col2\" >education</th>        <th class=\"col_heading level0 col3\" >gender</th>        <th class=\"col_heading level0 col4\" >recruitment_channel</th>        <th class=\"col_heading level0 col5\" >no_of_trainings</th>        <th class=\"col_heading level0 col6\" >age</th>        <th class=\"col_heading level0 col7\" >previous_year_rating</th>        <th class=\"col_heading level0 col8\" >length_of_service</th>        <th class=\"col_heading level0 col9\" >KPIs_met >80%</th>        <th class=\"col_heading level0 col10\" >awards_won?</th>        <th class=\"col_heading level0 col11\" >avg_training_score</th>        <th class=\"col_heading level0 col12\" >is_promoted</th>        <th class=\"col_heading level0 col13\" >joining_age</th>        <th class=\"col_heading level0 col14\" >training_hours</th>    </tr></thead><tbody>\n",
       "                <tr>\n",
       "                        <th id=\"T_256cf5d4_3f56_11e9_8538_98e7f4854936level0_row0\" class=\"row_heading level0 row0\" >department</th>\n",
       "                        <td id=\"T_256cf5d4_3f56_11e9_8538_98e7f4854936row0_col0\" class=\"data row0 col0\" >1</td>\n",
       "                        <td id=\"T_256cf5d4_3f56_11e9_8538_98e7f4854936row0_col1\" class=\"data row0 col1\" >-0.0205831</td>\n",
       "                        <td id=\"T_256cf5d4_3f56_11e9_8538_98e7f4854936row0_col2\" class=\"data row0 col2\" >0.0525199</td>\n",
       "                        <td id=\"T_256cf5d4_3f56_11e9_8538_98e7f4854936row0_col3\" class=\"data row0 col3\" >0.0300789</td>\n",
       "                        <td id=\"T_256cf5d4_3f56_11e9_8538_98e7f4854936row0_col4\" class=\"data row0 col4\" >0.00470539</td>\n",
       "                        <td id=\"T_256cf5d4_3f56_11e9_8538_98e7f4854936row0_col5\" class=\"data row0 col5\" >0.0141917</td>\n",
       "                        <td id=\"T_256cf5d4_3f56_11e9_8538_98e7f4854936row0_col6\" class=\"data row0 col6\" >0.0791926</td>\n",
       "                        <td id=\"T_256cf5d4_3f56_11e9_8538_98e7f4854936row0_col7\" class=\"data row0 col7\" >-0.13557</td>\n",
       "                        <td id=\"T_256cf5d4_3f56_11e9_8538_98e7f4854936row0_col8\" class=\"data row0 col8\" >0.0590711</td>\n",
       "                        <td id=\"T_256cf5d4_3f56_11e9_8538_98e7f4854936row0_col9\" class=\"data row0 col9\" >-0.0882498</td>\n",
       "                        <td id=\"T_256cf5d4_3f56_11e9_8538_98e7f4854936row0_col10\" class=\"data row0 col10\" >-0.00214735</td>\n",
       "                        <td id=\"T_256cf5d4_3f56_11e9_8538_98e7f4854936row0_col11\" class=\"data row0 col11\" >-0.251675</td>\n",
       "                        <td id=\"T_256cf5d4_3f56_11e9_8538_98e7f4854936row0_col12\" class=\"data row0 col12\" >0.000137632</td>\n",
       "                        <td id=\"T_256cf5d4_3f56_11e9_8538_98e7f4854936row0_col13\" class=\"data row0 col13\" >0.060889</td>\n",
       "                        <td id=\"T_256cf5d4_3f56_11e9_8538_98e7f4854936row0_col14\" class=\"data row0 col14\" >-0.0990469</td>\n",
       "            </tr>\n",
       "            <tr>\n",
       "                        <th id=\"T_256cf5d4_3f56_11e9_8538_98e7f4854936level0_row1\" class=\"row_heading level0 row1\" >region</th>\n",
       "                        <td id=\"T_256cf5d4_3f56_11e9_8538_98e7f4854936row1_col0\" class=\"data row1 col0\" >-0.0205831</td>\n",
       "                        <td id=\"T_256cf5d4_3f56_11e9_8538_98e7f4854936row1_col1\" class=\"data row1 col1\" >1</td>\n",
       "                        <td id=\"T_256cf5d4_3f56_11e9_8538_98e7f4854936row1_col2\" class=\"data row1 col2\" >0.00107494</td>\n",
       "                        <td id=\"T_256cf5d4_3f56_11e9_8538_98e7f4854936row1_col3\" class=\"data row1 col3\" >-0.0197199</td>\n",
       "                        <td id=\"T_256cf5d4_3f56_11e9_8538_98e7f4854936row1_col4\" class=\"data row1 col4\" >-0.000909407</td>\n",
       "                        <td id=\"T_256cf5d4_3f56_11e9_8538_98e7f4854936row1_col5\" class=\"data row1 col5\" >-0.00412443</td>\n",
       "                        <td id=\"T_256cf5d4_3f56_11e9_8538_98e7f4854936row1_col6\" class=\"data row1 col6\" >-0.0888654</td>\n",
       "                        <td id=\"T_256cf5d4_3f56_11e9_8538_98e7f4854936row1_col7\" class=\"data row1 col7\" >-0.00596223</td>\n",
       "                        <td id=\"T_256cf5d4_3f56_11e9_8538_98e7f4854936row1_col8\" class=\"data row1 col8\" >-0.058905</td>\n",
       "                        <td id=\"T_256cf5d4_3f56_11e9_8538_98e7f4854936row1_col9\" class=\"data row1 col9\" >-0.00767986</td>\n",
       "                        <td id=\"T_256cf5d4_3f56_11e9_8538_98e7f4854936row1_col10\" class=\"data row1 col10\" >0.000300887</td>\n",
       "                        <td id=\"T_256cf5d4_3f56_11e9_8538_98e7f4854936row1_col11\" class=\"data row1 col11\" >0.0236155</td>\n",
       "                        <td id=\"T_256cf5d4_3f56_11e9_8538_98e7f4854936row1_col12\" class=\"data row1 col12\" >0.00882962</td>\n",
       "                        <td id=\"T_256cf5d4_3f56_11e9_8538_98e7f4854936row1_col13\" class=\"data row1 col13\" >-0.073732</td>\n",
       "                        <td id=\"T_256cf5d4_3f56_11e9_8538_98e7f4854936row1_col14\" class=\"data row1 col14\" >0.00537208</td>\n",
       "            </tr>\n",
       "            <tr>\n",
       "                        <th id=\"T_256cf5d4_3f56_11e9_8538_98e7f4854936level0_row2\" class=\"row_heading level0 row2\" >education</th>\n",
       "                        <td id=\"T_256cf5d4_3f56_11e9_8538_98e7f4854936row2_col0\" class=\"data row2 col0\" >0.0525199</td>\n",
       "                        <td id=\"T_256cf5d4_3f56_11e9_8538_98e7f4854936row2_col1\" class=\"data row2 col1\" >0.00107494</td>\n",
       "                        <td id=\"T_256cf5d4_3f56_11e9_8538_98e7f4854936row2_col2\" class=\"data row2 col2\" >1</td>\n",
       "                        <td id=\"T_256cf5d4_3f56_11e9_8538_98e7f4854936row2_col3\" class=\"data row2 col3\" >0.0243224</td>\n",
       "                        <td id=\"T_256cf5d4_3f56_11e9_8538_98e7f4854936row2_col4\" class=\"data row2 col4\" >-0.00550175</td>\n",
       "                        <td id=\"T_256cf5d4_3f56_11e9_8538_98e7f4854936row2_col5\" class=\"data row2 col5\" >-0.0341874</td>\n",
       "                        <td id=\"T_256cf5d4_3f56_11e9_8538_98e7f4854936row2_col6\" class=\"data row2 col6\" >0.389023</td>\n",
       "                        <td id=\"T_256cf5d4_3f56_11e9_8538_98e7f4854936row2_col7\" class=\"data row2 col7\" >0.026813</td>\n",
       "                        <td id=\"T_256cf5d4_3f56_11e9_8538_98e7f4854936row2_col8\" class=\"data row2 col8\" >0.266967</td>\n",
       "                        <td id=\"T_256cf5d4_3f56_11e9_8538_98e7f4854936row2_col9\" class=\"data row2 col9\" >0.00669485</td>\n",
       "                        <td id=\"T_256cf5d4_3f56_11e9_8538_98e7f4854936row2_col10\" class=\"data row2 col10\" >0.00047081</td>\n",
       "                        <td id=\"T_256cf5d4_3f56_11e9_8538_98e7f4854936row2_col11\" class=\"data row2 col11\" >0.0256443</td>\n",
       "                        <td id=\"T_256cf5d4_3f56_11e9_8538_98e7f4854936row2_col12\" class=\"data row2 col12\" >0.0280347</td>\n",
       "                        <td id=\"T_256cf5d4_3f56_11e9_8538_98e7f4854936row2_col13\" class=\"data row2 col13\" >0.316109</td>\n",
       "                        <td id=\"T_256cf5d4_3f56_11e9_8538_98e7f4854936row2_col14\" class=\"data row2 col14\" >-0.0223498</td>\n",
       "            </tr>\n",
       "            <tr>\n",
       "                        <th id=\"T_256cf5d4_3f56_11e9_8538_98e7f4854936level0_row3\" class=\"row_heading level0 row3\" >gender</th>\n",
       "                        <td id=\"T_256cf5d4_3f56_11e9_8538_98e7f4854936row3_col0\" class=\"data row3 col0\" >0.0300789</td>\n",
       "                        <td id=\"T_256cf5d4_3f56_11e9_8538_98e7f4854936row3_col1\" class=\"data row3 col1\" >-0.0197199</td>\n",
       "                        <td id=\"T_256cf5d4_3f56_11e9_8538_98e7f4854936row3_col2\" class=\"data row3 col2\" >0.0243224</td>\n",
       "                        <td id=\"T_256cf5d4_3f56_11e9_8538_98e7f4854936row3_col3\" class=\"data row3 col3\" >1</td>\n",
       "                        <td id=\"T_256cf5d4_3f56_11e9_8538_98e7f4854936row3_col4\" class=\"data row3 col4\" >-0.0065175</td>\n",
       "                        <td id=\"T_256cf5d4_3f56_11e9_8538_98e7f4854936row3_col5\" class=\"data row3 col5\" >-0.0849659</td>\n",
       "                        <td id=\"T_256cf5d4_3f56_11e9_8538_98e7f4854936row3_col6\" class=\"data row3 col6\" >0.0162814</td>\n",
       "                        <td id=\"T_256cf5d4_3f56_11e9_8538_98e7f4854936row3_col7\" class=\"data row3 col7\" >0.0239546</td>\n",
       "                        <td id=\"T_256cf5d4_3f56_11e9_8538_98e7f4854936row3_col8\" class=\"data row3 col8\" >0.0196625</td>\n",
       "                        <td id=\"T_256cf5d4_3f56_11e9_8538_98e7f4854936row3_col9\" class=\"data row3 col9\" >0.0372766</td>\n",
       "                        <td id=\"T_256cf5d4_3f56_11e9_8538_98e7f4854936row3_col10\" class=\"data row3 col10\" >-0.00239503</td>\n",
       "                        <td id=\"T_256cf5d4_3f56_11e9_8538_98e7f4854936row3_col11\" class=\"data row3 col11\" >0.0245147</td>\n",
       "                        <td id=\"T_256cf5d4_3f56_11e9_8538_98e7f4854936row3_col12\" class=\"data row3 col12\" >0.0110839</td>\n",
       "                        <td id=\"T_256cf5d4_3f56_11e9_8538_98e7f4854936row3_col13\" class=\"data row3 col13\" >0.00701238</td>\n",
       "                        <td id=\"T_256cf5d4_3f56_11e9_8538_98e7f4854936row3_col14\" class=\"data row3 col14\" >-0.0666518</td>\n",
       "            </tr>\n",
       "            <tr>\n",
       "                        <th id=\"T_256cf5d4_3f56_11e9_8538_98e7f4854936level0_row4\" class=\"row_heading level0 row4\" >recruitment_channel</th>\n",
       "                        <td id=\"T_256cf5d4_3f56_11e9_8538_98e7f4854936row4_col0\" class=\"data row4 col0\" >0.00470539</td>\n",
       "                        <td id=\"T_256cf5d4_3f56_11e9_8538_98e7f4854936row4_col1\" class=\"data row4 col1\" >-0.000909407</td>\n",
       "                        <td id=\"T_256cf5d4_3f56_11e9_8538_98e7f4854936row4_col2\" class=\"data row4 col2\" >-0.00550175</td>\n",
       "                        <td id=\"T_256cf5d4_3f56_11e9_8538_98e7f4854936row4_col3\" class=\"data row4 col3\" >-0.0065175</td>\n",
       "                        <td id=\"T_256cf5d4_3f56_11e9_8538_98e7f4854936row4_col4\" class=\"data row4 col4\" >1</td>\n",
       "                        <td id=\"T_256cf5d4_3f56_11e9_8538_98e7f4854936row4_col5\" class=\"data row4 col5\" >-0.0132103</td>\n",
       "                        <td id=\"T_256cf5d4_3f56_11e9_8538_98e7f4854936row4_col6\" class=\"data row4 col6\" >-0.0111946</td>\n",
       "                        <td id=\"T_256cf5d4_3f56_11e9_8538_98e7f4854936row4_col7\" class=\"data row4 col7\" >0.00582217</td>\n",
       "                        <td id=\"T_256cf5d4_3f56_11e9_8538_98e7f4854936row4_col8\" class=\"data row4 col8\" >-0.00276957</td>\n",
       "                        <td id=\"T_256cf5d4_3f56_11e9_8538_98e7f4854936row4_col9\" class=\"data row4 col9\" >-0.000311434</td>\n",
       "                        <td id=\"T_256cf5d4_3f56_11e9_8538_98e7f4854936row4_col10\" class=\"data row4 col10\" >-0.0054773</td>\n",
       "                        <td id=\"T_256cf5d4_3f56_11e9_8538_98e7f4854936row4_col11\" class=\"data row4 col11\" >-0.00255659</td>\n",
       "                        <td id=\"T_256cf5d4_3f56_11e9_8538_98e7f4854936row4_col12\" class=\"data row4 col12\" >0.00229637</td>\n",
       "                        <td id=\"T_256cf5d4_3f56_11e9_8538_98e7f4854936row4_col13\" class=\"data row4 col13\" >-0.0126943</td>\n",
       "                        <td id=\"T_256cf5d4_3f56_11e9_8538_98e7f4854936row4_col14\" class=\"data row4 col14\" >-0.0125065</td>\n",
       "            </tr>\n",
       "            <tr>\n",
       "                        <th id=\"T_256cf5d4_3f56_11e9_8538_98e7f4854936level0_row5\" class=\"row_heading level0 row5\" >no_of_trainings</th>\n",
       "                        <td id=\"T_256cf5d4_3f56_11e9_8538_98e7f4854936row5_col0\" class=\"data row5 col0\" >0.0141917</td>\n",
       "                        <td id=\"T_256cf5d4_3f56_11e9_8538_98e7f4854936row5_col1\" class=\"data row5 col1\" >-0.00412443</td>\n",
       "                        <td id=\"T_256cf5d4_3f56_11e9_8538_98e7f4854936row5_col2\" class=\"data row5 col2\" >-0.0341874</td>\n",
       "                        <td id=\"T_256cf5d4_3f56_11e9_8538_98e7f4854936row5_col3\" class=\"data row5 col3\" >-0.0849659</td>\n",
       "                        <td id=\"T_256cf5d4_3f56_11e9_8538_98e7f4854936row5_col4\" class=\"data row5 col4\" >-0.0132103</td>\n",
       "                        <td id=\"T_256cf5d4_3f56_11e9_8538_98e7f4854936row5_col5\" class=\"data row5 col5\" >1</td>\n",
       "                        <td id=\"T_256cf5d4_3f56_11e9_8538_98e7f4854936row5_col6\" class=\"data row5 col6\" >-0.0832286</td>\n",
       "                        <td id=\"T_256cf5d4_3f56_11e9_8538_98e7f4854936row5_col7\" class=\"data row5 col7\" >-0.0614928</td>\n",
       "                        <td id=\"T_256cf5d4_3f56_11e9_8538_98e7f4854936row5_col8\" class=\"data row5 col8\" >-0.0574872</td>\n",
       "                        <td id=\"T_256cf5d4_3f56_11e9_8538_98e7f4854936row5_col9\" class=\"data row5 col9\" >-0.0457443</td>\n",
       "                        <td id=\"T_256cf5d4_3f56_11e9_8538_98e7f4854936row5_col10\" class=\"data row5 col10\" >-0.00729018</td>\n",
       "                        <td id=\"T_256cf5d4_3f56_11e9_8538_98e7f4854936row5_col11\" class=\"data row5 col11\" >0.0415526</td>\n",
       "                        <td id=\"T_256cf5d4_3f56_11e9_8538_98e7f4854936row5_col12\" class=\"data row5 col12\" >-0.0244231</td>\n",
       "                        <td id=\"T_256cf5d4_3f56_11e9_8538_98e7f4854936row5_col13\" class=\"data row5 col13\" >-0.067357</td>\n",
       "                        <td id=\"T_256cf5d4_3f56_11e9_8538_98e7f4854936row5_col14\" class=\"data row5 col14\" >0.897948</td>\n",
       "            </tr>\n",
       "            <tr>\n",
       "                        <th id=\"T_256cf5d4_3f56_11e9_8538_98e7f4854936level0_row6\" class=\"row_heading level0 row6\" >age</th>\n",
       "                        <td id=\"T_256cf5d4_3f56_11e9_8538_98e7f4854936row6_col0\" class=\"data row6 col0\" >0.0791926</td>\n",
       "                        <td id=\"T_256cf5d4_3f56_11e9_8538_98e7f4854936row6_col1\" class=\"data row6 col1\" >-0.0888654</td>\n",
       "                        <td id=\"T_256cf5d4_3f56_11e9_8538_98e7f4854936row6_col2\" class=\"data row6 col2\" >0.389023</td>\n",
       "                        <td id=\"T_256cf5d4_3f56_11e9_8538_98e7f4854936row6_col3\" class=\"data row6 col3\" >0.0162814</td>\n",
       "                        <td id=\"T_256cf5d4_3f56_11e9_8538_98e7f4854936row6_col4\" class=\"data row6 col4\" >-0.0111946</td>\n",
       "                        <td id=\"T_256cf5d4_3f56_11e9_8538_98e7f4854936row6_col5\" class=\"data row6 col5\" >-0.0832286</td>\n",
       "                        <td id=\"T_256cf5d4_3f56_11e9_8538_98e7f4854936row6_col6\" class=\"data row6 col6\" >1</td>\n",
       "                        <td id=\"T_256cf5d4_3f56_11e9_8538_98e7f4854936row6_col7\" class=\"data row6 col7\" >0.0267774</td>\n",
       "                        <td id=\"T_256cf5d4_3f56_11e9_8538_98e7f4854936row6_col8\" class=\"data row6 col8\" >0.657203</td>\n",
       "                        <td id=\"T_256cf5d4_3f56_11e9_8538_98e7f4854936row6_col9\" class=\"data row6 col9\" >-0.0255882</td>\n",
       "                        <td id=\"T_256cf5d4_3f56_11e9_8538_98e7f4854936row6_col10\" class=\"data row6 col10\" >-0.0081694</td>\n",
       "                        <td id=\"T_256cf5d4_3f56_11e9_8538_98e7f4854936row6_col11\" class=\"data row6 col11\" >-0.048379</td>\n",
       "                        <td id=\"T_256cf5d4_3f56_11e9_8538_98e7f4854936row6_col12\" class=\"data row6 col12\" >-0.0171674</td>\n",
       "                        <td id=\"T_256cf5d4_3f56_11e9_8538_98e7f4854936row6_col13\" class=\"data row6 col13\" >0.833844</td>\n",
       "                        <td id=\"T_256cf5d4_3f56_11e9_8538_98e7f4854936row6_col14\" class=\"data row6 col14\" >-0.0928871</td>\n",
       "            </tr>\n",
       "            <tr>\n",
       "                        <th id=\"T_256cf5d4_3f56_11e9_8538_98e7f4854936level0_row7\" class=\"row_heading level0 row7\" >previous_year_rating</th>\n",
       "                        <td id=\"T_256cf5d4_3f56_11e9_8538_98e7f4854936row7_col0\" class=\"data row7 col0\" >-0.13557</td>\n",
       "                        <td id=\"T_256cf5d4_3f56_11e9_8538_98e7f4854936row7_col1\" class=\"data row7 col1\" >-0.00596223</td>\n",
       "                        <td id=\"T_256cf5d4_3f56_11e9_8538_98e7f4854936row7_col2\" class=\"data row7 col2\" >0.026813</td>\n",
       "                        <td id=\"T_256cf5d4_3f56_11e9_8538_98e7f4854936row7_col3\" class=\"data row7 col3\" >0.0239546</td>\n",
       "                        <td id=\"T_256cf5d4_3f56_11e9_8538_98e7f4854936row7_col4\" class=\"data row7 col4\" >0.00582217</td>\n",
       "                        <td id=\"T_256cf5d4_3f56_11e9_8538_98e7f4854936row7_col5\" class=\"data row7 col5\" >-0.0614928</td>\n",
       "                        <td id=\"T_256cf5d4_3f56_11e9_8538_98e7f4854936row7_col6\" class=\"data row7 col6\" >0.0267774</td>\n",
       "                        <td id=\"T_256cf5d4_3f56_11e9_8538_98e7f4854936row7_col7\" class=\"data row7 col7\" >1</td>\n",
       "                        <td id=\"T_256cf5d4_3f56_11e9_8538_98e7f4854936row7_col8\" class=\"data row7 col8\" >0.0234658</td>\n",
       "                        <td id=\"T_256cf5d4_3f56_11e9_8538_98e7f4854936row7_col9\" class=\"data row7 col9\" >0.337316</td>\n",
       "                        <td id=\"T_256cf5d4_3f56_11e9_8538_98e7f4854936row7_col10\" class=\"data row7 col10\" >0.0265749</td>\n",
       "                        <td id=\"T_256cf5d4_3f56_11e9_8538_98e7f4854936row7_col11\" class=\"data row7 col11\" >0.0719751</td>\n",
       "                        <td id=\"T_256cf5d4_3f56_11e9_8538_98e7f4854936row7_col12\" class=\"data row7 col12\" >0.153219</td>\n",
       "                        <td id=\"T_256cf5d4_3f56_11e9_8538_98e7f4854936row7_col13\" class=\"data row7 col13\" >0.0180309</td>\n",
       "                        <td id=\"T_256cf5d4_3f56_11e9_8538_98e7f4854936row7_col14\" class=\"data row7 col14\" >-0.0111948</td>\n",
       "            </tr>\n",
       "            <tr>\n",
       "                        <th id=\"T_256cf5d4_3f56_11e9_8538_98e7f4854936level0_row8\" class=\"row_heading level0 row8\" >length_of_service</th>\n",
       "                        <td id=\"T_256cf5d4_3f56_11e9_8538_98e7f4854936row8_col0\" class=\"data row8 col0\" >0.0590711</td>\n",
       "                        <td id=\"T_256cf5d4_3f56_11e9_8538_98e7f4854936row8_col1\" class=\"data row8 col1\" >-0.058905</td>\n",
       "                        <td id=\"T_256cf5d4_3f56_11e9_8538_98e7f4854936row8_col2\" class=\"data row8 col2\" >0.266967</td>\n",
       "                        <td id=\"T_256cf5d4_3f56_11e9_8538_98e7f4854936row8_col3\" class=\"data row8 col3\" >0.0196625</td>\n",
       "                        <td id=\"T_256cf5d4_3f56_11e9_8538_98e7f4854936row8_col4\" class=\"data row8 col4\" >-0.00276957</td>\n",
       "                        <td id=\"T_256cf5d4_3f56_11e9_8538_98e7f4854936row8_col5\" class=\"data row8 col5\" >-0.0574872</td>\n",
       "                        <td id=\"T_256cf5d4_3f56_11e9_8538_98e7f4854936row8_col6\" class=\"data row8 col6\" >0.657203</td>\n",
       "                        <td id=\"T_256cf5d4_3f56_11e9_8538_98e7f4854936row8_col7\" class=\"data row8 col7\" >0.0234658</td>\n",
       "                        <td id=\"T_256cf5d4_3f56_11e9_8538_98e7f4854936row8_col8\" class=\"data row8 col8\" >1</td>\n",
       "                        <td id=\"T_256cf5d4_3f56_11e9_8538_98e7f4854936row8_col9\" class=\"data row8 col9\" >-0.0777347</td>\n",
       "                        <td id=\"T_256cf5d4_3f56_11e9_8538_98e7f4854936row8_col10\" class=\"data row8 col10\" >-0.0399431</td>\n",
       "                        <td id=\"T_256cf5d4_3f56_11e9_8538_98e7f4854936row8_col11\" class=\"data row8 col11\" >-0.0380792</td>\n",
       "                        <td id=\"T_256cf5d4_3f56_11e9_8538_98e7f4854936row8_col12\" class=\"data row8 col12\" >-0.0106946</td>\n",
       "                        <td id=\"T_256cf5d4_3f56_11e9_8538_98e7f4854936row8_col13\" class=\"data row8 col13\" >0.131956</td>\n",
       "                        <td id=\"T_256cf5d4_3f56_11e9_8538_98e7f4854936row8_col14\" class=\"data row8 col14\" >-0.0668001</td>\n",
       "            </tr>\n",
       "            <tr>\n",
       "                        <th id=\"T_256cf5d4_3f56_11e9_8538_98e7f4854936level0_row9\" class=\"row_heading level0 row9\" >KPIs_met >80%</th>\n",
       "                        <td id=\"T_256cf5d4_3f56_11e9_8538_98e7f4854936row9_col0\" class=\"data row9 col0\" >-0.0882498</td>\n",
       "                        <td id=\"T_256cf5d4_3f56_11e9_8538_98e7f4854936row9_col1\" class=\"data row9 col1\" >-0.00767986</td>\n",
       "                        <td id=\"T_256cf5d4_3f56_11e9_8538_98e7f4854936row9_col2\" class=\"data row9 col2\" >0.00669485</td>\n",
       "                        <td id=\"T_256cf5d4_3f56_11e9_8538_98e7f4854936row9_col3\" class=\"data row9 col3\" >0.0372766</td>\n",
       "                        <td id=\"T_256cf5d4_3f56_11e9_8538_98e7f4854936row9_col4\" class=\"data row9 col4\" >-0.000311434</td>\n",
       "                        <td id=\"T_256cf5d4_3f56_11e9_8538_98e7f4854936row9_col5\" class=\"data row9 col5\" >-0.0457443</td>\n",
       "                        <td id=\"T_256cf5d4_3f56_11e9_8538_98e7f4854936row9_col6\" class=\"data row9 col6\" >-0.0255882</td>\n",
       "                        <td id=\"T_256cf5d4_3f56_11e9_8538_98e7f4854936row9_col7\" class=\"data row9 col7\" >0.337316</td>\n",
       "                        <td id=\"T_256cf5d4_3f56_11e9_8538_98e7f4854936row9_col8\" class=\"data row9 col8\" >-0.0777347</td>\n",
       "                        <td id=\"T_256cf5d4_3f56_11e9_8538_98e7f4854936row9_col9\" class=\"data row9 col9\" >1</td>\n",
       "                        <td id=\"T_256cf5d4_3f56_11e9_8538_98e7f4854936row9_col10\" class=\"data row9 col10\" >0.0970059</td>\n",
       "                        <td id=\"T_256cf5d4_3f56_11e9_8538_98e7f4854936row9_col11\" class=\"data row9 col11\" >0.0784001</td>\n",
       "                        <td id=\"T_256cf5d4_3f56_11e9_8538_98e7f4854936row9_col12\" class=\"data row9 col12\" >0.221599</td>\n",
       "                        <td id=\"T_256cf5d4_3f56_11e9_8538_98e7f4854936row9_col13\" class=\"data row9 col13\" >0.0232783</td>\n",
       "                        <td id=\"T_256cf5d4_3f56_11e9_8538_98e7f4854936row9_col14\" class=\"data row9 col14\" >-0.00305845</td>\n",
       "            </tr>\n",
       "            <tr>\n",
       "                        <th id=\"T_256cf5d4_3f56_11e9_8538_98e7f4854936level0_row10\" class=\"row_heading level0 row10\" >awards_won?</th>\n",
       "                        <td id=\"T_256cf5d4_3f56_11e9_8538_98e7f4854936row10_col0\" class=\"data row10 col0\" >-0.00214735</td>\n",
       "                        <td id=\"T_256cf5d4_3f56_11e9_8538_98e7f4854936row10_col1\" class=\"data row10 col1\" >0.000300887</td>\n",
       "                        <td id=\"T_256cf5d4_3f56_11e9_8538_98e7f4854936row10_col2\" class=\"data row10 col2\" >0.00047081</td>\n",
       "                        <td id=\"T_256cf5d4_3f56_11e9_8538_98e7f4854936row10_col3\" class=\"data row10 col3\" >-0.00239503</td>\n",
       "                        <td id=\"T_256cf5d4_3f56_11e9_8538_98e7f4854936row10_col4\" class=\"data row10 col4\" >-0.0054773</td>\n",
       "                        <td id=\"T_256cf5d4_3f56_11e9_8538_98e7f4854936row10_col5\" class=\"data row10 col5\" >-0.00729018</td>\n",
       "                        <td id=\"T_256cf5d4_3f56_11e9_8538_98e7f4854936row10_col6\" class=\"data row10 col6\" >-0.0081694</td>\n",
       "                        <td id=\"T_256cf5d4_3f56_11e9_8538_98e7f4854936row10_col7\" class=\"data row10 col7\" >0.0265749</td>\n",
       "                        <td id=\"T_256cf5d4_3f56_11e9_8538_98e7f4854936row10_col8\" class=\"data row10 col8\" >-0.0399431</td>\n",
       "                        <td id=\"T_256cf5d4_3f56_11e9_8538_98e7f4854936row10_col9\" class=\"data row10 col9\" >0.0970059</td>\n",
       "                        <td id=\"T_256cf5d4_3f56_11e9_8538_98e7f4854936row10_col10\" class=\"data row10 col10\" >1</td>\n",
       "                        <td id=\"T_256cf5d4_3f56_11e9_8538_98e7f4854936row10_col11\" class=\"data row10 col11\" >0.0721656</td>\n",
       "                        <td id=\"T_256cf5d4_3f56_11e9_8538_98e7f4854936row10_col12\" class=\"data row10 col12\" >0.195862</td>\n",
       "                        <td id=\"T_256cf5d4_3f56_11e9_8538_98e7f4854936row10_col13\" class=\"data row10 col13\" >0.0185092</td>\n",
       "                        <td id=\"T_256cf5d4_3f56_11e9_8538_98e7f4854936row10_col14\" class=\"data row10 col14\" >0.0195773</td>\n",
       "            </tr>\n",
       "            <tr>\n",
       "                        <th id=\"T_256cf5d4_3f56_11e9_8538_98e7f4854936level0_row11\" class=\"row_heading level0 row11\" >avg_training_score</th>\n",
       "                        <td id=\"T_256cf5d4_3f56_11e9_8538_98e7f4854936row11_col0\" class=\"data row11 col0\" >-0.251675</td>\n",
       "                        <td id=\"T_256cf5d4_3f56_11e9_8538_98e7f4854936row11_col1\" class=\"data row11 col1\" >0.0236155</td>\n",
       "                        <td id=\"T_256cf5d4_3f56_11e9_8538_98e7f4854936row11_col2\" class=\"data row11 col2\" >0.0256443</td>\n",
       "                        <td id=\"T_256cf5d4_3f56_11e9_8538_98e7f4854936row11_col3\" class=\"data row11 col3\" >0.0245147</td>\n",
       "                        <td id=\"T_256cf5d4_3f56_11e9_8538_98e7f4854936row11_col4\" class=\"data row11 col4\" >-0.00255659</td>\n",
       "                        <td id=\"T_256cf5d4_3f56_11e9_8538_98e7f4854936row11_col5\" class=\"data row11 col5\" >0.0415526</td>\n",
       "                        <td id=\"T_256cf5d4_3f56_11e9_8538_98e7f4854936row11_col6\" class=\"data row11 col6\" >-0.048379</td>\n",
       "                        <td id=\"T_256cf5d4_3f56_11e9_8538_98e7f4854936row11_col7\" class=\"data row11 col7\" >0.0719751</td>\n",
       "                        <td id=\"T_256cf5d4_3f56_11e9_8538_98e7f4854936row11_col8\" class=\"data row11 col8\" >-0.0380792</td>\n",
       "                        <td id=\"T_256cf5d4_3f56_11e9_8538_98e7f4854936row11_col9\" class=\"data row11 col9\" >0.0784001</td>\n",
       "                        <td id=\"T_256cf5d4_3f56_11e9_8538_98e7f4854936row11_col10\" class=\"data row11 col10\" >0.0721656</td>\n",
       "                        <td id=\"T_256cf5d4_3f56_11e9_8538_98e7f4854936row11_col11\" class=\"data row11 col11\" >1</td>\n",
       "                        <td id=\"T_256cf5d4_3f56_11e9_8538_98e7f4854936row11_col12\" class=\"data row11 col12\" >0.181205</td>\n",
       "                        <td id=\"T_256cf5d4_3f56_11e9_8538_98e7f4854936row11_col13\" class=\"data row11 col13\" >-0.035738</td>\n",
       "                        <td id=\"T_256cf5d4_3f56_11e9_8538_98e7f4854936row11_col14\" class=\"data row11 col14\" >0.433945</td>\n",
       "            </tr>\n",
       "            <tr>\n",
       "                        <th id=\"T_256cf5d4_3f56_11e9_8538_98e7f4854936level0_row12\" class=\"row_heading level0 row12\" >is_promoted</th>\n",
       "                        <td id=\"T_256cf5d4_3f56_11e9_8538_98e7f4854936row12_col0\" class=\"data row12 col0\" >0.000137632</td>\n",
       "                        <td id=\"T_256cf5d4_3f56_11e9_8538_98e7f4854936row12_col1\" class=\"data row12 col1\" >0.00882962</td>\n",
       "                        <td id=\"T_256cf5d4_3f56_11e9_8538_98e7f4854936row12_col2\" class=\"data row12 col2\" >0.0280347</td>\n",
       "                        <td id=\"T_256cf5d4_3f56_11e9_8538_98e7f4854936row12_col3\" class=\"data row12 col3\" >0.0110839</td>\n",
       "                        <td id=\"T_256cf5d4_3f56_11e9_8538_98e7f4854936row12_col4\" class=\"data row12 col4\" >0.00229637</td>\n",
       "                        <td id=\"T_256cf5d4_3f56_11e9_8538_98e7f4854936row12_col5\" class=\"data row12 col5\" >-0.0244231</td>\n",
       "                        <td id=\"T_256cf5d4_3f56_11e9_8538_98e7f4854936row12_col6\" class=\"data row12 col6\" >-0.0171674</td>\n",
       "                        <td id=\"T_256cf5d4_3f56_11e9_8538_98e7f4854936row12_col7\" class=\"data row12 col7\" >0.153219</td>\n",
       "                        <td id=\"T_256cf5d4_3f56_11e9_8538_98e7f4854936row12_col8\" class=\"data row12 col8\" >-0.0106946</td>\n",
       "                        <td id=\"T_256cf5d4_3f56_11e9_8538_98e7f4854936row12_col9\" class=\"data row12 col9\" >0.221599</td>\n",
       "                        <td id=\"T_256cf5d4_3f56_11e9_8538_98e7f4854936row12_col10\" class=\"data row12 col10\" >0.195862</td>\n",
       "                        <td id=\"T_256cf5d4_3f56_11e9_8538_98e7f4854936row12_col11\" class=\"data row12 col11\" >0.181205</td>\n",
       "                        <td id=\"T_256cf5d4_3f56_11e9_8538_98e7f4854936row12_col12\" class=\"data row12 col12\" >1</td>\n",
       "                        <td id=\"T_256cf5d4_3f56_11e9_8538_98e7f4854936row12_col13\" class=\"data row12 col13\" >-0.0147455</td>\n",
       "                        <td id=\"T_256cf5d4_3f56_11e9_8538_98e7f4854936row12_col14\" class=\"data row12 col14\" >0.0483424</td>\n",
       "            </tr>\n",
       "            <tr>\n",
       "                        <th id=\"T_256cf5d4_3f56_11e9_8538_98e7f4854936level0_row13\" class=\"row_heading level0 row13\" >joining_age</th>\n",
       "                        <td id=\"T_256cf5d4_3f56_11e9_8538_98e7f4854936row13_col0\" class=\"data row13 col0\" >0.060889</td>\n",
       "                        <td id=\"T_256cf5d4_3f56_11e9_8538_98e7f4854936row13_col1\" class=\"data row13 col1\" >-0.073732</td>\n",
       "                        <td id=\"T_256cf5d4_3f56_11e9_8538_98e7f4854936row13_col2\" class=\"data row13 col2\" >0.316109</td>\n",
       "                        <td id=\"T_256cf5d4_3f56_11e9_8538_98e7f4854936row13_col3\" class=\"data row13 col3\" >0.00701238</td>\n",
       "                        <td id=\"T_256cf5d4_3f56_11e9_8538_98e7f4854936row13_col4\" class=\"data row13 col4\" >-0.0126943</td>\n",
       "                        <td id=\"T_256cf5d4_3f56_11e9_8538_98e7f4854936row13_col5\" class=\"data row13 col5\" >-0.067357</td>\n",
       "                        <td id=\"T_256cf5d4_3f56_11e9_8538_98e7f4854936row13_col6\" class=\"data row13 col6\" >0.833844</td>\n",
       "                        <td id=\"T_256cf5d4_3f56_11e9_8538_98e7f4854936row13_col7\" class=\"data row13 col7\" >0.0180309</td>\n",
       "                        <td id=\"T_256cf5d4_3f56_11e9_8538_98e7f4854936row13_col8\" class=\"data row13 col8\" >0.131956</td>\n",
       "                        <td id=\"T_256cf5d4_3f56_11e9_8538_98e7f4854936row13_col9\" class=\"data row13 col9\" >0.0232783</td>\n",
       "                        <td id=\"T_256cf5d4_3f56_11e9_8538_98e7f4854936row13_col10\" class=\"data row13 col10\" >0.0185092</td>\n",
       "                        <td id=\"T_256cf5d4_3f56_11e9_8538_98e7f4854936row13_col11\" class=\"data row13 col11\" >-0.035738</td>\n",
       "                        <td id=\"T_256cf5d4_3f56_11e9_8538_98e7f4854936row13_col12\" class=\"data row13 col12\" >-0.0147455</td>\n",
       "                        <td id=\"T_256cf5d4_3f56_11e9_8538_98e7f4854936row13_col13\" class=\"data row13 col13\" >1</td>\n",
       "                        <td id=\"T_256cf5d4_3f56_11e9_8538_98e7f4854936row13_col14\" class=\"data row13 col14\" >-0.073239</td>\n",
       "            </tr>\n",
       "            <tr>\n",
       "                        <th id=\"T_256cf5d4_3f56_11e9_8538_98e7f4854936level0_row14\" class=\"row_heading level0 row14\" >training_hours</th>\n",
       "                        <td id=\"T_256cf5d4_3f56_11e9_8538_98e7f4854936row14_col0\" class=\"data row14 col0\" >-0.0990469</td>\n",
       "                        <td id=\"T_256cf5d4_3f56_11e9_8538_98e7f4854936row14_col1\" class=\"data row14 col1\" >0.00537208</td>\n",
       "                        <td id=\"T_256cf5d4_3f56_11e9_8538_98e7f4854936row14_col2\" class=\"data row14 col2\" >-0.0223498</td>\n",
       "                        <td id=\"T_256cf5d4_3f56_11e9_8538_98e7f4854936row14_col3\" class=\"data row14 col3\" >-0.0666518</td>\n",
       "                        <td id=\"T_256cf5d4_3f56_11e9_8538_98e7f4854936row14_col4\" class=\"data row14 col4\" >-0.0125065</td>\n",
       "                        <td id=\"T_256cf5d4_3f56_11e9_8538_98e7f4854936row14_col5\" class=\"data row14 col5\" >0.897948</td>\n",
       "                        <td id=\"T_256cf5d4_3f56_11e9_8538_98e7f4854936row14_col6\" class=\"data row14 col6\" >-0.0928871</td>\n",
       "                        <td id=\"T_256cf5d4_3f56_11e9_8538_98e7f4854936row14_col7\" class=\"data row14 col7\" >-0.0111948</td>\n",
       "                        <td id=\"T_256cf5d4_3f56_11e9_8538_98e7f4854936row14_col8\" class=\"data row14 col8\" >-0.0668001</td>\n",
       "                        <td id=\"T_256cf5d4_3f56_11e9_8538_98e7f4854936row14_col9\" class=\"data row14 col9\" >-0.00305845</td>\n",
       "                        <td id=\"T_256cf5d4_3f56_11e9_8538_98e7f4854936row14_col10\" class=\"data row14 col10\" >0.0195773</td>\n",
       "                        <td id=\"T_256cf5d4_3f56_11e9_8538_98e7f4854936row14_col11\" class=\"data row14 col11\" >0.433945</td>\n",
       "                        <td id=\"T_256cf5d4_3f56_11e9_8538_98e7f4854936row14_col12\" class=\"data row14 col12\" >0.0483424</td>\n",
       "                        <td id=\"T_256cf5d4_3f56_11e9_8538_98e7f4854936row14_col13\" class=\"data row14 col13\" >-0.073239</td>\n",
       "                        <td id=\"T_256cf5d4_3f56_11e9_8538_98e7f4854936row14_col14\" class=\"data row14 col14\" >1</td>\n",
       "            </tr>\n",
       "    </tbody></table>"
      ],
      "text/plain": [
       "<pandas.io.formats.style.Styler at 0x1f6279f4630>"
      ]
     },
     "execution_count": 43,
     "metadata": {},
     "output_type": "execute_result"
    }
   ],
   "source": [
    "corr = train_new.corr()\n",
    "corr.style.background_gradient()"
   ]
  },
  {
   "cell_type": "code",
   "execution_count": null,
   "metadata": {},
   "outputs": [],
   "source": []
  },
  {
   "cell_type": "markdown",
   "metadata": {},
   "source": [
    "Observing the correlation matrix of the data we can see that\n",
    "\n",
    "1.education is inversely realted to promotion, ie highly educated people are least promoted as we have encoded it we have to change and reverse the logic as logically highly educated people should be promoted more.\n",
    "education_mapper = {\"Master's & above\":3, \"Bachelor's\":2,\"Below Secondary\":1}\n",
    "\n",
    "2.gender also affects the promotion as most of the males are promoted as compared to females.\n",
    "\n",
    "\n",
    "3.No. of trainings affects the chances of promotion as more number of trainings requred ,the employee can be assumed having low grasping power.\n",
    "\n",
    "\n",
    "4.Age realtion is negative, means older people have less chances of promotion which was observed from plots too.\n",
    "\n",
    "\n",
    "5.Previous years rating, awards won and KPI's met ?80% are employee's performance parameter and affects the promotion chances with positive corr coeff.\n",
    "\n",
    "\n",
    "6.joining age have negative corr while training hours have + corr."
   ]
  },
  {
   "cell_type": "markdown",
   "metadata": {},
   "source": [
    "# checking hypothesis"
   ]
  },
  {
   "cell_type": "code",
   "execution_count": 44,
   "metadata": {},
   "outputs": [
    {
     "data": {
      "text/html": [
       "<div>\n",
       "<style scoped>\n",
       "    .dataframe tbody tr th:only-of-type {\n",
       "        vertical-align: middle;\n",
       "    }\n",
       "\n",
       "    .dataframe tbody tr th {\n",
       "        vertical-align: top;\n",
       "    }\n",
       "\n",
       "    .dataframe thead th {\n",
       "        text-align: right;\n",
       "    }\n",
       "</style>\n",
       "<table border=\"1\" class=\"dataframe\">\n",
       "  <thead>\n",
       "    <tr style=\"text-align: right;\">\n",
       "      <th>is_promoted</th>\n",
       "      <th>0</th>\n",
       "      <th>1</th>\n",
       "      <th>All</th>\n",
       "    </tr>\n",
       "    <tr>\n",
       "      <th>education</th>\n",
       "      <th></th>\n",
       "      <th></th>\n",
       "      <th></th>\n",
       "    </tr>\n",
       "  </thead>\n",
       "  <tbody>\n",
       "    <tr>\n",
       "      <th>1</th>\n",
       "      <td>738</td>\n",
       "      <td>67</td>\n",
       "      <td>805</td>\n",
       "    </tr>\n",
       "    <tr>\n",
       "      <th>2</th>\n",
       "      <td>35938</td>\n",
       "      <td>3130</td>\n",
       "      <td>39068</td>\n",
       "    </tr>\n",
       "    <tr>\n",
       "      <th>3</th>\n",
       "      <td>13450</td>\n",
       "      <td>1471</td>\n",
       "      <td>14921</td>\n",
       "    </tr>\n",
       "    <tr>\n",
       "      <th>All</th>\n",
       "      <td>50126</td>\n",
       "      <td>4668</td>\n",
       "      <td>54794</td>\n",
       "    </tr>\n",
       "  </tbody>\n",
       "</table>\n",
       "</div>"
      ],
      "text/plain": [
       "is_promoted      0     1    All\n",
       "education                      \n",
       "1              738    67    805\n",
       "2            35938  3130  39068\n",
       "3            13450  1471  14921\n",
       "All          50126  4668  54794"
      ]
     },
     "execution_count": 44,
     "metadata": {},
     "output_type": "execute_result"
    }
   ],
   "source": [
    "pd.crosstab(train_new[\"education\"],train_new[\"is_promoted\"],margins=True)\n"
   ]
  },
  {
   "cell_type": "code",
   "execution_count": 45,
   "metadata": {},
   "outputs": [
    {
     "data": {
      "text/html": [
       "<div>\n",
       "<style scoped>\n",
       "    .dataframe tbody tr th:only-of-type {\n",
       "        vertical-align: middle;\n",
       "    }\n",
       "\n",
       "    .dataframe tbody tr th {\n",
       "        vertical-align: top;\n",
       "    }\n",
       "\n",
       "    .dataframe thead th {\n",
       "        text-align: right;\n",
       "    }\n",
       "</style>\n",
       "<table border=\"1\" class=\"dataframe\">\n",
       "  <thead>\n",
       "    <tr style=\"text-align: right;\">\n",
       "      <th>is_promoted</th>\n",
       "      <th>0</th>\n",
       "      <th>1</th>\n",
       "      <th>All</th>\n",
       "    </tr>\n",
       "    <tr>\n",
       "      <th>gender</th>\n",
       "      <th></th>\n",
       "      <th></th>\n",
       "      <th></th>\n",
       "    </tr>\n",
       "  </thead>\n",
       "  <tbody>\n",
       "    <tr>\n",
       "      <th>1</th>\n",
       "      <td>35283</td>\n",
       "      <td>3201</td>\n",
       "      <td>38484</td>\n",
       "    </tr>\n",
       "    <tr>\n",
       "      <th>2</th>\n",
       "      <td>14843</td>\n",
       "      <td>1467</td>\n",
       "      <td>16310</td>\n",
       "    </tr>\n",
       "    <tr>\n",
       "      <th>All</th>\n",
       "      <td>50126</td>\n",
       "      <td>4668</td>\n",
       "      <td>54794</td>\n",
       "    </tr>\n",
       "  </tbody>\n",
       "</table>\n",
       "</div>"
      ],
      "text/plain": [
       "is_promoted      0     1    All\n",
       "gender                         \n",
       "1            35283  3201  38484\n",
       "2            14843  1467  16310\n",
       "All          50126  4668  54794"
      ]
     },
     "execution_count": 45,
     "metadata": {},
     "output_type": "execute_result"
    }
   ],
   "source": [
    "pd.crosstab(train_new[\"gender\"],train_new[\"is_promoted\"],margins=True)\n"
   ]
  },
  {
   "cell_type": "markdown",
   "metadata": {},
   "source": [
    "gender map is 1=male, 2 = female we can observe  (8 % of women are promoted)\n",
    "while same 8 % of men are promoted "
   ]
  },
  {
   "cell_type": "code",
   "execution_count": 46,
   "metadata": {},
   "outputs": [
    {
     "data": {
      "text/html": [
       "<div>\n",
       "<style scoped>\n",
       "    .dataframe tbody tr th:only-of-type {\n",
       "        vertical-align: middle;\n",
       "    }\n",
       "\n",
       "    .dataframe tbody tr th {\n",
       "        vertical-align: top;\n",
       "    }\n",
       "\n",
       "    .dataframe thead th {\n",
       "        text-align: right;\n",
       "    }\n",
       "</style>\n",
       "<table border=\"1\" class=\"dataframe\">\n",
       "  <thead>\n",
       "    <tr style=\"text-align: right;\">\n",
       "      <th>is_promoted</th>\n",
       "      <th>0</th>\n",
       "      <th>1</th>\n",
       "      <th>All</th>\n",
       "    </tr>\n",
       "    <tr>\n",
       "      <th>no_of_trainings</th>\n",
       "      <th></th>\n",
       "      <th></th>\n",
       "      <th></th>\n",
       "    </tr>\n",
       "  </thead>\n",
       "  <tbody>\n",
       "    <tr>\n",
       "      <th>1</th>\n",
       "      <td>40468</td>\n",
       "      <td>3910</td>\n",
       "      <td>44378</td>\n",
       "    </tr>\n",
       "    <tr>\n",
       "      <th>2</th>\n",
       "      <td>7382</td>\n",
       "      <td>605</td>\n",
       "      <td>7987</td>\n",
       "    </tr>\n",
       "    <tr>\n",
       "      <th>3</th>\n",
       "      <td>1654</td>\n",
       "      <td>122</td>\n",
       "      <td>1776</td>\n",
       "    </tr>\n",
       "    <tr>\n",
       "      <th>4</th>\n",
       "      <td>442</td>\n",
       "      <td>26</td>\n",
       "      <td>468</td>\n",
       "    </tr>\n",
       "    <tr>\n",
       "      <th>5</th>\n",
       "      <td>125</td>\n",
       "      <td>3</td>\n",
       "      <td>128</td>\n",
       "    </tr>\n",
       "    <tr>\n",
       "      <th>6</th>\n",
       "      <td>42</td>\n",
       "      <td>2</td>\n",
       "      <td>44</td>\n",
       "    </tr>\n",
       "    <tr>\n",
       "      <th>7</th>\n",
       "      <td>10</td>\n",
       "      <td>0</td>\n",
       "      <td>10</td>\n",
       "    </tr>\n",
       "    <tr>\n",
       "      <th>8</th>\n",
       "      <td>1</td>\n",
       "      <td>0</td>\n",
       "      <td>1</td>\n",
       "    </tr>\n",
       "    <tr>\n",
       "      <th>9</th>\n",
       "      <td>1</td>\n",
       "      <td>0</td>\n",
       "      <td>1</td>\n",
       "    </tr>\n",
       "    <tr>\n",
       "      <th>10</th>\n",
       "      <td>1</td>\n",
       "      <td>0</td>\n",
       "      <td>1</td>\n",
       "    </tr>\n",
       "    <tr>\n",
       "      <th>All</th>\n",
       "      <td>50126</td>\n",
       "      <td>4668</td>\n",
       "      <td>54794</td>\n",
       "    </tr>\n",
       "  </tbody>\n",
       "</table>\n",
       "</div>"
      ],
      "text/plain": [
       "is_promoted          0     1    All\n",
       "no_of_trainings                    \n",
       "1                40468  3910  44378\n",
       "2                 7382   605   7987\n",
       "3                 1654   122   1776\n",
       "4                  442    26    468\n",
       "5                  125     3    128\n",
       "6                   42     2     44\n",
       "7                   10     0     10\n",
       "8                    1     0      1\n",
       "9                    1     0      1\n",
       "10                   1     0      1\n",
       "All              50126  4668  54794"
      ]
     },
     "execution_count": 46,
     "metadata": {},
     "output_type": "execute_result"
    }
   ],
   "source": [
    "pd.crosstab(train_new[\"no_of_trainings\"],train_new[\"is_promoted\"],margins=True)"
   ]
  },
  {
   "cell_type": "markdown",
   "metadata": {},
   "source": [
    "we can observe that lesser the number of training more is the chance of getting promoted"
   ]
  },
  {
   "cell_type": "code",
   "execution_count": 47,
   "metadata": {},
   "outputs": [
    {
     "data": {
      "text/html": [
       "<div>\n",
       "<style scoped>\n",
       "    .dataframe tbody tr th:only-of-type {\n",
       "        vertical-align: middle;\n",
       "    }\n",
       "\n",
       "    .dataframe tbody tr th {\n",
       "        vertical-align: top;\n",
       "    }\n",
       "\n",
       "    .dataframe thead th {\n",
       "        text-align: right;\n",
       "    }\n",
       "</style>\n",
       "<table border=\"1\" class=\"dataframe\">\n",
       "  <thead>\n",
       "    <tr style=\"text-align: right;\">\n",
       "      <th>is_promoted</th>\n",
       "      <th>0</th>\n",
       "      <th>1</th>\n",
       "      <th>All</th>\n",
       "    </tr>\n",
       "    <tr>\n",
       "      <th>age</th>\n",
       "      <th></th>\n",
       "      <th></th>\n",
       "      <th></th>\n",
       "    </tr>\n",
       "  </thead>\n",
       "  <tbody>\n",
       "    <tr>\n",
       "      <th>20</th>\n",
       "      <td>109</td>\n",
       "      <td>4</td>\n",
       "      <td>113</td>\n",
       "    </tr>\n",
       "    <tr>\n",
       "      <th>21</th>\n",
       "      <td>93</td>\n",
       "      <td>5</td>\n",
       "      <td>98</td>\n",
       "    </tr>\n",
       "    <tr>\n",
       "      <th>22</th>\n",
       "      <td>213</td>\n",
       "      <td>18</td>\n",
       "      <td>231</td>\n",
       "    </tr>\n",
       "    <tr>\n",
       "      <th>23</th>\n",
       "      <td>394</td>\n",
       "      <td>34</td>\n",
       "      <td>428</td>\n",
       "    </tr>\n",
       "    <tr>\n",
       "      <th>24</th>\n",
       "      <td>775</td>\n",
       "      <td>70</td>\n",
       "      <td>845</td>\n",
       "    </tr>\n",
       "    <tr>\n",
       "      <th>25</th>\n",
       "      <td>1230</td>\n",
       "      <td>69</td>\n",
       "      <td>1299</td>\n",
       "    </tr>\n",
       "    <tr>\n",
       "      <th>26</th>\n",
       "      <td>1894</td>\n",
       "      <td>163</td>\n",
       "      <td>2057</td>\n",
       "    </tr>\n",
       "    <tr>\n",
       "      <th>27</th>\n",
       "      <td>2565</td>\n",
       "      <td>261</td>\n",
       "      <td>2826</td>\n",
       "    </tr>\n",
       "    <tr>\n",
       "      <th>28</th>\n",
       "      <td>2838</td>\n",
       "      <td>308</td>\n",
       "      <td>3146</td>\n",
       "    </tr>\n",
       "    <tr>\n",
       "      <th>29</th>\n",
       "      <td>3110</td>\n",
       "      <td>294</td>\n",
       "      <td>3404</td>\n",
       "    </tr>\n",
       "    <tr>\n",
       "      <th>30</th>\n",
       "      <td>3341</td>\n",
       "      <td>324</td>\n",
       "      <td>3665</td>\n",
       "    </tr>\n",
       "    <tr>\n",
       "      <th>31</th>\n",
       "      <td>3223</td>\n",
       "      <td>310</td>\n",
       "      <td>3533</td>\n",
       "    </tr>\n",
       "    <tr>\n",
       "      <th>32</th>\n",
       "      <td>3236</td>\n",
       "      <td>297</td>\n",
       "      <td>3533</td>\n",
       "    </tr>\n",
       "    <tr>\n",
       "      <th>33</th>\n",
       "      <td>2891</td>\n",
       "      <td>319</td>\n",
       "      <td>3210</td>\n",
       "    </tr>\n",
       "    <tr>\n",
       "      <th>34</th>\n",
       "      <td>2789</td>\n",
       "      <td>286</td>\n",
       "      <td>3075</td>\n",
       "    </tr>\n",
       "    <tr>\n",
       "      <th>35</th>\n",
       "      <td>2428</td>\n",
       "      <td>283</td>\n",
       "      <td>2711</td>\n",
       "    </tr>\n",
       "    <tr>\n",
       "      <th>36</th>\n",
       "      <td>2308</td>\n",
       "      <td>208</td>\n",
       "      <td>2516</td>\n",
       "    </tr>\n",
       "    <tr>\n",
       "      <th>37</th>\n",
       "      <td>1981</td>\n",
       "      <td>184</td>\n",
       "      <td>2165</td>\n",
       "    </tr>\n",
       "    <tr>\n",
       "      <th>38</th>\n",
       "      <td>1738</td>\n",
       "      <td>184</td>\n",
       "      <td>1922</td>\n",
       "    </tr>\n",
       "    <tr>\n",
       "      <th>39</th>\n",
       "      <td>1534</td>\n",
       "      <td>161</td>\n",
       "      <td>1695</td>\n",
       "    </tr>\n",
       "    <tr>\n",
       "      <th>40</th>\n",
       "      <td>1536</td>\n",
       "      <td>127</td>\n",
       "      <td>1663</td>\n",
       "    </tr>\n",
       "    <tr>\n",
       "      <th>41</th>\n",
       "      <td>1185</td>\n",
       "      <td>104</td>\n",
       "      <td>1289</td>\n",
       "    </tr>\n",
       "    <tr>\n",
       "      <th>42</th>\n",
       "      <td>1058</td>\n",
       "      <td>91</td>\n",
       "      <td>1149</td>\n",
       "    </tr>\n",
       "    <tr>\n",
       "      <th>43</th>\n",
       "      <td>914</td>\n",
       "      <td>77</td>\n",
       "      <td>991</td>\n",
       "    </tr>\n",
       "    <tr>\n",
       "      <th>44</th>\n",
       "      <td>777</td>\n",
       "      <td>70</td>\n",
       "      <td>847</td>\n",
       "    </tr>\n",
       "    <tr>\n",
       "      <th>45</th>\n",
       "      <td>712</td>\n",
       "      <td>48</td>\n",
       "      <td>760</td>\n",
       "    </tr>\n",
       "    <tr>\n",
       "      <th>46</th>\n",
       "      <td>654</td>\n",
       "      <td>43</td>\n",
       "      <td>697</td>\n",
       "    </tr>\n",
       "    <tr>\n",
       "      <th>47</th>\n",
       "      <td>530</td>\n",
       "      <td>27</td>\n",
       "      <td>557</td>\n",
       "    </tr>\n",
       "    <tr>\n",
       "      <th>48</th>\n",
       "      <td>513</td>\n",
       "      <td>44</td>\n",
       "      <td>557</td>\n",
       "    </tr>\n",
       "    <tr>\n",
       "      <th>49</th>\n",
       "      <td>408</td>\n",
       "      <td>33</td>\n",
       "      <td>441</td>\n",
       "    </tr>\n",
       "    <tr>\n",
       "      <th>50</th>\n",
       "      <td>490</td>\n",
       "      <td>31</td>\n",
       "      <td>521</td>\n",
       "    </tr>\n",
       "    <tr>\n",
       "      <th>51</th>\n",
       "      <td>355</td>\n",
       "      <td>34</td>\n",
       "      <td>389</td>\n",
       "    </tr>\n",
       "    <tr>\n",
       "      <th>52</th>\n",
       "      <td>323</td>\n",
       "      <td>28</td>\n",
       "      <td>351</td>\n",
       "    </tr>\n",
       "    <tr>\n",
       "      <th>53</th>\n",
       "      <td>350</td>\n",
       "      <td>14</td>\n",
       "      <td>364</td>\n",
       "    </tr>\n",
       "    <tr>\n",
       "      <th>54</th>\n",
       "      <td>289</td>\n",
       "      <td>24</td>\n",
       "      <td>313</td>\n",
       "    </tr>\n",
       "    <tr>\n",
       "      <th>55</th>\n",
       "      <td>275</td>\n",
       "      <td>18</td>\n",
       "      <td>293</td>\n",
       "    </tr>\n",
       "    <tr>\n",
       "      <th>56</th>\n",
       "      <td>243</td>\n",
       "      <td>21</td>\n",
       "      <td>264</td>\n",
       "    </tr>\n",
       "    <tr>\n",
       "      <th>57</th>\n",
       "      <td>233</td>\n",
       "      <td>5</td>\n",
       "      <td>238</td>\n",
       "    </tr>\n",
       "    <tr>\n",
       "      <th>58</th>\n",
       "      <td>197</td>\n",
       "      <td>16</td>\n",
       "      <td>213</td>\n",
       "    </tr>\n",
       "    <tr>\n",
       "      <th>59</th>\n",
       "      <td>192</td>\n",
       "      <td>17</td>\n",
       "      <td>209</td>\n",
       "    </tr>\n",
       "    <tr>\n",
       "      <th>60</th>\n",
       "      <td>202</td>\n",
       "      <td>14</td>\n",
       "      <td>216</td>\n",
       "    </tr>\n",
       "    <tr>\n",
       "      <th>All</th>\n",
       "      <td>50126</td>\n",
       "      <td>4668</td>\n",
       "      <td>54794</td>\n",
       "    </tr>\n",
       "  </tbody>\n",
       "</table>\n",
       "</div>"
      ],
      "text/plain": [
       "is_promoted      0     1    All\n",
       "age                            \n",
       "20             109     4    113\n",
       "21              93     5     98\n",
       "22             213    18    231\n",
       "23             394    34    428\n",
       "24             775    70    845\n",
       "25            1230    69   1299\n",
       "26            1894   163   2057\n",
       "27            2565   261   2826\n",
       "28            2838   308   3146\n",
       "29            3110   294   3404\n",
       "30            3341   324   3665\n",
       "31            3223   310   3533\n",
       "32            3236   297   3533\n",
       "33            2891   319   3210\n",
       "34            2789   286   3075\n",
       "35            2428   283   2711\n",
       "36            2308   208   2516\n",
       "37            1981   184   2165\n",
       "38            1738   184   1922\n",
       "39            1534   161   1695\n",
       "40            1536   127   1663\n",
       "41            1185   104   1289\n",
       "42            1058    91   1149\n",
       "43             914    77    991\n",
       "44             777    70    847\n",
       "45             712    48    760\n",
       "46             654    43    697\n",
       "47             530    27    557\n",
       "48             513    44    557\n",
       "49             408    33    441\n",
       "50             490    31    521\n",
       "51             355    34    389\n",
       "52             323    28    351\n",
       "53             350    14    364\n",
       "54             289    24    313\n",
       "55             275    18    293\n",
       "56             243    21    264\n",
       "57             233     5    238\n",
       "58             197    16    213\n",
       "59             192    17    209\n",
       "60             202    14    216\n",
       "All          50126  4668  54794"
      ]
     },
     "execution_count": 47,
     "metadata": {},
     "output_type": "execute_result"
    }
   ],
   "source": [
    "pd.crosstab(train_new[\"age\"],train_new[\"is_promoted\"],margins=True)"
   ]
  },
  {
   "cell_type": "markdown",
   "metadata": {},
   "source": [
    "people in age range 26-40 are more likely to be prmoted than of other age group"
   ]
  },
  {
   "cell_type": "code",
   "execution_count": 48,
   "metadata": {},
   "outputs": [
    {
     "data": {
      "text/html": [
       "<div>\n",
       "<style scoped>\n",
       "    .dataframe tbody tr th:only-of-type {\n",
       "        vertical-align: middle;\n",
       "    }\n",
       "\n",
       "    .dataframe tbody tr th {\n",
       "        vertical-align: top;\n",
       "    }\n",
       "\n",
       "    .dataframe thead th {\n",
       "        text-align: right;\n",
       "    }\n",
       "</style>\n",
       "<table border=\"1\" class=\"dataframe\">\n",
       "  <thead>\n",
       "    <tr style=\"text-align: right;\">\n",
       "      <th>is_promoted</th>\n",
       "      <th>0</th>\n",
       "      <th>1</th>\n",
       "      <th>All</th>\n",
       "    </tr>\n",
       "    <tr>\n",
       "      <th>previous_year_rating</th>\n",
       "      <th></th>\n",
       "      <th></th>\n",
       "      <th></th>\n",
       "    </tr>\n",
       "  </thead>\n",
       "  <tbody>\n",
       "    <tr>\n",
       "      <th>1.0</th>\n",
       "      <td>6133</td>\n",
       "      <td>88</td>\n",
       "      <td>6221</td>\n",
       "    </tr>\n",
       "    <tr>\n",
       "      <th>2.0</th>\n",
       "      <td>4043</td>\n",
       "      <td>181</td>\n",
       "      <td>4224</td>\n",
       "    </tr>\n",
       "    <tr>\n",
       "      <th>3.0</th>\n",
       "      <td>21039</td>\n",
       "      <td>1694</td>\n",
       "      <td>22733</td>\n",
       "    </tr>\n",
       "    <tr>\n",
       "      <th>4.0</th>\n",
       "      <td>9092</td>\n",
       "      <td>784</td>\n",
       "      <td>9876</td>\n",
       "    </tr>\n",
       "    <tr>\n",
       "      <th>5.0</th>\n",
       "      <td>9819</td>\n",
       "      <td>1921</td>\n",
       "      <td>11740</td>\n",
       "    </tr>\n",
       "    <tr>\n",
       "      <th>All</th>\n",
       "      <td>50126</td>\n",
       "      <td>4668</td>\n",
       "      <td>54794</td>\n",
       "    </tr>\n",
       "  </tbody>\n",
       "</table>\n",
       "</div>"
      ],
      "text/plain": [
       "is_promoted               0     1    All\n",
       "previous_year_rating                    \n",
       "1.0                    6133    88   6221\n",
       "2.0                    4043   181   4224\n",
       "3.0                   21039  1694  22733\n",
       "4.0                    9092   784   9876\n",
       "5.0                    9819  1921  11740\n",
       "All                   50126  4668  54794"
      ]
     },
     "execution_count": 48,
     "metadata": {},
     "output_type": "execute_result"
    }
   ],
   "source": [
    "pd.crosstab(train_new[\"previous_year_rating\"],train_new[\"is_promoted\"],margins=True)"
   ]
  },
  {
   "cell_type": "markdown",
   "metadata": {},
   "source": [
    "16.3% of 5 star\n",
    "\n",
    "7.9 % of 4 star\n",
    "\n",
    "7.4% of 3 star\n",
    "\n",
    "4.2% of 2 star\n",
    "\n",
    "1.4 % of 1 star \n",
    "\n",
    "\n",
    "\n"
   ]
  },
  {
   "cell_type": "code",
   "execution_count": 49,
   "metadata": {},
   "outputs": [
    {
     "data": {
      "text/html": [
       "<div>\n",
       "<style scoped>\n",
       "    .dataframe tbody tr th:only-of-type {\n",
       "        vertical-align: middle;\n",
       "    }\n",
       "\n",
       "    .dataframe tbody tr th {\n",
       "        vertical-align: top;\n",
       "    }\n",
       "\n",
       "    .dataframe thead th {\n",
       "        text-align: right;\n",
       "    }\n",
       "</style>\n",
       "<table border=\"1\" class=\"dataframe\">\n",
       "  <thead>\n",
       "    <tr style=\"text-align: right;\">\n",
       "      <th>is_promoted</th>\n",
       "      <th>0</th>\n",
       "      <th>1</th>\n",
       "      <th>All</th>\n",
       "    </tr>\n",
       "    <tr>\n",
       "      <th>awards_won?</th>\n",
       "      <th></th>\n",
       "      <th></th>\n",
       "      <th></th>\n",
       "    </tr>\n",
       "  </thead>\n",
       "  <tbody>\n",
       "    <tr>\n",
       "      <th>0</th>\n",
       "      <td>49415</td>\n",
       "      <td>4109</td>\n",
       "      <td>53524</td>\n",
       "    </tr>\n",
       "    <tr>\n",
       "      <th>1</th>\n",
       "      <td>711</td>\n",
       "      <td>559</td>\n",
       "      <td>1270</td>\n",
       "    </tr>\n",
       "    <tr>\n",
       "      <th>All</th>\n",
       "      <td>50126</td>\n",
       "      <td>4668</td>\n",
       "      <td>54794</td>\n",
       "    </tr>\n",
       "  </tbody>\n",
       "</table>\n",
       "</div>"
      ],
      "text/plain": [
       "is_promoted      0     1    All\n",
       "awards_won?                    \n",
       "0            49415  4109  53524\n",
       "1              711   559   1270\n",
       "All          50126  4668  54794"
      ]
     },
     "execution_count": 49,
     "metadata": {},
     "output_type": "execute_result"
    }
   ],
   "source": [
    "\n",
    "pd.crosstab(train_new[\"awards_won?\"],train_new[\"is_promoted\"],margins=True)"
   ]
  },
  {
   "cell_type": "markdown",
   "metadata": {},
   "source": [
    "559/1270 = 44% of the people who got award are promoted\n",
    "\n",
    "4109/53524 = 7.6 % of the people who were not awarded got promoted"
   ]
  },
  {
   "cell_type": "markdown",
   "metadata": {},
   "source": [
    "# Feature selection "
   ]
  },
  {
   "cell_type": "markdown",
   "metadata": {},
   "source": [
    "As the data is imbalnce we have to apply certain techniques for making the model fit accurately for the imbalance output\n",
    "as the data contains large number of target variables labled as 0, it will try to predict 0 for most of the cases.\n",
    "we will do the feature selection before any over/undersampling technique because as we over/ undersample , the feature importance may \n",
    "change from the original importance of the feature.\n",
    "\n",
    "Oversampling the minority class with SMOTE violates the independence assumption."
   ]
  },
  {
   "cell_type": "code",
   "execution_count": null,
   "metadata": {},
   "outputs": [],
   "source": []
  }
 ],
 "metadata": {
  "kernelspec": {
   "display_name": "Python 3",
   "language": "python",
   "name": "python3"
  },
  "language_info": {
   "codemirror_mode": {
    "name": "ipython",
    "version": 3
   },
   "file_extension": ".py",
   "mimetype": "text/x-python",
   "name": "python",
   "nbconvert_exporter": "python",
   "pygments_lexer": "ipython3",
   "version": "3.7.1"
  }
 },
 "nbformat": 4,
 "nbformat_minor": 2
}
